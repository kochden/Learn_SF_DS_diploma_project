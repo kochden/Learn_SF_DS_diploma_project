{
 "cells": [
  {
   "cell_type": "markdown",
   "metadata": {},
   "source": [
    "## Дипломный проект\n",
    "### Учебный кейс\n",
    "### «Модель прогнозирования стоимости жилья для агентства недвижимости»\n",
    "\n",
    "Бизнес задача: улучшить финансовые показатели агенства, за счет уменьшения времени, которое риелторы тратят на сортировку объявлений и поиск выгодных предложений.\n",
    "\n",
    "Задача дата-сайентиста: разработать модель, которая позволила бы агентству недвижимости обойти конкурентов по скорости и качеству совершения сделок."
   ]
  },
  {
   "cell_type": "code",
   "execution_count": 1,
   "metadata": {},
   "outputs": [],
   "source": [
    "# импорт необходимых библиотек\n",
    "import numpy as np\n",
    "import pandas as pd\n",
    "\n",
    "import matplotlib.pyplot as plt\n",
    "import seaborn as sns\n",
    "\n",
    "import re\n",
    "import difflib\n",
    "import ast"
   ]
  },
  {
   "cell_type": "code",
   "execution_count": 2,
   "metadata": {},
   "outputs": [],
   "source": [
    "# зафиксируем версии\n",
    "!pip freeze > requirements.txt"
   ]
  },
  {
   "cell_type": "markdown",
   "metadata": {},
   "source": [
    "### Разведывательный анализ и очистка исходных данных"
   ]
  },
  {
   "cell_type": "code",
   "execution_count": 3,
   "metadata": {},
   "outputs": [
    {
     "data": {
      "text/html": [
       "<div>\n",
       "<style scoped>\n",
       "    .dataframe tbody tr th:only-of-type {\n",
       "        vertical-align: middle;\n",
       "    }\n",
       "\n",
       "    .dataframe tbody tr th {\n",
       "        vertical-align: top;\n",
       "    }\n",
       "\n",
       "    .dataframe thead th {\n",
       "        text-align: right;\n",
       "    }\n",
       "</style>\n",
       "<table border=\"1\" class=\"dataframe\">\n",
       "  <thead>\n",
       "    <tr style=\"text-align: right;\">\n",
       "      <th></th>\n",
       "      <th>status</th>\n",
       "      <th>private pool</th>\n",
       "      <th>propertyType</th>\n",
       "      <th>street</th>\n",
       "      <th>baths</th>\n",
       "      <th>homeFacts</th>\n",
       "      <th>fireplace</th>\n",
       "      <th>city</th>\n",
       "      <th>schools</th>\n",
       "      <th>sqft</th>\n",
       "      <th>zipcode</th>\n",
       "      <th>beds</th>\n",
       "      <th>state</th>\n",
       "      <th>stories</th>\n",
       "      <th>mls-id</th>\n",
       "      <th>PrivatePool</th>\n",
       "      <th>MlsId</th>\n",
       "      <th>target</th>\n",
       "    </tr>\n",
       "  </thead>\n",
       "  <tbody>\n",
       "    <tr>\n",
       "      <th>0</th>\n",
       "      <td>Active</td>\n",
       "      <td>NaN</td>\n",
       "      <td>Single Family Home</td>\n",
       "      <td>240 Heather Ln</td>\n",
       "      <td>3.5</td>\n",
       "      <td>{'atAGlanceFacts': [{'factValue': '2019', 'fac...</td>\n",
       "      <td>Gas Logs</td>\n",
       "      <td>Southern Pines</td>\n",
       "      <td>[{'rating': ['4', '4', '7', 'NR', '4', '7', 'N...</td>\n",
       "      <td>2900</td>\n",
       "      <td>28387</td>\n",
       "      <td>4</td>\n",
       "      <td>NC</td>\n",
       "      <td>NaN</td>\n",
       "      <td>NaN</td>\n",
       "      <td>NaN</td>\n",
       "      <td>611019</td>\n",
       "      <td>$418,000</td>\n",
       "    </tr>\n",
       "    <tr>\n",
       "      <th>1</th>\n",
       "      <td>for sale</td>\n",
       "      <td>NaN</td>\n",
       "      <td>single-family home</td>\n",
       "      <td>12911 E Heroy Ave</td>\n",
       "      <td>3 Baths</td>\n",
       "      <td>{'atAGlanceFacts': [{'factValue': '2019', 'fac...</td>\n",
       "      <td>NaN</td>\n",
       "      <td>Spokane Valley</td>\n",
       "      <td>[{'rating': ['4/10', 'None/10', '4/10'], 'data...</td>\n",
       "      <td>1,947 sqft</td>\n",
       "      <td>99216</td>\n",
       "      <td>3 Beds</td>\n",
       "      <td>WA</td>\n",
       "      <td>2.0</td>\n",
       "      <td>NaN</td>\n",
       "      <td>NaN</td>\n",
       "      <td>201916904</td>\n",
       "      <td>$310,000</td>\n",
       "    </tr>\n",
       "    <tr>\n",
       "      <th>2</th>\n",
       "      <td>for sale</td>\n",
       "      <td>NaN</td>\n",
       "      <td>single-family home</td>\n",
       "      <td>2005 Westridge Rd</td>\n",
       "      <td>2 Baths</td>\n",
       "      <td>{'atAGlanceFacts': [{'factValue': '1961', 'fac...</td>\n",
       "      <td>yes</td>\n",
       "      <td>Los Angeles</td>\n",
       "      <td>[{'rating': ['8/10', '4/10', '8/10'], 'data': ...</td>\n",
       "      <td>3,000 sqft</td>\n",
       "      <td>90049</td>\n",
       "      <td>3 Beds</td>\n",
       "      <td>CA</td>\n",
       "      <td>1.0</td>\n",
       "      <td>NaN</td>\n",
       "      <td>yes</td>\n",
       "      <td>FR19221027</td>\n",
       "      <td>$2,895,000</td>\n",
       "    </tr>\n",
       "    <tr>\n",
       "      <th>3</th>\n",
       "      <td>for sale</td>\n",
       "      <td>NaN</td>\n",
       "      <td>single-family home</td>\n",
       "      <td>4311 Livingston Ave</td>\n",
       "      <td>8 Baths</td>\n",
       "      <td>{'atAGlanceFacts': [{'factValue': '2006', 'fac...</td>\n",
       "      <td>yes</td>\n",
       "      <td>Dallas</td>\n",
       "      <td>[{'rating': ['9/10', '9/10', '10/10', '9/10'],...</td>\n",
       "      <td>6,457 sqft</td>\n",
       "      <td>75205</td>\n",
       "      <td>5 Beds</td>\n",
       "      <td>TX</td>\n",
       "      <td>3.0</td>\n",
       "      <td>NaN</td>\n",
       "      <td>NaN</td>\n",
       "      <td>14191809</td>\n",
       "      <td>$2,395,000</td>\n",
       "    </tr>\n",
       "    <tr>\n",
       "      <th>4</th>\n",
       "      <td>for sale</td>\n",
       "      <td>NaN</td>\n",
       "      <td>lot/land</td>\n",
       "      <td>1524 Kiscoe St</td>\n",
       "      <td>NaN</td>\n",
       "      <td>{'atAGlanceFacts': [{'factValue': '', 'factLab...</td>\n",
       "      <td>NaN</td>\n",
       "      <td>Palm Bay</td>\n",
       "      <td>[{'rating': ['4/10', '5/10', '5/10'], 'data': ...</td>\n",
       "      <td>NaN</td>\n",
       "      <td>32908</td>\n",
       "      <td>NaN</td>\n",
       "      <td>FL</td>\n",
       "      <td>NaN</td>\n",
       "      <td>NaN</td>\n",
       "      <td>NaN</td>\n",
       "      <td>861745</td>\n",
       "      <td>$5,000</td>\n",
       "    </tr>\n",
       "  </tbody>\n",
       "</table>\n",
       "</div>"
      ],
      "text/plain": [
       "     status private pool        propertyType               street    baths  \\\n",
       "0    Active          NaN  Single Family Home       240 Heather Ln      3.5   \n",
       "1  for sale          NaN  single-family home    12911 E Heroy Ave  3 Baths   \n",
       "2  for sale          NaN  single-family home    2005 Westridge Rd  2 Baths   \n",
       "3  for sale          NaN  single-family home  4311 Livingston Ave  8 Baths   \n",
       "4  for sale          NaN            lot/land       1524 Kiscoe St      NaN   \n",
       "\n",
       "                                           homeFacts fireplace  \\\n",
       "0  {'atAGlanceFacts': [{'factValue': '2019', 'fac...  Gas Logs   \n",
       "1  {'atAGlanceFacts': [{'factValue': '2019', 'fac...       NaN   \n",
       "2  {'atAGlanceFacts': [{'factValue': '1961', 'fac...       yes   \n",
       "3  {'atAGlanceFacts': [{'factValue': '2006', 'fac...       yes   \n",
       "4  {'atAGlanceFacts': [{'factValue': '', 'factLab...       NaN   \n",
       "\n",
       "             city                                            schools  \\\n",
       "0  Southern Pines  [{'rating': ['4', '4', '7', 'NR', '4', '7', 'N...   \n",
       "1  Spokane Valley  [{'rating': ['4/10', 'None/10', '4/10'], 'data...   \n",
       "2     Los Angeles  [{'rating': ['8/10', '4/10', '8/10'], 'data': ...   \n",
       "3          Dallas  [{'rating': ['9/10', '9/10', '10/10', '9/10'],...   \n",
       "4        Palm Bay  [{'rating': ['4/10', '5/10', '5/10'], 'data': ...   \n",
       "\n",
       "         sqft zipcode    beds state stories mls-id PrivatePool       MlsId  \\\n",
       "0        2900   28387       4    NC     NaN    NaN         NaN      611019   \n",
       "1  1,947 sqft   99216  3 Beds    WA     2.0    NaN         NaN   201916904   \n",
       "2  3,000 sqft   90049  3 Beds    CA     1.0    NaN         yes  FR19221027   \n",
       "3  6,457 sqft   75205  5 Beds    TX     3.0    NaN         NaN    14191809   \n",
       "4         NaN   32908     NaN    FL     NaN    NaN         NaN      861745   \n",
       "\n",
       "       target  \n",
       "0    $418,000  \n",
       "1    $310,000  \n",
       "2  $2,895,000  \n",
       "3  $2,395,000  \n",
       "4      $5,000  "
      ]
     },
     "execution_count": 3,
     "metadata": {},
     "output_type": "execute_result"
    }
   ],
   "source": [
    "df = pd.read_csv('data/data.zip')\n",
    "df.head()"
   ]
  },
  {
   "cell_type": "markdown",
   "metadata": {},
   "source": [
    "### Описание данных\n",
    "- 'status' — статус продажи;\n",
    "- 'private pool' и 'PrivatePool' — наличие собственного бассейна;\n",
    "- 'propertyType' — тип объекта недвижимости;\n",
    "- 'street' — адрес объекта;\n",
    "- 'baths' — количество ванных комнат;\n",
    "- 'homeFacts' — сведения о строительстве объекта (содержит несколько типов сведений, влияющих на оценку объекта);\n",
    "- 'fireplace' — наличие камина;\n",
    "- 'city' — город;\n",
    "- 'schools' — сведения о школах в районе;\n",
    "- 'sqft' — площадь в футах;\n",
    "- 'zipcode' — почтовый индекс;\n",
    "- 'beds' — количество спален;\n",
    "- 'state' — штат;\n",
    "- 'stories' — количество этажей;\n",
    "- 'mls-id' и 'MlsId' — идентификатор MLS (Multiple Listing Service, система мультилистинга);\n",
    "- 'target' — цена объекта недвижимости (целевой признак, который необходимо спрогнозировать)."
   ]
  },
  {
   "cell_type": "code",
   "execution_count": 4,
   "metadata": {},
   "outputs": [
    {
     "name": "stdout",
     "output_type": "stream",
     "text": [
      "<class 'pandas.core.frame.DataFrame'>\n",
      "RangeIndex: 377185 entries, 0 to 377184\n",
      "Data columns (total 18 columns):\n",
      " #   Column        Non-Null Count   Dtype \n",
      "---  ------        --------------   ----- \n",
      " 0   status        337267 non-null  object\n",
      " 1   private pool  4181 non-null    object\n",
      " 2   propertyType  342452 non-null  object\n",
      " 3   street        377183 non-null  object\n",
      " 4   baths         270847 non-null  object\n",
      " 5   homeFacts     377185 non-null  object\n",
      " 6   fireplace     103114 non-null  object\n",
      " 7   city          377151 non-null  object\n",
      " 8   schools       377185 non-null  object\n",
      " 9   sqft          336608 non-null  object\n",
      " 10  zipcode       377185 non-null  object\n",
      " 11  beds          285903 non-null  object\n",
      " 12  state         377185 non-null  object\n",
      " 13  stories       226469 non-null  object\n",
      " 14  mls-id        24942 non-null   object\n",
      " 15  PrivatePool   40311 non-null   object\n",
      " 16  MlsId         310305 non-null  object\n",
      " 17  target        374704 non-null  object\n",
      "dtypes: object(18)\n",
      "memory usage: 51.8+ MB\n"
     ]
    }
   ],
   "source": [
    "# посмотрим информацию по датасету\n",
    "df.info()"
   ]
  },
  {
   "cell_type": "code",
   "execution_count": 5,
   "metadata": {},
   "outputs": [
    {
     "data": {
      "text/plain": [
       "private pool    98.891525\n",
       "mls-id          93.387330\n",
       "PrivatePool     89.312672\n",
       "fireplace       72.662221\n",
       "stories         39.958111\n",
       "baths           28.192532\n",
       "beds            24.200856\n",
       "MlsId           17.731352\n",
       "sqft            10.757851\n",
       "status          10.583136\n",
       "propertyType     9.208479\n",
       "target           0.657767\n",
       "city             0.009014\n",
       "street           0.000530\n",
       "dtype: float64"
      ]
     },
     "metadata": {},
     "output_type": "display_data"
    }
   ],
   "source": [
    "# Посмотрим на наличие пропусков в данных\n",
    "cols_null_percent = df.isnull().mean() * 100\n",
    "cols_with_null = cols_null_percent[cols_null_percent>0].sort_values(ascending=False)\n",
    "display(cols_with_null)"
   ]
  },
  {
   "cell_type": "code",
   "execution_count": 6,
   "metadata": {},
   "outputs": [
    {
     "data": {
      "image/png": "[encoded data removed]",
      "text/plain": [
       "<Figure size 1000x400 with 1 Axes>"
      ]
     },
     "metadata": {},
     "output_type": "display_data"
    }
   ],
   "source": [
    "cols_with_null.plot(\n",
    "    kind='bar',\n",
    "    figsize=(10, 4),\n",
    "    title='Распределение пропусков в данных'\n",
    ");"
   ]
  },
  {
   "cell_type": "markdown",
   "metadata": {},
   "source": [
    "На входе мы имеем датасет с 18 признаками, в том числе с целевым. Число записей равно 377185. В данных есть пропуски, но возможно часть из них обоснована (нет камина, бассейна и т.п.)"
   ]
  },
  {
   "cell_type": "code",
   "execution_count": 7,
   "metadata": {},
   "outputs": [
    {
     "name": "stdout",
     "output_type": "stream",
     "text": [
      "Количество дубликатов: 50\n"
     ]
    }
   ],
   "source": [
    "# Проверим наличие полных дубликатов\n",
    "number_of_duplicates = df[df.duplicated()].shape[0]\n",
    "print(f'Количество дубликатов: {number_of_duplicates}')"
   ]
  },
  {
   "cell_type": "code",
   "execution_count": 8,
   "metadata": {},
   "outputs": [
    {
     "name": "stdout",
     "output_type": "stream",
     "text": [
      "Размер таблицы после удаления дубликатов: (377135, 18)\n"
     ]
    }
   ],
   "source": [
    "# Удаляем дубликаты:\n",
    "df = df.drop_duplicates()\n",
    "print(f'Размер таблицы после удаления дубликатов: {df.shape}')"
   ]
  },
  {
   "cell_type": "code",
   "execution_count": 9,
   "metadata": {},
   "outputs": [],
   "source": [
    "# удалим записи, в которых есть пропуски целевой переменной\n",
    "df = df[~df['target'].isnull()]"
   ]
  },
  {
   "cell_type": "markdown",
   "metadata": {},
   "source": [
    "### Бассейн"
   ]
  },
  {
   "cell_type": "code",
   "execution_count": 10,
   "metadata": {},
   "outputs": [
    {
     "data": {
      "text/plain": [
       "array([nan, 'Yes'], dtype=object)"
      ]
     },
     "metadata": {},
     "output_type": "display_data"
    },
    {
     "data": {
      "text/plain": [
       "array([nan, 'yes', 'Yes'], dtype=object)"
      ]
     },
     "metadata": {},
     "output_type": "display_data"
    }
   ],
   "source": [
    "# Посмотрим, какими значениями представлен бассейн\n",
    "display(df['private pool'].unique())\n",
    "display(df['PrivatePool'].unique())"
   ]
  },
  {
   "cell_type": "code",
   "execution_count": 11,
   "metadata": {},
   "outputs": [
    {
     "data": {
      "text/plain": [
       "private_pool\n",
       "0    330384\n",
       "1     44271\n",
       "Name: count, dtype: int64"
      ]
     },
     "execution_count": 11,
     "metadata": {},
     "output_type": "execute_result"
    }
   ],
   "source": [
    "# преобразовываем\n",
    "df['private_pool'] = df[['private pool', 'PrivatePool']].apply(lambda x: 0 if x[0] != x[0] and x[1] != x[1] else 1, axis=1)\n",
    "\n",
    "# удаляем\n",
    "df = df.drop(columns=['private pool', 'PrivatePool'])\n",
    "\n",
    "# посмотрим\n",
    "df['private_pool'].value_counts()"
   ]
  },
  {
   "cell_type": "markdown",
   "metadata": {},
   "source": [
    "### Идентификатор MLS (Multiple Listing Service, система мультилистинга)  \n",
    "Признак идентификатор MLS, вряд ли может быть фактором влияющим на оценку, но возможно на цену влияет само попадание объекта недвижимости в MLS.\n",
    "\n",
    "До того как преобразовывать MLS в категориальный признак, проверю, есть ли одинаковые идентификаторы."
   ]
  },
  {
   "cell_type": "code",
   "execution_count": 12,
   "metadata": {},
   "outputs": [
    {
     "data": {
      "text/plain": [
       "mls-id\n",
       "No           3\n",
       "No MLS#      3\n",
       "983469       2\n",
       "241766       2\n",
       "A10761504    2\n",
       "39888954     2\n",
       "608063       2\n",
       "201906177    2\n",
       "19-3389      2\n",
       "20193733     2\n",
       "Name: count, dtype: int64"
      ]
     },
     "execution_count": 12,
     "metadata": {},
     "output_type": "execute_result"
    }
   ],
   "source": [
    "df['mls-id'].value_counts()[:10]"
   ]
  },
  {
   "cell_type": "code",
   "execution_count": 13,
   "metadata": {},
   "outputs": [
    {
     "data": {
      "text/plain": [
       "MlsId\n",
       "NO MLS                        24\n",
       "No MLS #                      16\n",
       " A, Houston, TX 77008         13\n",
       " 12A, Orlando, FL 32833       11\n",
       " B, Houston, TX 77008          9\n",
       " 1, South Boston, MA 02127     9\n",
       "No                             9\n",
       " 2, Washington, DC 20002       8\n",
       " 11A, Orlando, FL 32833        8\n",
       "No mls                         8\n",
       "Name: count, dtype: int64"
      ]
     },
     "execution_count": 13,
     "metadata": {},
     "output_type": "execute_result"
    }
   ],
   "source": [
    "df['MlsId'].value_counts()[:10]"
   ]
  },
  {
   "cell_type": "markdown",
   "metadata": {},
   "source": [
    "Совпадения есть, но неожиданно выяснилось, что кроме идентификатора, там содержатся значения, явно на него не похожие."
   ]
  },
  {
   "cell_type": "code",
   "execution_count": 14,
   "metadata": {},
   "outputs": [],
   "source": [
    "# немного почистим\n",
    "\n",
    "def clearing_mls(feature):\n",
    "    if not feature != feature:\n",
    "        feature_temp = ' '.join(feature.strip().split()).upper() # удалены лишние пробелы и переведен к верхнему регистру\n",
    "        if feature_temp == 'NO': return np.nan\n",
    "        if 'NO MLS' in feature_temp: return np.nan\n",
    "        if feature_temp == 'NOMLSID': return np.nan\n",
    "        return feature_temp\n",
    "    return feature\n",
    "\n",
    "df['MlsId'] = df['MlsId'].apply(clearing_mls)\n",
    "df['mls-id'] = df['mls-id'].apply(clearing_mls)"
   ]
  },
  {
   "cell_type": "code",
   "execution_count": 15,
   "metadata": {},
   "outputs": [
    {
     "data": {
      "text/plain": [
       "mls-id\n",
       "19079093      2\n",
       "1498550       2\n",
       "241962        2\n",
       "DW19268386    2\n",
       "A10761504     2\n",
       "2152042       2\n",
       "898065        2\n",
       "1530716       2\n",
       "190004138     2\n",
       "233481        2\n",
       "Name: count, dtype: int64"
      ]
     },
     "execution_count": 15,
     "metadata": {},
     "output_type": "execute_result"
    }
   ],
   "source": [
    "df['mls-id'].value_counts()[:10]"
   ]
  },
  {
   "cell_type": "code",
   "execution_count": 16,
   "metadata": {},
   "outputs": [
    {
     "data": {
      "text/html": [
       "<div>\n",
       "<style scoped>\n",
       "    .dataframe tbody tr th:only-of-type {\n",
       "        vertical-align: middle;\n",
       "    }\n",
       "\n",
       "    .dataframe tbody tr th {\n",
       "        vertical-align: top;\n",
       "    }\n",
       "\n",
       "    .dataframe thead th {\n",
       "        text-align: right;\n",
       "    }\n",
       "</style>\n",
       "<table border=\"1\" class=\"dataframe\">\n",
       "  <thead>\n",
       "    <tr style=\"text-align: right;\">\n",
       "      <th></th>\n",
       "      <th>status</th>\n",
       "      <th>propertyType</th>\n",
       "      <th>street</th>\n",
       "      <th>baths</th>\n",
       "      <th>homeFacts</th>\n",
       "      <th>fireplace</th>\n",
       "      <th>city</th>\n",
       "      <th>schools</th>\n",
       "      <th>sqft</th>\n",
       "      <th>zipcode</th>\n",
       "      <th>beds</th>\n",
       "      <th>state</th>\n",
       "      <th>stories</th>\n",
       "      <th>mls-id</th>\n",
       "      <th>MlsId</th>\n",
       "      <th>target</th>\n",
       "      <th>private_pool</th>\n",
       "    </tr>\n",
       "  </thead>\n",
       "  <tbody>\n",
       "    <tr>\n",
       "      <th>266665</th>\n",
       "      <td>For sale</td>\n",
       "      <td>Single Family</td>\n",
       "      <td>3540 Lucy St</td>\n",
       "      <td>Bathrooms: 1</td>\n",
       "      <td>{'atAGlanceFacts': [{'factValue': '1950', 'fac...</td>\n",
       "      <td>NaN</td>\n",
       "      <td>Saint Louis</td>\n",
       "      <td>[{'rating': ['3/10', '1/10', '1/10'], 'data': ...</td>\n",
       "      <td>Total interior livable area: 915 sqft</td>\n",
       "      <td>63116</td>\n",
       "      <td>2 bd</td>\n",
       "      <td>MO</td>\n",
       "      <td>1.0</td>\n",
       "      <td>19079093</td>\n",
       "      <td>NaN</td>\n",
       "      <td>$125,000</td>\n",
       "      <td>0</td>\n",
       "    </tr>\n",
       "    <tr>\n",
       "      <th>331558</th>\n",
       "      <td>For sale</td>\n",
       "      <td>Single Family</td>\n",
       "      <td>3024 Mcgerry St</td>\n",
       "      <td>Bathrooms: 2</td>\n",
       "      <td>{'atAGlanceFacts': [{'factValue': '1974', 'fac...</td>\n",
       "      <td>NaN</td>\n",
       "      <td>Modesto</td>\n",
       "      <td>[{'rating': ['4/10', '4/10', '6/10'], 'data': ...</td>\n",
       "      <td>Total interior livable area: 1,342 sqft</td>\n",
       "      <td>95355</td>\n",
       "      <td>3 bd</td>\n",
       "      <td>CA</td>\n",
       "      <td>1.0</td>\n",
       "      <td>19079093</td>\n",
       "      <td>NaN</td>\n",
       "      <td>$325,000</td>\n",
       "      <td>1</td>\n",
       "    </tr>\n",
       "  </tbody>\n",
       "</table>\n",
       "</div>"
      ],
      "text/plain": [
       "          status   propertyType           street         baths  \\\n",
       "266665  For sale  Single Family     3540 Lucy St  Bathrooms: 1   \n",
       "331558  For sale  Single Family  3024 Mcgerry St  Bathrooms: 2   \n",
       "\n",
       "                                                homeFacts fireplace  \\\n",
       "266665  {'atAGlanceFacts': [{'factValue': '1950', 'fac...       NaN   \n",
       "331558  {'atAGlanceFacts': [{'factValue': '1974', 'fac...       NaN   \n",
       "\n",
       "               city                                            schools  \\\n",
       "266665  Saint Louis  [{'rating': ['3/10', '1/10', '1/10'], 'data': ...   \n",
       "331558      Modesto  [{'rating': ['4/10', '4/10', '6/10'], 'data': ...   \n",
       "\n",
       "                                           sqft zipcode  beds state stories  \\\n",
       "266665    Total interior livable area: 915 sqft   63116  2 bd    MO     1.0   \n",
       "331558  Total interior livable area: 1,342 sqft   95355  3 bd    CA     1.0   \n",
       "\n",
       "          mls-id MlsId    target  private_pool  \n",
       "266665  19079093   NaN  $125,000             0  \n",
       "331558  19079093   NaN  $325,000             1  "
      ]
     },
     "execution_count": 16,
     "metadata": {},
     "output_type": "execute_result"
    }
   ],
   "source": [
    "df[df['mls-id'] == '19079093']"
   ]
  },
  {
   "cell_type": "markdown",
   "metadata": {},
   "source": [
    "Здесь явно разные объекты с одним идентификатором. Возможно в разных регионах базы MLS разные и поэтому возможно пересечение идентификаторов"
   ]
  },
  {
   "cell_type": "code",
   "execution_count": 17,
   "metadata": {},
   "outputs": [
    {
     "data": {
      "text/html": [
       "<div>\n",
       "<style scoped>\n",
       "    .dataframe tbody tr th:only-of-type {\n",
       "        vertical-align: middle;\n",
       "    }\n",
       "\n",
       "    .dataframe tbody tr th {\n",
       "        vertical-align: top;\n",
       "    }\n",
       "\n",
       "    .dataframe thead th {\n",
       "        text-align: right;\n",
       "    }\n",
       "</style>\n",
       "<table border=\"1\" class=\"dataframe\">\n",
       "  <thead>\n",
       "    <tr style=\"text-align: right;\">\n",
       "      <th></th>\n",
       "      <th>status</th>\n",
       "      <th>propertyType</th>\n",
       "      <th>street</th>\n",
       "      <th>baths</th>\n",
       "      <th>homeFacts</th>\n",
       "      <th>fireplace</th>\n",
       "      <th>city</th>\n",
       "      <th>schools</th>\n",
       "      <th>sqft</th>\n",
       "      <th>zipcode</th>\n",
       "      <th>beds</th>\n",
       "      <th>state</th>\n",
       "      <th>stories</th>\n",
       "      <th>mls-id</th>\n",
       "      <th>MlsId</th>\n",
       "      <th>target</th>\n",
       "      <th>private_pool</th>\n",
       "    </tr>\n",
       "  </thead>\n",
       "  <tbody>\n",
       "    <tr>\n",
       "      <th>113074</th>\n",
       "      <td>For sale</td>\n",
       "      <td>Condo</td>\n",
       "      <td>600 Wall St # 2008</td>\n",
       "      <td>2 ba</td>\n",
       "      <td>{'atAGlanceFacts': [{'factValue': '', 'factLab...</td>\n",
       "      <td>NaN</td>\n",
       "      <td>Seattle</td>\n",
       "      <td>[{'rating': ['NA'], 'data': {'Distance': ['0.2...</td>\n",
       "      <td>1,183 sqft</td>\n",
       "      <td>98109</td>\n",
       "      <td>2 bd</td>\n",
       "      <td>WA</td>\n",
       "      <td>NaN</td>\n",
       "      <td>1498550</td>\n",
       "      <td>NaN</td>\n",
       "      <td>$1,784,950</td>\n",
       "      <td>0</td>\n",
       "    </tr>\n",
       "    <tr>\n",
       "      <th>285254</th>\n",
       "      <td>For sale</td>\n",
       "      <td>Condo</td>\n",
       "      <td>600 Wall St # 2208</td>\n",
       "      <td>Bathrooms: 2</td>\n",
       "      <td>{'atAGlanceFacts': [{'factValue': '', 'factLab...</td>\n",
       "      <td>NaN</td>\n",
       "      <td>Seattle</td>\n",
       "      <td>[{'rating': ['NA'], 'data': {'Distance': ['0.2...</td>\n",
       "      <td>Total interior livable area: 1,183 sqft</td>\n",
       "      <td>98109</td>\n",
       "      <td>2 bd</td>\n",
       "      <td>WA</td>\n",
       "      <td>NaN</td>\n",
       "      <td>1498550</td>\n",
       "      <td>NaN</td>\n",
       "      <td>$1,784,950</td>\n",
       "      <td>0</td>\n",
       "    </tr>\n",
       "  </tbody>\n",
       "</table>\n",
       "</div>"
      ],
      "text/plain": [
       "          status propertyType              street         baths  \\\n",
       "113074  For sale        Condo  600 Wall St # 2008          2 ba   \n",
       "285254  For sale        Condo  600 Wall St # 2208  Bathrooms: 2   \n",
       "\n",
       "                                                homeFacts fireplace     city  \\\n",
       "113074  {'atAGlanceFacts': [{'factValue': '', 'factLab...       NaN  Seattle   \n",
       "285254  {'atAGlanceFacts': [{'factValue': '', 'factLab...       NaN  Seattle   \n",
       "\n",
       "                                                  schools  \\\n",
       "113074  [{'rating': ['NA'], 'data': {'Distance': ['0.2...   \n",
       "285254  [{'rating': ['NA'], 'data': {'Distance': ['0.2...   \n",
       "\n",
       "                                           sqft zipcode  beds state stories  \\\n",
       "113074                               1,183 sqft   98109  2 bd    WA     NaN   \n",
       "285254  Total interior livable area: 1,183 sqft   98109  2 bd    WA     NaN   \n",
       "\n",
       "         mls-id MlsId      target  private_pool  \n",
       "113074  1498550   NaN  $1,784,950             0  \n",
       "285254  1498550   NaN  $1,784,950             0  "
      ]
     },
     "execution_count": 17,
     "metadata": {},
     "output_type": "execute_result"
    }
   ],
   "source": [
    "df[df['mls-id'] == '1498550']"
   ]
  },
  {
   "cell_type": "markdown",
   "metadata": {},
   "source": [
    "А здесь явно одинаковые, с вариативностью заполнения. Но объекты в одном городе."
   ]
  },
  {
   "cell_type": "markdown",
   "metadata": {},
   "source": [
    "Посмотрим, что с другой версией идентификатора."
   ]
  },
  {
   "cell_type": "code",
   "execution_count": 18,
   "metadata": {},
   "outputs": [
    {
     "data": {
      "text/plain": [
       "MlsId\n",
       "A, HOUSTON, TX 77008         13\n",
       "12A, ORLANDO, FL 32833       11\n",
       "B, HOUSTON, TX 77008          9\n",
       "1, SOUTH BOSTON, MA 02127     9\n",
       "11A, ORLANDO, FL 32833        8\n",
       "B, HOUSTON, TX 77007          8\n",
       "2, WASHINGTON, DC 20002       8\n",
       "2, WASHINGTON, DC 20010       7\n",
       "1, WASHINGTON, DC 20002       7\n",
       "2, WASHINGTON, DC 20009       6\n",
       "Name: count, dtype: int64"
      ]
     },
     "execution_count": 18,
     "metadata": {},
     "output_type": "execute_result"
    }
   ],
   "source": [
    "df['MlsId'].value_counts()[:10]"
   ]
  },
  {
   "cell_type": "code",
   "execution_count": 19,
   "metadata": {},
   "outputs": [
    {
     "data": {
      "text/html": [
       "<div>\n",
       "<style scoped>\n",
       "    .dataframe tbody tr th:only-of-type {\n",
       "        vertical-align: middle;\n",
       "    }\n",
       "\n",
       "    .dataframe tbody tr th {\n",
       "        vertical-align: top;\n",
       "    }\n",
       "\n",
       "    .dataframe thead th {\n",
       "        text-align: right;\n",
       "    }\n",
       "</style>\n",
       "<table border=\"1\" class=\"dataframe\">\n",
       "  <thead>\n",
       "    <tr style=\"text-align: right;\">\n",
       "      <th></th>\n",
       "      <th>status</th>\n",
       "      <th>propertyType</th>\n",
       "      <th>street</th>\n",
       "      <th>baths</th>\n",
       "      <th>homeFacts</th>\n",
       "      <th>fireplace</th>\n",
       "      <th>city</th>\n",
       "      <th>schools</th>\n",
       "      <th>sqft</th>\n",
       "      <th>zipcode</th>\n",
       "      <th>beds</th>\n",
       "      <th>state</th>\n",
       "      <th>stories</th>\n",
       "      <th>mls-id</th>\n",
       "      <th>MlsId</th>\n",
       "      <th>target</th>\n",
       "      <th>private_pool</th>\n",
       "    </tr>\n",
       "  </thead>\n",
       "  <tbody>\n",
       "    <tr>\n",
       "      <th>17018</th>\n",
       "      <td>New construction</td>\n",
       "      <td>Condo</td>\n",
       "      <td>1711 Kenyon St NW # 2</td>\n",
       "      <td>2.0</td>\n",
       "      <td>{'atAGlanceFacts': [{'factValue': '2019', 'fac...</td>\n",
       "      <td>NaN</td>\n",
       "      <td>Washington</td>\n",
       "      <td>[{'rating': ['5/10', '9/10', '9/10'], 'data': ...</td>\n",
       "      <td>1,416</td>\n",
       "      <td>20010</td>\n",
       "      <td>2</td>\n",
       "      <td>DC</td>\n",
       "      <td>2</td>\n",
       "      <td>NaN</td>\n",
       "      <td>2, WASHINGTON, DC 20010</td>\n",
       "      <td>$1,025,000</td>\n",
       "      <td>0</td>\n",
       "    </tr>\n",
       "    <tr>\n",
       "      <th>65272</th>\n",
       "      <td>For sale</td>\n",
       "      <td>Condo</td>\n",
       "      <td>530 Irving St NW # 2</td>\n",
       "      <td>3</td>\n",
       "      <td>{'atAGlanceFacts': [{'factValue': '2019', 'fac...</td>\n",
       "      <td>NaN</td>\n",
       "      <td>Washington</td>\n",
       "      <td>[{'rating': ['6/10', '4/10', '3/10'], 'data': ...</td>\n",
       "      <td>1,695</td>\n",
       "      <td>20010</td>\n",
       "      <td>3</td>\n",
       "      <td>DC</td>\n",
       "      <td>2.0</td>\n",
       "      <td>NaN</td>\n",
       "      <td>2, WASHINGTON, DC 20010</td>\n",
       "      <td>$824,995</td>\n",
       "      <td>0</td>\n",
       "    </tr>\n",
       "    <tr>\n",
       "      <th>234845</th>\n",
       "      <td>New construction</td>\n",
       "      <td>Townhouse</td>\n",
       "      <td>3319 Sherman Ave NW # 2</td>\n",
       "      <td>3.0</td>\n",
       "      <td>{'atAGlanceFacts': [{'factValue': '1912', 'fac...</td>\n",
       "      <td>NaN</td>\n",
       "      <td>Washington</td>\n",
       "      <td>[{'rating': ['5/10', '6/10'], 'data': {'Distan...</td>\n",
       "      <td>3,100</td>\n",
       "      <td>20010</td>\n",
       "      <td>2</td>\n",
       "      <td>DC</td>\n",
       "      <td>2</td>\n",
       "      <td>NaN</td>\n",
       "      <td>2, WASHINGTON, DC 20010</td>\n",
       "      <td>$784,900</td>\n",
       "      <td>0</td>\n",
       "    </tr>\n",
       "    <tr>\n",
       "      <th>262881</th>\n",
       "      <td>For sale</td>\n",
       "      <td>Townhouse</td>\n",
       "      <td>435 Park Rd NW # 2</td>\n",
       "      <td>3.0</td>\n",
       "      <td>{'atAGlanceFacts': [{'factValue': '1907', 'fac...</td>\n",
       "      <td>NaN</td>\n",
       "      <td>Washington</td>\n",
       "      <td>[{'rating': ['6/10', '4/10', '3/10'], 'data': ...</td>\n",
       "      <td>1,580</td>\n",
       "      <td>20010</td>\n",
       "      <td>2</td>\n",
       "      <td>DC</td>\n",
       "      <td>2</td>\n",
       "      <td>NaN</td>\n",
       "      <td>2, WASHINGTON, DC 20010</td>\n",
       "      <td>$669,900</td>\n",
       "      <td>0</td>\n",
       "    </tr>\n",
       "    <tr>\n",
       "      <th>267643</th>\n",
       "      <td>For sale</td>\n",
       "      <td>Townhouse</td>\n",
       "      <td>3313 Sherman Ave NW # 2</td>\n",
       "      <td>3.0</td>\n",
       "      <td>{'atAGlanceFacts': [{'factValue': '1912', 'fac...</td>\n",
       "      <td>NaN</td>\n",
       "      <td>Washington</td>\n",
       "      <td>[{'rating': ['5/10', '6/10'], 'data': {'Distan...</td>\n",
       "      <td>1,550</td>\n",
       "      <td>20010</td>\n",
       "      <td>2</td>\n",
       "      <td>DC</td>\n",
       "      <td>2</td>\n",
       "      <td>NaN</td>\n",
       "      <td>2, WASHINGTON, DC 20010</td>\n",
       "      <td>$775,000</td>\n",
       "      <td>0</td>\n",
       "    </tr>\n",
       "    <tr>\n",
       "      <th>315818</th>\n",
       "      <td>For sale</td>\n",
       "      <td>Condo</td>\n",
       "      <td>1340 Kenyon St NW # 2</td>\n",
       "      <td>2</td>\n",
       "      <td>{'atAGlanceFacts': [{'factValue': '1909', 'fac...</td>\n",
       "      <td>NaN</td>\n",
       "      <td>Washington</td>\n",
       "      <td>[{'rating': ['5/10', '6/10'], 'data': {'Distan...</td>\n",
       "      <td>1,200</td>\n",
       "      <td>20010</td>\n",
       "      <td>2</td>\n",
       "      <td>DC</td>\n",
       "      <td>1.0</td>\n",
       "      <td>NaN</td>\n",
       "      <td>2, WASHINGTON, DC 20010</td>\n",
       "      <td>$799,000</td>\n",
       "      <td>0</td>\n",
       "    </tr>\n",
       "    <tr>\n",
       "      <th>322121</th>\n",
       "      <td>For sale</td>\n",
       "      <td>Single Family</td>\n",
       "      <td>3519 New Hampshire Ave NW # 2</td>\n",
       "      <td>3</td>\n",
       "      <td>{'atAGlanceFacts': [{'factValue': '1913', 'fac...</td>\n",
       "      <td>NaN</td>\n",
       "      <td>Washington</td>\n",
       "      <td>[{'rating': ['5/10', '6/10'], 'data': {'Distan...</td>\n",
       "      <td>1,700</td>\n",
       "      <td>20010</td>\n",
       "      <td>3</td>\n",
       "      <td>DC</td>\n",
       "      <td>2.0</td>\n",
       "      <td>NaN</td>\n",
       "      <td>2, WASHINGTON, DC 20010</td>\n",
       "      <td>$775,000</td>\n",
       "      <td>0</td>\n",
       "    </tr>\n",
       "  </tbody>\n",
       "</table>\n",
       "</div>"
      ],
      "text/plain": [
       "                  status   propertyType                         street baths  \\\n",
       "17018   New construction          Condo          1711 Kenyon St NW # 2   2.0   \n",
       "65272           For sale          Condo           530 Irving St NW # 2     3   \n",
       "234845  New construction      Townhouse        3319 Sherman Ave NW # 2   3.0   \n",
       "262881          For sale      Townhouse             435 Park Rd NW # 2   3.0   \n",
       "267643          For sale      Townhouse        3313 Sherman Ave NW # 2   3.0   \n",
       "315818          For sale          Condo          1340 Kenyon St NW # 2     2   \n",
       "322121          For sale  Single Family  3519 New Hampshire Ave NW # 2     3   \n",
       "\n",
       "                                                homeFacts fireplace  \\\n",
       "17018   {'atAGlanceFacts': [{'factValue': '2019', 'fac...       NaN   \n",
       "65272   {'atAGlanceFacts': [{'factValue': '2019', 'fac...       NaN   \n",
       "234845  {'atAGlanceFacts': [{'factValue': '1912', 'fac...       NaN   \n",
       "262881  {'atAGlanceFacts': [{'factValue': '1907', 'fac...       NaN   \n",
       "267643  {'atAGlanceFacts': [{'factValue': '1912', 'fac...       NaN   \n",
       "315818  {'atAGlanceFacts': [{'factValue': '1909', 'fac...       NaN   \n",
       "322121  {'atAGlanceFacts': [{'factValue': '1913', 'fac...       NaN   \n",
       "\n",
       "              city                                            schools   sqft  \\\n",
       "17018   Washington  [{'rating': ['5/10', '9/10', '9/10'], 'data': ...  1,416   \n",
       "65272   Washington  [{'rating': ['6/10', '4/10', '3/10'], 'data': ...  1,695   \n",
       "234845  Washington  [{'rating': ['5/10', '6/10'], 'data': {'Distan...  3,100   \n",
       "262881  Washington  [{'rating': ['6/10', '4/10', '3/10'], 'data': ...  1,580   \n",
       "267643  Washington  [{'rating': ['5/10', '6/10'], 'data': {'Distan...  1,550   \n",
       "315818  Washington  [{'rating': ['5/10', '6/10'], 'data': {'Distan...  1,200   \n",
       "322121  Washington  [{'rating': ['5/10', '6/10'], 'data': {'Distan...  1,700   \n",
       "\n",
       "       zipcode beds state stories mls-id                    MlsId      target  \\\n",
       "17018    20010    2    DC       2    NaN  2, WASHINGTON, DC 20010  $1,025,000   \n",
       "65272    20010    3    DC     2.0    NaN  2, WASHINGTON, DC 20010    $824,995   \n",
       "234845   20010    2    DC       2    NaN  2, WASHINGTON, DC 20010    $784,900   \n",
       "262881   20010    2    DC       2    NaN  2, WASHINGTON, DC 20010    $669,900   \n",
       "267643   20010    2    DC       2    NaN  2, WASHINGTON, DC 20010    $775,000   \n",
       "315818   20010    2    DC     1.0    NaN  2, WASHINGTON, DC 20010    $799,000   \n",
       "322121   20010    3    DC     2.0    NaN  2, WASHINGTON, DC 20010    $775,000   \n",
       "\n",
       "        private_pool  \n",
       "17018              0  \n",
       "65272              0  \n",
       "234845             0  \n",
       "262881             0  \n",
       "267643             0  \n",
       "315818             0  \n",
       "322121             0  "
      ]
     },
     "execution_count": 19,
     "metadata": {},
     "output_type": "execute_result"
    }
   ],
   "source": [
    "df[df['MlsId'] == '2, WASHINGTON, DC 20010']"
   ]
  },
  {
   "cell_type": "markdown",
   "metadata": {},
   "source": [
    "Здесь не смотря на один идентификатор объекты разные.\n",
    "\n",
    "Посмотрим на еще один вариант."
   ]
  },
  {
   "cell_type": "code",
   "execution_count": 20,
   "metadata": {},
   "outputs": [
    {
     "data": {
      "text/html": [
       "<div>\n",
       "<style scoped>\n",
       "    .dataframe tbody tr th:only-of-type {\n",
       "        vertical-align: middle;\n",
       "    }\n",
       "\n",
       "    .dataframe tbody tr th {\n",
       "        vertical-align: top;\n",
       "    }\n",
       "\n",
       "    .dataframe thead th {\n",
       "        text-align: right;\n",
       "    }\n",
       "</style>\n",
       "<table border=\"1\" class=\"dataframe\">\n",
       "  <thead>\n",
       "    <tr style=\"text-align: right;\">\n",
       "      <th></th>\n",
       "      <th>status</th>\n",
       "      <th>propertyType</th>\n",
       "      <th>street</th>\n",
       "      <th>baths</th>\n",
       "      <th>homeFacts</th>\n",
       "      <th>fireplace</th>\n",
       "      <th>city</th>\n",
       "      <th>schools</th>\n",
       "      <th>sqft</th>\n",
       "      <th>zipcode</th>\n",
       "      <th>beds</th>\n",
       "      <th>state</th>\n",
       "      <th>stories</th>\n",
       "      <th>mls-id</th>\n",
       "      <th>MlsId</th>\n",
       "      <th>target</th>\n",
       "      <th>private_pool</th>\n",
       "    </tr>\n",
       "  </thead>\n",
       "  <tbody>\n",
       "    <tr>\n",
       "      <th>172682</th>\n",
       "      <td>Active</td>\n",
       "      <td>Single Family Home</td>\n",
       "      <td>3514 Hilldale Dr</td>\n",
       "      <td>4.5+</td>\n",
       "      <td>{'atAGlanceFacts': [{'factValue': '2020', 'fac...</td>\n",
       "      <td>2</td>\n",
       "      <td>Nashville</td>\n",
       "      <td>[{'rating': ['NR', '5', '3', '6', '5', '5', 'N...</td>\n",
       "      <td>5362</td>\n",
       "      <td>37215</td>\n",
       "      <td>4.0</td>\n",
       "      <td>TN</td>\n",
       "      <td>2.00</td>\n",
       "      <td>NaN</td>\n",
       "      <td>2088662</td>\n",
       "      <td>$1,795,000</td>\n",
       "      <td>0</td>\n",
       "    </tr>\n",
       "    <tr>\n",
       "      <th>181057</th>\n",
       "      <td>Active</td>\n",
       "      <td>Condo/Townhome/Row Home/Co-Op</td>\n",
       "      <td>155 S Sable Blvd Apt S22</td>\n",
       "      <td>2</td>\n",
       "      <td>{'atAGlanceFacts': [{'factValue': '1982', 'fac...</td>\n",
       "      <td>NaN</td>\n",
       "      <td>Aurora</td>\n",
       "      <td>[{'rating': ['3', '3', '2', '6', '2', 'NR', 'N...</td>\n",
       "      <td>1036</td>\n",
       "      <td>80012</td>\n",
       "      <td>2</td>\n",
       "      <td>CO</td>\n",
       "      <td>Condominium</td>\n",
       "      <td>NaN</td>\n",
       "      <td>2088662</td>\n",
       "      <td>$195,000</td>\n",
       "      <td>0</td>\n",
       "    </tr>\n",
       "    <tr>\n",
       "      <th>208039</th>\n",
       "      <td>for sale</td>\n",
       "      <td>condo</td>\n",
       "      <td>155 S Sable Blvd #S22</td>\n",
       "      <td>2 Baths</td>\n",
       "      <td>{'atAGlanceFacts': [{'factValue': '1982', 'fac...</td>\n",
       "      <td>yes</td>\n",
       "      <td>Aurora</td>\n",
       "      <td>[{'rating': ['3/10', '2/10', '2/10'], 'data': ...</td>\n",
       "      <td>1,036 sqft</td>\n",
       "      <td>80012</td>\n",
       "      <td>2 Beds</td>\n",
       "      <td>CO</td>\n",
       "      <td>NaN</td>\n",
       "      <td>NaN</td>\n",
       "      <td>2088662</td>\n",
       "      <td>$195,000</td>\n",
       "      <td>0</td>\n",
       "    </tr>\n",
       "    <tr>\n",
       "      <th>266441</th>\n",
       "      <td>Active</td>\n",
       "      <td>NaN</td>\n",
       "      <td>155 S Sable Blvd Unit S22</td>\n",
       "      <td>NaN</td>\n",
       "      <td>{'atAGlanceFacts': [{'factValue': '1982', 'fac...</td>\n",
       "      <td>NaN</td>\n",
       "      <td>AURORA</td>\n",
       "      <td>[{'rating': ['2', '3', '2', '2'], 'data': {'Di...</td>\n",
       "      <td>1,036</td>\n",
       "      <td>80012</td>\n",
       "      <td>NaN</td>\n",
       "      <td>CO</td>\n",
       "      <td>NaN</td>\n",
       "      <td>NaN</td>\n",
       "      <td>2088662</td>\n",
       "      <td>195,000</td>\n",
       "      <td>0</td>\n",
       "    </tr>\n",
       "    <tr>\n",
       "      <th>294083</th>\n",
       "      <td>for sale</td>\n",
       "      <td>single-family home</td>\n",
       "      <td>3514 Hilldale Dr</td>\n",
       "      <td>6 Baths</td>\n",
       "      <td>{'atAGlanceFacts': [{'factValue': '', 'factLab...</td>\n",
       "      <td>yes</td>\n",
       "      <td>Nashville</td>\n",
       "      <td>[{'rating': ['4/10', 'None/10', '5/10'], 'data...</td>\n",
       "      <td>5,362 sqft</td>\n",
       "      <td>37215</td>\n",
       "      <td>4 Beds</td>\n",
       "      <td>TN</td>\n",
       "      <td>2.0</td>\n",
       "      <td>NaN</td>\n",
       "      <td>2088662</td>\n",
       "      <td>$1,795,000</td>\n",
       "      <td>0</td>\n",
       "    </tr>\n",
       "    <tr>\n",
       "      <th>302551</th>\n",
       "      <td>Active</td>\n",
       "      <td>NaN</td>\n",
       "      <td>3514 Hilldale Dr</td>\n",
       "      <td>~</td>\n",
       "      <td>{'atAGlanceFacts': [{'factValue': '2020', 'fac...</td>\n",
       "      <td>2</td>\n",
       "      <td>Nashville</td>\n",
       "      <td>[{'rating': ['NR', '3', '5', '8', '3', '1'], '...</td>\n",
       "      <td>5,362</td>\n",
       "      <td>37215</td>\n",
       "      <td>Baths</td>\n",
       "      <td>TN</td>\n",
       "      <td>NaN</td>\n",
       "      <td>NaN</td>\n",
       "      <td>2088662</td>\n",
       "      <td>1,795,000</td>\n",
       "      <td>0</td>\n",
       "    </tr>\n",
       "  </tbody>\n",
       "</table>\n",
       "</div>"
      ],
      "text/plain": [
       "          status                   propertyType                      street  \\\n",
       "172682    Active             Single Family Home            3514 Hilldale Dr   \n",
       "181057    Active  Condo/Townhome/Row Home/Co-Op    155 S Sable Blvd Apt S22   \n",
       "208039  for sale                          condo       155 S Sable Blvd #S22   \n",
       "266441    Active                            NaN  155 S Sable Blvd Unit S22    \n",
       "294083  for sale             single-family home            3514 Hilldale Dr   \n",
       "302551    Active                            NaN           3514 Hilldale Dr    \n",
       "\n",
       "          baths                                          homeFacts fireplace  \\\n",
       "172682     4.5+  {'atAGlanceFacts': [{'factValue': '2020', 'fac...         2   \n",
       "181057        2  {'atAGlanceFacts': [{'factValue': '1982', 'fac...       NaN   \n",
       "208039  2 Baths  {'atAGlanceFacts': [{'factValue': '1982', 'fac...       yes   \n",
       "266441      NaN  {'atAGlanceFacts': [{'factValue': '1982', 'fac...       NaN   \n",
       "294083  6 Baths  {'atAGlanceFacts': [{'factValue': '', 'factLab...       yes   \n",
       "302551        ~  {'atAGlanceFacts': [{'factValue': '2020', 'fac...         2   \n",
       "\n",
       "             city                                            schools  \\\n",
       "172682  Nashville  [{'rating': ['NR', '5', '3', '6', '5', '5', 'N...   \n",
       "181057     Aurora  [{'rating': ['3', '3', '2', '6', '2', 'NR', 'N...   \n",
       "208039     Aurora  [{'rating': ['3/10', '2/10', '2/10'], 'data': ...   \n",
       "266441     AURORA  [{'rating': ['2', '3', '2', '2'], 'data': {'Di...   \n",
       "294083  Nashville  [{'rating': ['4/10', 'None/10', '5/10'], 'data...   \n",
       "302551  Nashville  [{'rating': ['NR', '3', '5', '8', '3', '1'], '...   \n",
       "\n",
       "              sqft zipcode    beds state      stories mls-id    MlsId  \\\n",
       "172682        5362   37215     4.0    TN         2.00    NaN  2088662   \n",
       "181057        1036   80012       2    CO  Condominium    NaN  2088662   \n",
       "208039  1,036 sqft   80012  2 Beds    CO          NaN    NaN  2088662   \n",
       "266441       1,036   80012     NaN    CO          NaN    NaN  2088662   \n",
       "294083  5,362 sqft   37215  4 Beds    TN          2.0    NaN  2088662   \n",
       "302551       5,362   37215   Baths    TN          NaN    NaN  2088662   \n",
       "\n",
       "            target  private_pool  \n",
       "172682  $1,795,000             0  \n",
       "181057    $195,000             0  \n",
       "208039    $195,000             0  \n",
       "266441     195,000             0  \n",
       "294083  $1,795,000             0  \n",
       "302551   1,795,000             0  "
      ]
     },
     "execution_count": 20,
     "metadata": {},
     "output_type": "execute_result"
    }
   ],
   "source": [
    "df[df['MlsId'] == '2088662']"
   ]
  },
  {
   "cell_type": "markdown",
   "metadata": {},
   "source": [
    "А здесь все еще интереснее. Явно присутствуют объекты одинаковые и разные.\n",
    "\n",
    "Вывод после исследования MLS.\n",
    "- Брать MLS как уникальный идентификатор нельзя;\n",
    "- В датасете присутствуют дубли объектов с вариативностью указания признаков (Например: baths: '2'; '2 Baths' и street: '155 S Sable Blvd Apt S22'; '155 S Sable Blvd #S22');\n",
    "- Очень сильно подозреваю, что и в объектах с незаполненным MLS та же картина.\n",
    "\n",
    "Соответственно, надо чистить и приводить к одному формату, а после удалять получившиеся дубли.\n",
    "А пока приведем MLS в категориальный признак (заполнено/нет)"
   ]
  },
  {
   "cell_type": "code",
   "execution_count": 21,
   "metadata": {},
   "outputs": [],
   "source": [
    "# дополняем один признак значениями другого\n",
    "df['MlsId'] = df['MlsId'].fillna(df['mls-id'])\n",
    "\n",
    "# удаляем лишний\n",
    "df = df.drop(columns=['mls-id'])\n",
    "\n",
    "# преобразуем в категориальный\n",
    "df['MlsId'] = df['MlsId'].apply(lambda x: 0 if x != x else 1)"
   ]
  },
  {
   "cell_type": "markdown",
   "metadata": {},
   "source": [
    "### Целевой признак target"
   ]
  },
  {
   "cell_type": "code",
   "execution_count": 22,
   "metadata": {},
   "outputs": [
    {
     "data": {
      "text/plain": [
       "0      $418,000\n",
       "1      $310,000\n",
       "2    $2,895,000\n",
       "3    $2,395,000\n",
       "4        $5,000\n",
       "Name: target, dtype: object"
      ]
     },
     "execution_count": 22,
     "metadata": {},
     "output_type": "execute_result"
    }
   ],
   "source": [
    "df['target'].head()"
   ]
  },
  {
   "cell_type": "markdown",
   "metadata": {},
   "source": [
    "Значение признака требуется преобразовать в числовой формат. Для этого удалим все нечисловые символы, кроме точки"
   ]
  },
  {
   "cell_type": "code",
   "execution_count": 23,
   "metadata": {},
   "outputs": [
    {
     "data": {
      "text/plain": [
       "0     418000.0\n",
       "1     310000.0\n",
       "2    2895000.0\n",
       "3    2395000.0\n",
       "4       5000.0\n",
       "Name: target, dtype: float64"
      ]
     },
     "execution_count": 23,
     "metadata": {},
     "output_type": "execute_result"
    }
   ],
   "source": [
    "# преобразовываем\n",
    "non_decimal = re.compile(r'[^\\d.]+')\n",
    "df['target'] = df['target'].apply(lambda x: float(non_decimal.sub('', x)))\n",
    "# посмотрим на результат\n",
    "df['target'].head()"
   ]
  },
  {
   "cell_type": "markdown",
   "metadata": {},
   "source": [
    "Проверим статистические характеристика целевого признака"
   ]
  },
  {
   "cell_type": "code",
   "execution_count": 24,
   "metadata": {},
   "outputs": [
    {
     "data": {
      "text/plain": [
       "count    3.746550e+05\n",
       "mean     6.447596e+05\n",
       "std      1.841482e+06\n",
       "min      1.000000e+00\n",
       "25%      1.869900e+05\n",
       "50%      3.200000e+05\n",
       "75%      5.820000e+05\n",
       "max      1.950000e+08\n",
       "Name: target, dtype: float64"
      ]
     },
     "execution_count": 24,
     "metadata": {},
     "output_type": "execute_result"
    }
   ],
   "source": [
    "df['target'].describe()"
   ]
  },
  {
   "cell_type": "markdown",
   "metadata": {},
   "source": [
    "Разброс довольно большой. Минимум $1, а максимум $195 миллионов. Посмотрим более наглядно."
   ]
  },
  {
   "cell_type": "code",
   "execution_count": 25,
   "metadata": {},
   "outputs": [
    {
     "data": {
      "image/png": "[encoded data removed]",
      "text/plain": [
       "<Figure size 1500x500 with 2 Axes>"
      ]
     },
     "metadata": {},
     "output_type": "display_data"
    }
   ],
   "source": [
    "fig, axes = plt.subplots(1, 2, figsize=(15, 5))\n",
    "\n",
    "sns.histplot(df['target'], kde=True, ax=axes[0])\n",
    "axes[0].set(xlabel='Стоимость', ylabel='Кол-во объектов')\n",
    "axes[0].set_title('Распределение стоимости объектов недвижимости, $')\n",
    "axes[0].axvline(df['target'].mean(), color='red', linestyle='--', linewidth=0.8)\n",
    "\n",
    "sns.boxplot(df['target'], ax=axes[1], orient='h', medianprops={\"color\": \"red\", \"linestyle\": '--'})\n",
    "axes[1].set(ylabel='Стоимость')\n",
    "axes[1].set_title('Распределение стоимости объектов недвижимости, $')\n",
    "\n",
    "plt.show()"
   ]
  },
  {
   "cell_type": "markdown",
   "metadata": {},
   "source": [
    "Явно видно наличие выбросов. В дальнейшем проанализируем более подробно и очистим датасет от выбросов."
   ]
  },
  {
   "cell_type": "markdown",
   "metadata": {},
   "source": [
    "### Признак status"
   ]
  },
  {
   "cell_type": "code",
   "execution_count": 26,
   "metadata": {},
   "outputs": [
    {
     "data": {
      "text/plain": [
       "status\n",
       "for sale                   156054\n",
       "Active                     105206\n",
       "For sale                    43464\n",
       "foreclosure                  5677\n",
       "New construction             5458\n",
       "                            ...  \n",
       "Coming soon: Nov 8.             1\n",
       "Coming soon: Oct 29.            1\n",
       "Coming soon: Dec 15.            1\n",
       "Pending W/Backup Wanted         1\n",
       "Coming soon: Dec 23.            1\n",
       "Name: count, Length: 156, dtype: int64"
      ]
     },
     "execution_count": 26,
     "metadata": {},
     "output_type": "execute_result"
    }
   ],
   "source": [
    "df['status'].value_counts()"
   ]
  },
  {
   "cell_type": "markdown",
   "metadata": {},
   "source": [
    "Сразу видно, что есть разные варианты написания одного признака: for sale, For sale и т.п.\n",
    "\n",
    "Надо почистить и сгрупировать похожие по смыслу значения."
   ]
  },
  {
   "cell_type": "code",
   "execution_count": 27,
   "metadata": {},
   "outputs": [
    {
     "data": {
      "text/plain": [
       "status\n",
       "FOR SALE           305925\n",
       "UNDEFINED           39256\n",
       "PENDING              6889\n",
       "FORECLOSURE          6316\n",
       "NEW                  6148\n",
       "UNDER CONTRACT       3895\n",
       "PRE-FORECLOSURE      3281\n",
       "AUCTION              1330\n",
       "CONTINGENT           1013\n",
       "RENT                  421\n",
       "COMING SOON           110\n",
       "BACKUP                 59\n",
       "OPTION                  7\n",
       "CLOSED                  5\n",
       "Name: count, dtype: int64"
      ]
     },
     "execution_count": 27,
     "metadata": {},
     "output_type": "execute_result"
    }
   ],
   "source": [
    "def clearing_status(feature):\n",
    "    # списки синонимов\n",
    "    foreclosure = ['FORECLOSURE', 'FORECLOSED', 'CONTINGENT FORECLOSURE']\n",
    "    new_construction = ['NEW CONSTRUCTION', 'NEW']\n",
    "    backup = ['UNDER CONTRACT W/ BCKP', 'UNDER CONTRACT TAKING BACK UP OFFERS']\n",
    "    pending = ['P', 'PI', 'PF', 'PS']\n",
    "    for_sale = ['PRICE CHANGE', 'BACK ON MARKET', 'LISTING EXTENDED']\n",
    "    under_contract = ['C', 'DUE DILIGENCE PERIOD', 'C CONTINUE SHOW', 'CT', 'ACCEPTED OFFER', 'UC CONTINUE TO SHOW']\n",
    "    \n",
    "    if feature != feature:\n",
    "        return 'UNDEFINED'\n",
    "    else:\n",
    "        # удаляем лишние пробелы и переводим в верхний регистр\n",
    "        feature_temp = ' '.join(feature.strip().split()).upper()\n",
    "\n",
    "        # замены по списку\n",
    "        if feature_temp in foreclosure: return 'FORECLOSURE'\n",
    "        if feature_temp in new_construction: return 'NEW'\n",
    "        if feature_temp in backup: return 'BACKUP'\n",
    "        if feature_temp in pending: return 'PENDING'\n",
    "        if feature_temp in for_sale: return 'FOR SALE'\n",
    "        if feature_temp in under_contract: return 'UNDER CONTRACT'\n",
    "        \n",
    "        # замены по вхождению\n",
    "        if 'COMING SOON' in feature_temp: return 'COMING SOON'\n",
    "        if 'PRE-FORECLOSURE' in feature_temp: return 'PRE-FORECLOSURE'\n",
    "        if 'PENDING' in feature_temp: return 'PENDING'\n",
    "        if 'CONTRACT' in feature_temp: return 'UNDER CONTRACT'\n",
    "        if 'AUCTION' in feature_temp: return 'AUCTION'\n",
    "        if 'BACKUP' in feature_temp: return 'BACKUP'\n",
    "        if 'OPTION' in feature_temp: return 'OPTION'\n",
    "        if 'RENT' in feature_temp: return 'RENT'\n",
    "        if 'LEASE' in feature_temp: return 'RENT'\n",
    "        if 'CONTINGEN' in feature_temp: return 'CONTINGENT'\n",
    "        if 'ACTIV' in feature_temp: return 'FOR SALE'\n",
    "        \n",
    "        return feature_temp\n",
    "\n",
    "\n",
    "# применяем функцию очистки\n",
    "df['status'] = df['status'].apply(clearing_status)\n",
    "# смотрим на результат\n",
    "df['status'].value_counts()"
   ]
  },
  {
   "cell_type": "markdown",
   "metadata": {},
   "source": [
    "### Признак propertyType"
   ]
  },
  {
   "cell_type": "code",
   "execution_count": 28,
   "metadata": {},
   "outputs": [
    {
     "data": {
      "text/plain": [
       "propertyType\n",
       "single-family home               91370\n",
       "Single Family                    61886\n",
       "Single Family Home               31725\n",
       "condo                            25874\n",
       "lot/land                         20506\n",
       "Condo                            16494\n",
       "townhouse                        11435\n",
       "Land                             10933\n",
       "multi-family                      7874\n",
       "Condo/Townhome/Row Home/Co-Op     7701\n",
       "Townhouse                         6909\n",
       "Traditional                       5912\n",
       "coop                              3264\n",
       "Multi Family                      2771\n",
       "High Rise                         1823\n",
       "Ranch                             1781\n",
       "Detached, One Story               1614\n",
       "mobile/manufactured               1613\n",
       "Single Detached, Traditional      1581\n",
       "Contemporary                      1556\n",
       "Name: count, dtype: int64"
      ]
     },
     "execution_count": 28,
     "metadata": {},
     "output_type": "execute_result"
    }
   ],
   "source": [
    "df['propertyType'].value_counts()[:20]"
   ]
  },
  {
   "cell_type": "markdown",
   "metadata": {},
   "source": [
    "Почистим и сгруппируем схожие по смыслу значения."
   ]
  },
  {
   "cell_type": "code",
   "execution_count": 29,
   "metadata": {},
   "outputs": [],
   "source": [
    "def clearing_property_type(feature):\n",
    "    # списки синонимов\n",
    "    single_family = ['SINGLE FAMILY', 'SINGLE-FAMILY', 'SINGLE-FAMILY HOME', 'SINGLE FAMILY HOME', 'DETACHED', 'TINY HOME', 'SINGLE DETACHED', 'SINGLE DETACHED, TRADITIONAL']\n",
    "    multi_family = ['MULTI-FAMILY', 'MULTI FAMILY', 'MULTI-FAMILY HOME', 'MULTI FAMILY HOME']\n",
    "    mobile = ['MANUFACTURED HOME (HOUSE)', 'MFD/MOBILE HOME', 'MOBILE', 'PREFAB', 'MODULAR', 'MO2 LE', 'MO2LE', 'MOBILE/MANUFACTURE', 'MOBILE / MANUFACTURE', 'MOBILE / MANUFACTURED', 'MOBILE/MANUFACTURED']\n",
    "    cabin = ['CABIN', 'CA2 N', 'CA2N']\n",
    "    midcentury = ['MIDCENTURY', 'MID CENTURY', 'MID-CENTURY']\n",
    "    townhouse = ['TOWNHOME', 'TOWNHOUSE']\n",
    "    coop = ['CO-OP', 'COOP']\n",
    "    land = ['LAND', 'LOT/LAND']\n",
    "    one_story = ['ONE STORY', '1 STORY', 'DETACHED, ONE STORY']\n",
    "    two_stories = ['2 STORIES', '2 STORY', 'TWO STORY', 'TWO STORIES', 'DETACHED, TWO STORY']\n",
    "    modern = ['CONTEMPORARY', 'CONTEMPORARY/MODERN', 'MODERN']\n",
    "\n",
    "    if feature != feature:\n",
    "        return 'UNDEFINED'\n",
    "    else:\n",
    "        # удаляем лишние пробелы и переводим в верхний регистр\n",
    "        feature_temp = ' '.join(feature.strip().split()).upper()\n",
    "        \n",
    "        # замены по списку\n",
    "        if feature_temp in single_family: return 'SINGLE FAMILY'\n",
    "        if feature_temp in multi_family: return 'MULTI FAMILY'\n",
    "        if feature_temp in mobile: return 'MOBILE'\n",
    "        if feature_temp in cabin: return 'CABIN'\n",
    "        if feature_temp in midcentury: return 'MIDCENTURY'\n",
    "        if feature_temp in townhouse: return 'TOWNHOUSE'\n",
    "        if feature_temp in coop: return 'COOP'\n",
    "        if feature_temp in land: return 'LAND'\n",
    "        if feature_temp in one_story: return '1 STORY'\n",
    "        if feature_temp in two_stories: return '2 STORIES'\n",
    "        if feature_temp == '': return 'UNDEFINED'\n",
    "        if feature_temp in modern: return 'MODERN'\n",
    " \n",
    "        # замены по вхождению\n",
    "        if '1 STORY' in feature_temp: return '1 STORY'\n",
    "        if '2 STORY' in feature_temp: return '2 STORIES'\n",
    "        if '2 STORIES' in feature_temp: return '2 STORIES'\n",
    "        if 'OTHER' in feature_temp: return 'OTHER'\n",
    "        if 'RANCH' in feature_temp: return 'RANCH'\n",
    "        if 'CONDO/TOWNHOME' in feature_temp: return 'CONDO/TOWNHOME'\n",
    "        if 'COOP' in feature_temp: return 'COOP'\n",
    "                \n",
    "        return feature_temp\n",
    "\n",
    "df['propertyType'] = df['propertyType'].apply(clearing_property_type)\n"
   ]
  },
  {
   "cell_type": "markdown",
   "metadata": {},
   "source": [
    "Выведем топ 50 значений и попробуем решить какая нужна еще обработка."
   ]
  },
  {
   "cell_type": "code",
   "execution_count": 30,
   "metadata": {},
   "outputs": [
    {
     "data": {
      "text/plain": [
       "propertyType\n",
       "SINGLE FAMILY                                 187394\n",
       "CONDO                                          42368\n",
       "UNDEFINED                                      34678\n",
       "LAND                                           31439\n",
       "TOWNHOUSE                                      18344\n",
       "MULTI FAMILY                                   12167\n",
       "CONDO/TOWNHOME                                  8488\n",
       "TRADITIONAL                                     5912\n",
       "1 STORY                                         4125\n",
       "COOP                                            3834\n",
       "MOBILE                                          3460\n",
       "RANCH                                           3073\n",
       "2 STORIES                                       2873\n",
       "MODERN                                          2580\n",
       "HIGH RISE                                       1823\n",
       "COLONIAL                                        1204\n",
       "OTHER                                            853\n",
       "APARTMENT                                        797\n",
       "TRANSITIONAL                                     560\n",
       "FLORIDA                                          530\n",
       "BUNGALOW                                         442\n",
       "GARDEN HOME                                      305\n",
       "CAPE COD                                         281\n",
       "SPANISH/MEDITERRANEAN                            272\n",
       "CRAFTSMAN                                        201\n",
       "CONTEMPORARY/MODERN, TRADITIONAL                 200\n",
       "SINGLEFAMILYRESIDENCE                            179\n",
       "SINGLE DETACHED, CONTEMPORARY/MODERN             176\n",
       "MULTIPLE OCCUPANCY                               145\n",
       "MEDITERRANEAN                                    130\n",
       "TRADITIONAL, TRANSITIONAL                        126\n",
       "CUSTOM                                           119\n",
       "CLUSTER HOME                                     118\n",
       "FEDERAL                                          115\n",
       "URBAN CONTEMPORARY                               113\n",
       "SPLIT-LEVEL                                      110\n",
       "VICTORIAN                                        102\n",
       "CONDOMINIUM (SINGLE LEVEL), CONTEMPORARY         101\n",
       "CONDOMINIUM (SINGLE LEVEL)                        99\n",
       "RESIDENTIAL (<1 ACRE)                             95\n",
       "LOW-RISE (1-3 STORIES)                            90\n",
       "MISCELLANEOUS                                     88\n",
       "TOWNHOUSE, MODERN                                 80\n",
       "TRI-LEVEL                                         77\n",
       "KEY WEST                                          72\n",
       "SPANISH                                           72\n",
       "PENTHOUSE                                         70\n",
       "CONDO/UNIT                                        70\n",
       "DETACHED, TWO STORY, SPANISH/MEDITERRANEAN        67\n",
       "BUNGALOW, CAPE COD                                66\n",
       "Name: count, dtype: int64"
      ]
     },
     "execution_count": 30,
     "metadata": {},
     "output_type": "execute_result"
    }
   ],
   "source": [
    "df['propertyType'].value_counts()[:50]"
   ]
  },
  {
   "cell_type": "markdown",
   "metadata": {},
   "source": [
    "На первый взгляд достаточно. Остальные категории можно объеденить с уже имеющейся в датасете группой OTHER."
   ]
  },
  {
   "cell_type": "code",
   "execution_count": 31,
   "metadata": {},
   "outputs": [
    {
     "data": {
      "text/plain": [
       "97.82386462211902"
      ]
     },
     "execution_count": 31,
     "metadata": {},
     "output_type": "execute_result"
    }
   ],
   "source": [
    "# посмотрим какой % от общего числа составляет топ 20 принзнака propertyType\n",
    "(df['propertyType'].value_counts(normalize=True)[:20] * 100).sum()"
   ]
  },
  {
   "cell_type": "markdown",
   "metadata": {},
   "source": [
    "Учитывая, что топ 20 признака покрывает 98% наблюдений ограничусь эти числом."
   ]
  },
  {
   "cell_type": "code",
   "execution_count": 32,
   "metadata": {},
   "outputs": [
    {
     "data": {
      "text/plain": [
       "property_type\n",
       "SINGLE FAMILY     187394\n",
       "CONDO              42368\n",
       "UNDEFINED          34678\n",
       "LAND               31439\n",
       "TOWNHOUSE          18344\n",
       "MULTI FAMILY       12167\n",
       "OTHER               9006\n",
       "CONDO/TOWNHOME      8488\n",
       "TRADITIONAL         5912\n",
       "1 STORY             4125\n",
       "COOP                3834\n",
       "MOBILE              3460\n",
       "RANCH               3073\n",
       "2 STORIES           2873\n",
       "MODERN              2580\n",
       "HIGH RISE           1823\n",
       "COLONIAL            1204\n",
       "APARTMENT            797\n",
       "TRANSITIONAL         560\n",
       "FLORIDA              530\n",
       "Name: count, dtype: int64"
      ]
     },
     "execution_count": 32,
     "metadata": {},
     "output_type": "execute_result"
    }
   ],
   "source": [
    "list_top_property = df['propertyType'].value_counts()[:20].index\n",
    "df['property_type'] = df['propertyType'].apply(lambda x: x if x in list_top_property else 'OTHER')\n",
    "df['property_type'].value_counts()"
   ]
  },
  {
   "cell_type": "markdown",
   "metadata": {},
   "source": [
    "Первоначальный признак propertyType пока не удаляю, возможно он еще пригодится."
   ]
  },
  {
   "cell_type": "markdown",
   "metadata": {},
   "source": [
    "### Признак state"
   ]
  },
  {
   "cell_type": "code",
   "execution_count": 33,
   "metadata": {},
   "outputs": [
    {
     "data": {
      "text/plain": [
       "array(['NC', 'WA', 'CA', 'TX', 'FL', 'PA', 'TN', 'IA', 'NY', 'OR', 'DC',\n",
       "       'NV', 'AZ', 'GA', 'IL', 'NJ', 'MA', 'OH', 'IN', 'UT', 'MI', 'VT',\n",
       "       'MD', 'CO', 'VA', 'KY', 'MO', 'WI', 'ME', 'MS', 'OK', 'SC', 'MT',\n",
       "       'DE', 'BA', 'AL', 'OT', 'OS'], dtype=object)"
      ]
     },
     "metadata": {},
     "output_type": "display_data"
    },
    {
     "name": "stdout",
     "output_type": "stream",
     "text": [
      "Число уникальных значений: 38\n"
     ]
    }
   ],
   "source": [
    "# сразу переведем в верхний регистр и потом посмотрим\n",
    "df['state'] = df['state'].str.upper()\n",
    "display(df['state'].unique())\n",
    "print('Число уникальных значений:', df['state'].nunique())"
   ]
  },
  {
   "cell_type": "markdown",
   "metadata": {},
   "source": [
    "Выглядит очень не плохо. 38 уникальных значений, пропусков нет, заполнение страндартное."
   ]
  },
  {
   "cell_type": "markdown",
   "metadata": {},
   "source": [
    "### Признак city"
   ]
  },
  {
   "cell_type": "code",
   "execution_count": 34,
   "metadata": {},
   "outputs": [
    {
     "name": "stdout",
     "output_type": "stream",
     "text": [
      "Число уникальных значений: 2019\n"
     ]
    },
    {
     "data": {
      "text/plain": [
       "city\n",
       "Houston            24406\n",
       "San Antonio        15501\n",
       "Miami              15411\n",
       "Jacksonville        9892\n",
       "Dallas              8770\n",
       "Brooklyn            7244\n",
       "New York            6903\n",
       "Chicago             6893\n",
       "Charlotte           6525\n",
       "Las Vegas           5975\n",
       "Fort Worth          5478\n",
       "Orlando             5170\n",
       "Austin              5133\n",
       "Fort Lauderdale     5082\n",
       "Cleveland           5006\n",
       "Nashville           4987\n",
       "Philadelphia        4768\n",
       "Tampa               4706\n",
       "Washington          4584\n",
       "Los Angeles         4164\n",
       "Name: count, dtype: int64"
      ]
     },
     "execution_count": 34,
     "metadata": {},
     "output_type": "execute_result"
    }
   ],
   "source": [
    "print('Число уникальных значений:', df['city'].nunique())\n",
    "df['city'].value_counts()[:20]"
   ]
  },
  {
   "cell_type": "markdown",
   "metadata": {},
   "source": [
    "2019 уникальных значений. Попробуем привести к одному виду и немного почистить.\n",
    "\n",
    "Для начала посмотрим на строки с пропущенным значением."
   ]
  },
  {
   "cell_type": "code",
   "execution_count": 35,
   "metadata": {},
   "outputs": [
    {
     "data": {
      "text/plain": [
       "34"
      ]
     },
     "execution_count": 35,
     "metadata": {},
     "output_type": "execute_result"
    }
   ],
   "source": [
    "df['city'].isnull().sum()"
   ]
  },
  {
   "cell_type": "markdown",
   "metadata": {},
   "source": [
    "Всего 34 строки. Выведем их."
   ]
  },
  {
   "cell_type": "code",
   "execution_count": 36,
   "metadata": {},
   "outputs": [
    {
     "data": {
      "text/html": [
       "<div>\n",
       "<style scoped>\n",
       "    .dataframe tbody tr th:only-of-type {\n",
       "        vertical-align: middle;\n",
       "    }\n",
       "\n",
       "    .dataframe tbody tr th {\n",
       "        vertical-align: top;\n",
       "    }\n",
       "\n",
       "    .dataframe thead th {\n",
       "        text-align: right;\n",
       "    }\n",
       "</style>\n",
       "<table border=\"1\" class=\"dataframe\">\n",
       "  <thead>\n",
       "    <tr style=\"text-align: right;\">\n",
       "      <th></th>\n",
       "      <th>status</th>\n",
       "      <th>propertyType</th>\n",
       "      <th>street</th>\n",
       "      <th>baths</th>\n",
       "      <th>homeFacts</th>\n",
       "      <th>fireplace</th>\n",
       "      <th>city</th>\n",
       "      <th>schools</th>\n",
       "      <th>sqft</th>\n",
       "      <th>zipcode</th>\n",
       "      <th>beds</th>\n",
       "      <th>state</th>\n",
       "      <th>stories</th>\n",
       "      <th>MlsId</th>\n",
       "      <th>target</th>\n",
       "      <th>private_pool</th>\n",
       "      <th>property_type</th>\n",
       "    </tr>\n",
       "  </thead>\n",
       "  <tbody>\n",
       "    <tr>\n",
       "      <th>7830</th>\n",
       "      <td>FOR SALE</td>\n",
       "      <td>SINGLE FAMILY</td>\n",
       "      <td>13155 W Highway 316</td>\n",
       "      <td>2</td>\n",
       "      <td>{'atAGlanceFacts': [{'factValue': '2000', 'fac...</td>\n",
       "      <td>NaN</td>\n",
       "      <td>NaN</td>\n",
       "      <td>[{'rating': ['1', '4', '3', '3', '6', '6'], 'd...</td>\n",
       "      <td>1016</td>\n",
       "      <td>32686</td>\n",
       "      <td>1</td>\n",
       "      <td>FL</td>\n",
       "      <td>2</td>\n",
       "      <td>1</td>\n",
       "      <td>1495000.0</td>\n",
       "      <td>0</td>\n",
       "      <td>SINGLE FAMILY</td>\n",
       "    </tr>\n",
       "    <tr>\n",
       "      <th>21529</th>\n",
       "      <td>FOR SALE</td>\n",
       "      <td>LAND</td>\n",
       "      <td>SE 117th Ter</td>\n",
       "      <td>NaN</td>\n",
       "      <td>{'atAGlanceFacts': [{'factValue': '', 'factLab...</td>\n",
       "      <td>NaN</td>\n",
       "      <td>NaN</td>\n",
       "      <td>[{'rating': [], 'data': {'Distance': [], 'Grad...</td>\n",
       "      <td>0</td>\n",
       "      <td>32668</td>\n",
       "      <td>NaN</td>\n",
       "      <td>FL</td>\n",
       "      <td>NaN</td>\n",
       "      <td>1</td>\n",
       "      <td>49900.0</td>\n",
       "      <td>0</td>\n",
       "      <td>LAND</td>\n",
       "    </tr>\n",
       "    <tr>\n",
       "      <th>26467</th>\n",
       "      <td>FOR SALE</td>\n",
       "      <td>LAND</td>\n",
       "      <td>Blk 4 N America Lareedo Rd Lot 8</td>\n",
       "      <td>NaN</td>\n",
       "      <td>{'atAGlanceFacts': [{'factValue': '', 'factLab...</td>\n",
       "      <td>NaN</td>\n",
       "      <td>NaN</td>\n",
       "      <td>[{'rating': [], 'data': {'Distance': [], 'Grad...</td>\n",
       "      <td>0</td>\n",
       "      <td>78045</td>\n",
       "      <td>NaN</td>\n",
       "      <td>TX</td>\n",
       "      <td>NaN</td>\n",
       "      <td>1</td>\n",
       "      <td>417718.0</td>\n",
       "      <td>0</td>\n",
       "      <td>LAND</td>\n",
       "    </tr>\n",
       "    <tr>\n",
       "      <th>60994</th>\n",
       "      <td>FOR SALE</td>\n",
       "      <td>LAND</td>\n",
       "      <td>Ocala</td>\n",
       "      <td>NaN</td>\n",
       "      <td>{'atAGlanceFacts': [{'factValue': '', 'factLab...</td>\n",
       "      <td>NaN</td>\n",
       "      <td>NaN</td>\n",
       "      <td>[{'rating': [], 'data': {'Distance': [], 'Grad...</td>\n",
       "      <td>0</td>\n",
       "      <td>34474</td>\n",
       "      <td>NaN</td>\n",
       "      <td>FL</td>\n",
       "      <td>NaN</td>\n",
       "      <td>1</td>\n",
       "      <td>31334.0</td>\n",
       "      <td>0</td>\n",
       "      <td>LAND</td>\n",
       "    </tr>\n",
       "    <tr>\n",
       "      <th>81514</th>\n",
       "      <td>FOR SALE</td>\n",
       "      <td>LAND</td>\n",
       "      <td>Unditermined Unditermined</td>\n",
       "      <td>NaN</td>\n",
       "      <td>{'atAGlanceFacts': [{'factValue': '', 'factLab...</td>\n",
       "      <td>NaN</td>\n",
       "      <td>NaN</td>\n",
       "      <td>[{'rating': [], 'data': {'Distance': [], 'Grad...</td>\n",
       "      <td>0</td>\n",
       "      <td>34432</td>\n",
       "      <td>NaN</td>\n",
       "      <td>FL</td>\n",
       "      <td>NaN</td>\n",
       "      <td>1</td>\n",
       "      <td>28000.0</td>\n",
       "      <td>0</td>\n",
       "      <td>LAND</td>\n",
       "    </tr>\n",
       "    <tr>\n",
       "      <th>122345</th>\n",
       "      <td>FOR SALE</td>\n",
       "      <td>LAND</td>\n",
       "      <td>Sw149 Ter</td>\n",
       "      <td>NaN</td>\n",
       "      <td>{'atAGlanceFacts': [{'factValue': '', 'factLab...</td>\n",
       "      <td>NaN</td>\n",
       "      <td>NaN</td>\n",
       "      <td>[{'rating': [], 'data': {'Distance': [], 'Grad...</td>\n",
       "      <td>0</td>\n",
       "      <td>34481</td>\n",
       "      <td>NaN</td>\n",
       "      <td>FL</td>\n",
       "      <td>NaN</td>\n",
       "      <td>1</td>\n",
       "      <td>18000.0</td>\n",
       "      <td>0</td>\n",
       "      <td>LAND</td>\n",
       "    </tr>\n",
       "    <tr>\n",
       "      <th>123490</th>\n",
       "      <td>FOR SALE</td>\n",
       "      <td>LAND</td>\n",
       "      <td>26484 Deer Rd</td>\n",
       "      <td>NaN</td>\n",
       "      <td>{'atAGlanceFacts': [{'factValue': '', 'factLab...</td>\n",
       "      <td>NaN</td>\n",
       "      <td>NaN</td>\n",
       "      <td>[{'rating': ['6', '5', '7', '7', '2', '10', 'N...</td>\n",
       "      <td>0</td>\n",
       "      <td>33955</td>\n",
       "      <td>NaN</td>\n",
       "      <td>FL</td>\n",
       "      <td>NaN</td>\n",
       "      <td>1</td>\n",
       "      <td>4000.0</td>\n",
       "      <td>0</td>\n",
       "      <td>LAND</td>\n",
       "    </tr>\n",
       "    <tr>\n",
       "      <th>130563</th>\n",
       "      <td>FOR SALE</td>\n",
       "      <td>SINGLE FAMILY</td>\n",
       "      <td>20003 Mar Rojo Y Mar Egeo</td>\n",
       "      <td>Bathrooms: 6</td>\n",
       "      <td>{'atAGlanceFacts': [{'factValue': '2000', 'fac...</td>\n",
       "      <td>NaN</td>\n",
       "      <td>NaN</td>\n",
       "      <td>[{'rating': ['5/10', 'NA', '4/10'], 'data': {'...</td>\n",
       "      <td>Total interior livable area: 5,905 sqft</td>\n",
       "      <td>20003</td>\n",
       "      <td>5 bd</td>\n",
       "      <td>MA</td>\n",
       "      <td>NaN</td>\n",
       "      <td>1</td>\n",
       "      <td>1650000.0</td>\n",
       "      <td>1</td>\n",
       "      <td>SINGLE FAMILY</td>\n",
       "    </tr>\n",
       "    <tr>\n",
       "      <th>131275</th>\n",
       "      <td>FOR SALE</td>\n",
       "      <td>LAND</td>\n",
       "      <td>19212 Roosevelt</td>\n",
       "      <td>NaN</td>\n",
       "      <td>{'atAGlanceFacts': [{'factValue': '', 'factLab...</td>\n",
       "      <td>NaN</td>\n",
       "      <td>NaN</td>\n",
       "      <td>[{'rating': ['5', '4', '6', 'NR', '5', 'NR', '...</td>\n",
       "      <td>0</td>\n",
       "      <td>33954</td>\n",
       "      <td>NaN</td>\n",
       "      <td>FL</td>\n",
       "      <td>NaN</td>\n",
       "      <td>1</td>\n",
       "      <td>4200.0</td>\n",
       "      <td>0</td>\n",
       "      <td>LAND</td>\n",
       "    </tr>\n",
       "    <tr>\n",
       "      <th>151965</th>\n",
       "      <td>FOR SALE</td>\n",
       "      <td>LAND</td>\n",
       "      <td>Ocala</td>\n",
       "      <td>NaN</td>\n",
       "      <td>{'atAGlanceFacts': [{'factValue': '', 'factLab...</td>\n",
       "      <td>NaN</td>\n",
       "      <td>NaN</td>\n",
       "      <td>[{'rating': [], 'data': {'Distance': [], 'Grad...</td>\n",
       "      <td>0</td>\n",
       "      <td>34474</td>\n",
       "      <td>NaN</td>\n",
       "      <td>FL</td>\n",
       "      <td>NaN</td>\n",
       "      <td>1</td>\n",
       "      <td>31334.0</td>\n",
       "      <td>0</td>\n",
       "      <td>LAND</td>\n",
       "    </tr>\n",
       "    <tr>\n",
       "      <th>170347</th>\n",
       "      <td>FOR SALE</td>\n",
       "      <td>SINGLE FAMILY</td>\n",
       "      <td>2678 Calistoga Ave</td>\n",
       "      <td>7.5</td>\n",
       "      <td>{'atAGlanceFacts': [{'factValue': '2015', 'fac...</td>\n",
       "      <td>NaN</td>\n",
       "      <td>NaN</td>\n",
       "      <td>[{'rating': ['2', '4', '6', '4', '3', '10', 'N...</td>\n",
       "      <td>0</td>\n",
       "      <td>34741</td>\n",
       "      <td>7</td>\n",
       "      <td>FL</td>\n",
       "      <td>2</td>\n",
       "      <td>1</td>\n",
       "      <td>675000.0</td>\n",
       "      <td>0</td>\n",
       "      <td>SINGLE FAMILY</td>\n",
       "    </tr>\n",
       "    <tr>\n",
       "      <th>171302</th>\n",
       "      <td>FOR SALE</td>\n",
       "      <td>LAND</td>\n",
       "      <td>Block 4 N America Laredo Rd Lot 9</td>\n",
       "      <td>NaN</td>\n",
       "      <td>{'atAGlanceFacts': [{'factValue': '', 'factLab...</td>\n",
       "      <td>NaN</td>\n",
       "      <td>NaN</td>\n",
       "      <td>[{'rating': [], 'data': {'Distance': [], 'Grad...</td>\n",
       "      <td>0</td>\n",
       "      <td>78045</td>\n",
       "      <td>NaN</td>\n",
       "      <td>TX</td>\n",
       "      <td>NaN</td>\n",
       "      <td>1</td>\n",
       "      <td>582750.0</td>\n",
       "      <td>0</td>\n",
       "      <td>LAND</td>\n",
       "    </tr>\n",
       "    <tr>\n",
       "      <th>186792</th>\n",
       "      <td>FOR SALE</td>\n",
       "      <td>LAND</td>\n",
       "      <td>Sw 110</td>\n",
       "      <td>NaN</td>\n",
       "      <td>{'atAGlanceFacts': [{'factValue': '', 'factLab...</td>\n",
       "      <td>NaN</td>\n",
       "      <td>NaN</td>\n",
       "      <td>[{'rating': [], 'data': {'Distance': [], 'Grad...</td>\n",
       "      <td>0</td>\n",
       "      <td>34481</td>\n",
       "      <td>NaN</td>\n",
       "      <td>FL</td>\n",
       "      <td>NaN</td>\n",
       "      <td>1</td>\n",
       "      <td>6000.0</td>\n",
       "      <td>0</td>\n",
       "      <td>LAND</td>\n",
       "    </tr>\n",
       "    <tr>\n",
       "      <th>199663</th>\n",
       "      <td>FOR SALE</td>\n",
       "      <td>LAND</td>\n",
       "      <td>SW 128 Pl</td>\n",
       "      <td>NaN</td>\n",
       "      <td>{'atAGlanceFacts': [{'factValue': '', 'factLab...</td>\n",
       "      <td>NaN</td>\n",
       "      <td>NaN</td>\n",
       "      <td>[{'rating': [], 'data': {'Distance': [], 'Grad...</td>\n",
       "      <td>0</td>\n",
       "      <td>34473</td>\n",
       "      <td>NaN</td>\n",
       "      <td>FL</td>\n",
       "      <td>NaN</td>\n",
       "      <td>1</td>\n",
       "      <td>12500.0</td>\n",
       "      <td>0</td>\n",
       "      <td>LAND</td>\n",
       "    </tr>\n",
       "    <tr>\n",
       "      <th>215086</th>\n",
       "      <td>FOR SALE</td>\n",
       "      <td>LAND</td>\n",
       "      <td>NE 147th Ct</td>\n",
       "      <td>NaN</td>\n",
       "      <td>{'atAGlanceFacts': [{'factValue': '', 'factLab...</td>\n",
       "      <td>NaN</td>\n",
       "      <td>NaN</td>\n",
       "      <td>[{'rating': [], 'data': {'Distance': [], 'Grad...</td>\n",
       "      <td>0</td>\n",
       "      <td>34488</td>\n",
       "      <td>NaN</td>\n",
       "      <td>FL</td>\n",
       "      <td>NaN</td>\n",
       "      <td>1</td>\n",
       "      <td>13500.0</td>\n",
       "      <td>0</td>\n",
       "      <td>LAND</td>\n",
       "    </tr>\n",
       "    <tr>\n",
       "      <th>221281</th>\n",
       "      <td>FOR SALE</td>\n",
       "      <td>LAND</td>\n",
       "      <td>Block 4 N America Laredo Rd Lot 11</td>\n",
       "      <td>NaN</td>\n",
       "      <td>{'atAGlanceFacts': [{'factValue': '', 'factLab...</td>\n",
       "      <td>NaN</td>\n",
       "      <td>NaN</td>\n",
       "      <td>[{'rating': [], 'data': {'Distance': [], 'Grad...</td>\n",
       "      <td>0</td>\n",
       "      <td>78045</td>\n",
       "      <td>NaN</td>\n",
       "      <td>TX</td>\n",
       "      <td>NaN</td>\n",
       "      <td>1</td>\n",
       "      <td>589500.0</td>\n",
       "      <td>0</td>\n",
       "      <td>LAND</td>\n",
       "    </tr>\n",
       "    <tr>\n",
       "      <th>221870</th>\n",
       "      <td>FOR SALE</td>\n",
       "      <td>LAND</td>\n",
       "      <td>Block 4 N America Laredo Rd Lot 10</td>\n",
       "      <td>NaN</td>\n",
       "      <td>{'atAGlanceFacts': [{'factValue': '', 'factLab...</td>\n",
       "      <td>NaN</td>\n",
       "      <td>NaN</td>\n",
       "      <td>[{'rating': [], 'data': {'Distance': [], 'Grad...</td>\n",
       "      <td>0</td>\n",
       "      <td>78045</td>\n",
       "      <td>NaN</td>\n",
       "      <td>TX</td>\n",
       "      <td>NaN</td>\n",
       "      <td>1</td>\n",
       "      <td>582750.0</td>\n",
       "      <td>0</td>\n",
       "      <td>LAND</td>\n",
       "    </tr>\n",
       "    <tr>\n",
       "      <th>222802</th>\n",
       "      <td>FOR SALE</td>\n",
       "      <td>LAND</td>\n",
       "      <td>Ocala</td>\n",
       "      <td>NaN</td>\n",
       "      <td>{'atAGlanceFacts': [{'factValue': '', 'factLab...</td>\n",
       "      <td>NaN</td>\n",
       "      <td>NaN</td>\n",
       "      <td>[{'rating': [], 'data': {'Distance': [], 'Grad...</td>\n",
       "      <td>0</td>\n",
       "      <td>34474</td>\n",
       "      <td>NaN</td>\n",
       "      <td>FL</td>\n",
       "      <td>NaN</td>\n",
       "      <td>1</td>\n",
       "      <td>31334.0</td>\n",
       "      <td>0</td>\n",
       "      <td>LAND</td>\n",
       "    </tr>\n",
       "    <tr>\n",
       "      <th>262351</th>\n",
       "      <td>UNDEFINED</td>\n",
       "      <td>LAND</td>\n",
       "      <td>2 Booga Bottom Rd</td>\n",
       "      <td>NaN</td>\n",
       "      <td>{'atAGlanceFacts': [{'factValue': '', 'factLab...</td>\n",
       "      <td>NaN</td>\n",
       "      <td>NaN</td>\n",
       "      <td>[{'rating': [], 'data': {'Distance': [], 'Grad...</td>\n",
       "      <td>0</td>\n",
       "      <td>38732</td>\n",
       "      <td>NaN</td>\n",
       "      <td>MS</td>\n",
       "      <td>NaN</td>\n",
       "      <td>1</td>\n",
       "      <td>549000.0</td>\n",
       "      <td>0</td>\n",
       "      <td>LAND</td>\n",
       "    </tr>\n",
       "    <tr>\n",
       "      <th>270923</th>\n",
       "      <td>FOR SALE</td>\n",
       "      <td>LAND</td>\n",
       "      <td>Block 4 N American Laredo Rd Lot 12</td>\n",
       "      <td>NaN</td>\n",
       "      <td>{'atAGlanceFacts': [{'factValue': '', 'factLab...</td>\n",
       "      <td>NaN</td>\n",
       "      <td>NaN</td>\n",
       "      <td>[{'rating': [], 'data': {'Distance': [], 'Grad...</td>\n",
       "      <td>0</td>\n",
       "      <td>78045</td>\n",
       "      <td>NaN</td>\n",
       "      <td>TX</td>\n",
       "      <td>NaN</td>\n",
       "      <td>1</td>\n",
       "      <td>591750.0</td>\n",
       "      <td>0</td>\n",
       "      <td>LAND</td>\n",
       "    </tr>\n",
       "    <tr>\n",
       "      <th>277462</th>\n",
       "      <td>FOR SALE</td>\n",
       "      <td>LAND</td>\n",
       "      <td>13155 W Highway 316</td>\n",
       "      <td>NaN</td>\n",
       "      <td>{'atAGlanceFacts': [{'factValue': '', 'factLab...</td>\n",
       "      <td>NaN</td>\n",
       "      <td>NaN</td>\n",
       "      <td>[{'rating': ['1', '4', '3', '3', '6', '6'], 'd...</td>\n",
       "      <td>0</td>\n",
       "      <td>32686</td>\n",
       "      <td>NaN</td>\n",
       "      <td>FL</td>\n",
       "      <td>NaN</td>\n",
       "      <td>1</td>\n",
       "      <td>1495000.0</td>\n",
       "      <td>0</td>\n",
       "      <td>LAND</td>\n",
       "    </tr>\n",
       "    <tr>\n",
       "      <th>278517</th>\n",
       "      <td>FOR SALE</td>\n",
       "      <td>SINGLE FAMILY</td>\n",
       "      <td>7518 Marker Ave</td>\n",
       "      <td>5.5</td>\n",
       "      <td>{'atAGlanceFacts': [{'factValue': '2016', 'fac...</td>\n",
       "      <td>NaN</td>\n",
       "      <td>NaN</td>\n",
       "      <td>[{'rating': ['4', '9', '6', '5', '3', 'NR', 'N...</td>\n",
       "      <td>0</td>\n",
       "      <td>34747</td>\n",
       "      <td>9</td>\n",
       "      <td>FL</td>\n",
       "      <td>2</td>\n",
       "      <td>1</td>\n",
       "      <td>595000.0</td>\n",
       "      <td>0</td>\n",
       "      <td>SINGLE FAMILY</td>\n",
       "    </tr>\n",
       "    <tr>\n",
       "      <th>282020</th>\n",
       "      <td>FOR SALE</td>\n",
       "      <td>SINGLE FAMILY</td>\n",
       "      <td>290 Burma St</td>\n",
       "      <td>9</td>\n",
       "      <td>{'atAGlanceFacts': [{'factValue': '2018', 'fac...</td>\n",
       "      <td>NaN</td>\n",
       "      <td>NaN</td>\n",
       "      <td>[{'rating': ['4', '3', '6', '5', '9', 'NR', 'N...</td>\n",
       "      <td>5141</td>\n",
       "      <td>34747</td>\n",
       "      <td>10</td>\n",
       "      <td>FL</td>\n",
       "      <td>2</td>\n",
       "      <td>1</td>\n",
       "      <td>890000.0</td>\n",
       "      <td>0</td>\n",
       "      <td>SINGLE FAMILY</td>\n",
       "    </tr>\n",
       "    <tr>\n",
       "      <th>304932</th>\n",
       "      <td>PENDING</td>\n",
       "      <td>LAND</td>\n",
       "      <td>Address Not Available</td>\n",
       "      <td>NaN</td>\n",
       "      <td>{'atAGlanceFacts': [{'factValue': '', 'factLab...</td>\n",
       "      <td>NaN</td>\n",
       "      <td>NaN</td>\n",
       "      <td>[{'rating': [], 'data': {'Distance': [], 'Grad...</td>\n",
       "      <td>0</td>\n",
       "      <td>34744</td>\n",
       "      <td>NaN</td>\n",
       "      <td>FL</td>\n",
       "      <td>NaN</td>\n",
       "      <td>1</td>\n",
       "      <td>1500000.0</td>\n",
       "      <td>0</td>\n",
       "      <td>LAND</td>\n",
       "    </tr>\n",
       "    <tr>\n",
       "      <th>309263</th>\n",
       "      <td>FOR SALE</td>\n",
       "      <td>CONDO/TOWNHOME</td>\n",
       "      <td>8032 Lost Shaker Ln Unit 1</td>\n",
       "      <td>2</td>\n",
       "      <td>{'atAGlanceFacts': [{'factValue': '2019', 'fac...</td>\n",
       "      <td>NaN</td>\n",
       "      <td>NaN</td>\n",
       "      <td>[{'rating': [], 'data': {'Distance': [], 'Grad...</td>\n",
       "      <td>0</td>\n",
       "      <td>34747</td>\n",
       "      <td>2</td>\n",
       "      <td>FL</td>\n",
       "      <td>Condo 5+ Stories</td>\n",
       "      <td>1</td>\n",
       "      <td>343300.0</td>\n",
       "      <td>0</td>\n",
       "      <td>CONDO/TOWNHOME</td>\n",
       "    </tr>\n",
       "    <tr>\n",
       "      <th>312970</th>\n",
       "      <td>FOR SALE</td>\n",
       "      <td>LAND</td>\n",
       "      <td>Unditermined Unditermined</td>\n",
       "      <td>NaN</td>\n",
       "      <td>{'atAGlanceFacts': [{'factValue': '', 'factLab...</td>\n",
       "      <td>NaN</td>\n",
       "      <td>NaN</td>\n",
       "      <td>[{'rating': [], 'data': {'Distance': [], 'Grad...</td>\n",
       "      <td>0</td>\n",
       "      <td>34432</td>\n",
       "      <td>NaN</td>\n",
       "      <td>FL</td>\n",
       "      <td>NaN</td>\n",
       "      <td>1</td>\n",
       "      <td>47000.0</td>\n",
       "      <td>0</td>\n",
       "      <td>LAND</td>\n",
       "    </tr>\n",
       "    <tr>\n",
       "      <th>325782</th>\n",
       "      <td>FOR SALE</td>\n",
       "      <td>LAND</td>\n",
       "      <td>11395 Ninth Ave</td>\n",
       "      <td>NaN</td>\n",
       "      <td>{'atAGlanceFacts': [{'factValue': '', 'factLab...</td>\n",
       "      <td>NaN</td>\n",
       "      <td>NaN</td>\n",
       "      <td>[{'rating': ['6', '5', '7', '7', '2', '10', 'N...</td>\n",
       "      <td>0</td>\n",
       "      <td>33955</td>\n",
       "      <td>NaN</td>\n",
       "      <td>FL</td>\n",
       "      <td>NaN</td>\n",
       "      <td>1</td>\n",
       "      <td>6000.0</td>\n",
       "      <td>0</td>\n",
       "      <td>LAND</td>\n",
       "    </tr>\n",
       "    <tr>\n",
       "      <th>331180</th>\n",
       "      <td>FOR SALE</td>\n",
       "      <td>LAND</td>\n",
       "      <td>Bay Place Run</td>\n",
       "      <td>NaN</td>\n",
       "      <td>{'atAGlanceFacts': [{'factValue': '', 'factLab...</td>\n",
       "      <td>NaN</td>\n",
       "      <td>NaN</td>\n",
       "      <td>[{'rating': [], 'data': {'Distance': [], 'Grad...</td>\n",
       "      <td>0</td>\n",
       "      <td>32179</td>\n",
       "      <td>NaN</td>\n",
       "      <td>FL</td>\n",
       "      <td>NaN</td>\n",
       "      <td>1</td>\n",
       "      <td>16000.0</td>\n",
       "      <td>0</td>\n",
       "      <td>LAND</td>\n",
       "    </tr>\n",
       "    <tr>\n",
       "      <th>342346</th>\n",
       "      <td>FOR SALE</td>\n",
       "      <td>LAND</td>\n",
       "      <td>Blk 4 N America Laredo Rd Lot 7</td>\n",
       "      <td>NaN</td>\n",
       "      <td>{'atAGlanceFacts': [{'factValue': '', 'factLab...</td>\n",
       "      <td>NaN</td>\n",
       "      <td>NaN</td>\n",
       "      <td>[{'rating': [], 'data': {'Distance': [], 'Grad...</td>\n",
       "      <td>0</td>\n",
       "      <td>78045</td>\n",
       "      <td>NaN</td>\n",
       "      <td>TX</td>\n",
       "      <td>NaN</td>\n",
       "      <td>1</td>\n",
       "      <td>1007270.0</td>\n",
       "      <td>0</td>\n",
       "      <td>LAND</td>\n",
       "    </tr>\n",
       "    <tr>\n",
       "      <th>346292</th>\n",
       "      <td>FOR SALE</td>\n",
       "      <td>SINGLE FAMILY</td>\n",
       "      <td>Jose Correa 6 De Diciembre Quito Ecuador</td>\n",
       "      <td>Bathrooms: 4</td>\n",
       "      <td>{'atAGlanceFacts': [{'factValue': '1991', 'fac...</td>\n",
       "      <td>NaN</td>\n",
       "      <td>NaN</td>\n",
       "      <td>[{'rating': ['10/10', '3/10'], 'data': {'Dista...</td>\n",
       "      <td>-- sqft</td>\n",
       "      <td>33126</td>\n",
       "      <td>6 bd</td>\n",
       "      <td>FL</td>\n",
       "      <td>NaN</td>\n",
       "      <td>1</td>\n",
       "      <td>340000.0</td>\n",
       "      <td>0</td>\n",
       "      <td>SINGLE FAMILY</td>\n",
       "    </tr>\n",
       "    <tr>\n",
       "      <th>355395</th>\n",
       "      <td>FOR SALE</td>\n",
       "      <td>LAND</td>\n",
       "      <td>11398 Tenth Ave</td>\n",
       "      <td>NaN</td>\n",
       "      <td>{'atAGlanceFacts': [{'factValue': '', 'factLab...</td>\n",
       "      <td>NaN</td>\n",
       "      <td>NaN</td>\n",
       "      <td>[{'rating': ['6', '5', '7', '7', '2', '10', 'N...</td>\n",
       "      <td>0</td>\n",
       "      <td>33955</td>\n",
       "      <td>NaN</td>\n",
       "      <td>FL</td>\n",
       "      <td>NaN</td>\n",
       "      <td>1</td>\n",
       "      <td>6000.0</td>\n",
       "      <td>0</td>\n",
       "      <td>LAND</td>\n",
       "    </tr>\n",
       "    <tr>\n",
       "      <th>358935</th>\n",
       "      <td>FOR SALE</td>\n",
       "      <td>SINGLE FAMILY</td>\n",
       "      <td>8101 Surf Street Ln</td>\n",
       "      <td>7</td>\n",
       "      <td>{'atAGlanceFacts': [{'factValue': '2019', 'fac...</td>\n",
       "      <td>NaN</td>\n",
       "      <td>NaN</td>\n",
       "      <td>[{'rating': [], 'data': {'Distance': [], 'Grad...</td>\n",
       "      <td>0</td>\n",
       "      <td>34747</td>\n",
       "      <td>7</td>\n",
       "      <td>FL</td>\n",
       "      <td>NaN</td>\n",
       "      <td>1</td>\n",
       "      <td>1012600.0</td>\n",
       "      <td>0</td>\n",
       "      <td>SINGLE FAMILY</td>\n",
       "    </tr>\n",
       "    <tr>\n",
       "      <th>370080</th>\n",
       "      <td>FOR SALE</td>\n",
       "      <td>RANCH</td>\n",
       "      <td>135 NE Pohang Colonia Corea</td>\n",
       "      <td>0</td>\n",
       "      <td>{'atAGlanceFacts': [{'factValue': '1982', 'fac...</td>\n",
       "      <td>NaN</td>\n",
       "      <td>NaN</td>\n",
       "      <td>[{'rating': [], 'data': {'Distance': [], 'Grad...</td>\n",
       "      <td>30000</td>\n",
       "      <td>77032</td>\n",
       "      <td>10.0</td>\n",
       "      <td>TX</td>\n",
       "      <td>NaN</td>\n",
       "      <td>1</td>\n",
       "      <td>2700000.0</td>\n",
       "      <td>0</td>\n",
       "      <td>RANCH</td>\n",
       "    </tr>\n",
       "    <tr>\n",
       "      <th>370507</th>\n",
       "      <td>FOR SALE</td>\n",
       "      <td>LAND</td>\n",
       "      <td>17392 SE 65th</td>\n",
       "      <td>NaN</td>\n",
       "      <td>{'atAGlanceFacts': [{'factValue': '', 'factLab...</td>\n",
       "      <td>NaN</td>\n",
       "      <td>NaN</td>\n",
       "      <td>[{'rating': ['3', '3', '4', '2', 'NR', '6'], '...</td>\n",
       "      <td>0</td>\n",
       "      <td>32179</td>\n",
       "      <td>NaN</td>\n",
       "      <td>FL</td>\n",
       "      <td>NaN</td>\n",
       "      <td>1</td>\n",
       "      <td>10000.0</td>\n",
       "      <td>0</td>\n",
       "      <td>LAND</td>\n",
       "    </tr>\n",
       "  </tbody>\n",
       "</table>\n",
       "</div>"
      ],
      "text/plain": [
       "           status    propertyType                                    street  \\\n",
       "7830     FOR SALE   SINGLE FAMILY                       13155 W Highway 316   \n",
       "21529    FOR SALE            LAND                              SE 117th Ter   \n",
       "26467    FOR SALE            LAND          Blk 4 N America Lareedo Rd Lot 8   \n",
       "60994    FOR SALE            LAND                                     Ocala   \n",
       "81514    FOR SALE            LAND                 Unditermined Unditermined   \n",
       "122345   FOR SALE            LAND                                 Sw149 Ter   \n",
       "123490   FOR SALE            LAND                             26484 Deer Rd   \n",
       "130563   FOR SALE   SINGLE FAMILY                 20003 Mar Rojo Y Mar Egeo   \n",
       "131275   FOR SALE            LAND                           19212 Roosevelt   \n",
       "151965   FOR SALE            LAND                                     Ocala   \n",
       "170347   FOR SALE   SINGLE FAMILY                        2678 Calistoga Ave   \n",
       "171302   FOR SALE            LAND         Block 4 N America Laredo Rd Lot 9   \n",
       "186792   FOR SALE            LAND                                    Sw 110   \n",
       "199663   FOR SALE            LAND                                 SW 128 Pl   \n",
       "215086   FOR SALE            LAND                               NE 147th Ct   \n",
       "221281   FOR SALE            LAND        Block 4 N America Laredo Rd Lot 11   \n",
       "221870   FOR SALE            LAND        Block 4 N America Laredo Rd Lot 10   \n",
       "222802   FOR SALE            LAND                                     Ocala   \n",
       "262351  UNDEFINED            LAND                         2 Booga Bottom Rd   \n",
       "270923   FOR SALE            LAND       Block 4 N American Laredo Rd Lot 12   \n",
       "277462   FOR SALE            LAND                       13155 W Highway 316   \n",
       "278517   FOR SALE   SINGLE FAMILY                           7518 Marker Ave   \n",
       "282020   FOR SALE   SINGLE FAMILY                              290 Burma St   \n",
       "304932    PENDING            LAND                     Address Not Available   \n",
       "309263   FOR SALE  CONDO/TOWNHOME                8032 Lost Shaker Ln Unit 1   \n",
       "312970   FOR SALE            LAND                 Unditermined Unditermined   \n",
       "325782   FOR SALE            LAND                           11395 Ninth Ave   \n",
       "331180   FOR SALE            LAND                             Bay Place Run   \n",
       "342346   FOR SALE            LAND           Blk 4 N America Laredo Rd Lot 7   \n",
       "346292   FOR SALE   SINGLE FAMILY  Jose Correa 6 De Diciembre Quito Ecuador   \n",
       "355395   FOR SALE            LAND                           11398 Tenth Ave   \n",
       "358935   FOR SALE   SINGLE FAMILY                       8101 Surf Street Ln   \n",
       "370080   FOR SALE           RANCH               135 NE Pohang Colonia Corea   \n",
       "370507   FOR SALE            LAND                             17392 SE 65th   \n",
       "\n",
       "               baths                                          homeFacts  \\\n",
       "7830               2  {'atAGlanceFacts': [{'factValue': '2000', 'fac...   \n",
       "21529            NaN  {'atAGlanceFacts': [{'factValue': '', 'factLab...   \n",
       "26467            NaN  {'atAGlanceFacts': [{'factValue': '', 'factLab...   \n",
       "60994            NaN  {'atAGlanceFacts': [{'factValue': '', 'factLab...   \n",
       "81514            NaN  {'atAGlanceFacts': [{'factValue': '', 'factLab...   \n",
       "122345           NaN  {'atAGlanceFacts': [{'factValue': '', 'factLab...   \n",
       "123490           NaN  {'atAGlanceFacts': [{'factValue': '', 'factLab...   \n",
       "130563  Bathrooms: 6  {'atAGlanceFacts': [{'factValue': '2000', 'fac...   \n",
       "131275           NaN  {'atAGlanceFacts': [{'factValue': '', 'factLab...   \n",
       "151965           NaN  {'atAGlanceFacts': [{'factValue': '', 'factLab...   \n",
       "170347           7.5  {'atAGlanceFacts': [{'factValue': '2015', 'fac...   \n",
       "171302           NaN  {'atAGlanceFacts': [{'factValue': '', 'factLab...   \n",
       "186792           NaN  {'atAGlanceFacts': [{'factValue': '', 'factLab...   \n",
       "199663           NaN  {'atAGlanceFacts': [{'factValue': '', 'factLab...   \n",
       "215086           NaN  {'atAGlanceFacts': [{'factValue': '', 'factLab...   \n",
       "221281           NaN  {'atAGlanceFacts': [{'factValue': '', 'factLab...   \n",
       "221870           NaN  {'atAGlanceFacts': [{'factValue': '', 'factLab...   \n",
       "222802           NaN  {'atAGlanceFacts': [{'factValue': '', 'factLab...   \n",
       "262351           NaN  {'atAGlanceFacts': [{'factValue': '', 'factLab...   \n",
       "270923           NaN  {'atAGlanceFacts': [{'factValue': '', 'factLab...   \n",
       "277462           NaN  {'atAGlanceFacts': [{'factValue': '', 'factLab...   \n",
       "278517           5.5  {'atAGlanceFacts': [{'factValue': '2016', 'fac...   \n",
       "282020             9  {'atAGlanceFacts': [{'factValue': '2018', 'fac...   \n",
       "304932           NaN  {'atAGlanceFacts': [{'factValue': '', 'factLab...   \n",
       "309263             2  {'atAGlanceFacts': [{'factValue': '2019', 'fac...   \n",
       "312970           NaN  {'atAGlanceFacts': [{'factValue': '', 'factLab...   \n",
       "325782           NaN  {'atAGlanceFacts': [{'factValue': '', 'factLab...   \n",
       "331180           NaN  {'atAGlanceFacts': [{'factValue': '', 'factLab...   \n",
       "342346           NaN  {'atAGlanceFacts': [{'factValue': '', 'factLab...   \n",
       "346292  Bathrooms: 4  {'atAGlanceFacts': [{'factValue': '1991', 'fac...   \n",
       "355395           NaN  {'atAGlanceFacts': [{'factValue': '', 'factLab...   \n",
       "358935             7  {'atAGlanceFacts': [{'factValue': '2019', 'fac...   \n",
       "370080             0  {'atAGlanceFacts': [{'factValue': '1982', 'fac...   \n",
       "370507           NaN  {'atAGlanceFacts': [{'factValue': '', 'factLab...   \n",
       "\n",
       "       fireplace city                                            schools  \\\n",
       "7830         NaN  NaN  [{'rating': ['1', '4', '3', '3', '6', '6'], 'd...   \n",
       "21529        NaN  NaN  [{'rating': [], 'data': {'Distance': [], 'Grad...   \n",
       "26467        NaN  NaN  [{'rating': [], 'data': {'Distance': [], 'Grad...   \n",
       "60994        NaN  NaN  [{'rating': [], 'data': {'Distance': [], 'Grad...   \n",
       "81514        NaN  NaN  [{'rating': [], 'data': {'Distance': [], 'Grad...   \n",
       "122345       NaN  NaN  [{'rating': [], 'data': {'Distance': [], 'Grad...   \n",
       "123490       NaN  NaN  [{'rating': ['6', '5', '7', '7', '2', '10', 'N...   \n",
       "130563       NaN  NaN  [{'rating': ['5/10', 'NA', '4/10'], 'data': {'...   \n",
       "131275       NaN  NaN  [{'rating': ['5', '4', '6', 'NR', '5', 'NR', '...   \n",
       "151965       NaN  NaN  [{'rating': [], 'data': {'Distance': [], 'Grad...   \n",
       "170347       NaN  NaN  [{'rating': ['2', '4', '6', '4', '3', '10', 'N...   \n",
       "171302       NaN  NaN  [{'rating': [], 'data': {'Distance': [], 'Grad...   \n",
       "186792       NaN  NaN  [{'rating': [], 'data': {'Distance': [], 'Grad...   \n",
       "199663       NaN  NaN  [{'rating': [], 'data': {'Distance': [], 'Grad...   \n",
       "215086       NaN  NaN  [{'rating': [], 'data': {'Distance': [], 'Grad...   \n",
       "221281       NaN  NaN  [{'rating': [], 'data': {'Distance': [], 'Grad...   \n",
       "221870       NaN  NaN  [{'rating': [], 'data': {'Distance': [], 'Grad...   \n",
       "222802       NaN  NaN  [{'rating': [], 'data': {'Distance': [], 'Grad...   \n",
       "262351       NaN  NaN  [{'rating': [], 'data': {'Distance': [], 'Grad...   \n",
       "270923       NaN  NaN  [{'rating': [], 'data': {'Distance': [], 'Grad...   \n",
       "277462       NaN  NaN  [{'rating': ['1', '4', '3', '3', '6', '6'], 'd...   \n",
       "278517       NaN  NaN  [{'rating': ['4', '9', '6', '5', '3', 'NR', 'N...   \n",
       "282020       NaN  NaN  [{'rating': ['4', '3', '6', '5', '9', 'NR', 'N...   \n",
       "304932       NaN  NaN  [{'rating': [], 'data': {'Distance': [], 'Grad...   \n",
       "309263       NaN  NaN  [{'rating': [], 'data': {'Distance': [], 'Grad...   \n",
       "312970       NaN  NaN  [{'rating': [], 'data': {'Distance': [], 'Grad...   \n",
       "325782       NaN  NaN  [{'rating': ['6', '5', '7', '7', '2', '10', 'N...   \n",
       "331180       NaN  NaN  [{'rating': [], 'data': {'Distance': [], 'Grad...   \n",
       "342346       NaN  NaN  [{'rating': [], 'data': {'Distance': [], 'Grad...   \n",
       "346292       NaN  NaN  [{'rating': ['10/10', '3/10'], 'data': {'Dista...   \n",
       "355395       NaN  NaN  [{'rating': ['6', '5', '7', '7', '2', '10', 'N...   \n",
       "358935       NaN  NaN  [{'rating': [], 'data': {'Distance': [], 'Grad...   \n",
       "370080       NaN  NaN  [{'rating': [], 'data': {'Distance': [], 'Grad...   \n",
       "370507       NaN  NaN  [{'rating': ['3', '3', '4', '2', 'NR', '6'], '...   \n",
       "\n",
       "                                           sqft zipcode  beds state  \\\n",
       "7830                                       1016   32686     1    FL   \n",
       "21529                                         0   32668   NaN    FL   \n",
       "26467                                         0   78045   NaN    TX   \n",
       "60994                                         0   34474   NaN    FL   \n",
       "81514                                         0   34432   NaN    FL   \n",
       "122345                                        0   34481   NaN    FL   \n",
       "123490                                        0   33955   NaN    FL   \n",
       "130563  Total interior livable area: 5,905 sqft   20003  5 bd    MA   \n",
       "131275                                        0   33954   NaN    FL   \n",
       "151965                                        0   34474   NaN    FL   \n",
       "170347                                        0   34741     7    FL   \n",
       "171302                                        0   78045   NaN    TX   \n",
       "186792                                        0   34481   NaN    FL   \n",
       "199663                                        0   34473   NaN    FL   \n",
       "215086                                        0   34488   NaN    FL   \n",
       "221281                                        0   78045   NaN    TX   \n",
       "221870                                        0   78045   NaN    TX   \n",
       "222802                                        0   34474   NaN    FL   \n",
       "262351                                        0   38732   NaN    MS   \n",
       "270923                                        0   78045   NaN    TX   \n",
       "277462                                        0   32686   NaN    FL   \n",
       "278517                                        0   34747     9    FL   \n",
       "282020                                     5141   34747    10    FL   \n",
       "304932                                        0   34744   NaN    FL   \n",
       "309263                                        0   34747     2    FL   \n",
       "312970                                        0   34432   NaN    FL   \n",
       "325782                                        0   33955   NaN    FL   \n",
       "331180                                        0   32179   NaN    FL   \n",
       "342346                                        0   78045   NaN    TX   \n",
       "346292                                  -- sqft   33126  6 bd    FL   \n",
       "355395                                        0   33955   NaN    FL   \n",
       "358935                                        0   34747     7    FL   \n",
       "370080                                    30000   77032  10.0    TX   \n",
       "370507                                        0   32179   NaN    FL   \n",
       "\n",
       "                 stories  MlsId     target  private_pool   property_type  \n",
       "7830                   2      1  1495000.0             0   SINGLE FAMILY  \n",
       "21529                NaN      1    49900.0             0            LAND  \n",
       "26467                NaN      1   417718.0             0            LAND  \n",
       "60994                NaN      1    31334.0             0            LAND  \n",
       "81514                NaN      1    28000.0             0            LAND  \n",
       "122345               NaN      1    18000.0             0            LAND  \n",
       "123490               NaN      1     4000.0             0            LAND  \n",
       "130563               NaN      1  1650000.0             1   SINGLE FAMILY  \n",
       "131275               NaN      1     4200.0             0            LAND  \n",
       "151965               NaN      1    31334.0             0            LAND  \n",
       "170347                 2      1   675000.0             0   SINGLE FAMILY  \n",
       "171302               NaN      1   582750.0             0            LAND  \n",
       "186792               NaN      1     6000.0             0            LAND  \n",
       "199663               NaN      1    12500.0             0            LAND  \n",
       "215086               NaN      1    13500.0             0            LAND  \n",
       "221281               NaN      1   589500.0             0            LAND  \n",
       "221870               NaN      1   582750.0             0            LAND  \n",
       "222802               NaN      1    31334.0             0            LAND  \n",
       "262351               NaN      1   549000.0             0            LAND  \n",
       "270923               NaN      1   591750.0             0            LAND  \n",
       "277462               NaN      1  1495000.0             0            LAND  \n",
       "278517                 2      1   595000.0             0   SINGLE FAMILY  \n",
       "282020                 2      1   890000.0             0   SINGLE FAMILY  \n",
       "304932               NaN      1  1500000.0             0            LAND  \n",
       "309263  Condo 5+ Stories      1   343300.0             0  CONDO/TOWNHOME  \n",
       "312970               NaN      1    47000.0             0            LAND  \n",
       "325782               NaN      1     6000.0             0            LAND  \n",
       "331180               NaN      1    16000.0             0            LAND  \n",
       "342346               NaN      1  1007270.0             0            LAND  \n",
       "346292               NaN      1   340000.0             0   SINGLE FAMILY  \n",
       "355395               NaN      1     6000.0             0            LAND  \n",
       "358935               NaN      1  1012600.0             0   SINGLE FAMILY  \n",
       "370080               NaN      1  2700000.0             0           RANCH  \n",
       "370507               NaN      1    10000.0             0            LAND  "
      ]
     },
     "execution_count": 36,
     "metadata": {},
     "output_type": "execute_result"
    }
   ],
   "source": [
    "df[df['city'].isnull()]"
   ]
  },
  {
   "cell_type": "markdown",
   "metadata": {},
   "source": [
    "Город очень важный признак для определения стоимости недвижимости. При этом мы видим, что улица в этих записях в основном присутствует. Соответственно можно предположить ошибки заполнения признака. Учитывая, что записей не много, удалим их."
   ]
  },
  {
   "cell_type": "code",
   "execution_count": 37,
   "metadata": {},
   "outputs": [],
   "source": [
    "df = df[~df['city'].isnull()]"
   ]
  },
  {
   "cell_type": "code",
   "execution_count": 38,
   "metadata": {},
   "outputs": [],
   "source": [
    "# удаляем лишние пробелы и переводим в верхний регистр\n",
    "df['city'] = df['city'].apply(lambda x: ' '.join(x.strip().split()).upper())\n",
    "\n",
    "# удаляем строки с пустым значением\n",
    "df = df[df['city'] != '']"
   ]
  },
  {
   "cell_type": "markdown",
   "metadata": {},
   "source": [
    "Попробуем проверить правильность написания города, сверив его с другим источником. Для этого воспользуемся датасетом [United States Cities](https://www.kaggle.com/datasets/outwrest/simple-cities-us-dataset)."
   ]
  },
  {
   "cell_type": "code",
   "execution_count": 39,
   "metadata": {},
   "outputs": [
    {
     "data": {
      "text/html": [
       "<div>\n",
       "<style scoped>\n",
       "    .dataframe tbody tr th:only-of-type {\n",
       "        vertical-align: middle;\n",
       "    }\n",
       "\n",
       "    .dataframe tbody tr th {\n",
       "        vertical-align: top;\n",
       "    }\n",
       "\n",
       "    .dataframe thead th {\n",
       "        text-align: right;\n",
       "    }\n",
       "</style>\n",
       "<table border=\"1\" class=\"dataframe\">\n",
       "  <thead>\n",
       "    <tr style=\"text-align: right;\">\n",
       "      <th></th>\n",
       "      <th>city</th>\n",
       "      <th>city_ascii</th>\n",
       "      <th>state_id</th>\n",
       "      <th>state_name</th>\n",
       "      <th>county_fips</th>\n",
       "      <th>county_name</th>\n",
       "      <th>lat</th>\n",
       "      <th>lng</th>\n",
       "      <th>population</th>\n",
       "      <th>density</th>\n",
       "      <th>source</th>\n",
       "      <th>military</th>\n",
       "      <th>incorporated</th>\n",
       "      <th>timezone</th>\n",
       "      <th>ranking</th>\n",
       "      <th>zips</th>\n",
       "      <th>id</th>\n",
       "    </tr>\n",
       "  </thead>\n",
       "  <tbody>\n",
       "    <tr>\n",
       "      <th>0</th>\n",
       "      <td>New York</td>\n",
       "      <td>New York</td>\n",
       "      <td>NY</td>\n",
       "      <td>New York</td>\n",
       "      <td>36081</td>\n",
       "      <td>Queens</td>\n",
       "      <td>40.6943</td>\n",
       "      <td>-73.9249</td>\n",
       "      <td>18680025</td>\n",
       "      <td>10768.0</td>\n",
       "      <td>shape</td>\n",
       "      <td>False</td>\n",
       "      <td>True</td>\n",
       "      <td>America/New_York</td>\n",
       "      <td>1</td>\n",
       "      <td>11229 11228 11226 11225 11224 11222 11221 1122...</td>\n",
       "      <td>1840034016</td>\n",
       "    </tr>\n",
       "    <tr>\n",
       "      <th>1</th>\n",
       "      <td>Los Angeles</td>\n",
       "      <td>Los Angeles</td>\n",
       "      <td>CA</td>\n",
       "      <td>California</td>\n",
       "      <td>6037</td>\n",
       "      <td>Los Angeles</td>\n",
       "      <td>34.1141</td>\n",
       "      <td>-118.4068</td>\n",
       "      <td>12531334</td>\n",
       "      <td>3267.0</td>\n",
       "      <td>shape</td>\n",
       "      <td>False</td>\n",
       "      <td>True</td>\n",
       "      <td>America/Los_Angeles</td>\n",
       "      <td>1</td>\n",
       "      <td>91367 90291 90293 90292 91316 91311 90035 9003...</td>\n",
       "      <td>1840020491</td>\n",
       "    </tr>\n",
       "    <tr>\n",
       "      <th>2</th>\n",
       "      <td>Chicago</td>\n",
       "      <td>Chicago</td>\n",
       "      <td>IL</td>\n",
       "      <td>Illinois</td>\n",
       "      <td>17031</td>\n",
       "      <td>Cook</td>\n",
       "      <td>41.8375</td>\n",
       "      <td>-87.6866</td>\n",
       "      <td>8586888</td>\n",
       "      <td>4576.0</td>\n",
       "      <td>shape</td>\n",
       "      <td>False</td>\n",
       "      <td>True</td>\n",
       "      <td>America/Chicago</td>\n",
       "      <td>1</td>\n",
       "      <td>60018 60649 60641 60640 60643 60642 60645 6064...</td>\n",
       "      <td>1840000494</td>\n",
       "    </tr>\n",
       "    <tr>\n",
       "      <th>3</th>\n",
       "      <td>Miami</td>\n",
       "      <td>Miami</td>\n",
       "      <td>FL</td>\n",
       "      <td>Florida</td>\n",
       "      <td>12086</td>\n",
       "      <td>Miami-Dade</td>\n",
       "      <td>25.7840</td>\n",
       "      <td>-80.2101</td>\n",
       "      <td>6076316</td>\n",
       "      <td>4945.0</td>\n",
       "      <td>shape</td>\n",
       "      <td>False</td>\n",
       "      <td>True</td>\n",
       "      <td>America/New_York</td>\n",
       "      <td>1</td>\n",
       "      <td>33128 33129 33125 33126 33127 33149 33144 3314...</td>\n",
       "      <td>1840015149</td>\n",
       "    </tr>\n",
       "    <tr>\n",
       "      <th>4</th>\n",
       "      <td>Dallas</td>\n",
       "      <td>Dallas</td>\n",
       "      <td>TX</td>\n",
       "      <td>Texas</td>\n",
       "      <td>48113</td>\n",
       "      <td>Dallas</td>\n",
       "      <td>32.7935</td>\n",
       "      <td>-96.7667</td>\n",
       "      <td>5910669</td>\n",
       "      <td>1522.0</td>\n",
       "      <td>shape</td>\n",
       "      <td>False</td>\n",
       "      <td>True</td>\n",
       "      <td>America/Chicago</td>\n",
       "      <td>1</td>\n",
       "      <td>75098 75287 75230 75231 75236 75237 75235 7525...</td>\n",
       "      <td>1840019440</td>\n",
       "    </tr>\n",
       "  </tbody>\n",
       "</table>\n",
       "</div>"
      ],
      "text/plain": [
       "          city   city_ascii state_id  state_name  county_fips  county_name  \\\n",
       "0     New York     New York       NY    New York        36081       Queens   \n",
       "1  Los Angeles  Los Angeles       CA  California         6037  Los Angeles   \n",
       "2      Chicago      Chicago       IL    Illinois        17031         Cook   \n",
       "3        Miami        Miami       FL     Florida        12086   Miami-Dade   \n",
       "4       Dallas       Dallas       TX       Texas        48113       Dallas   \n",
       "\n",
       "       lat       lng  population  density source  military  incorporated  \\\n",
       "0  40.6943  -73.9249    18680025  10768.0  shape     False          True   \n",
       "1  34.1141 -118.4068    12531334   3267.0  shape     False          True   \n",
       "2  41.8375  -87.6866     8586888   4576.0  shape     False          True   \n",
       "3  25.7840  -80.2101     6076316   4945.0  shape     False          True   \n",
       "4  32.7935  -96.7667     5910669   1522.0  shape     False          True   \n",
       "\n",
       "              timezone  ranking  \\\n",
       "0     America/New_York        1   \n",
       "1  America/Los_Angeles        1   \n",
       "2      America/Chicago        1   \n",
       "3     America/New_York        1   \n",
       "4      America/Chicago        1   \n",
       "\n",
       "                                                zips          id  \n",
       "0  11229 11228 11226 11225 11224 11222 11221 1122...  1840034016  \n",
       "1  91367 90291 90293 90292 91316 91311 90035 9003...  1840020491  \n",
       "2  60018 60649 60641 60640 60643 60642 60645 6064...  1840000494  \n",
       "3  33128 33129 33125 33126 33127 33149 33144 3314...  1840015149  \n",
       "4  75098 75287 75230 75231 75236 75237 75235 7525...  1840019440  "
      ]
     },
     "execution_count": 39,
     "metadata": {},
     "output_type": "execute_result"
    }
   ],
   "source": [
    "cities = pd.read_csv('data/uscities.csv.zip')\n",
    "cities.head()"
   ]
  },
  {
   "cell_type": "code",
   "execution_count": 40,
   "metadata": {},
   "outputs": [
    {
     "name": "stdout",
     "output_type": "stream",
     "text": [
      "<class 'pandas.core.frame.DataFrame'>\n",
      "RangeIndex: 30409 entries, 0 to 30408\n",
      "Data columns (total 17 columns):\n",
      " #   Column        Non-Null Count  Dtype  \n",
      "---  ------        --------------  -----  \n",
      " 0   city          30409 non-null  object \n",
      " 1   city_ascii    30409 non-null  object \n",
      " 2   state_id      30409 non-null  object \n",
      " 3   state_name    30409 non-null  object \n",
      " 4   county_fips   30409 non-null  int64  \n",
      " 5   county_name   30409 non-null  object \n",
      " 6   lat           30409 non-null  float64\n",
      " 7   lng           30409 non-null  float64\n",
      " 8   population    30409 non-null  int64  \n",
      " 9   density       30409 non-null  float64\n",
      " 10  source        30409 non-null  object \n",
      " 11  military      30409 non-null  bool   \n",
      " 12  incorporated  30409 non-null  bool   \n",
      " 13  timezone      30409 non-null  object \n",
      " 14  ranking       30409 non-null  int64  \n",
      " 15  zips          30407 non-null  object \n",
      " 16  id            30409 non-null  int64  \n",
      "dtypes: bool(2), float64(3), int64(4), object(8)\n",
      "memory usage: 3.5+ MB\n"
     ]
    }
   ],
   "source": [
    "cities.info()"
   ]
  },
  {
   "cell_type": "code",
   "execution_count": 41,
   "metadata": {},
   "outputs": [
    {
     "data": {
      "text/plain": [
       "array(['OT', 'OS'], dtype=object)"
      ]
     },
     "execution_count": 41,
     "metadata": {},
     "output_type": "execute_result"
    }
   ],
   "source": [
    "# Для начала проверим штаты\n",
    "# преобразуем в множество\n",
    "set_state = set(cities['state_id'])\n",
    "# покажем те, что не найдены.\n",
    "missing_states = df[~df['state'].isin(set_state)]['state'].unique()\n",
    "missing_states"
   ]
  },
  {
   "cell_type": "markdown",
   "metadata": {},
   "source": [
    "Некоторые штаты присутствующие в датасете, не обнаружены в другом источнике. Поиски в интернете тоже не привели к успеху. Проверим, что за строки в датасете с этими штатами."
   ]
  },
  {
   "cell_type": "code",
   "execution_count": 42,
   "metadata": {},
   "outputs": [
    {
     "data": {
      "text/html": [
       "<div>\n",
       "<style scoped>\n",
       "    .dataframe tbody tr th:only-of-type {\n",
       "        vertical-align: middle;\n",
       "    }\n",
       "\n",
       "    .dataframe tbody tr th {\n",
       "        vertical-align: top;\n",
       "    }\n",
       "\n",
       "    .dataframe thead th {\n",
       "        text-align: right;\n",
       "    }\n",
       "</style>\n",
       "<table border=\"1\" class=\"dataframe\">\n",
       "  <thead>\n",
       "    <tr style=\"text-align: right;\">\n",
       "      <th></th>\n",
       "      <th>status</th>\n",
       "      <th>propertyType</th>\n",
       "      <th>street</th>\n",
       "      <th>baths</th>\n",
       "      <th>homeFacts</th>\n",
       "      <th>fireplace</th>\n",
       "      <th>city</th>\n",
       "      <th>schools</th>\n",
       "      <th>sqft</th>\n",
       "      <th>zipcode</th>\n",
       "      <th>beds</th>\n",
       "      <th>state</th>\n",
       "      <th>stories</th>\n",
       "      <th>MlsId</th>\n",
       "      <th>target</th>\n",
       "      <th>private_pool</th>\n",
       "      <th>property_type</th>\n",
       "    </tr>\n",
       "  </thead>\n",
       "  <tbody>\n",
       "    <tr>\n",
       "      <th>193466</th>\n",
       "      <td>FOR SALE</td>\n",
       "      <td>UNDEFINED</td>\n",
       "      <td>55 E 1476 Land W</td>\n",
       "      <td>NaN</td>\n",
       "      <td>{'atAGlanceFacts': [{'factValue': '', 'factLab...</td>\n",
       "      <td>NaN</td>\n",
       "      <td>OTHER</td>\n",
       "      <td>[{'rating': [], 'data': {'Distance': [], 'Grad...</td>\n",
       "      <td>NaN</td>\n",
       "      <td>11210</td>\n",
       "      <td>NaN</td>\n",
       "      <td>OT</td>\n",
       "      <td>NaN</td>\n",
       "      <td>1</td>\n",
       "      <td>50000.0</td>\n",
       "      <td>0</td>\n",
       "      <td>UNDEFINED</td>\n",
       "    </tr>\n",
       "    <tr>\n",
       "      <th>308229</th>\n",
       "      <td>FOR SALE</td>\n",
       "      <td>UNDEFINED</td>\n",
       "      <td>435 pescador</td>\n",
       "      <td>NaN</td>\n",
       "      <td>{'atAGlanceFacts': [{'factValue': '1972', 'fac...</td>\n",
       "      <td>NaN</td>\n",
       "      <td>FOREIGN COUNTRY</td>\n",
       "      <td>[{'rating': [], 'data': {'Distance': [], 'Grad...</td>\n",
       "      <td>1,100</td>\n",
       "      <td>00000</td>\n",
       "      <td>NaN</td>\n",
       "      <td>OS</td>\n",
       "      <td>NaN</td>\n",
       "      <td>1</td>\n",
       "      <td>125000.0</td>\n",
       "      <td>0</td>\n",
       "      <td>UNDEFINED</td>\n",
       "    </tr>\n",
       "  </tbody>\n",
       "</table>\n",
       "</div>"
      ],
      "text/plain": [
       "          status propertyType             street baths  \\\n",
       "193466  FOR SALE    UNDEFINED  55 E 1476 Land W    NaN   \n",
       "308229  FOR SALE    UNDEFINED      435 pescador    NaN   \n",
       "\n",
       "                                                homeFacts fireplace  \\\n",
       "193466  {'atAGlanceFacts': [{'factValue': '', 'factLab...       NaN   \n",
       "308229  {'atAGlanceFacts': [{'factValue': '1972', 'fac...       NaN   \n",
       "\n",
       "                   city                                            schools  \\\n",
       "193466            OTHER  [{'rating': [], 'data': {'Distance': [], 'Grad...   \n",
       "308229  FOREIGN COUNTRY  [{'rating': [], 'data': {'Distance': [], 'Grad...   \n",
       "\n",
       "         sqft zipcode beds state stories  MlsId    target  private_pool  \\\n",
       "193466    NaN   11210  NaN    OT     NaN      1   50000.0             0   \n",
       "308229  1,100   00000  NaN    OS     NaN      1  125000.0             0   \n",
       "\n",
       "       property_type  \n",
       "193466     UNDEFINED  \n",
       "308229     UNDEFINED  "
      ]
     },
     "execution_count": 42,
     "metadata": {},
     "output_type": "execute_result"
    }
   ],
   "source": [
    "df[df['state'].isin(missing_states)]"
   ]
  },
  {
   "cell_type": "markdown",
   "metadata": {},
   "source": [
    "Удалим."
   ]
  },
  {
   "cell_type": "code",
   "execution_count": 43,
   "metadata": {},
   "outputs": [],
   "source": [
    "df = df[~df['state'].isin(missing_states)]"
   ]
  },
  {
   "cell_type": "code",
   "execution_count": 44,
   "metadata": {},
   "outputs": [
    {
     "data": {
      "text/plain": [
       "array(['PT SAINT LUCIE', 'ROTONDA WEST', 'SYLMAR', 'BEECHHURST',\n",
       "       'SAINT JOHNS', 'PORT SAINT LUCIE', 'KEW GARDENS',\n",
       "       'NORTH HOLLYWOOD', 'ST PETERSBURG', 'SAINT PETE BEACH',\n",
       "       'SAINT PETERSBURG', 'LITTLE NECK', 'WATERSOUND', 'WINSTON SALEM',\n",
       "       'HIXSON', 'LONG ISLAND CITY', 'WADDELL', 'SOUTH OZONE PARK',\n",
       "       'LA JOLLA', 'LAKE BALBOA', 'TUJUNGA', 'BABCOCK RANCH', 'REUNION',\n",
       "       'SODDY DAISY', 'ST JOHNS', 'EAST BOSTON', 'ARLETA', 'JOELTON',\n",
       "       'ENOSBURG', 'PLACIDA', 'ST PETE BEACH', 'SAINT LOUIS', 'VAN NUYS',\n",
       "       'TARZANA', 'HIGH PT', 'HUFFMAN', 'EAST PT', 'BOCA GRANDE',\n",
       "       'FAIRFIELD TWP', 'OLMSTED TOWNSHIP', 'NORRIDGEWOCK', 'OSTERVILLE',\n",
       "       'BARNSTABLE', 'CHIMNEY ROCK', 'CHEEKTOWAGA', 'RICHMOND HTS',\n",
       "       'QUEENS VILLAGE', 'UNINCORPORATED', 'CORRYTON', 'EAST ELMHURST',\n",
       "       'GARFIELD HTS', 'BUSTI', 'HARBOR CITY', 'RESEDA', 'OLD HICKORY',\n",
       "       'OPA LOCKA', 'DOWNTOWN PGH', 'SHERMAN OAKS', 'PACOIMA',\n",
       "       'SHELBURNE', 'COMMERCECITY', 'PINEY PT VILLAGE',\n",
       "       'UNINCORPORATED DADE COUNTY', 'BERKSHIRE', 'WACHEE',\n",
       "       'OTHER CITY - IN THE STATE OF FLORIDA', 'CAMBY', 'LITTCARR',\n",
       "       'LAVEEN', 'GRANADA HILLS', 'PACIFIC PALISADES', 'ROCKAWAY PARK',\n",
       "       'WHEATRIDGE', 'STUDIO CITY', 'WHITES CREEK', 'OKLAWAHA',\n",
       "       'LAUDERDALE BY THE SEA', 'FEDERALHEIGHTS', 'LAKE SUZY',\n",
       "       'FAR ROCKAWAY', 'OZONE PARK', 'SAINT ALBANS CITY', 'REGO PARK',\n",
       "       'DEWITTVILLE', 'CANYON COUNTRY', 'HOLLYWOOD PA', 'VIEW PARK',\n",
       "       'STOWE', 'PANTON', 'ST AUGUSTINE', 'GREEN TOWNSHIP', 'TULALIP',\n",
       "       'COCONUT GROVE', 'CARROLL GARDENS', 'NORTH HERO', 'ALBURGH',\n",
       "       'ARVERNE', 'INLET BEACH', 'ROSEMARY BEACH', 'SAINT LUCIE',\n",
       "       'GLEN OAKS', 'LA CRESCENTA', 'CITRA', 'CANOGA PARK',\n",
       "       'NEW YORK CITY', 'SEACREST', 'COLLEGE POINT', 'POINT CHARLOTTE',\n",
       "       'ROOSEVELT ISLAND', 'BUSHWICK', 'WEST SENECA', 'MOUNT PERRY',\n",
       "       'MIDWAY PARK', 'GEORGIA', 'HINESBURG', 'TARKINGTON PRAIRIE',\n",
       "       'NORTH PT', 'VIPER', 'HALLANDALE', 'MC ALLEN', 'ST. ALBANS CITY',\n",
       "       'NEWBURY PARK', 'MARSTONS MILLS', 'BUENA VENTURA LAKES',\n",
       "       'ALTA LOMA', 'OTHER CITY VALUE - OUT OF AREA', 'PORTER RANCH',\n",
       "       'PLAYA DEL REY', 'BAY RIDGE', 'PANORAMA CITY', 'VALLEY VILLAGE',\n",
       "       'DOUGLASTON', '--', 'COLLEGE PT', 'DANIA', 'FT LAUDERDALE',\n",
       "       'BROOKPARK', 'LA TUNA CANYON', 'FERRISBURGH', 'PALMS',\n",
       "       'COLERAIN TOWNSHIP', 'HOWARD BEACH', 'BAINBRIDGE IS', 'PFAFFTOWN',\n",
       "       'OTHER', 'TOLUCA LAKE', 'SAINT ALBANS TOWN', 'MINNIE',\n",
       "       'COLD CREEK', 'CLEARWATER BEACH', 'CHERRYHILLSVILLAGE',\n",
       "       'KEW GARDENS HILLS', 'EL SERENO', 'FT WORTH', 'ANDERSON TOWNSHIP',\n",
       "       'GREENHURST', 'PT ISABEL', 'CITY TERRACE', 'GREENPOINT',\n",
       "       'PONTE VEDRA', 'RICHFORD', 'INTERCESSION CITY', 'MASPETH',\n",
       "       'ST GEORGE', 'INDIAN LAND', 'SAINT PAUL', 'SLC', 'SAINT ALBANS',\n",
       "       'HIDEAWAY HILLS', 'BAHAMA', 'OAKLAND GARDENS', 'CONEWANGO VALLEY',\n",
       "       'PERRINE', 'VALLEYVIEW', 'MEADOWVIEW', 'SUNLAND',\n",
       "       'ST. ALBANS TOWN', 'GROSSE POINTE SHORES', 'BROAD CHANNEL',\n",
       "       'JAMAICA EST', 'ANDERSON TWP', 'BAYSIDE HILLS',\n",
       "       'SOUTH RICHMOND HILL', 'MC GREGOR', 'MC KINNEY', 'NORTH HOUSTON',\n",
       "       'BELLE HARBOR', 'MC LEANSVILLE', 'RANCHO PARK', 'CANDLER',\n",
       "       'CLEAR LK SHRS', 'P C BEACH', 'PLAYA VISTA', 'CAMBRIA HEIGHTS',\n",
       "       'SPRINGFIELD GARDENS', 'COLONIE', 'ETSU', 'DWARF', 'GOLDEN OAK',\n",
       "       'PITTSFIELD TWP', 'ALLENTOWN CITY', 'AVE', 'PYRAMID',\n",
       "       'CITY OF VISTA', 'EMMALENA', 'ANGEL FIE', 'PETE BEACH', 'MALBA',\n",
       "       'BISCAYNE', 'FT. WORTH', 'BONNYMAN', 'FAIRFIELD TWP.',\n",
       "       'PORT ST LUCIE', 'MONKTON', 'MOUSIE', 'EAST FLATBUSH', 'YEADDISS',\n",
       "       'ST PETE', 'BENSONHURST', 'DEL VALLE', 'RISING FAWN', 'YARROW PT',\n",
       "       'CAPE HAZE', 'VALLEY GLEN', 'NEPONSIT', 'SUPERIOR TWP',\n",
       "       'FRESH MEADOWS', 'ST LOUIS', 'PINEY FLATS', 'HORIZON',\n",
       "       'PT CHARLOTTE', 'SHERWOOD FOREST', 'LAKE VIEW TERRACE',\n",
       "       'BELLEROSE VLG', 'COLUMBIA TWP', 'CANE RIDGE', 'DORCHESTER CENTER',\n",
       "       'EATON PARK', 'MAYFIELD HTS', 'PONTE VEDRA BEACH', 'SINGLETON',\n",
       "       'MT WASHINGTON', 'CHAMPIONS GATE', 'SHADOW HILLS', 'HIGHGATE',\n",
       "       'SUMMERLIN', 'GUILD', 'HUNTINGDON VALLEY', 'PERDIDO KEY',\n",
       "       'SPICEWOOD', 'BUSY', 'PARK HILLS HEIGHTS', 'QUITO ECUADOR',\n",
       "       'VEGAS', 'BULAN', 'LOS FELIZ L', 'PLAYA', 'GLASSELL PARK',\n",
       "       'NEW HUDSON', 'N MIAMI BEACH', 'LUPTON CITY', 'CANARSIE', 'SA',\n",
       "       'LEWIS CENTER', 'GRAVESEND', 'S.A.', 'LEICESTER',\n",
       "       'MAYFIELD VILLAGE', 'SARANAC VLG', 'OLD MILL BASIN',\n",
       "       'OTHER CITY VALUE OUT OF AREA', 'E. NEW YORK', 'DRIFT',\n",
       "       'ASHEVILLE CITY', 'MOUNTAIN SPRINGS', 'HERNANDO COUNTY', 'ROMAYOR',\n",
       "       'SWORDS CREEK', 'ALVISO', 'CHESTNUT HILL', 'LIZELLA',\n",
       "       'BELLLINGHAM', 'BED-STUY', 'MATLACHA ISLES', 'BROWNS SUMMIT',\n",
       "       'HOLLYWOOD HILLS EAST', 'WEST ASHVILLE', 'OLALLA', 'LYON TOWNSHIP',\n",
       "       'ANAHEIM HILLS', 'KIMBERLIN HEIGHTS', 'PT ARTHUR',\n",
       "       'POINT RICHMOND', 'JOHNS', 'WHALLONSBURG', 'FLATBUSH',\n",
       "       'SAINT LUCIE WEST', 'BEXAR CO', 'KAGEL CANYON', 'SUWANNEE',\n",
       "       'DOCTOR PHILIPS', 'ALYS BEACH', 'PIERCE TOWNSHIP', 'CUYAHOGA',\n",
       "       'JAMAICA ESTATES', 'HIGHWAY 30', 'NEWFANE', 'SASSAFRAS', 'BONAIRE',\n",
       "       'REDFORD TOWNSHIP', 'GULF HAMMOCK', 'BROOKSIDE VL',\n",
       "       'SHEEPSHEAD BAY', 'SUNSET PARK', 'BROOKLINE', 'LILY DALE',\n",
       "       'SHERMAN VLG', 'BENSALEM', 'ALLSTON', 'LEBURN', 'SECURITY',\n",
       "       'BRANT', 'ST ALBANS CITY', 'MILLICAN', 'HOLLIS HILLS',\n",
       "       'NORTHFIELD TWP', 'MILL BASIN', 'OUTSIDE AREA (OUTSIDE CA)',\n",
       "       'POUGHKEEPSIE CITY', 'UNICORP/MEMPHIS', 'BONITA SPGS', 'LONGVI',\n",
       "       'CYPRESS HILLS', 'COUNTY LOS ANGELES',\n",
       "       'OTHER CITY NOT IN THE STATE OF FLORIDA', 'HOMECREST',\n",
       "       'NEW HANOVER', 'EAST DURHAM', 'BEE CAVES', 'COLUMBIA TOWNSHIP',\n",
       "       'SAINT BERNARD', 'BELLEROSE MANOR', 'STARKSBORO',\n",
       "       'BOSTON (DORCHESTER)', 'SEA GATE', 'UNDERHILL', 'ST UNIT',\n",
       "       'LOWER EAST SIDE', 'WILLSBORO', 'JAMAICA PLAIN', 'ROANS PRAIRIE',\n",
       "       'SAUGUS', 'LAKE VIEW TER', 'IDYLLWILD',\n",
       "       'UN-INCORPORATED BROWARD COUNTY', 'ONON HILL', 'WEST BARNSTABLE',\n",
       "       'EMMETT TOWNSHIP', 'CITY CENTER', 'EAST HARLEM', 'BUELS GORE',\n",
       "       'BAY HARBOR IS', 'GERRY', 'HIDE A WAY HILLS', 'JACKSON TOWNSHIP',\n",
       "       'HASTINGS ON HUDSON', 'PARK SLOPE', 'HOLLYWOOD HILLS',\n",
       "       'UNINCORPORATED BROWARD COUNTY', 'HUEYSVILLE',\n",
       "       'WEST PANAMA CITY BEACH', 'GLADE PARK', 'JC', 'ERIE COUNTY',\n",
       "       'COTUIT', 'COLLEGE GROVE', 'DEL SUR', 'SHAKER HTS',\n",
       "       'LAKEWOOD TWP.', 'HERKIMER NY', 'FORT OGDEN', 'BVILLE',\n",
       "       'MOUNT HAMILTON', 'CHINATOWN', 'JEFFERSON COUNT', 'WHITE COTTAGE',\n",
       "       'CHAUTAUQUA COUNTY', 'MEM', 'VESTAL', 'MAPLE SPRINGS', 'LA MOCA',\n",
       "       'INDIAN ORCHARD', 'LEE TOWNSHIP', 'NYC', 'WEST LOS ANGELES',\n",
       "       'LOCKA', 'ROSLINDALE', 'RIVERSIDE PKWY', 'OLD BROOKLYN',\n",
       "       'LACY LAKEVIEW', 'CITY BEACH', 'MIDWOOD', 'BIRCHLEAF',\n",
       "       'IJAMES CHURCH RD', 'KRYPTON', 'PHILA', 'MIDKIFF', 'MALLIE',\n",
       "       'MT LEBANON', 'PLATO CENTER', 'SOLITUDE', 'ELLERY',\n",
       "       'INDIAN CREEK VILLAGE', 'SPARR', 'UNINC', 'MDALE',\n",
       "       'PHILLIPS RANCH', 'LDHL', 'VAN BUREN POINT', 'CONIFER',\n",
       "       'TOWN NORTH COUNTRY', 'PROVO CANYON', 'WOOTON', 'ATLAANTA',\n",
       "       'TOPMOST', 'WILLOW SPRING', 'BALDWIN HILLS', 'YARMOUTH PT',\n",
       "       'RAINBOW VALLEY', 'BEDFORD HTS'], dtype=object)"
      ]
     },
     "execution_count": 44,
     "metadata": {},
     "output_type": "execute_result"
    }
   ],
   "source": [
    "# переведем city_ascii в верхний регистр\n",
    "cities['city_ascii_upper'] = cities['city_ascii'].str.upper()\n",
    "# преобразуем список городов в множество\n",
    "set_cities = set(cities['city_ascii_upper'])\n",
    "# посмотрим, что не найдено\n",
    "df[~df['city'].isin(set_cities)]['city'].unique()"
   ]
  },
  {
   "cell_type": "markdown",
   "metadata": {},
   "source": [
    "Бросается в глаза разное написание городов: 'ST PETERSBURG' и 'SAINT PETERSBURG'.  \n",
    "А так же наличие таких городов как:\n",
    "- OTHER CITY NOT IN THE STATE OF FLORIDA\n",
    "- OTHER CITY VALUE OUT OF AREA\n",
    "- OTHER"
   ]
  },
  {
   "cell_type": "code",
   "execution_count": 45,
   "metadata": {},
   "outputs": [
    {
     "data": {
      "text/plain": [
       "city              state\n",
       "SAINT PETERSBURG  FL       2511\n",
       "ST PETERSBURG     FL       1145\n",
       "ST. PETERSBURG    FL         12\n",
       "PETERSBURG        FL         11\n",
       "Name: count, dtype: int64"
      ]
     },
     "execution_count": 45,
     "metadata": {},
     "output_type": "execute_result"
    }
   ],
   "source": [
    "df[df['city'].str.contains('PETERSBURG')][['city', 'state']].value_counts()"
   ]
  },
  {
   "cell_type": "markdown",
   "metadata": {},
   "source": [
    "На примере города ST. PETERSBURG мы видим 4 варианта написания города. Надо приводить в порядок.\n",
    "\n",
    "Идея следующая. С помощью метода get_close_matches из модуля difflib будем искать похожие по написанию города внутри штата."
   ]
  },
  {
   "cell_type": "code",
   "execution_count": 46,
   "metadata": {},
   "outputs": [],
   "source": [
    "# объявим словарь в котором будем хранить уже найденные значения\n",
    "found_city = {}\n",
    "def city_search(state_city):\n",
    "    #global found_city\n",
    "    if (state_city[0], state_city[1]) in found_city:\n",
    "        # уже есть в словаре\n",
    "        return found_city[(state_city[0], state_city[1])]\n",
    "    else:\n",
    "        # ищем список городов для штата\n",
    "        ls_cities = list(cities[cities['state_id'] == state_city[0]]['city_ascii_upper'])\n",
    "        # подбираем похожий город\n",
    "        res = difflib.get_close_matches(state_city[1], ls_cities)\n",
    "        if res == []:\n",
    "            # не нашли ничего похожего\n",
    "            return 'NOT FOUND'\n",
    "        else:\n",
    "            # нашли похожий город\n",
    "            # пишем в словарь\n",
    "            found_city[(state_city[0], state_city[1])] = res[0]\n",
    "            return res[0]\n",
    "\n",
    "df['city_2'] = df[['state', 'city']].apply(city_search, axis=1)"
   ]
  },
  {
   "cell_type": "markdown",
   "metadata": {},
   "source": [
    "Посмотрим еще раз что получилось"
   ]
  },
  {
   "cell_type": "code",
   "execution_count": 47,
   "metadata": {},
   "outputs": [
    {
     "data": {
      "text/plain": [
       "array(['NOT FOUND'], dtype=object)"
      ]
     },
     "execution_count": 47,
     "metadata": {},
     "output_type": "execute_result"
    }
   ],
   "source": [
    "# преобразуем список городов в множество\n",
    "set_cities = set(cities['city_ascii_upper'])\n",
    "# посмотрим, что не найдено\n",
    "df[~df['city_2'].isin(set_cities)]['city_2'].unique()"
   ]
  },
  {
   "cell_type": "markdown",
   "metadata": {},
   "source": [
    "Посмотрим, какие города не удалось найти."
   ]
  },
  {
   "cell_type": "code",
   "execution_count": 48,
   "metadata": {},
   "outputs": [
    {
     "data": {
      "text/plain": [
       "city\n",
       "FLUSHING                                1294\n",
       "SAINT JOHNS                              576\n",
       "ANTIOCH                                  402\n",
       "OLD HICKORY                              210\n",
       "HERMITAGE                                208\n",
       "CORDOVA                                  156\n",
       "WADDELL                                  110\n",
       "VAN NUYS                                 105\n",
       "TUJUNGA                                   87\n",
       "ESSEX                                     62\n",
       "FAIRFAX                                   49\n",
       "WINNETKA                                  49\n",
       "UNINCORPORATED                            38\n",
       "PEMBROKE                                  34\n",
       "NORRIDGEWOCK                              34\n",
       "SAINT ALBANS                              31\n",
       "SHELBURNE                                 31\n",
       "OTHER CITY - IN THE STATE OF FLORIDA      28\n",
       "RICHFORD                                  28\n",
       "ROME                                      28\n",
       "Name: count, dtype: int64"
      ]
     },
     "execution_count": 48,
     "metadata": {},
     "output_type": "execute_result"
    }
   ],
   "source": [
    "df[df['city_2'] == 'NOT FOUND']['city'].value_counts()[:20]"
   ]
  },
  {
   "cell_type": "markdown",
   "metadata": {},
   "source": [
    "Поиски в интернете показали что FLUSHING это один из старейших районов Куинса, расположенный в северо-центральной части города Нью-Йорк.  \n",
    "А SAINT JOHNS округ в северо-восточной части американского штата Флорида.  \n",
    "Т.е. это некое указание на территорию объекта. Можно оставить так."
   ]
  },
  {
   "cell_type": "code",
   "execution_count": 49,
   "metadata": {},
   "outputs": [],
   "source": [
    "# Проведем небольшие замены значений\n",
    "df['city_2'] = df[['city', 'city_2']].apply(lambda x: 'OTHER' if 'OTHER' in x[0] else x[1], axis=1)\n",
    "\n",
    "df['city_2'] = df[['city', 'city_2']].apply(lambda x: x[0] if x[1] == 'NOT FOUND' else x[1], axis=1)"
   ]
  },
  {
   "cell_type": "code",
   "execution_count": 50,
   "metadata": {},
   "outputs": [
    {
     "data": {
      "text/plain": [
       "city_2\n",
       "HOUSTON            24406\n",
       "SAN ANTONIO        15501\n",
       "MIAMI              15415\n",
       "JACKSONVILLE        9909\n",
       "DALLAS              8772\n",
       "BROOKLYN            7246\n",
       "ORLANDO             6975\n",
       "NEW YORK            6929\n",
       "CHICAGO             6893\n",
       "CHARLOTTE           6479\n",
       "TAMPA               6421\n",
       "LAS VEGAS           5979\n",
       "FORT WORTH          5507\n",
       "AUSTIN              5133\n",
       "FORT LAUDERDALE     5091\n",
       "CLEVELAND           5006\n",
       "NASHVILLE           4989\n",
       "PHILADELPHIA        4768\n",
       "WASHINGTON          4587\n",
       "LOS ANGELES         4169\n",
       "SEATTLE             4058\n",
       "KISSIMMEE           3957\n",
       "ATLANTA             3951\n",
       "ST. PETERSBURG      3681\n",
       "OCALA               3322\n",
       "PALM COAST          3245\n",
       "PORT CHARLOTTE      3150\n",
       "DETROIT             3113\n",
       "INDIANAPOLIS        2679\n",
       "MIAMI BEACH         2637\n",
       "DENVER              2622\n",
       "LEHIGH ACRES        2495\n",
       "MEMPHIS             2485\n",
       "RALEIGH             2460\n",
       "PUNTA GORDA         2414\n",
       "PORTLAND            2121\n",
       "CHATTANOOGA         2032\n",
       "EL PASO             2019\n",
       "RENO                1845\n",
       "DURHAM              1837\n",
       "SAN DIEGO           1757\n",
       "CINCINNATI          1673\n",
       "KNOXVILLE           1361\n",
       "CAPE CORAL          1354\n",
       "LAKEWOOD            1342\n",
       "SACRAMENTO          1304\n",
       "FLUSHING            1297\n",
       "COLLEGE STATION     1282\n",
       "HIALEAH             1276\n",
       "GLENDALE            1275\n",
       "Name: count, dtype: int64"
      ]
     },
     "execution_count": 50,
     "metadata": {},
     "output_type": "execute_result"
    }
   ],
   "source": [
    "# и посмотрим на топ 50\n",
    "df['city_2'].value_counts()[:50]"
   ]
  },
  {
   "cell_type": "markdown",
   "metadata": {},
   "source": [
    "Выглядит неплохо."
   ]
  },
  {
   "cell_type": "markdown",
   "metadata": {},
   "source": [
    "### Признак baths"
   ]
  },
  {
   "cell_type": "code",
   "execution_count": 51,
   "metadata": {},
   "outputs": [
    {
     "data": {
      "text/plain": [
       "baths\n",
       "2 Baths       52072\n",
       "3 Baths       35393\n",
       "2             20427\n",
       "2.0           16354\n",
       "4 Baths       14723\n",
       "              ...  \n",
       "0.5 Baths         1\n",
       "4.75 Baths        1\n",
       "5.25 Baths        1\n",
       "41.0              1\n",
       "44.0              1\n",
       "Name: count, Length: 226, dtype: int64"
      ]
     },
     "execution_count": 51,
     "metadata": {},
     "output_type": "execute_result"
    }
   ],
   "source": [
    "# посмортим на признак\n",
    "df['baths'].value_counts()"
   ]
  },
  {
   "cell_type": "markdown",
   "metadata": {},
   "source": [
    "Обращает на себя внимание дробное количество ванных комнат и два объекта с количеством ванных комнат 41 и 44.\n",
    "\n",
    "Посмотрим на них."
   ]
  },
  {
   "cell_type": "code",
   "execution_count": 52,
   "metadata": {},
   "outputs": [
    {
     "data": {
      "text/html": [
       "<div>\n",
       "<style scoped>\n",
       "    .dataframe tbody tr th:only-of-type {\n",
       "        vertical-align: middle;\n",
       "    }\n",
       "\n",
       "    .dataframe tbody tr th {\n",
       "        vertical-align: top;\n",
       "    }\n",
       "\n",
       "    .dataframe thead th {\n",
       "        text-align: right;\n",
       "    }\n",
       "</style>\n",
       "<table border=\"1\" class=\"dataframe\">\n",
       "  <thead>\n",
       "    <tr style=\"text-align: right;\">\n",
       "      <th></th>\n",
       "      <th>status</th>\n",
       "      <th>propertyType</th>\n",
       "      <th>street</th>\n",
       "      <th>baths</th>\n",
       "      <th>homeFacts</th>\n",
       "      <th>fireplace</th>\n",
       "      <th>city</th>\n",
       "      <th>schools</th>\n",
       "      <th>sqft</th>\n",
       "      <th>zipcode</th>\n",
       "      <th>beds</th>\n",
       "      <th>state</th>\n",
       "      <th>stories</th>\n",
       "      <th>MlsId</th>\n",
       "      <th>target</th>\n",
       "      <th>private_pool</th>\n",
       "      <th>property_type</th>\n",
       "      <th>city_2</th>\n",
       "    </tr>\n",
       "  </thead>\n",
       "  <tbody>\n",
       "    <tr>\n",
       "      <th>147176</th>\n",
       "      <td>UNDEFINED</td>\n",
       "      <td>CONDO</td>\n",
       "      <td>4610 Alton Rd # 4610</td>\n",
       "      <td>41.0</td>\n",
       "      <td>{'atAGlanceFacts': [{'factValue': 'No Data', '...</td>\n",
       "      <td>NaN</td>\n",
       "      <td>MIAMI BEACH</td>\n",
       "      <td>[{'rating': ['10/10', '4/10', '5/10'], 'data':...</td>\n",
       "      <td>5,101 sqft</td>\n",
       "      <td>33140</td>\n",
       "      <td>4</td>\n",
       "      <td>FL</td>\n",
       "      <td>NaN</td>\n",
       "      <td>1</td>\n",
       "      <td>2590000.0</td>\n",
       "      <td>0</td>\n",
       "      <td>CONDO</td>\n",
       "      <td>MIAMI BEACH</td>\n",
       "    </tr>\n",
       "    <tr>\n",
       "      <th>360980</th>\n",
       "      <td>FOR SALE</td>\n",
       "      <td>MULTI FAMILY</td>\n",
       "      <td>40 Parker Hill Ave # 44</td>\n",
       "      <td>44.0</td>\n",
       "      <td>{'atAGlanceFacts': [{'factValue': '1910', 'fac...</td>\n",
       "      <td>NaN</td>\n",
       "      <td>BOSTON</td>\n",
       "      <td>[{'rating': ['2/10', '9/10'], 'data': {'Distan...</td>\n",
       "      <td>21,210</td>\n",
       "      <td>02120</td>\n",
       "      <td>78</td>\n",
       "      <td>MA</td>\n",
       "      <td>NaN</td>\n",
       "      <td>1</td>\n",
       "      <td>20000000.0</td>\n",
       "      <td>0</td>\n",
       "      <td>MULTI FAMILY</td>\n",
       "      <td>BOSTON</td>\n",
       "    </tr>\n",
       "  </tbody>\n",
       "</table>\n",
       "</div>"
      ],
      "text/plain": [
       "           status  propertyType                   street baths  \\\n",
       "147176  UNDEFINED         CONDO     4610 Alton Rd # 4610  41.0   \n",
       "360980   FOR SALE  MULTI FAMILY  40 Parker Hill Ave # 44  44.0   \n",
       "\n",
       "                                                homeFacts fireplace  \\\n",
       "147176  {'atAGlanceFacts': [{'factValue': 'No Data', '...       NaN   \n",
       "360980  {'atAGlanceFacts': [{'factValue': '1910', 'fac...       NaN   \n",
       "\n",
       "               city                                            schools  \\\n",
       "147176  MIAMI BEACH  [{'rating': ['10/10', '4/10', '5/10'], 'data':...   \n",
       "360980       BOSTON  [{'rating': ['2/10', '9/10'], 'data': {'Distan...   \n",
       "\n",
       "              sqft zipcode beds state stories  MlsId      target  \\\n",
       "147176  5,101 sqft   33140    4    FL     NaN      1   2590000.0   \n",
       "360980      21,210   02120   78    MA     NaN      1  20000000.0   \n",
       "\n",
       "        private_pool property_type       city_2  \n",
       "147176             0         CONDO  MIAMI BEACH  \n",
       "360980             0  MULTI FAMILY       BOSTON  "
      ]
     },
     "execution_count": 52,
     "metadata": {},
     "output_type": "execute_result"
    }
   ],
   "source": [
    "df[(df['baths'] == '41.0') | (df['baths'] == '44.0')]"
   ]
  },
  {
   "cell_type": "markdown",
   "metadata": {},
   "source": [
    "По объекту с типом MULTI FAMILY большое количество ванных комнат выглядит обоснованным, т.к. присутствует большая площадь объекта и наличие спален в количестве 78 штук оправдывает 44 ванных. А вот по другому объекту нет. Его площадь меньше и спален всего 4. После очистки признака надо будет поработать над очисткой от выбросов и ошибочных значений.\n",
    "\n",
    "Что касается дробного числа ванных комнат, то поиски в интернете показали, что такое обозначение принято в США. В 0,5 ванной может быть указан туалет с раковиной.  \n",
    "[Источник информации](http://begin-english.ru/article/chto-nuzhno-znat-ob-amerikanskom-dome/)"
   ]
  },
  {
   "cell_type": "code",
   "execution_count": 53,
   "metadata": {},
   "outputs": [
    {
     "data": {
      "text/plain": [
       "array(['3.5', '3 Baths', '2 Baths', '8 Baths', nan, '2', '3',\n",
       "       'Bathrooms: 2', '1,750', '4 Baths', '2 ba', 'Bathrooms: 5',\n",
       "       '1,000', '7 Baths', '2.0', '3.0', 'Bathrooms: 1', '4.0',\n",
       "       '2.1 Baths', '2.5 Baths', '1', 'Bathrooms: 3', '4.5', '6 Baths',\n",
       "       'Bathrooms: 4', '3 ba', '5', '2,500', '5.5 Baths', '1.0',\n",
       "       '5 Baths', '1.5', '4', '~', '2.5', '4,000', '3.5 Baths', '2,000',\n",
       "       '3,000', '8.0', '1 ba', '0', '5.0', '1,500', '7.0', '1,250',\n",
       "       '9 Baths', '2,250', '6.0', '12 Baths', '5.5', '3,500', '1.5 Baths',\n",
       "       '2,750', 'Bathrooms: 6', '4.5 Baths', '750', '5.5+', '6',\n",
       "       '10 Baths', '6 ba', 'Bathrooms: 19', '10.0', '4 ba', '12 ba',\n",
       "       '2.5+', '8', '7.5+', 'Bathrooms: 10', '0 / 0', 'Sq. Ft. ', '5 ba',\n",
       "       '4.5+', '18 Baths', '-- baths', 'Bathrooms: 7', '7', '18', '3.5+',\n",
       "       '1.5+', '11 Baths', '5,000', '1.75 Baths', '9', '12.0', '6.5',\n",
       "       'Bathrooms: 8', '10', '19 Baths', 'Bathrooms: 9', '16 Baths',\n",
       "       '13 Baths', 'Bathrooms: 13', '14', '9.0', '8.5+', '7 ba', '12',\n",
       "       '1.1 Baths', '2.5 ba', 'Bathrooms: 12', '17', 'Bathrooms: 241',\n",
       "       '16.0', '10.5+', '8 ba', '6.5+', '6.5 Baths', '14 Baths', '3.5 ba',\n",
       "       '7,500+', '7.5', '11.0', '20 Baths', '11', '40 Baths',\n",
       "       '1-0 / 1-0 / 1', '14.0', '1.75 ba', '2.75 Baths', '24 Baths',\n",
       "       '22.0', '0.00', '2.25 Baths', '3.1 Baths', '3.25 Baths', '—', '13',\n",
       "       '4.5 ba', '22', '9 ba', '32', '7.5 Baths', '18.0', 'Bathrooms: 11',\n",
       "       '17 Baths', '0.0', 'Bathrooms: 27', '26', '9.5', '8.5', '26 Baths',\n",
       "       '2 baths', '15 Baths', '16', '35', '3.75 Baths', '29 Baths',\n",
       "       '22 Baths', 'Bathrooms: 18', '116 / 116 / 116', '40', '21 Baths',\n",
       "       '5.2 Baths', '29', '8.5 Baths', '14.5+', '76 Baths', '13.0',\n",
       "       'Bathrooms: SemiMod', '3-1 / 2-2', '32 Baths', '2.25 ba', '15.0',\n",
       "       '23 Baths', '43 Baths', '21', '1.25 Baths', '34 Baths', '1.5 ba',\n",
       "       '20', '2.2 Baths', '1 / 1 / 1 / 1', '55.0', '3 baths', '25 Baths',\n",
       "       '12.5+', 'Bathrooms: 24', '44 Baths', '0.5 Baths', '4.25 Baths',\n",
       "       '4.75 Baths', '0.75 Baths', '4.1 Baths', '15', 'Bathrooms: 14',\n",
       "       '5.25 Baths', '10 ba', '41.0', 'Bathrooms: 16', '10.5',\n",
       "       'Bathrooms: 21', '9.5+', '36 Baths', '30 Baths', '27',\n",
       "       '10.5 Baths', '12.5', '24.0', '23.0', '24', '28 Baths', '34.0',\n",
       "       '64.0', '11.5+', '13 ba', '39 Baths', '30', '30.0', '17.0',\n",
       "       '42 Baths', '5.5 ba', '16 ba', '11.5 Baths', '27 Baths', '11 ba',\n",
       "       '3.2 Baths', '20.0', '2-1 / 2-1 / 1-1 / 1-1', '23', '60 Baths',\n",
       "       '1 / 1-0 / 1-0 / 1-0', '6.75 Baths', '1-2 Baths', 'Bathrooms: 15',\n",
       "       '68 Baths', '44.0'], dtype=object)"
      ]
     },
     "execution_count": 53,
     "metadata": {},
     "output_type": "execute_result"
    }
   ],
   "source": [
    "df['baths'].unique()"
   ]
  },
  {
   "cell_type": "code",
   "execution_count": 54,
   "metadata": {},
   "outputs": [],
   "source": [
    "# проведем некоторые замены и преобразования текста.\n",
    "def clearing_baths(feature):\n",
    "    # списки синонимов\n",
    "    one_bath = ['1 / 1-0 / 1-0 / 1-0']\n",
    "    two_baths = ['1-2 BATHS']\n",
    "    three_baths = ['1-0 / 1-0 / 1', '3-1 / 2-2']\n",
    "    four_baths = ['1 / 1 / 1 / 1', '2-1 / 2-1 / 1-1 / 1-1']\n",
    "    nan_bath = ['116 / 116 / 116']\n",
    "\n",
    "    if feature != feature:\n",
    "        return feature\n",
    "    else:\n",
    "        # удаляем лишние пробелы, переводим в верхний регистр, меняем запятые на точки\n",
    "        feature_temp = ' '.join(feature.strip().split()).upper().replace(',', '.')\n",
    "        \n",
    "        # замены по списку\n",
    "        if feature_temp in one_bath: return '1'\n",
    "        if feature_temp in two_baths: return '2'\n",
    "        if feature_temp in three_baths: return '3'\n",
    "        if feature_temp in four_baths: return '4'\n",
    "        if feature_temp in nan_bath: return np.nan\n",
    " \n",
    "        # замены по вхождению\n",
    "        # if '' in feature_temp: return ''\n",
    "                \n",
    "        return feature_temp\n",
    "\n",
    "# переведем признак во float обрабатывая ошибки\n",
    "def feature_to_float(feature):\n",
    "    if feature != feature:\n",
    "        return feature\n",
    "    else:\n",
    "        try:\n",
    "            float_num=float(feature)\n",
    "            return float_num\n",
    "        except ValueError:\n",
    "            return np.nan    \n",
    "    \n",
    "# чистим\n",
    "df['baths'] = df['baths'].apply(clearing_baths)\n",
    "\n",
    "# преобразовываем\n",
    "df['baths'] = df['baths'].replace(to_replace=r'[^\\d.]+', value='', regex=True)\n",
    "df['baths'] = df['baths'].apply(feature_to_float)\n"
   ]
  },
  {
   "cell_type": "code",
   "execution_count": 55,
   "metadata": {},
   "outputs": [
    {
     "data": {
      "text/plain": [
       "baths\n",
       "2.0     102741\n",
       "3.0      66422\n",
       "4.0      26240\n",
       "1.0      17521\n",
       "2.5      13747\n",
       "         ...  \n",
       "76.0         1\n",
       "14.5         1\n",
       "5.2          1\n",
       "35.0         1\n",
       "68.0         1\n",
       "Name: count, Length: 80, dtype: int64"
      ]
     },
     "execution_count": 55,
     "metadata": {},
     "output_type": "execute_result"
    }
   ],
   "source": [
    "df['baths'].value_counts()"
   ]
  },
  {
   "cell_type": "markdown",
   "metadata": {},
   "source": [
    "Отлично признак преобразовали, осталось исключить заведомо ложные данные и заполнить пропуски.\n",
    "\n",
    "Но делать это я буду после того, как очищу признаки beds и sqft."
   ]
  },
  {
   "cell_type": "markdown",
   "metadata": {},
   "source": [
    "### Признак beds"
   ]
  },
  {
   "cell_type": "code",
   "execution_count": 56,
   "metadata": {},
   "outputs": [
    {
     "data": {
      "text/plain": [
       "beds\n",
       "3 Beds        53072\n",
       "4 Beds        35219\n",
       "3             31190\n",
       "2 Beds        26189\n",
       "4             19915\n",
       "              ...  \n",
       "5,510 sqft        1\n",
       "3.8 acres         1\n",
       "7,104 sqft        1\n",
       "9,443 sqft        1\n",
       "8,479 sqft        1\n",
       "Name: count, Length: 1147, dtype: int64"
      ]
     },
     "execution_count": 56,
     "metadata": {},
     "output_type": "execute_result"
    }
   ],
   "source": [
    "df['beds'].value_counts()"
   ]
  },
  {
   "cell_type": "markdown",
   "metadata": {},
   "source": [
    "О как! В признаке количество спален, есть площадь объекта. Посмотрим, возможно это дублирование данных в признаках?"
   ]
  },
  {
   "cell_type": "code",
   "execution_count": 57,
   "metadata": {},
   "outputs": [],
   "source": [
    "# переведем в верхний регистр\n",
    "df['beds'] = df['beds'].str.upper()"
   ]
  },
  {
   "cell_type": "code",
   "execution_count": 58,
   "metadata": {},
   "outputs": [
    {
     "name": "stdout",
     "output_type": "stream",
     "text": [
      "Заполненный sqft:\n"
     ]
    },
    {
     "data": {
      "text/html": [
       "<div>\n",
       "<style scoped>\n",
       "    .dataframe tbody tr th:only-of-type {\n",
       "        vertical-align: middle;\n",
       "    }\n",
       "\n",
       "    .dataframe tbody tr th {\n",
       "        vertical-align: top;\n",
       "    }\n",
       "\n",
       "    .dataframe thead th {\n",
       "        text-align: right;\n",
       "    }\n",
       "</style>\n",
       "<table border=\"1\" class=\"dataframe\">\n",
       "  <thead>\n",
       "    <tr style=\"text-align: right;\">\n",
       "      <th></th>\n",
       "      <th>beds</th>\n",
       "      <th>sqft</th>\n",
       "      <th>property_type</th>\n",
       "      <th>propertyType</th>\n",
       "    </tr>\n",
       "  </thead>\n",
       "  <tbody>\n",
       "    <tr>\n",
       "      <th>3434</th>\n",
       "      <td>6,351 SQFT</td>\n",
       "      <td>1,076 sqft</td>\n",
       "      <td>OTHER</td>\n",
       "      <td>SINGLEFAMILYRESIDENCE</td>\n",
       "    </tr>\n",
       "    <tr>\n",
       "      <th>6694</th>\n",
       "      <td>5,662 SQFT</td>\n",
       "      <td>-- sqft</td>\n",
       "      <td>OTHER</td>\n",
       "      <td>SINGLEFAMILYRESIDENCE</td>\n",
       "    </tr>\n",
       "    <tr>\n",
       "      <th>13622</th>\n",
       "      <td>0.71 ACRES</td>\n",
       "      <td>-- sqft</td>\n",
       "      <td>OTHER</td>\n",
       "      <td>SINGLEFAMILYRESIDENCE</td>\n",
       "    </tr>\n",
       "    <tr>\n",
       "      <th>17990</th>\n",
       "      <td>1.8 ACRES</td>\n",
       "      <td>-- sqft</td>\n",
       "      <td>OTHER</td>\n",
       "      <td>SINGLEFAMILYRESIDENCE</td>\n",
       "    </tr>\n",
       "    <tr>\n",
       "      <th>22755</th>\n",
       "      <td>0.32 ACRES</td>\n",
       "      <td>-- sqft</td>\n",
       "      <td>OTHER</td>\n",
       "      <td>SINGLEFAMILYRESIDENCE</td>\n",
       "    </tr>\n",
       "  </tbody>\n",
       "</table>\n",
       "</div>"
      ],
      "text/plain": [
       "             beds        sqft property_type           propertyType\n",
       "3434   6,351 SQFT  1,076 sqft         OTHER  SINGLEFAMILYRESIDENCE\n",
       "6694   5,662 SQFT     -- sqft         OTHER  SINGLEFAMILYRESIDENCE\n",
       "13622  0.71 ACRES     -- sqft         OTHER  SINGLEFAMILYRESIDENCE\n",
       "17990   1.8 ACRES     -- sqft         OTHER  SINGLEFAMILYRESIDENCE\n",
       "22755  0.32 ACRES     -- sqft         OTHER  SINGLEFAMILYRESIDENCE"
      ]
     },
     "metadata": {},
     "output_type": "display_data"
    },
    {
     "name": "stdout",
     "output_type": "stream",
     "text": [
      "Не заполненный sqft:\n"
     ]
    },
    {
     "data": {
      "text/html": [
       "<div>\n",
       "<style scoped>\n",
       "    .dataframe tbody tr th:only-of-type {\n",
       "        vertical-align: middle;\n",
       "    }\n",
       "\n",
       "    .dataframe tbody tr th {\n",
       "        vertical-align: top;\n",
       "    }\n",
       "\n",
       "    .dataframe thead th {\n",
       "        text-align: right;\n",
       "    }\n",
       "</style>\n",
       "<table border=\"1\" class=\"dataframe\">\n",
       "  <thead>\n",
       "    <tr style=\"text-align: right;\">\n",
       "      <th></th>\n",
       "      <th>beds</th>\n",
       "      <th>sqft</th>\n",
       "      <th>property_type</th>\n",
       "      <th>propertyType</th>\n",
       "    </tr>\n",
       "  </thead>\n",
       "  <tbody>\n",
       "    <tr>\n",
       "      <th>279</th>\n",
       "      <td>0.25 ACRES</td>\n",
       "      <td>NaN</td>\n",
       "      <td>UNDEFINED</td>\n",
       "      <td>UNDEFINED</td>\n",
       "    </tr>\n",
       "    <tr>\n",
       "      <th>491</th>\n",
       "      <td>0.44 ACRES</td>\n",
       "      <td>NaN</td>\n",
       "      <td>UNDEFINED</td>\n",
       "      <td>UNDEFINED</td>\n",
       "    </tr>\n",
       "    <tr>\n",
       "      <th>548</th>\n",
       "      <td>1.43 ACRES</td>\n",
       "      <td>NaN</td>\n",
       "      <td>UNDEFINED</td>\n",
       "      <td>UNDEFINED</td>\n",
       "    </tr>\n",
       "    <tr>\n",
       "      <th>734</th>\n",
       "      <td>0.32 ACRES</td>\n",
       "      <td>NaN</td>\n",
       "      <td>UNDEFINED</td>\n",
       "      <td>UNDEFINED</td>\n",
       "    </tr>\n",
       "    <tr>\n",
       "      <th>971</th>\n",
       "      <td>8,637 SQFT</td>\n",
       "      <td>NaN</td>\n",
       "      <td>UNDEFINED</td>\n",
       "      <td>UNDEFINED</td>\n",
       "    </tr>\n",
       "  </tbody>\n",
       "</table>\n",
       "</div>"
      ],
      "text/plain": [
       "           beds sqft property_type propertyType\n",
       "279  0.25 ACRES  NaN     UNDEFINED    UNDEFINED\n",
       "491  0.44 ACRES  NaN     UNDEFINED    UNDEFINED\n",
       "548  1.43 ACRES  NaN     UNDEFINED    UNDEFINED\n",
       "734  0.32 ACRES  NaN     UNDEFINED    UNDEFINED\n",
       "971  8,637 SQFT  NaN     UNDEFINED    UNDEFINED"
      ]
     },
     "metadata": {},
     "output_type": "display_data"
    }
   ],
   "source": [
    "mask_1 = df['beds'].str.contains('SQFT')\n",
    "mask_2 = df['beds'].str.contains('ACRES')\n",
    "mask_3 = df['sqft'].isnull()\n",
    "print('Заполненный sqft:')\n",
    "display(df[(mask_1 | mask_2) & ~mask_3][['beds', 'sqft', 'property_type', 'propertyType']].head())\n",
    "print('Не заполненный sqft:')\n",
    "display(df[(mask_1 | mask_2) & mask_3][['beds', 'sqft', 'property_type', 'propertyType']].head())"
   ]
  },
  {
   "cell_type": "markdown",
   "metadata": {},
   "source": [
    "Нет, это не дублирование данных. Даже там где заполнен признак sqft, чаще всего он заполнен прочерком \"-- sqft\". Перенесем данные, чтобы не потерять значения."
   ]
  },
  {
   "cell_type": "code",
   "execution_count": 59,
   "metadata": {},
   "outputs": [],
   "source": [
    "index_list = df[(mask_1 | mask_2)].index\n",
    "df.loc[index_list, 'sqft'] = df.loc[index_list, 'beds']\n",
    "df.loc[index_list, 'beds'] = np.nan\n"
   ]
  },
  {
   "cell_type": "code",
   "execution_count": 60,
   "metadata": {},
   "outputs": [
    {
     "data": {
      "text/plain": [
       "array(['4', '3 BEDS', '5 BEDS', nan, '2 BEDS', '3', '4 BEDS', '3 BD',\n",
       "       'BATHS', '4 BD', '5 BD', '8 BEDS', '2', '2 BD', '2.0', '5', '1',\n",
       "       '3.0', '6 BEDS', 'BATH', '12 BEDS', '6', '14', '-- BD', '7', '5.0',\n",
       "       '4.0', ' ', '7 BEDS', '1 BD', '9 BEDS', '0', '6 BD', '7.0',\n",
       "       '16 BEDS', '1.0', '16 BD', '8', '6.0', '13 BD', '9', '10',\n",
       "       '18 BEDS', '10 BEDS', '20 BEDS', '0.0', '10 BD', '32', '13 BEDS',\n",
       "       '7 BD', '11', '26 BEDS', '64 BEDS', '9 BD', '12 BD', '8 BD', '144',\n",
       "       '22 BEDS', '12', '11 BEDS', '24 BD', '14 BEDS', '15', '10.0',\n",
       "       '8.0', '1 BATH, 2 BEDROOMS, LIVING ROOM, RANGE/OVEN, REFRIGERATOR',\n",
       "       '28 BEDS', '32 BEDS', '16', '15 BEDS', '1 ACRE', '36 BEDS',\n",
       "       '11 BD', '19 BD', '48', '28', '25 BEDS', '18', '24 BEDS',\n",
       "       '17 BEDS', '27', '20', '20 BD', '14 BD', '27 BD', '15 BD', '13',\n",
       "       '40', '47 BEDS', '26 BD', '23 BEDS', '44 BEDS', '12.0', '30.0',\n",
       "       '22', '33', '9.0', '14.0', '13.0', '31 BEDS', '23 BD', '16.0',\n",
       "       '34 BEDS', '30', '99', '19 BEDS', '78 BEDS', '48 BEDS',\n",
       "       '1 BATH, 2 BEDROOMS',\n",
       "       \"BASED ON REDFIN'S ST JOHNS DATA, WE ESTIMATE THE HOME'S VALUE IS $360,731, WHICH IS 2.2% LESS THAN ITS CURRENT LIST PRICE.\",\n",
       "       '27 BEDS', '40 BEDS', '26', '33 BEDS', '17 BD', '24', '11.0',\n",
       "       '53 BEDS', '27.0',\n",
       "       '1 BATH, 2 BEDROOMS, EAT-IN KITCHEN, LIVING ROOM, RANGE/OVEN, REFRIGERATOR',\n",
       "       '51 BEDS', '30 BEDS', '21',\n",
       "       '3 OR MORE BEDROOMS, DINING ROOM, LIVING ROOM, RANGE/OVEN, REFRIGERATOR',\n",
       "       '34', '75', '19', '17', '29', '15.0', '18 BD',\n",
       "       '1 BATH, 3 OR MORE BEDROOMS, CABLE TV AVAILABLE, DINING ROOM, EAT-IN KITCHEN, LIVING ROOM, RANGE/OVEN, REFRIGERATOR',\n",
       "       '39 BEDS', '42 BEDS', '21 BEDS',\n",
       "       \"BASED ON REDFIN'S RALEIGH DATA, WE ESTIMATE THE HOME'S VALUE IS $708,248, WHICH IS 1.2% MORE THAN ITS CURRENT LIST PRICE.\",\n",
       "       '23', '2 BATHS, 3 OR MORE BEDROOMS', '52 BEDS',\n",
       "       '3 OR MORE BEDROOMS', '46 BD', '44',\n",
       "       '1 BATH, 2 BEDROOMS, CABLE TV AVAILABLE, DINING ROOM, EAT-IN KITCHEN, LIVING ROOM',\n",
       "       '1-2 BEDS', '76 BEDS', '78', '35', '88 BEDS',\n",
       "       '# BEDROOMS 1ST FLOOR'], dtype=object)"
      ]
     },
     "execution_count": 60,
     "metadata": {},
     "output_type": "execute_result"
    }
   ],
   "source": [
    "df['beds'].unique()"
   ]
  },
  {
   "cell_type": "code",
   "execution_count": 61,
   "metadata": {},
   "outputs": [],
   "source": [
    "# почистим\n",
    "def clearing_beds(feature):\n",
    "    if not feature != feature:\n",
    "        # замены по вхождению\n",
    "        if '3 OR MORE BEDROOMS' in feature: return '3'\n",
    "        if '2 BEDROOMS' in feature: return '2'\n",
    "        if \"BASED ON REDFIN'S\" in feature: return np.nan\n",
    "                \n",
    "    return feature\n",
    "\n",
    "# переведем признак в int обрабатывая ошибки\n",
    "def feature_to_int(feature):\n",
    "    if feature != feature:\n",
    "        return feature\n",
    "    else:\n",
    "        try:\n",
    "            int_num=int(feature)\n",
    "            return int_num\n",
    "        except ValueError:\n",
    "            return np.nan    \n",
    "\n",
    "# чистим\n",
    "df['beds'] = df['beds'].apply(clearing_beds)\n",
    "\n",
    "# преобразовываем\n",
    "df['beds'] = df['beds'].replace(to_replace=r'[^\\d.]+', value='', regex=True)\n",
    "df['beds'] = df['beds'].apply(feature_to_int)"
   ]
  },
  {
   "cell_type": "markdown",
   "metadata": {},
   "source": [
    "Посмотрим сколько пропусков содержит признак и примем решение об их заполнении."
   ]
  },
  {
   "cell_type": "code",
   "execution_count": 62,
   "metadata": {},
   "outputs": [
    {
     "data": {
      "text/plain": [
       "129221"
      ]
     },
     "execution_count": 62,
     "metadata": {},
     "output_type": "execute_result"
    }
   ],
   "source": [
    "df['beds'].isnull().sum()"
   ]
  },
  {
   "cell_type": "markdown",
   "metadata": {},
   "source": [
    "Пропусков много. Посмотрим на тип объекта."
   ]
  },
  {
   "cell_type": "code",
   "execution_count": 63,
   "metadata": {},
   "outputs": [
    {
     "data": {
      "text/plain": [
       "propertyType\n",
       "UNDEFINED                                                      34053\n",
       "LAND                                                           28957\n",
       "SINGLE FAMILY                                                  19148\n",
       "CONDO                                                           6960\n",
       "TRADITIONAL                                                     5911\n",
       "                                                               ...  \n",
       "BUNGALOW, TRANSITIONAL                                             1\n",
       "SINGLE DETACHED, VACATION HOME                                     1\n",
       "BUNGALOW, CONTEMPORARY, CRAFTSMAN, CUSTOM                          1\n",
       "2 UNIT CONDO                                                       1\n",
       "BILEVEL, CONVERTED DWELLING, LOFT WITH BEDROOMS, CONDO/UNIT        1\n",
       "Name: count, Length: 812, dtype: int64"
      ]
     },
     "execution_count": 63,
     "metadata": {},
     "output_type": "execute_result"
    }
   ],
   "source": [
    "df[df['beds'].isnull()]['propertyType'].value_counts()"
   ]
  },
  {
   "cell_type": "markdown",
   "metadata": {},
   "source": [
    "Есть предположение, что риелторы не всегда заполняют количество спален. Заполним медианой."
   ]
  },
  {
   "cell_type": "code",
   "execution_count": 64,
   "metadata": {},
   "outputs": [],
   "source": [
    "median_beds = df['beds'].median()\n",
    "df['beds'] = df['beds'].fillna(median_beds)"
   ]
  },
  {
   "cell_type": "markdown",
   "metadata": {},
   "source": [
    "Посмотрим, что получилось."
   ]
  },
  {
   "cell_type": "code",
   "execution_count": 65,
   "metadata": {},
   "outputs": [
    {
     "data": {
      "text/plain": [
       "count    374599.000000\n",
       "mean          3.240027\n",
       "std           1.388779\n",
       "min           0.000000\n",
       "25%           3.000000\n",
       "50%           3.000000\n",
       "75%           4.000000\n",
       "max         144.000000\n",
       "Name: beds, dtype: float64"
      ]
     },
     "execution_count": 65,
     "metadata": {},
     "output_type": "execute_result"
    }
   ],
   "source": [
    "df['beds'].describe()"
   ]
  },
  {
   "cell_type": "markdown",
   "metadata": {},
   "source": [
    "Странное значение в количестве 144 спальни."
   ]
  },
  {
   "cell_type": "code",
   "execution_count": 66,
   "metadata": {},
   "outputs": [
    {
     "data": {
      "text/html": [
       "<div>\n",
       "<style scoped>\n",
       "    .dataframe tbody tr th:only-of-type {\n",
       "        vertical-align: middle;\n",
       "    }\n",
       "\n",
       "    .dataframe tbody tr th {\n",
       "        vertical-align: top;\n",
       "    }\n",
       "\n",
       "    .dataframe thead th {\n",
       "        text-align: right;\n",
       "    }\n",
       "</style>\n",
       "<table border=\"1\" class=\"dataframe\">\n",
       "  <thead>\n",
       "    <tr style=\"text-align: right;\">\n",
       "      <th></th>\n",
       "      <th>status</th>\n",
       "      <th>propertyType</th>\n",
       "      <th>street</th>\n",
       "      <th>baths</th>\n",
       "      <th>homeFacts</th>\n",
       "      <th>fireplace</th>\n",
       "      <th>city</th>\n",
       "      <th>schools</th>\n",
       "      <th>sqft</th>\n",
       "      <th>zipcode</th>\n",
       "      <th>beds</th>\n",
       "      <th>state</th>\n",
       "      <th>stories</th>\n",
       "      <th>MlsId</th>\n",
       "      <th>target</th>\n",
       "      <th>private_pool</th>\n",
       "      <th>property_type</th>\n",
       "      <th>city_2</th>\n",
       "    </tr>\n",
       "  </thead>\n",
       "  <tbody>\n",
       "    <tr>\n",
       "      <th>7324</th>\n",
       "      <td>FOR SALE</td>\n",
       "      <td>MULTI FAMILY</td>\n",
       "      <td>2202 Bristol Rd</td>\n",
       "      <td>2.0</td>\n",
       "      <td>{'atAGlanceFacts': [{'factValue': '', 'factLab...</td>\n",
       "      <td>NaN</td>\n",
       "      <td>LAREDO</td>\n",
       "      <td>[{'rating': ['7', '8', '4', '8', '9', '6', 'NR...</td>\n",
       "      <td>62376</td>\n",
       "      <td>78045</td>\n",
       "      <td>144.0</td>\n",
       "      <td>TX</td>\n",
       "      <td>NaN</td>\n",
       "      <td>1</td>\n",
       "      <td>1590000.0</td>\n",
       "      <td>0</td>\n",
       "      <td>MULTI FAMILY</td>\n",
       "      <td>LAREDO</td>\n",
       "    </tr>\n",
       "  </tbody>\n",
       "</table>\n",
       "</div>"
      ],
      "text/plain": [
       "        status  propertyType           street  baths  \\\n",
       "7324  FOR SALE  MULTI FAMILY  2202 Bristol Rd    2.0   \n",
       "\n",
       "                                              homeFacts fireplace    city  \\\n",
       "7324  {'atAGlanceFacts': [{'factValue': '', 'factLab...       NaN  LAREDO   \n",
       "\n",
       "                                                schools   sqft zipcode   beds  \\\n",
       "7324  [{'rating': ['7', '8', '4', '8', '9', '6', 'NR...  62376   78045  144.0   \n",
       "\n",
       "     state stories  MlsId     target  private_pool property_type  city_2  \n",
       "7324    TX     NaN      1  1590000.0             0  MULTI FAMILY  LAREDO  "
      ]
     },
     "execution_count": 66,
     "metadata": {},
     "output_type": "execute_result"
    }
   ],
   "source": [
    "df[df['beds'] == 144]"
   ]
  },
  {
   "cell_type": "markdown",
   "metadata": {},
   "source": [
    "Возможно, учитывая прощадь объекта.\n",
    "\n",
    "Посмотрим, на объекты выше 75 процентиля."
   ]
  },
  {
   "cell_type": "code",
   "execution_count": 67,
   "metadata": {},
   "outputs": [
    {
     "data": {
      "text/plain": [
       "beds\n",
       "5.0      20236\n",
       "6.0       6225\n",
       "7.0       1751\n",
       "8.0       1164\n",
       "9.0        474\n",
       "10.0       261\n",
       "12.0       185\n",
       "11.0       130\n",
       "16.0        66\n",
       "13.0        47\n",
       "64.0        44\n",
       "14.0        42\n",
       "15.0        31\n",
       "18.0        31\n",
       "24.0        30\n",
       "20.0        19\n",
       "17.0        12\n",
       "32.0         9\n",
       "28.0         9\n",
       "26.0         8\n",
       "22.0         8\n",
       "19.0         6\n",
       "34.0         6\n",
       "21.0         5\n",
       "23.0         5\n",
       "27.0         4\n",
       "40.0         4\n",
       "30.0         3\n",
       "44.0         3\n",
       "25.0         3\n",
       "36.0         3\n",
       "47.0         2\n",
       "48.0         2\n",
       "78.0         2\n",
       "33.0         2\n",
       "42.0         2\n",
       "29.0         2\n",
       "39.0         1\n",
       "35.0         1\n",
       "76.0         1\n",
       "46.0         1\n",
       "52.0         1\n",
       "144.0        1\n",
       "75.0         1\n",
       "51.0         1\n",
       "53.0         1\n",
       "99.0         1\n",
       "31.0         1\n",
       "88.0         1\n",
       "Name: count, dtype: int64"
      ]
     },
     "execution_count": 67,
     "metadata": {},
     "output_type": "execute_result"
    }
   ],
   "source": [
    "df[df['beds'] > 4]['beds'].value_counts()"
   ]
  },
  {
   "cell_type": "markdown",
   "metadata": {},
   "source": [
    "Видно, что чем больше спален тем меньшее количество объектов недвижимости. Попробуем соотнести с признаком sqft после его очистки."
   ]
  },
  {
   "cell_type": "markdown",
   "metadata": {},
   "source": [
    "### Признак sqft\n",
    "\n",
    "Помним, что у нас есть площадь в разных единицах футы и акры."
   ]
  },
  {
   "cell_type": "code",
   "execution_count": 68,
   "metadata": {},
   "outputs": [
    {
     "data": {
      "text/plain": [
       "sqft\n",
       "0              11824\n",
       "1,200 sqft       829\n",
       "1,000 sqft       648\n",
       "1,100 sqft       570\n",
       "1,800 sqft       562\n",
       "               ...  \n",
       "7,162 sqft         1\n",
       "8,210 sqft         1\n",
       "12,002 sqft        1\n",
       "5,732              1\n",
       "8,479 SQFT         1\n",
       "Name: count, Length: 26363, dtype: int64"
      ]
     },
     "execution_count": 68,
     "metadata": {},
     "output_type": "execute_result"
    }
   ],
   "source": [
    "df['sqft'].value_counts()"
   ]
  },
  {
   "cell_type": "code",
   "execution_count": 69,
   "metadata": {},
   "outputs": [],
   "source": [
    "# почистим\n",
    "def clearing_sqft(feature):\n",
    "    non_decimal = re.compile(r'[^\\d.]+')\n",
    "    \n",
    "    if not feature != feature:\n",
    "        # переведем значение в верхний регистр\n",
    "        feature = feature.upper()\n",
    "        if 'ACR' in feature:\n",
    "            # 1 акр равно 43 559.995 футов квадратных\n",
    "            ratio = 43559.995\n",
    "        else:\n",
    "            ratio = 1\n",
    "        try:\n",
    "            feature = float(non_decimal.sub('', feature)) * ratio\n",
    "            return feature\n",
    "        except ValueError:\n",
    "            return np.nan         \n",
    "        \n",
    "    return feature\n",
    "\n",
    "df['sqft'] = df['sqft'].apply(clearing_sqft)\n",
    "\n",
    "# пропуски заполним медианой\n",
    "median_sqft = df['sqft'].median()\n",
    "df['sqft'] = df['sqft'].fillna(median_sqft)\n"
   ]
  },
  {
   "cell_type": "markdown",
   "metadata": {},
   "source": [
    "Вернемся к спальням. Соотнесем количество спален к прощади объекта."
   ]
  },
  {
   "cell_type": "code",
   "execution_count": 70,
   "metadata": {},
   "outputs": [
    {
     "data": {
      "text/plain": [
       "beds\n",
       "144.0     433.166667\n",
       "99.0      308.080808\n",
       "88.0      327.545455\n",
       "78.0      271.923077\n",
       "76.0      492.026316\n",
       "75.0      526.853333\n",
       "64.0       28.234375\n",
       "53.0      557.283019\n",
       "52.0      559.538462\n",
       "51.0      936.470588\n",
       "48.0      347.395833\n",
       "47.0      333.776596\n",
       "46.0       81.739130\n",
       "44.0      383.810606\n",
       "42.0      269.166667\n",
       "40.0      389.812500\n",
       "39.0      410.256410\n",
       "36.0      345.018519\n",
       "35.0      456.228571\n",
       "34.0      282.759804\n",
       "33.0      478.333333\n",
       "32.0      460.440972\n",
       "31.0      477.451613\n",
       "30.0      333.866667\n",
       "29.0      421.293103\n",
       "28.0      489.896825\n",
       "27.0      548.796296\n",
       "26.0      416.663462\n",
       "25.0      645.306667\n",
       "24.0      405.488889\n",
       "23.0      259.721739\n",
       "22.0      494.823864\n",
       "21.0      663.790476\n",
       "20.0      621.973684\n",
       "19.0      592.359649\n",
       "18.0      419.589606\n",
       "17.0      675.303922\n",
       "16.0      437.500000\n",
       "15.0      433.954839\n",
       "14.0      490.595238\n",
       "13.0      533.839607\n",
       "12.0      825.869369\n",
       "11.0      513.860839\n",
       "10.0      491.760153\n",
       "9.0       556.936240\n",
       "8.0       597.957259\n",
       "7.0       779.963776\n",
       "6.0       750.867470\n",
       "5.0       766.514291\n",
       "4.0       675.189204\n",
       "3.0      1935.155528\n",
       "2.0      9701.283824\n",
       "1.0      1285.351062\n",
       "0.0              inf\n",
       "dtype: float64"
      ]
     },
     "execution_count": 70,
     "metadata": {},
     "output_type": "execute_result"
    }
   ],
   "source": [
    "df_group = df.groupby(by=['beds']).agg({'beds':'count','sqft':'sum'})\n",
    "tmp = (df_group['sqft'] / (df_group.index * df_group['beds'])).sort_index(ascending=False)\n",
    "tmp"
   ]
  },
  {
   "cell_type": "markdown",
   "metadata": {},
   "source": [
    "Видим две позиции выбивающихся из общей картины.\n",
    "Посмотрим, есть ли еще?"
   ]
  },
  {
   "cell_type": "code",
   "execution_count": 71,
   "metadata": {},
   "outputs": [
    {
     "data": {
      "text/plain": [
       "beds\n",
       "64.0    28.234375\n",
       "46.0    81.739130\n",
       "dtype: float64"
      ]
     },
     "execution_count": 71,
     "metadata": {},
     "output_type": "execute_result"
    }
   ],
   "source": [
    "tmp[tmp < 100]"
   ]
  },
  {
   "cell_type": "markdown",
   "metadata": {},
   "source": [
    "Посмотрим, что это за объекты."
   ]
  },
  {
   "cell_type": "code",
   "execution_count": 72,
   "metadata": {},
   "outputs": [
    {
     "data": {
      "text/html": [
       "<div>\n",
       "<style scoped>\n",
       "    .dataframe tbody tr th:only-of-type {\n",
       "        vertical-align: middle;\n",
       "    }\n",
       "\n",
       "    .dataframe tbody tr th {\n",
       "        vertical-align: top;\n",
       "    }\n",
       "\n",
       "    .dataframe thead th {\n",
       "        text-align: right;\n",
       "    }\n",
       "</style>\n",
       "<table border=\"1\" class=\"dataframe\">\n",
       "  <thead>\n",
       "    <tr style=\"text-align: right;\">\n",
       "      <th></th>\n",
       "      <th>status</th>\n",
       "      <th>propertyType</th>\n",
       "      <th>street</th>\n",
       "      <th>baths</th>\n",
       "      <th>homeFacts</th>\n",
       "      <th>fireplace</th>\n",
       "      <th>city</th>\n",
       "      <th>schools</th>\n",
       "      <th>sqft</th>\n",
       "      <th>zipcode</th>\n",
       "      <th>beds</th>\n",
       "      <th>state</th>\n",
       "      <th>stories</th>\n",
       "      <th>MlsId</th>\n",
       "      <th>target</th>\n",
       "      <th>private_pool</th>\n",
       "      <th>property_type</th>\n",
       "      <th>city_2</th>\n",
       "    </tr>\n",
       "  </thead>\n",
       "  <tbody>\n",
       "    <tr>\n",
       "      <th>6317</th>\n",
       "      <td>FOR SALE</td>\n",
       "      <td>LAND</td>\n",
       "      <td>5906 Elk Hound Trl</td>\n",
       "      <td>NaN</td>\n",
       "      <td>{'atAGlanceFacts': [{'factValue': '', 'factLab...</td>\n",
       "      <td>NaN</td>\n",
       "      <td>GREENSBORO</td>\n",
       "      <td>[{'rating': ['5/10', '6/10', '5/10'], 'data': ...</td>\n",
       "      <td>1807.0</td>\n",
       "      <td>27409</td>\n",
       "      <td>64.0</td>\n",
       "      <td>NC</td>\n",
       "      <td>NaN</td>\n",
       "      <td>1</td>\n",
       "      <td>250000.0</td>\n",
       "      <td>0</td>\n",
       "      <td>LAND</td>\n",
       "      <td>GREENSBORO</td>\n",
       "    </tr>\n",
       "    <tr>\n",
       "      <th>28785</th>\n",
       "      <td>FOR SALE</td>\n",
       "      <td>LAND</td>\n",
       "      <td>4218 Farlow Dr</td>\n",
       "      <td>NaN</td>\n",
       "      <td>{'atAGlanceFacts': [{'factValue': '', 'factLab...</td>\n",
       "      <td>NaN</td>\n",
       "      <td>GREENSBORO</td>\n",
       "      <td>[{'rating': ['3/10', '7/10', '6/10'], 'data': ...</td>\n",
       "      <td>1807.0</td>\n",
       "      <td>27406</td>\n",
       "      <td>64.0</td>\n",
       "      <td>NC</td>\n",
       "      <td>NaN</td>\n",
       "      <td>1</td>\n",
       "      <td>39900.0</td>\n",
       "      <td>0</td>\n",
       "      <td>LAND</td>\n",
       "      <td>GREENSBORO</td>\n",
       "    </tr>\n",
       "    <tr>\n",
       "      <th>34168</th>\n",
       "      <td>FOR SALE</td>\n",
       "      <td>LAND</td>\n",
       "      <td>1505 Hardie St</td>\n",
       "      <td>NaN</td>\n",
       "      <td>{'atAGlanceFacts': [{'factValue': '', 'factLab...</td>\n",
       "      <td>NaN</td>\n",
       "      <td>GREENSBORO</td>\n",
       "      <td>[{'rating': ['4/10', '5/10', '4/10'], 'data': ...</td>\n",
       "      <td>1807.0</td>\n",
       "      <td>27403</td>\n",
       "      <td>64.0</td>\n",
       "      <td>NC</td>\n",
       "      <td>NaN</td>\n",
       "      <td>1</td>\n",
       "      <td>23500.0</td>\n",
       "      <td>0</td>\n",
       "      <td>LAND</td>\n",
       "      <td>GREENSBORO</td>\n",
       "    </tr>\n",
       "    <tr>\n",
       "      <th>34379</th>\n",
       "      <td>FOR SALE</td>\n",
       "      <td>LAND</td>\n",
       "      <td>1604 Sharpe Rd</td>\n",
       "      <td>NaN</td>\n",
       "      <td>{'atAGlanceFacts': [{'factValue': '', 'factLab...</td>\n",
       "      <td>NaN</td>\n",
       "      <td>GREENSBORO</td>\n",
       "      <td>[{'rating': ['3/10', '7/10', '6/10'], 'data': ...</td>\n",
       "      <td>1807.0</td>\n",
       "      <td>27406</td>\n",
       "      <td>64.0</td>\n",
       "      <td>NC</td>\n",
       "      <td>NaN</td>\n",
       "      <td>1</td>\n",
       "      <td>25000.0</td>\n",
       "      <td>0</td>\n",
       "      <td>LAND</td>\n",
       "      <td>GREENSBORO</td>\n",
       "    </tr>\n",
       "    <tr>\n",
       "      <th>57736</th>\n",
       "      <td>FOR SALE</td>\n",
       "      <td>LAND</td>\n",
       "      <td>900 Pine Circle Dr</td>\n",
       "      <td>NaN</td>\n",
       "      <td>{'atAGlanceFacts': [{'factValue': '', 'factLab...</td>\n",
       "      <td>NaN</td>\n",
       "      <td>HIGH PT</td>\n",
       "      <td>[{'rating': ['1/10', '3/10', '3/10'], 'data': ...</td>\n",
       "      <td>1807.0</td>\n",
       "      <td>27265</td>\n",
       "      <td>64.0</td>\n",
       "      <td>NC</td>\n",
       "      <td>NaN</td>\n",
       "      <td>1</td>\n",
       "      <td>62600.0</td>\n",
       "      <td>0</td>\n",
       "      <td>LAND</td>\n",
       "      <td>HIGH POINT</td>\n",
       "    </tr>\n",
       "  </tbody>\n",
       "</table>\n",
       "</div>"
      ],
      "text/plain": [
       "         status propertyType              street  baths  \\\n",
       "6317   FOR SALE         LAND  5906 Elk Hound Trl    NaN   \n",
       "28785  FOR SALE         LAND      4218 Farlow Dr    NaN   \n",
       "34168  FOR SALE         LAND      1505 Hardie St    NaN   \n",
       "34379  FOR SALE         LAND      1604 Sharpe Rd    NaN   \n",
       "57736  FOR SALE         LAND  900 Pine Circle Dr    NaN   \n",
       "\n",
       "                                               homeFacts fireplace  \\\n",
       "6317   {'atAGlanceFacts': [{'factValue': '', 'factLab...       NaN   \n",
       "28785  {'atAGlanceFacts': [{'factValue': '', 'factLab...       NaN   \n",
       "34168  {'atAGlanceFacts': [{'factValue': '', 'factLab...       NaN   \n",
       "34379  {'atAGlanceFacts': [{'factValue': '', 'factLab...       NaN   \n",
       "57736  {'atAGlanceFacts': [{'factValue': '', 'factLab...       NaN   \n",
       "\n",
       "             city                                            schools    sqft  \\\n",
       "6317   GREENSBORO  [{'rating': ['5/10', '6/10', '5/10'], 'data': ...  1807.0   \n",
       "28785  GREENSBORO  [{'rating': ['3/10', '7/10', '6/10'], 'data': ...  1807.0   \n",
       "34168  GREENSBORO  [{'rating': ['4/10', '5/10', '4/10'], 'data': ...  1807.0   \n",
       "34379  GREENSBORO  [{'rating': ['3/10', '7/10', '6/10'], 'data': ...  1807.0   \n",
       "57736     HIGH PT  [{'rating': ['1/10', '3/10', '3/10'], 'data': ...  1807.0   \n",
       "\n",
       "      zipcode  beds state stories  MlsId    target  private_pool  \\\n",
       "6317    27409  64.0    NC     NaN      1  250000.0             0   \n",
       "28785   27406  64.0    NC     NaN      1   39900.0             0   \n",
       "34168   27403  64.0    NC     NaN      1   23500.0             0   \n",
       "34379   27406  64.0    NC     NaN      1   25000.0             0   \n",
       "57736   27265  64.0    NC     NaN      1   62600.0             0   \n",
       "\n",
       "      property_type      city_2  \n",
       "6317           LAND  GREENSBORO  \n",
       "28785          LAND  GREENSBORO  \n",
       "34168          LAND  GREENSBORO  \n",
       "34379          LAND  GREENSBORO  \n",
       "57736          LAND  HIGH POINT  "
      ]
     },
     "execution_count": 72,
     "metadata": {},
     "output_type": "execute_result"
    }
   ],
   "source": [
    "df[(df['beds'] == 64) | (df['beds'] == 46)].head()"
   ]
  },
  {
   "cell_type": "markdown",
   "metadata": {},
   "source": [
    "Что за типы объектов?"
   ]
  },
  {
   "cell_type": "code",
   "execution_count": 73,
   "metadata": {},
   "outputs": [
    {
     "data": {
      "text/plain": [
       "property_type\n",
       "LAND            44\n",
       "MULTI FAMILY     1\n",
       "Name: count, dtype: int64"
      ]
     },
     "execution_count": 73,
     "metadata": {},
     "output_type": "execute_result"
    }
   ],
   "source": [
    "df[(df['beds'] == 64) | (df['beds'] == 46)]['property_type'].value_counts()"
   ]
  },
  {
   "cell_type": "markdown",
   "metadata": {},
   "source": [
    "Всего 45 объектов один из которых MULTI FAMILY, а остальные LAND. Наличие спален в которых в принципе сомнительно...  \n",
    "Пока оставим так как есть.\n",
    "\n",
    "Вернемся к ванным комнатам. Соотнесем количество ванных комнат с количеством спален + бассейн. Для аномальных значений исправим этот показатель.  \n",
    "Сначала посмотрим на статистику."
   ]
  },
  {
   "cell_type": "code",
   "execution_count": 74,
   "metadata": {},
   "outputs": [
    {
     "data": {
      "text/plain": [
       "count    267813.000000\n",
       "mean          3.383163\n",
       "std          22.272078\n",
       "min           0.000000\n",
       "25%           2.000000\n",
       "50%           2.500000\n",
       "75%           3.000000\n",
       "max         750.000000\n",
       "Name: baths, dtype: float64"
      ]
     },
     "execution_count": 74,
     "metadata": {},
     "output_type": "execute_result"
    }
   ],
   "source": [
    "df['baths'].describe()"
   ]
  },
  {
   "cell_type": "markdown",
   "metadata": {},
   "source": [
    "750 ванных комнат!? Это слишком. При этом 75 персентиль не вызывает подозрений."
   ]
  },
  {
   "cell_type": "code",
   "execution_count": 75,
   "metadata": {},
   "outputs": [
    {
     "data": {
      "text/html": [
       "<div>\n",
       "<style scoped>\n",
       "    .dataframe tbody tr th:only-of-type {\n",
       "        vertical-align: middle;\n",
       "    }\n",
       "\n",
       "    .dataframe tbody tr th {\n",
       "        vertical-align: top;\n",
       "    }\n",
       "\n",
       "    .dataframe thead th {\n",
       "        text-align: right;\n",
       "    }\n",
       "</style>\n",
       "<table border=\"1\" class=\"dataframe\">\n",
       "  <thead>\n",
       "    <tr style=\"text-align: right;\">\n",
       "      <th></th>\n",
       "      <th>beds</th>\n",
       "      <th>private_pool</th>\n",
       "      <th>baths</th>\n",
       "    </tr>\n",
       "  </thead>\n",
       "  <tbody>\n",
       "    <tr>\n",
       "      <th>3</th>\n",
       "      <td>5.0</td>\n",
       "      <td>0</td>\n",
       "      <td>8.0</td>\n",
       "    </tr>\n",
       "    <tr>\n",
       "      <th>345</th>\n",
       "      <td>5.0</td>\n",
       "      <td>1</td>\n",
       "      <td>9.0</td>\n",
       "    </tr>\n",
       "    <tr>\n",
       "      <th>1109</th>\n",
       "      <td>3.0</td>\n",
       "      <td>0</td>\n",
       "      <td>750.0</td>\n",
       "    </tr>\n",
       "    <tr>\n",
       "      <th>1116</th>\n",
       "      <td>3.0</td>\n",
       "      <td>0</td>\n",
       "      <td>5.5</td>\n",
       "    </tr>\n",
       "    <tr>\n",
       "      <th>1349</th>\n",
       "      <td>16.0</td>\n",
       "      <td>0</td>\n",
       "      <td>19.0</td>\n",
       "    </tr>\n",
       "    <tr>\n",
       "      <th>...</th>\n",
       "      <td>...</td>\n",
       "      <td>...</td>\n",
       "      <td>...</td>\n",
       "    </tr>\n",
       "    <tr>\n",
       "      <th>376749</th>\n",
       "      <td>5.0</td>\n",
       "      <td>0</td>\n",
       "      <td>8.0</td>\n",
       "    </tr>\n",
       "    <tr>\n",
       "      <th>376772</th>\n",
       "      <td>3.0</td>\n",
       "      <td>0</td>\n",
       "      <td>750.0</td>\n",
       "    </tr>\n",
       "    <tr>\n",
       "      <th>376896</th>\n",
       "      <td>6.0</td>\n",
       "      <td>0</td>\n",
       "      <td>9.0</td>\n",
       "    </tr>\n",
       "    <tr>\n",
       "      <th>376901</th>\n",
       "      <td>5.0</td>\n",
       "      <td>0</td>\n",
       "      <td>7.5</td>\n",
       "    </tr>\n",
       "    <tr>\n",
       "      <th>377045</th>\n",
       "      <td>3.0</td>\n",
       "      <td>0</td>\n",
       "      <td>20.0</td>\n",
       "    </tr>\n",
       "  </tbody>\n",
       "</table>\n",
       "<p>1756 rows × 3 columns</p>\n",
       "</div>"
      ],
      "text/plain": [
       "        beds  private_pool  baths\n",
       "3        5.0             0    8.0\n",
       "345      5.0             1    9.0\n",
       "1109     3.0             0  750.0\n",
       "1116     3.0             0    5.5\n",
       "1349    16.0             0   19.0\n",
       "...      ...           ...    ...\n",
       "376749   5.0             0    8.0\n",
       "376772   3.0             0  750.0\n",
       "376896   6.0             0    9.0\n",
       "376901   5.0             0    7.5\n",
       "377045   3.0             0   20.0\n",
       "\n",
       "[1756 rows x 3 columns]"
      ]
     },
     "execution_count": 75,
     "metadata": {},
     "output_type": "execute_result"
    }
   ],
   "source": [
    "# отберем значания где число ванных превышает число спален + бассейн на 2\n",
    "df[(df['baths'] - df['beds'] - df['private_pool']) > 2][['beds', 'private_pool', 'baths']]"
   ]
  },
  {
   "cell_type": "markdown",
   "metadata": {},
   "source": [
    "Таких значений очень много, 1756 объектов. Сомнительно, что все эти значения ошибочны...  \n",
    "Возможно есть объекты где несколько санузлов для гостей!?\n",
    "\n",
    "Поправим только те значения где превышение более, чем в два раза."
   ]
  },
  {
   "cell_type": "code",
   "execution_count": 76,
   "metadata": {},
   "outputs": [],
   "source": [
    "# заполним пропущенные значения\n",
    "mask_1 = df['baths'].isnull()\n",
    "index_list = df[mask_1].index\n",
    "df.loc[index_list, 'baths'] = df.loc[index_list, 'beds'] + df.loc[index_list, 'private_pool']"
   ]
  },
  {
   "cell_type": "code",
   "execution_count": 77,
   "metadata": {},
   "outputs": [],
   "source": [
    "# исправим значения со значительным превышением\n",
    "mask_1 = (df['baths'] // (df['beds'] + df['private_pool'])) > 2\n",
    "mask_2 = df['baths'] > 2\n",
    "index_list = df[mask_1 & mask_2].index\n",
    "df.loc[index_list, 'baths'] = df.loc[index_list, 'beds'] + df.loc[index_list, 'private_pool']"
   ]
  },
  {
   "cell_type": "markdown",
   "metadata": {},
   "source": [
    "### Признак zipcode"
   ]
  },
  {
   "cell_type": "code",
   "execution_count": 78,
   "metadata": {},
   "outputs": [
    {
     "data": {
      "text/plain": [
       "zipcode\n",
       "32137    2139\n",
       "33131    1561\n",
       "34747    1484\n",
       "78245    1383\n",
       "34759    1332\n",
       "33132    1327\n",
       "33137    1306\n",
       "78253    1279\n",
       "78254    1228\n",
       "33130    1168\n",
       "34746    1149\n",
       "32164    1106\n",
       "33160    1103\n",
       "33133    1063\n",
       "33308    1023\n",
       "33178    1003\n",
       "33141     982\n",
       "77845     962\n",
       "33140     954\n",
       "33304     950\n",
       "Name: count, dtype: int64"
      ]
     },
     "execution_count": 78,
     "metadata": {},
     "output_type": "execute_result"
    }
   ],
   "source": [
    "df['zipcode'].value_counts()[:20]"
   ]
  },
  {
   "cell_type": "markdown",
   "metadata": {},
   "source": [
    "Выглядит нормально, пропусков в признаке нет. Оставлю так."
   ]
  },
  {
   "cell_type": "markdown",
   "metadata": {},
   "source": [
    "### Признак fireplace"
   ]
  },
  {
   "cell_type": "code",
   "execution_count": 79,
   "metadata": {},
   "outputs": [
    {
     "data": {
      "text/plain": [
       "fireplace\n",
       "yes                                                                     50015\n",
       "Yes                                                                     20619\n",
       "1                                                                       14533\n",
       "2                                                                        2432\n",
       "Not Applicable                                                           1990\n",
       "                                                                        ...  \n",
       "Gas, Wood Burning, Two, Propane Logs Convey                                 1\n",
       "Free-standing, Insert, Wood                                                 1\n",
       "Wood Burning, Attached Fireplace Doors/Screen, Electric, Gas Starter        1\n",
       "One, Living Room                                                            1\n",
       "Ceiling Fan, SMAPL, Utility Connection, Walk-In Closets                     1\n",
       "Name: count, Length: 1652, dtype: int64"
      ]
     },
     "execution_count": 79,
     "metadata": {},
     "output_type": "execute_result"
    }
   ],
   "source": [
    "df['fireplace'].value_counts()"
   ]
  },
  {
   "cell_type": "markdown",
   "metadata": {},
   "source": [
    "1652 уникальных значений это неожиданно много. В этом признаке, явно не только наличие камина! Будем чистить и анализировать.\n",
    "\n",
    "Интернет подсказал, что помимо дровяных, есть еще газовые, электрические и декоративные камины."
   ]
  },
  {
   "cell_type": "code",
   "execution_count": 80,
   "metadata": {},
   "outputs": [],
   "source": [
    "def clearing_fireplace(feature):\n",
    "    # списки синонимов\n",
    "    fireplace_yes = ['YES', 'ONE', 'ELECTRIC', 'DECORATIVE', 'IN LIVING ROOM', 'SPECIAL FEATURES', \n",
    "                     'IN GREAT ROOM', 'LIVING ROOM', 'LOCATION', 'FAMILYRM', 'GREAT ROOM', 'FAMILY ROOM', 'BRICK']\n",
    "    fireplace_no = ['NOT APPLICABLE', 'NO', 'WALK-IN CLOSETS', 'N/K', 'DEN']\n",
    "    fireplace_q = ['TWO']\n",
    "\n",
    "    if feature != feature:\n",
    "        return '0'\n",
    "    else:\n",
    "        # удаляем лишние пробелы, переводим в верхний регистр\n",
    "        feature_temp = ' '.join(feature.strip().split()).upper()\n",
    "        \n",
    "        # замены по списку\n",
    "        if feature_temp in fireplace_yes: return '1'\n",
    "        if feature_temp in fireplace_no: return '0'\n",
    "        if feature_temp in fireplace_q: return '2'\n",
    " \n",
    "        # замены по вхождению\n",
    "        if 'FIREPLACE' in feature_temp: return '1'\n",
    "        if 'WOOD' in feature_temp: return '1'\n",
    "        if 'GAS' in feature_temp: return '1'\n",
    "        if 'ELECTRIC' in feature_temp: return '1'\n",
    "        if 'DECORATIVE' in feature_temp: return '1'\n",
    "        if 'FIRE PIT' in feature_temp: return '1'\n",
    "        if 'FIREPIT' in feature_temp: return '1'\n",
    "        if 'CEILING FAN' in feature_temp: return '0'\n",
    "                \n",
    "        return feature_temp\n",
    "\n",
    "# чистим\n",
    "df['fireplace'] = df['fireplace'].apply(clearing_fireplace)\n",
    "\n",
    "# преобразовываем\n",
    "df['fireplace'] = df['fireplace'].replace(to_replace=r'[^\\d.]+', value='', regex=True)\n",
    "df['fireplace'] = df['fireplace'].apply(feature_to_int)\n",
    "df['fireplace'] = df['fireplace'].fillna(0)"
   ]
  },
  {
   "cell_type": "markdown",
   "metadata": {},
   "source": [
    "Посмотрим, что у нас получилось."
   ]
  },
  {
   "cell_type": "code",
   "execution_count": 81,
   "metadata": {},
   "outputs": [
    {
     "data": {
      "text/plain": [
       "fireplace\n",
       "0.0       276773\n",
       "1.0        94460\n",
       "2.0         2442\n",
       "3.0          597\n",
       "4.0          194\n",
       "5.0           65\n",
       "6.0           35\n",
       "7.0           18\n",
       "8.0            5\n",
       "9.0            3\n",
       "10.0           3\n",
       "11.0           2\n",
       "12.0           1\n",
       "1134.0         1\n",
       "Name: count, dtype: int64"
      ]
     },
     "metadata": {},
     "output_type": "display_data"
    },
    {
     "data": {
      "text/plain": [
       "count    374599.000000\n",
       "mean          0.277195\n",
       "std           1.915807\n",
       "min           0.000000\n",
       "25%           0.000000\n",
       "50%           0.000000\n",
       "75%           1.000000\n",
       "max        1134.000000\n",
       "Name: fireplace, dtype: float64"
      ]
     },
     "metadata": {},
     "output_type": "display_data"
    }
   ],
   "source": [
    "display(df['fireplace'].value_counts())\n",
    "display(df['fireplace'].describe())"
   ]
  },
  {
   "cell_type": "markdown",
   "metadata": {},
   "source": [
    "Посмотрим на объекты с числом каминов более 7."
   ]
  },
  {
   "cell_type": "code",
   "execution_count": 82,
   "metadata": {},
   "outputs": [
    {
     "data": {
      "text/html": [
       "<div>\n",
       "<style scoped>\n",
       "    .dataframe tbody tr th:only-of-type {\n",
       "        vertical-align: middle;\n",
       "    }\n",
       "\n",
       "    .dataframe tbody tr th {\n",
       "        vertical-align: top;\n",
       "    }\n",
       "\n",
       "    .dataframe thead th {\n",
       "        text-align: right;\n",
       "    }\n",
       "</style>\n",
       "<table border=\"1\" class=\"dataframe\">\n",
       "  <thead>\n",
       "    <tr style=\"text-align: right;\">\n",
       "      <th></th>\n",
       "      <th>status</th>\n",
       "      <th>propertyType</th>\n",
       "      <th>street</th>\n",
       "      <th>baths</th>\n",
       "      <th>homeFacts</th>\n",
       "      <th>fireplace</th>\n",
       "      <th>city</th>\n",
       "      <th>schools</th>\n",
       "      <th>sqft</th>\n",
       "      <th>zipcode</th>\n",
       "      <th>beds</th>\n",
       "      <th>state</th>\n",
       "      <th>stories</th>\n",
       "      <th>MlsId</th>\n",
       "      <th>target</th>\n",
       "      <th>private_pool</th>\n",
       "      <th>property_type</th>\n",
       "      <th>city_2</th>\n",
       "    </tr>\n",
       "  </thead>\n",
       "  <tbody>\n",
       "    <tr>\n",
       "      <th>148734</th>\n",
       "      <td>FOR SALE</td>\n",
       "      <td>UNDEFINED</td>\n",
       "      <td>8 Cherry Hills Park Dr</td>\n",
       "      <td>3.0</td>\n",
       "      <td>{'atAGlanceFacts': [{'factValue': '2008', 'fac...</td>\n",
       "      <td>11.0</td>\n",
       "      <td>CHERRYHILLSVILLAGE</td>\n",
       "      <td>[{'rating': ['8', '5', '10'], 'data': {'Distan...</td>\n",
       "      <td>30104.0</td>\n",
       "      <td>80113</td>\n",
       "      <td>3.0</td>\n",
       "      <td>CO</td>\n",
       "      <td>NaN</td>\n",
       "      <td>1</td>\n",
       "      <td>19750000.0</td>\n",
       "      <td>0</td>\n",
       "      <td>UNDEFINED</td>\n",
       "      <td>CHERRY HILLS VILLAGE</td>\n",
       "    </tr>\n",
       "    <tr>\n",
       "      <th>169359</th>\n",
       "      <td>FOR SALE</td>\n",
       "      <td>SINGLE FAMILY</td>\n",
       "      <td>2700 E Overlook Rd</td>\n",
       "      <td>3.5</td>\n",
       "      <td>{'atAGlanceFacts': [{'factValue': '1903', 'fac...</td>\n",
       "      <td>8.0</td>\n",
       "      <td>CLEVELAND HEIGHTS</td>\n",
       "      <td>[{'rating': ['5', '4', '2', '4', '4', 'NR', 'N...</td>\n",
       "      <td>4476.0</td>\n",
       "      <td>44106</td>\n",
       "      <td>3.0</td>\n",
       "      <td>OH</td>\n",
       "      <td>3.00</td>\n",
       "      <td>1</td>\n",
       "      <td>515000.0</td>\n",
       "      <td>0</td>\n",
       "      <td>SINGLE FAMILY</td>\n",
       "      <td>CLEVELAND HEIGHTS</td>\n",
       "    </tr>\n",
       "    <tr>\n",
       "      <th>196520</th>\n",
       "      <td>FOR SALE</td>\n",
       "      <td>SINGLE DETACHED, ENGLISH, TRADITIONAL</td>\n",
       "      <td>25 Braewood Pl</td>\n",
       "      <td>3.0</td>\n",
       "      <td>{'atAGlanceFacts': [{'factValue': '2007', 'fac...</td>\n",
       "      <td>9.0</td>\n",
       "      <td>DALLAS</td>\n",
       "      <td>[{'rating': ['7', '3', '3', '10'], 'data': {'D...</td>\n",
       "      <td>13995.0</td>\n",
       "      <td>75248</td>\n",
       "      <td>3.0</td>\n",
       "      <td>TX</td>\n",
       "      <td>NaN</td>\n",
       "      <td>1</td>\n",
       "      <td>6750000.0</td>\n",
       "      <td>0</td>\n",
       "      <td>OTHER</td>\n",
       "      <td>DALLAS</td>\n",
       "    </tr>\n",
       "    <tr>\n",
       "      <th>199436</th>\n",
       "      <td>FOR SALE</td>\n",
       "      <td>UNDEFINED</td>\n",
       "      <td>5918 Ross Ave</td>\n",
       "      <td>2.0</td>\n",
       "      <td>{'atAGlanceFacts': [{'factValue': '2011', 'fac...</td>\n",
       "      <td>12.0</td>\n",
       "      <td>DALLAS</td>\n",
       "      <td>[{'rating': ['5', '5', '5', '10'], 'data': {'D...</td>\n",
       "      <td>13464.0</td>\n",
       "      <td>75206</td>\n",
       "      <td>3.0</td>\n",
       "      <td>TX</td>\n",
       "      <td>NaN</td>\n",
       "      <td>1</td>\n",
       "      <td>2950000.0</td>\n",
       "      <td>0</td>\n",
       "      <td>UNDEFINED</td>\n",
       "      <td>DALLAS</td>\n",
       "    </tr>\n",
       "    <tr>\n",
       "      <th>218403</th>\n",
       "      <td>FOR SALE</td>\n",
       "      <td>FRENCH</td>\n",
       "      <td>3036 Woodland Dr NW</td>\n",
       "      <td>3.0</td>\n",
       "      <td>{'atAGlanceFacts': [{'factValue': '2000', 'fac...</td>\n",
       "      <td>10.0</td>\n",
       "      <td>WASHINGTON</td>\n",
       "      <td>[{'rating': ['9', 'NR', 'NR', 'NR', '9'], 'dat...</td>\n",
       "      <td>10823.0</td>\n",
       "      <td>20008</td>\n",
       "      <td>3.0</td>\n",
       "      <td>DC</td>\n",
       "      <td>NaN</td>\n",
       "      <td>1</td>\n",
       "      <td>12000000.0</td>\n",
       "      <td>0</td>\n",
       "      <td>OTHER</td>\n",
       "      <td>WASHINGTON</td>\n",
       "    </tr>\n",
       "    <tr>\n",
       "      <th>242587</th>\n",
       "      <td>FOR SALE</td>\n",
       "      <td>RANCH</td>\n",
       "      <td>1421 Lanes Mill Rd</td>\n",
       "      <td>3.0</td>\n",
       "      <td>{'atAGlanceFacts': [{'factValue': '', 'factLab...</td>\n",
       "      <td>1134.0</td>\n",
       "      <td>LAKEWOOD</td>\n",
       "      <td>[{'rating': ['NR', 'NR', 'NR', 'NR', '2'], 'da...</td>\n",
       "      <td>1807.0</td>\n",
       "      <td>08701</td>\n",
       "      <td>3.0</td>\n",
       "      <td>NJ</td>\n",
       "      <td>NaN</td>\n",
       "      <td>1</td>\n",
       "      <td>305000.0</td>\n",
       "      <td>0</td>\n",
       "      <td>RANCH</td>\n",
       "      <td>BLACKWOOD</td>\n",
       "    </tr>\n",
       "    <tr>\n",
       "      <th>245518</th>\n",
       "      <td>FOR SALE</td>\n",
       "      <td>TUDOR</td>\n",
       "      <td>2700 E Overlook Rd</td>\n",
       "      <td>3.0</td>\n",
       "      <td>{'atAGlanceFacts': [{'factValue': '1903', 'fac...</td>\n",
       "      <td>8.0</td>\n",
       "      <td>CLEVELAND HEIGHTS</td>\n",
       "      <td>[{'rating': ['5', '4', '2'], 'data': {'Distanc...</td>\n",
       "      <td>4476.0</td>\n",
       "      <td>44106</td>\n",
       "      <td>3.0</td>\n",
       "      <td>OH</td>\n",
       "      <td>NaN</td>\n",
       "      <td>1</td>\n",
       "      <td>515000.0</td>\n",
       "      <td>0</td>\n",
       "      <td>OTHER</td>\n",
       "      <td>CLEVELAND HEIGHTS</td>\n",
       "    </tr>\n",
       "    <tr>\n",
       "      <th>264304</th>\n",
       "      <td>FOR SALE</td>\n",
       "      <td>SINGLE DETACHED, COLONIAL</td>\n",
       "      <td>4009 W Lawther Dr</td>\n",
       "      <td>3.0</td>\n",
       "      <td>{'atAGlanceFacts': [{'factValue': '1929', 'fac...</td>\n",
       "      <td>9.0</td>\n",
       "      <td>DALLAS</td>\n",
       "      <td>[{'rating': ['10', '5', '5', '10'], 'data': {'...</td>\n",
       "      <td>10511.0</td>\n",
       "      <td>75214</td>\n",
       "      <td>3.0</td>\n",
       "      <td>TX</td>\n",
       "      <td>NaN</td>\n",
       "      <td>1</td>\n",
       "      <td>18500000.0</td>\n",
       "      <td>0</td>\n",
       "      <td>OTHER</td>\n",
       "      <td>DALLAS</td>\n",
       "    </tr>\n",
       "    <tr>\n",
       "      <th>277346</th>\n",
       "      <td>FOR SALE</td>\n",
       "      <td>SINGLE FAMILY</td>\n",
       "      <td>24027 Porte Toscana Ln</td>\n",
       "      <td>4.0</td>\n",
       "      <td>{'atAGlanceFacts': [{'factValue': '', 'factLab...</td>\n",
       "      <td>10.0</td>\n",
       "      <td>RICHMOND</td>\n",
       "      <td>[{'rating': ['10', '7', '7', '9', '8', '9', 'N...</td>\n",
       "      <td>3851.0</td>\n",
       "      <td>77406</td>\n",
       "      <td>3.0</td>\n",
       "      <td>TX</td>\n",
       "      <td>2</td>\n",
       "      <td>1</td>\n",
       "      <td>659900.0</td>\n",
       "      <td>0</td>\n",
       "      <td>SINGLE FAMILY</td>\n",
       "      <td>RICHMOND</td>\n",
       "    </tr>\n",
       "    <tr>\n",
       "      <th>285275</th>\n",
       "      <td>FOR SALE</td>\n",
       "      <td>SINGLE DETACHED, MEDITERRANEAN</td>\n",
       "      <td>3509 Euclid Ave</td>\n",
       "      <td>3.0</td>\n",
       "      <td>{'atAGlanceFacts': [{'factValue': '2012', 'fac...</td>\n",
       "      <td>11.0</td>\n",
       "      <td>HIGHLAND PARK</td>\n",
       "      <td>[{'rating': ['10', '9', '10', '9'], 'data': {'...</td>\n",
       "      <td>18100.0</td>\n",
       "      <td>75205</td>\n",
       "      <td>3.0</td>\n",
       "      <td>TX</td>\n",
       "      <td>NaN</td>\n",
       "      <td>1</td>\n",
       "      <td>12900000.0</td>\n",
       "      <td>0</td>\n",
       "      <td>OTHER</td>\n",
       "      <td>HIGHLAND PARK</td>\n",
       "    </tr>\n",
       "    <tr>\n",
       "      <th>288097</th>\n",
       "      <td>FOR SALE</td>\n",
       "      <td>TRADITIONAL, CARRIAGE HOUSE, VICTORIAN</td>\n",
       "      <td>1633 16th St NW</td>\n",
       "      <td>1.5</td>\n",
       "      <td>{'atAGlanceFacts': [{'factValue': '1885', 'fac...</td>\n",
       "      <td>8.0</td>\n",
       "      <td>WASHINGTON</td>\n",
       "      <td>[{'rating': ['10', '3', '3', 'NR'], 'data': {'...</td>\n",
       "      <td>1807.0</td>\n",
       "      <td>20009</td>\n",
       "      <td>3.0</td>\n",
       "      <td>DC</td>\n",
       "      <td>NaN</td>\n",
       "      <td>1</td>\n",
       "      <td>3800000.0</td>\n",
       "      <td>0</td>\n",
       "      <td>OTHER</td>\n",
       "      <td>WASHINGTON</td>\n",
       "    </tr>\n",
       "    <tr>\n",
       "      <th>293490</th>\n",
       "      <td>FOR SALE</td>\n",
       "      <td>UNDEFINED</td>\n",
       "      <td>8 Churchill Dr</td>\n",
       "      <td>3.0</td>\n",
       "      <td>{'atAGlanceFacts': [{'factValue': '2009', 'fac...</td>\n",
       "      <td>10.0</td>\n",
       "      <td>CHERRYHILLSVILLAGE</td>\n",
       "      <td>[{'rating': ['8', '5', '10'], 'data': {'Distan...</td>\n",
       "      <td>19771.0</td>\n",
       "      <td>80113</td>\n",
       "      <td>3.0</td>\n",
       "      <td>CO</td>\n",
       "      <td>NaN</td>\n",
       "      <td>1</td>\n",
       "      <td>7950000.0</td>\n",
       "      <td>0</td>\n",
       "      <td>UNDEFINED</td>\n",
       "      <td>CHERRY HILLS VILLAGE</td>\n",
       "    </tr>\n",
       "    <tr>\n",
       "      <th>332250</th>\n",
       "      <td>FOR SALE</td>\n",
       "      <td>VILLA</td>\n",
       "      <td>3301 Fessenden St NW</td>\n",
       "      <td>3.0</td>\n",
       "      <td>{'atAGlanceFacts': [{'factValue': '2018', 'fac...</td>\n",
       "      <td>8.0</td>\n",
       "      <td>WASHINGTON</td>\n",
       "      <td>[{'rating': ['9', '9', '9'], 'data': {'Distanc...</td>\n",
       "      <td>16850.0</td>\n",
       "      <td>20008</td>\n",
       "      <td>3.0</td>\n",
       "      <td>DC</td>\n",
       "      <td>NaN</td>\n",
       "      <td>1</td>\n",
       "      <td>15000000.0</td>\n",
       "      <td>0</td>\n",
       "      <td>OTHER</td>\n",
       "      <td>WASHINGTON</td>\n",
       "    </tr>\n",
       "    <tr>\n",
       "      <th>370014</th>\n",
       "      <td>FOR SALE</td>\n",
       "      <td>MULTI-LEVEL, COLONIAL</td>\n",
       "      <td>1214 Warren Ave N</td>\n",
       "      <td>3.0</td>\n",
       "      <td>{'atAGlanceFacts': [{'factValue': '1902', 'fac...</td>\n",
       "      <td>8.0</td>\n",
       "      <td>SEATTLE</td>\n",
       "      <td>[{'rating': ['9', '6', '6'], 'data': {'Distanc...</td>\n",
       "      <td>9970.0</td>\n",
       "      <td>98109</td>\n",
       "      <td>3.0</td>\n",
       "      <td>WA</td>\n",
       "      <td>NaN</td>\n",
       "      <td>1</td>\n",
       "      <td>11000000.0</td>\n",
       "      <td>0</td>\n",
       "      <td>OTHER</td>\n",
       "      <td>SEATTLE</td>\n",
       "    </tr>\n",
       "    <tr>\n",
       "      <th>376317</th>\n",
       "      <td>FOR SALE</td>\n",
       "      <td>SINGLE FAMILY</td>\n",
       "      <td>11405 Bella Coola Rd</td>\n",
       "      <td>8.5</td>\n",
       "      <td>{'atAGlanceFacts': [{'factValue': '1984', 'fac...</td>\n",
       "      <td>9.0</td>\n",
       "      <td>WOODWAY</td>\n",
       "      <td>[{'rating': ['6', '5', '6', '7', 'NR', 'NR', '...</td>\n",
       "      <td>7633.0</td>\n",
       "      <td>98020</td>\n",
       "      <td>7.0</td>\n",
       "      <td>WA</td>\n",
       "      <td>NaN</td>\n",
       "      <td>1</td>\n",
       "      <td>2224950.0</td>\n",
       "      <td>0</td>\n",
       "      <td>SINGLE FAMILY</td>\n",
       "      <td>WOODWAY</td>\n",
       "    </tr>\n",
       "  </tbody>\n",
       "</table>\n",
       "</div>"
      ],
      "text/plain": [
       "          status                            propertyType  \\\n",
       "148734  FOR SALE                               UNDEFINED   \n",
       "169359  FOR SALE                           SINGLE FAMILY   \n",
       "196520  FOR SALE   SINGLE DETACHED, ENGLISH, TRADITIONAL   \n",
       "199436  FOR SALE                               UNDEFINED   \n",
       "218403  FOR SALE                                  FRENCH   \n",
       "242587  FOR SALE                                   RANCH   \n",
       "245518  FOR SALE                                   TUDOR   \n",
       "264304  FOR SALE               SINGLE DETACHED, COLONIAL   \n",
       "277346  FOR SALE                           SINGLE FAMILY   \n",
       "285275  FOR SALE          SINGLE DETACHED, MEDITERRANEAN   \n",
       "288097  FOR SALE  TRADITIONAL, CARRIAGE HOUSE, VICTORIAN   \n",
       "293490  FOR SALE                               UNDEFINED   \n",
       "332250  FOR SALE                                   VILLA   \n",
       "370014  FOR SALE                   MULTI-LEVEL, COLONIAL   \n",
       "376317  FOR SALE                           SINGLE FAMILY   \n",
       "\n",
       "                         street  baths  \\\n",
       "148734  8 Cherry Hills Park Dr     3.0   \n",
       "169359       2700 E Overlook Rd    3.5   \n",
       "196520          25 Braewood Pl     3.0   \n",
       "199436           5918 Ross Ave     2.0   \n",
       "218403     3036 Woodland Dr NW     3.0   \n",
       "242587      1421 Lanes Mill Rd     3.0   \n",
       "245518      2700 E Overlook Rd     3.0   \n",
       "264304       4009 W Lawther Dr     3.0   \n",
       "277346   24027 Porte Toscana Ln    4.0   \n",
       "285275         3509 Euclid Ave     3.0   \n",
       "288097         1633 16th St NW     1.5   \n",
       "293490          8 Churchill Dr     3.0   \n",
       "332250    3301 Fessenden St NW     3.0   \n",
       "370014       1214 Warren Ave N     3.0   \n",
       "376317     11405 Bella Coola Rd    8.5   \n",
       "\n",
       "                                                homeFacts  fireplace  \\\n",
       "148734  {'atAGlanceFacts': [{'factValue': '2008', 'fac...       11.0   \n",
       "169359  {'atAGlanceFacts': [{'factValue': '1903', 'fac...        8.0   \n",
       "196520  {'atAGlanceFacts': [{'factValue': '2007', 'fac...        9.0   \n",
       "199436  {'atAGlanceFacts': [{'factValue': '2011', 'fac...       12.0   \n",
       "218403  {'atAGlanceFacts': [{'factValue': '2000', 'fac...       10.0   \n",
       "242587  {'atAGlanceFacts': [{'factValue': '', 'factLab...     1134.0   \n",
       "245518  {'atAGlanceFacts': [{'factValue': '1903', 'fac...        8.0   \n",
       "264304  {'atAGlanceFacts': [{'factValue': '1929', 'fac...        9.0   \n",
       "277346  {'atAGlanceFacts': [{'factValue': '', 'factLab...       10.0   \n",
       "285275  {'atAGlanceFacts': [{'factValue': '2012', 'fac...       11.0   \n",
       "288097  {'atAGlanceFacts': [{'factValue': '1885', 'fac...        8.0   \n",
       "293490  {'atAGlanceFacts': [{'factValue': '2009', 'fac...       10.0   \n",
       "332250  {'atAGlanceFacts': [{'factValue': '2018', 'fac...        8.0   \n",
       "370014  {'atAGlanceFacts': [{'factValue': '1902', 'fac...        8.0   \n",
       "376317  {'atAGlanceFacts': [{'factValue': '1984', 'fac...        9.0   \n",
       "\n",
       "                      city                                            schools  \\\n",
       "148734  CHERRYHILLSVILLAGE  [{'rating': ['8', '5', '10'], 'data': {'Distan...   \n",
       "169359   CLEVELAND HEIGHTS  [{'rating': ['5', '4', '2', '4', '4', 'NR', 'N...   \n",
       "196520              DALLAS  [{'rating': ['7', '3', '3', '10'], 'data': {'D...   \n",
       "199436              DALLAS  [{'rating': ['5', '5', '5', '10'], 'data': {'D...   \n",
       "218403          WASHINGTON  [{'rating': ['9', 'NR', 'NR', 'NR', '9'], 'dat...   \n",
       "242587            LAKEWOOD  [{'rating': ['NR', 'NR', 'NR', 'NR', '2'], 'da...   \n",
       "245518   CLEVELAND HEIGHTS  [{'rating': ['5', '4', '2'], 'data': {'Distanc...   \n",
       "264304              DALLAS  [{'rating': ['10', '5', '5', '10'], 'data': {'...   \n",
       "277346            RICHMOND  [{'rating': ['10', '7', '7', '9', '8', '9', 'N...   \n",
       "285275       HIGHLAND PARK  [{'rating': ['10', '9', '10', '9'], 'data': {'...   \n",
       "288097          WASHINGTON  [{'rating': ['10', '3', '3', 'NR'], 'data': {'...   \n",
       "293490  CHERRYHILLSVILLAGE  [{'rating': ['8', '5', '10'], 'data': {'Distan...   \n",
       "332250          WASHINGTON  [{'rating': ['9', '9', '9'], 'data': {'Distanc...   \n",
       "370014             SEATTLE  [{'rating': ['9', '6', '6'], 'data': {'Distanc...   \n",
       "376317             WOODWAY  [{'rating': ['6', '5', '6', '7', 'NR', 'NR', '...   \n",
       "\n",
       "           sqft zipcode  beds state stories  MlsId      target  private_pool  \\\n",
       "148734  30104.0   80113   3.0    CO     NaN      1  19750000.0             0   \n",
       "169359   4476.0   44106   3.0    OH    3.00      1    515000.0             0   \n",
       "196520  13995.0   75248   3.0    TX     NaN      1   6750000.0             0   \n",
       "199436  13464.0   75206   3.0    TX     NaN      1   2950000.0             0   \n",
       "218403  10823.0   20008   3.0    DC     NaN      1  12000000.0             0   \n",
       "242587   1807.0   08701   3.0    NJ     NaN      1    305000.0             0   \n",
       "245518   4476.0   44106   3.0    OH     NaN      1    515000.0             0   \n",
       "264304  10511.0   75214   3.0    TX     NaN      1  18500000.0             0   \n",
       "277346   3851.0   77406   3.0    TX       2      1    659900.0             0   \n",
       "285275  18100.0   75205   3.0    TX     NaN      1  12900000.0             0   \n",
       "288097   1807.0   20009   3.0    DC     NaN      1   3800000.0             0   \n",
       "293490  19771.0   80113   3.0    CO     NaN      1   7950000.0             0   \n",
       "332250  16850.0   20008   3.0    DC     NaN      1  15000000.0             0   \n",
       "370014   9970.0   98109   3.0    WA     NaN      1  11000000.0             0   \n",
       "376317   7633.0   98020   7.0    WA     NaN      1   2224950.0             0   \n",
       "\n",
       "        property_type                city_2  \n",
       "148734      UNDEFINED  CHERRY HILLS VILLAGE  \n",
       "169359  SINGLE FAMILY     CLEVELAND HEIGHTS  \n",
       "196520          OTHER                DALLAS  \n",
       "199436      UNDEFINED                DALLAS  \n",
       "218403          OTHER            WASHINGTON  \n",
       "242587          RANCH             BLACKWOOD  \n",
       "245518          OTHER     CLEVELAND HEIGHTS  \n",
       "264304          OTHER                DALLAS  \n",
       "277346  SINGLE FAMILY              RICHMOND  \n",
       "285275          OTHER         HIGHLAND PARK  \n",
       "288097          OTHER            WASHINGTON  \n",
       "293490      UNDEFINED  CHERRY HILLS VILLAGE  \n",
       "332250          OTHER            WASHINGTON  \n",
       "370014          OTHER               SEATTLE  \n",
       "376317  SINGLE FAMILY               WOODWAY  "
      ]
     },
     "execution_count": 82,
     "metadata": {},
     "output_type": "execute_result"
    }
   ],
   "source": [
    "df[df['fireplace'] > 7]"
   ]
  },
  {
   "cell_type": "markdown",
   "metadata": {},
   "source": [
    "Количество каминов, даже больше чем число спален!?  \n",
    "Переведем признак в логический тип, камин есть или его нет."
   ]
  },
  {
   "cell_type": "code",
   "execution_count": 83,
   "metadata": {},
   "outputs": [],
   "source": [
    "df['fireplace'] = df['fireplace'].apply(lambda x: 1 if x > 0 else 0)"
   ]
  },
  {
   "cell_type": "markdown",
   "metadata": {},
   "source": [
    "### Признак stories"
   ]
  },
  {
   "cell_type": "code",
   "execution_count": 84,
   "metadata": {},
   "outputs": [
    {
     "data": {
      "text/plain": [
       "array([nan, '2.0', '1.0', '3.0', 'One', '2', 'Multi/Split', '4.0', '0.0',\n",
       "       '0', 'One Level', '1', '9.0', '3', '1 Level, Site Built',\n",
       "       'One Story', '3.00', '1.00', '14.0', 'Two', '3+', '1 Story', '5.0',\n",
       "       '2 Story', 'Ranch/1 Story', 'Condominium', 'Stories/Levels', '7.0',\n",
       "       '2 Level, Site Built', '2 Level', '15', '3 Level, Site Built', '4',\n",
       "       '22.0', '2.00', '6.0', '1.0000', 'Lot', '3 Story', 'Three Or More',\n",
       "       '1.5', '1 Level', 'Two Story or More', 'Site Built, Tri-Level',\n",
       "       '54.0', '23', 'Farm House', '8.0', '16.0', '1.50', '18', '9', '21',\n",
       "       '8', '12.0', 'Split Level w/ Sub', '11.0', '1.5 Stories', '7',\n",
       "       '11', 'Townhouse', '12', '21.0', '16', '1.5 Story/Basement',\n",
       "       '28.0', 'Traditional', '2.5 Story', '17', '2.0000', '63.0',\n",
       "       'Acreage', 'Ground Level, One', '6', 'Split Foyer', '2 Stories',\n",
       "       '27.0', '19.0', '2.50', '1.30', '2 Story/Basement', 'Split Level',\n",
       "       '1.5 Story', '1.5 Level', '2 Or More Stories',\n",
       "       '1 Level, Condo, Site Built', '15.0', '20', '1.5000', '4.00',\n",
       "       '1 Story Basement', '5', 'Multi-Level', '17.0', 'Other Multi-unit',\n",
       "       'Ranch', 'Tri-Level', '13.0', '1 Story/Ranch', '51.0', '18.0',\n",
       "       '31', '19', 'High-Rise', 'Mid-Rise', 'Detached', '3 Stories',\n",
       "       '4 Story', '22', '46.0', '2.5', 'One and One Half', ', 2',\n",
       "       '1 1/2 Levels', '1.5 Level, Site Built', '70', '1 Story/F.R.O.G.',\n",
       "       'Commercial', '25.0', '3 Level, Townhouse', '3+ Story', '1.000',\n",
       "       '33.0', '10', '3 Level, Site Built, Townhouse',\n",
       "       'Three Or More, Multi/Split', 'Fourplex', '95.0', '90.0',\n",
       "       'Manufactured Doublewide', '6+ Stories', '91', '35.0', '13',\n",
       "       '2 Levels', '31.0', 'Mobile', '33', 'Cabin/Cottage',\n",
       "       'Three Or More Levels', '24', 'Victorian', '1.75', '38',\n",
       "       'One, Two', '1-2 Stories, 3-4 Stories', 'Site Built',\n",
       "       'Contemporary', '20.0', 'Garden', 'Site Built, Townhouse',\n",
       "       'Cape Cod', '26.0', '30', 'Dwelling Stories',\n",
       "       '2 Level, Condo, Site Built', '36.0', 'Modular Home', 'Bi-Level',\n",
       "       '26', '42', '45', 'One, Two, Multi/Split', '14', '3 - 5 Stories',\n",
       "       'Multi Level', ', 1', '29.0', '55.0', '3.0000', '78.0', '25', '56',\n",
       "       'Split Entry (Bi-Level)', '3 Level', '27', '36', '47.0',\n",
       "       '3-4 Stories', '10.0', '47', '29', '1 Level, Non-Site Built',\n",
       "       '40.0', 'Site Built, Split Foyer', '1 Story, Townhouse', '43.0',\n",
       "       '80.0', '43', '23.0', '24.0', 'Total Floors in Bldg',\n",
       "       '3 Story, Multi Level', 'Multi Level, Three or More', '34',\n",
       "       'Raised Ranch', '5.00', '1.7', '32', 'Unimproved Commercial', '57',\n",
       "       '41.0', 'Condo', '45.0', '39', '64.0', '1.7000', 'Bungalow', '48',\n",
       "       '1.5, 2', '2 Story, Tri Level', 'Two, Multi/Split',\n",
       "       '3 Story, Tri Level', '57.0', '41', '2 Level, Split Foyer', '40',\n",
       "       '28', '3 Levels', 'Other, Two, Multi/Split',\n",
       "       '2 Level, Site Built, Townhouse', '32.0', '58.0', '58', '30.0',\n",
       "       '52.0', 'Multi-Story', '42.0', '37.0', '1 Story, Split Level',\n",
       "       '50', '30.00', '38.0', '44', '48.0', '16.00', 'Tri Level',\n",
       "       'Tri/Multi Level', '2 Story, Split Level', 'Co-op',\n",
       "       'Manufactured Singlewide', '2 Level, Condo', '3 Story/Basement',\n",
       "       '1 Level, Site Built, Townhouse', '68.0', '60.0',\n",
       "       'Site Built, Split Level', '46', 'T3-Townhouse 3+ Stories', '77.0',\n",
       "       'Farm', '1 1/2 Story', '1 Leveland + Loft', '1.70', '2.5000',\n",
       "       'Duplex', '2.5 Story/Basement', '64', '70.0', 'Ground Level', '37',\n",
       "       '78', '56.0', '1.500', '34.0', 'Two Stories',\n",
       "       'Bedroom - Split Plan', 'Manufactured Home, Non-Site Built',\n",
       "       '1-2 Stories', '1 Level, Condo', '1.2', 'Condo, Site Built',\n",
       "       'One, Three Or More', '4.0000', 'Multi-Level, New Englander',\n",
       "       '39.0', 'Townhouse-2 Story, T3-Townhouse 3+ Stories', '2.000',\n",
       "       'Sixplex', '75', '35', '2 Story or 2 Level', '66.0', '62.0',\n",
       "       '6.00', 'Quad Level', 'Triplex', 'A Frame', '15.00', 'Tudor',\n",
       "       '2 Story, Multi Level', 'Colonial', '82', ', 3', 'Hillside',\n",
       "       'Live/Work', 'Apartments', '3 Level, Site Built, Split Level',\n",
       "       '3 Level, Condo, Site Built', '77', '95', 'Log Home', '4 Stories',\n",
       "       '1.5 Level, Site Built, Tri-Level', '49.0', '1120.0', '1, 1',\n",
       "       '1 Story, 2 Story', 'Loft', '52', '3.000', '1 Level, Townhouse',\n",
       "       '66', 'Two, Three Or More', '2.20', 'Multi Level, Tri Level', '60',\n",
       "       'Cape, Other Style', '11.00', '1.3000', 'Craftsman',\n",
       "       'Split Foyer, Tri-Level', '2 Stories, Tear Down', 'Log', '3.5',\n",
       "       'Federal', '1002.0', '7.00', '1 Story, Hillside',\n",
       "       '2 Stories, Townhouse', '2 Level, Site Built, Split Foyer', '96.0',\n",
       "       'Multi/Split, Two', 'Ground Level, Two', 'Chalet', '80',\n",
       "       '1 Level, 2 Level', '1 Level, 1.5 Level',\n",
       "       'Ground Level, Split Level, Two', '1 Level, Split Foyer',\n",
       "       '1 Story, Multi Level', 'One and One Half, Three Or More',\n",
       "       '3 Level, Site Built, Tri-Level', 'Double Wide', 'Patio Home',\n",
       "       '50.0', '65.0'], dtype=object)"
      ]
     },
     "execution_count": 84,
     "metadata": {},
     "output_type": "execute_result"
    }
   ],
   "source": [
    "df['stories'].unique()"
   ]
  },
  {
   "cell_type": "markdown",
   "metadata": {},
   "source": [
    "346 уникальных значений. Уже не новость, что признак содержит, что-то еще, кроме количества этажей.  Обращает на себя внимание дробное значение и этажность 65 и 78.\n",
    "\n",
    "По дробному количеству этажей в свободных источниках ничего не нашлось. Будем считать, что это указание на чердак. При очистке округлим, до ближайшего целого числа."
   ]
  },
  {
   "cell_type": "code",
   "execution_count": 85,
   "metadata": {},
   "outputs": [],
   "source": [
    "def clearing_stories(feature):\n",
    "    # списки синонимов\n",
    "    story_1 = ['GROUND LEVEL', 'RANCH']\n",
    "    story_2 = ['1-2 STORIES', '1 LEVEL, 1.5 LEVEL', '1 LEVEL, 2 LEVEL', '2 STORY OR 2 LEVEL', 'TOWNHOUSE-2 STORY, T3-TOWNHOUSE 3+ STORIES', '1 1/2 STORY', '1 1/2 LEVELS']\n",
    "    story_3 = ['ONE, THREE OR MORE', 'ONE AND ONE HALF, THREE OR MORE', 'TWO, THREE OR MORE', 'T3-TOWNHOUSE 3+ STORIES', '3-4 STORIES', '3 - 5 STORIES', '1-2 STORIES, 3-4 STORIES']\n",
    "\n",
    "    if feature != feature:\n",
    "        return feature\n",
    "    else:\n",
    "        # удаляем лишние пробелы, переводим в верхний регистр\n",
    "        feature_temp = ' '.join(feature.strip().split()).upper()\n",
    "        \n",
    "        # замены по списку\n",
    "        if feature_temp in story_1: return '1'\n",
    "        if feature_temp in story_2: return '2'\n",
    "        if feature_temp in story_3: return '3'\n",
    " \n",
    "        # замены по вхождению\n",
    "        if 'ONE' in feature_temp: return '1'\n",
    "        if 'TWO' in feature_temp: return '2'\n",
    "        if 'THREE' in feature_temp: return '3'\n",
    "        if 'TRI-LEVEL' in feature_temp: return '3'\n",
    "        if 'QUAD LEVEL' in feature_temp: return '4'\n",
    "        if 'BI-LEVEL' in feature_temp: return '2'\n",
    "        if 'FOURPLEX' in feature_temp: return '4'\n",
    "        # if '' in feature_temp: return ''\n",
    "                \n",
    "        return feature_temp\n",
    "\n",
    "# чистим\n",
    "df['stories_2'] = df['stories'].apply(clearing_stories)\n",
    "\n",
    "# преобразовываем\n",
    "df['stories_2'] = df['stories_2'].replace(to_replace=r'[^\\d.]+', value='', regex=True)\n",
    "df['stories_2'] = df['stories_2'].apply(feature_to_float).round()\n"
   ]
  },
  {
   "cell_type": "code",
   "execution_count": 86,
   "metadata": {},
   "outputs": [
    {
     "data": {
      "text/plain": [
       "stories_2\n",
       "1.0       99423\n",
       "2.0       83101\n",
       "3.0       17817\n",
       "0.0       11440\n",
       "9.0        3381\n",
       "          ...  \n",
       "82.0          1\n",
       "1120.0        1\n",
       "1002.0        1\n",
       "96.0          1\n",
       "65.0          1\n",
       "Name: count, Length: 77, dtype: int64"
      ]
     },
     "metadata": {},
     "output_type": "display_data"
    },
    {
     "data": {
      "text/plain": [
       "count    222754.000000\n",
       "mean          1.916670\n",
       "std           4.268339\n",
       "min           0.000000\n",
       "25%           1.000000\n",
       "50%           2.000000\n",
       "75%           2.000000\n",
       "max        1120.000000\n",
       "Name: stories_2, dtype: float64"
      ]
     },
     "metadata": {},
     "output_type": "display_data"
    }
   ],
   "source": [
    "display(df['stories_2'].value_counts())\n",
    "display(df['stories_2'].describe())"
   ]
  },
  {
   "cell_type": "markdown",
   "metadata": {},
   "source": [
    "Вызывает подозрение слишком большая этажность у некоторых объектов.  \n",
    "Посмотрим на них."
   ]
  },
  {
   "cell_type": "code",
   "execution_count": 87,
   "metadata": {},
   "outputs": [
    {
     "data": {
      "text/html": [
       "<div>\n",
       "<style scoped>\n",
       "    .dataframe tbody tr th:only-of-type {\n",
       "        vertical-align: middle;\n",
       "    }\n",
       "\n",
       "    .dataframe tbody tr th {\n",
       "        vertical-align: top;\n",
       "    }\n",
       "\n",
       "    .dataframe thead th {\n",
       "        text-align: right;\n",
       "    }\n",
       "</style>\n",
       "<table border=\"1\" class=\"dataframe\">\n",
       "  <thead>\n",
       "    <tr style=\"text-align: right;\">\n",
       "      <th></th>\n",
       "      <th>propertyType</th>\n",
       "      <th>sqft</th>\n",
       "      <th>stories</th>\n",
       "      <th>stories_2</th>\n",
       "    </tr>\n",
       "  </thead>\n",
       "  <tbody>\n",
       "    <tr>\n",
       "      <th>14026</th>\n",
       "      <td>CONDO</td>\n",
       "      <td>7074.0</td>\n",
       "      <td>95.0</td>\n",
       "      <td>95.0</td>\n",
       "    </tr>\n",
       "    <tr>\n",
       "      <th>14519</th>\n",
       "      <td>CONDO</td>\n",
       "      <td>3466.0</td>\n",
       "      <td>90.0</td>\n",
       "      <td>90.0</td>\n",
       "    </tr>\n",
       "    <tr>\n",
       "      <th>14988</th>\n",
       "      <td>CONDO</td>\n",
       "      <td>1932.0</td>\n",
       "      <td>91</td>\n",
       "      <td>91.0</td>\n",
       "    </tr>\n",
       "    <tr>\n",
       "      <th>113091</th>\n",
       "      <td>CONDO</td>\n",
       "      <td>1789.0</td>\n",
       "      <td>90.0</td>\n",
       "      <td>90.0</td>\n",
       "    </tr>\n",
       "    <tr>\n",
       "      <th>169210</th>\n",
       "      <td>CONDO</td>\n",
       "      <td>6234.0</td>\n",
       "      <td>90.0</td>\n",
       "      <td>90.0</td>\n",
       "    </tr>\n",
       "    <tr>\n",
       "      <th>177754</th>\n",
       "      <td>CONDO</td>\n",
       "      <td>1619.0</td>\n",
       "      <td>82</td>\n",
       "      <td>82.0</td>\n",
       "    </tr>\n",
       "    <tr>\n",
       "      <th>184714</th>\n",
       "      <td>CONDO</td>\n",
       "      <td>1932.0</td>\n",
       "      <td>91</td>\n",
       "      <td>91.0</td>\n",
       "    </tr>\n",
       "    <tr>\n",
       "      <th>210310</th>\n",
       "      <td>CONDO</td>\n",
       "      <td>3401.0</td>\n",
       "      <td>95</td>\n",
       "      <td>95.0</td>\n",
       "    </tr>\n",
       "    <tr>\n",
       "      <th>218829</th>\n",
       "      <td>CONDO</td>\n",
       "      <td>6234.0</td>\n",
       "      <td>90.0</td>\n",
       "      <td>90.0</td>\n",
       "    </tr>\n",
       "    <tr>\n",
       "      <th>222904</th>\n",
       "      <td>CONDO</td>\n",
       "      <td>425.0</td>\n",
       "      <td>1120.0</td>\n",
       "      <td>1120.0</td>\n",
       "    </tr>\n",
       "    <tr>\n",
       "      <th>223904</th>\n",
       "      <td>CONDO</td>\n",
       "      <td>4019.0</td>\n",
       "      <td>90.0</td>\n",
       "      <td>90.0</td>\n",
       "    </tr>\n",
       "    <tr>\n",
       "      <th>289244</th>\n",
       "      <td>CONDO</td>\n",
       "      <td>878.0</td>\n",
       "      <td>91</td>\n",
       "      <td>91.0</td>\n",
       "    </tr>\n",
       "    <tr>\n",
       "      <th>316601</th>\n",
       "      <td>TOWNHOUSE</td>\n",
       "      <td>1497.0</td>\n",
       "      <td>1002.0</td>\n",
       "      <td>1002.0</td>\n",
       "    </tr>\n",
       "    <tr>\n",
       "      <th>323546</th>\n",
       "      <td>CONDO</td>\n",
       "      <td>3576.0</td>\n",
       "      <td>96.0</td>\n",
       "      <td>96.0</td>\n",
       "    </tr>\n",
       "    <tr>\n",
       "      <th>325878</th>\n",
       "      <td>CONDO</td>\n",
       "      <td>1988.0</td>\n",
       "      <td>90.0</td>\n",
       "      <td>90.0</td>\n",
       "    </tr>\n",
       "    <tr>\n",
       "      <th>361915</th>\n",
       "      <td>CONDO</td>\n",
       "      <td>1933.0</td>\n",
       "      <td>91</td>\n",
       "      <td>91.0</td>\n",
       "    </tr>\n",
       "  </tbody>\n",
       "</table>\n",
       "</div>"
      ],
      "text/plain": [
       "       propertyType    sqft stories  stories_2\n",
       "14026         CONDO  7074.0    95.0       95.0\n",
       "14519         CONDO  3466.0    90.0       90.0\n",
       "14988         CONDO  1932.0      91       91.0\n",
       "113091        CONDO  1789.0    90.0       90.0\n",
       "169210        CONDO  6234.0    90.0       90.0\n",
       "177754        CONDO  1619.0      82       82.0\n",
       "184714        CONDO  1932.0      91       91.0\n",
       "210310        CONDO  3401.0      95       95.0\n",
       "218829        CONDO  6234.0    90.0       90.0\n",
       "222904        CONDO   425.0  1120.0     1120.0\n",
       "223904        CONDO  4019.0    90.0       90.0\n",
       "289244        CONDO   878.0      91       91.0\n",
       "316601    TOWNHOUSE  1497.0  1002.0     1002.0\n",
       "323546        CONDO  3576.0    96.0       96.0\n",
       "325878        CONDO  1988.0    90.0       90.0\n",
       "361915        CONDO  1933.0      91       91.0"
      ]
     },
     "execution_count": 87,
     "metadata": {},
     "output_type": "execute_result"
    }
   ],
   "source": [
    "df[df['stories_2'] > 80][['propertyType', 'sqft', 'stories', 'stories_2']]"
   ]
  },
  {
   "cell_type": "markdown",
   "metadata": {},
   "source": [
    "Помимо ошибок заполнения возможно есть и указание риэлторами не этажности объекта, а этажа на котором он расположен.\n",
    "\n",
    "Посмотрим, что у нас с этажностью для объектов типа LAND."
   ]
  },
  {
   "cell_type": "code",
   "execution_count": 88,
   "metadata": {},
   "outputs": [
    {
     "data": {
      "text/plain": [
       "stories_2\n",
       "1.0    1346\n",
       "2.0     480\n",
       "3.0     121\n",
       "4.0       3\n",
       "8.0       1\n",
       "Name: count, dtype: int64"
      ]
     },
     "execution_count": 88,
     "metadata": {},
     "output_type": "execute_result"
    }
   ],
   "source": [
    "df[df['property_type'] == 'LAND']['stories_2'].value_counts()"
   ]
  },
  {
   "cell_type": "markdown",
   "metadata": {},
   "source": [
    "Возможно, конечно, что на объекте есть какие-то постройки, но не смотря на это он продается как земля!? Но этажность выше трех сомнительна. Заполним пропуски и этажность более 3 для объектов этого типа значением 0."
   ]
  },
  {
   "cell_type": "code",
   "execution_count": 89,
   "metadata": {},
   "outputs": [],
   "source": [
    "mask_1 = df['stories_2'] > 3\n",
    "mask_2 = df['stories_2'].isnull()\n",
    "mask_3 = df['property_type'] == 'LAND'\n",
    "index_list = df[(mask_1 | mask_2) & mask_3].index\n",
    "df.loc[index_list, 'stories_2'] = 0"
   ]
  },
  {
   "cell_type": "markdown",
   "metadata": {},
   "source": [
    "Посмотрим на объекты с количеством этажей 0 не относящиеся к типу LAND"
   ]
  },
  {
   "cell_type": "code",
   "execution_count": 90,
   "metadata": {},
   "outputs": [
    {
     "data": {
      "text/html": [
       "<div>\n",
       "<style scoped>\n",
       "    .dataframe tbody tr th:only-of-type {\n",
       "        vertical-align: middle;\n",
       "    }\n",
       "\n",
       "    .dataframe tbody tr th {\n",
       "        vertical-align: top;\n",
       "    }\n",
       "\n",
       "    .dataframe thead th {\n",
       "        text-align: right;\n",
       "    }\n",
       "</style>\n",
       "<table border=\"1\" class=\"dataframe\">\n",
       "  <thead>\n",
       "    <tr style=\"text-align: right;\">\n",
       "      <th></th>\n",
       "      <th>status</th>\n",
       "      <th>propertyType</th>\n",
       "      <th>street</th>\n",
       "      <th>baths</th>\n",
       "      <th>homeFacts</th>\n",
       "      <th>fireplace</th>\n",
       "      <th>city</th>\n",
       "      <th>schools</th>\n",
       "      <th>sqft</th>\n",
       "      <th>zipcode</th>\n",
       "      <th>beds</th>\n",
       "      <th>state</th>\n",
       "      <th>stories</th>\n",
       "      <th>MlsId</th>\n",
       "      <th>target</th>\n",
       "      <th>private_pool</th>\n",
       "      <th>property_type</th>\n",
       "      <th>city_2</th>\n",
       "      <th>stories_2</th>\n",
       "    </tr>\n",
       "  </thead>\n",
       "  <tbody>\n",
       "    <tr>\n",
       "      <th>31</th>\n",
       "      <td>FOR SALE</td>\n",
       "      <td>SINGLE FAMILY</td>\n",
       "      <td>6712 N Glen Ave</td>\n",
       "      <td>2.0</td>\n",
       "      <td>{'atAGlanceFacts': [{'factValue': '1960', 'fac...</td>\n",
       "      <td>0</td>\n",
       "      <td>TAMPA</td>\n",
       "      <td>[{'rating': ['5/10', '2/10', '4/10'], 'data': ...</td>\n",
       "      <td>1677.0</td>\n",
       "      <td>33614</td>\n",
       "      <td>4.0</td>\n",
       "      <td>FL</td>\n",
       "      <td>0.0</td>\n",
       "      <td>1</td>\n",
       "      <td>262000.0</td>\n",
       "      <td>0</td>\n",
       "      <td>SINGLE FAMILY</td>\n",
       "      <td>TAMPA</td>\n",
       "      <td>0.0</td>\n",
       "    </tr>\n",
       "    <tr>\n",
       "      <th>33</th>\n",
       "      <td>UNDEFINED</td>\n",
       "      <td>CONDO</td>\n",
       "      <td>3750 NE 170th St APT 407</td>\n",
       "      <td>2.0</td>\n",
       "      <td>{'atAGlanceFacts': [{'factValue': '1972', 'fac...</td>\n",
       "      <td>0</td>\n",
       "      <td>NORTH MIAMI BEACH</td>\n",
       "      <td>[{'rating': ['10/10', '6/10'], 'data': {'Dista...</td>\n",
       "      <td>1085.0</td>\n",
       "      <td>33160</td>\n",
       "      <td>2.0</td>\n",
       "      <td>FL</td>\n",
       "      <td>0.0</td>\n",
       "      <td>1</td>\n",
       "      <td>179000.0</td>\n",
       "      <td>0</td>\n",
       "      <td>CONDO</td>\n",
       "      <td>NORTH MIAMI BEACH</td>\n",
       "      <td>0.0</td>\n",
       "    </tr>\n",
       "    <tr>\n",
       "      <th>36</th>\n",
       "      <td>FOR SALE</td>\n",
       "      <td>SINGLE FAMILY</td>\n",
       "      <td>2627 N Arthur Ave</td>\n",
       "      <td>3.0</td>\n",
       "      <td>{'atAGlanceFacts': [{'factValue': '1949', 'fac...</td>\n",
       "      <td>1</td>\n",
       "      <td>FRESNO</td>\n",
       "      <td>[{'rating': ['3/10', '4/10'], 'data': {'Distan...</td>\n",
       "      <td>1448.0</td>\n",
       "      <td>93705</td>\n",
       "      <td>3.0</td>\n",
       "      <td>CA</td>\n",
       "      <td>0</td>\n",
       "      <td>1</td>\n",
       "      <td>284900.0</td>\n",
       "      <td>0</td>\n",
       "      <td>SINGLE FAMILY</td>\n",
       "      <td>FRESNO</td>\n",
       "      <td>0.0</td>\n",
       "    </tr>\n",
       "    <tr>\n",
       "      <th>37</th>\n",
       "      <td>FOR SALE</td>\n",
       "      <td>SINGLE FAMILY</td>\n",
       "      <td>3360 SW 29th St</td>\n",
       "      <td>2.0</td>\n",
       "      <td>{'atAGlanceFacts': [{'factValue': '1954', 'fac...</td>\n",
       "      <td>0</td>\n",
       "      <td>MIAMI</td>\n",
       "      <td>[{'rating': ['10/10', '5/10'], 'data': {'Dista...</td>\n",
       "      <td>1396.0</td>\n",
       "      <td>33133</td>\n",
       "      <td>3.0</td>\n",
       "      <td>FL</td>\n",
       "      <td>0.0</td>\n",
       "      <td>1</td>\n",
       "      <td>495000.0</td>\n",
       "      <td>0</td>\n",
       "      <td>SINGLE FAMILY</td>\n",
       "      <td>MIAMI</td>\n",
       "      <td>0.0</td>\n",
       "    </tr>\n",
       "    <tr>\n",
       "      <th>38</th>\n",
       "      <td>FOR SALE</td>\n",
       "      <td>SINGLE FAMILY</td>\n",
       "      <td>5531 Eureka Springs Rd</td>\n",
       "      <td>1.0</td>\n",
       "      <td>{'atAGlanceFacts': [{'factValue': '1930', 'fac...</td>\n",
       "      <td>0</td>\n",
       "      <td>TAMPA</td>\n",
       "      <td>[{'rating': ['1/10', '2/10', '3/10'], 'data': ...</td>\n",
       "      <td>1232.0</td>\n",
       "      <td>33610</td>\n",
       "      <td>2.0</td>\n",
       "      <td>FL</td>\n",
       "      <td>0.0</td>\n",
       "      <td>1</td>\n",
       "      <td>117900.0</td>\n",
       "      <td>0</td>\n",
       "      <td>SINGLE FAMILY</td>\n",
       "      <td>TAMPA</td>\n",
       "      <td>0.0</td>\n",
       "    </tr>\n",
       "  </tbody>\n",
       "</table>\n",
       "</div>"
      ],
      "text/plain": [
       "       status   propertyType                    street  baths  \\\n",
       "31   FOR SALE  SINGLE FAMILY           6712 N Glen Ave    2.0   \n",
       "33  UNDEFINED          CONDO  3750 NE 170th St APT 407    2.0   \n",
       "36   FOR SALE  SINGLE FAMILY         2627 N Arthur Ave    3.0   \n",
       "37   FOR SALE  SINGLE FAMILY           3360 SW 29th St    2.0   \n",
       "38   FOR SALE  SINGLE FAMILY    5531 Eureka Springs Rd    1.0   \n",
       "\n",
       "                                            homeFacts  fireplace  \\\n",
       "31  {'atAGlanceFacts': [{'factValue': '1960', 'fac...          0   \n",
       "33  {'atAGlanceFacts': [{'factValue': '1972', 'fac...          0   \n",
       "36  {'atAGlanceFacts': [{'factValue': '1949', 'fac...          1   \n",
       "37  {'atAGlanceFacts': [{'factValue': '1954', 'fac...          0   \n",
       "38  {'atAGlanceFacts': [{'factValue': '1930', 'fac...          0   \n",
       "\n",
       "                 city                                            schools  \\\n",
       "31              TAMPA  [{'rating': ['5/10', '2/10', '4/10'], 'data': ...   \n",
       "33  NORTH MIAMI BEACH  [{'rating': ['10/10', '6/10'], 'data': {'Dista...   \n",
       "36             FRESNO  [{'rating': ['3/10', '4/10'], 'data': {'Distan...   \n",
       "37              MIAMI  [{'rating': ['10/10', '5/10'], 'data': {'Dista...   \n",
       "38              TAMPA  [{'rating': ['1/10', '2/10', '3/10'], 'data': ...   \n",
       "\n",
       "      sqft zipcode  beds state stories  MlsId    target  private_pool  \\\n",
       "31  1677.0   33614   4.0    FL     0.0      1  262000.0             0   \n",
       "33  1085.0   33160   2.0    FL     0.0      1  179000.0             0   \n",
       "36  1448.0   93705   3.0    CA       0      1  284900.0             0   \n",
       "37  1396.0   33133   3.0    FL     0.0      1  495000.0             0   \n",
       "38  1232.0   33610   2.0    FL     0.0      1  117900.0             0   \n",
       "\n",
       "    property_type             city_2  stories_2  \n",
       "31  SINGLE FAMILY              TAMPA        0.0  \n",
       "33          CONDO  NORTH MIAMI BEACH        0.0  \n",
       "36  SINGLE FAMILY             FRESNO        0.0  \n",
       "37  SINGLE FAMILY              MIAMI        0.0  \n",
       "38  SINGLE FAMILY              TAMPA        0.0  "
      ]
     },
     "execution_count": 90,
     "metadata": {},
     "output_type": "execute_result"
    }
   ],
   "source": [
    "df[(df['stories_2'] == 0) & (df['property_type'] != 'LAND')].head()"
   ]
  },
  {
   "cell_type": "markdown",
   "metadata": {},
   "source": [
    "Теперь найдем значение площади объекта в зависимости от этажности. Будет искать для количества этажей не выше 3-х."
   ]
  },
  {
   "cell_type": "code",
   "execution_count": 91,
   "metadata": {},
   "outputs": [
    {
     "data": {
      "text/plain": [
       "stories_2\n",
       "0.0    1769.0\n",
       "1.0    1615.0\n",
       "2.0    2369.0\n",
       "3.0    2188.0\n",
       "Name: sqft, dtype: float64"
      ]
     },
     "execution_count": 91,
     "metadata": {},
     "output_type": "execute_result"
    }
   ],
   "source": [
    "df[(df['stories_2'] <= 3) & (df['property_type'] != 'LAND')].groupby('stories_2')['sqft'].median()"
   ]
  },
  {
   "cell_type": "markdown",
   "metadata": {},
   "source": [
    "Применим следующее правило для заполнения пустых, нулевых значений и замены значений более 3. Если прощадь объекта до 2 тыс. квадратных фута включительно, ставим количество этажей 1, в остальных случаях 2."
   ]
  },
  {
   "cell_type": "code",
   "execution_count": 92,
   "metadata": {},
   "outputs": [],
   "source": [
    "mask_1 = df['stories_2'] > 3\n",
    "mask_2 = df['stories_2'].isnull()\n",
    "mask_3 = df['stories_2'] == 0\n",
    "mask_4 = df['property_type'] != 'LAND'\n",
    "mask_5 = df['sqft'] <= 2000\n",
    "\n",
    "index_list = df[(mask_1 | mask_2 | mask_3) & mask_4 & mask_5].index\n",
    "df.loc[index_list, 'stories_2'] = 1\n",
    "\n",
    "index_list = df[(mask_1 | mask_2 | mask_3) & mask_4 & ~mask_5].index\n",
    "df.loc[index_list, 'stories_2'] = 2"
   ]
  },
  {
   "cell_type": "markdown",
   "metadata": {},
   "source": [
    "И еще раз посмотрим на него."
   ]
  },
  {
   "cell_type": "code",
   "execution_count": 93,
   "metadata": {},
   "outputs": [
    {
     "data": {
      "text/plain": [
       "stories_2\n",
       "1.0    194327\n",
       "2.0    132988\n",
       "0.0     29467\n",
       "3.0     17817\n",
       "Name: count, dtype: int64"
      ]
     },
     "metadata": {},
     "output_type": "display_data"
    },
    {
     "data": {
      "text/plain": [
       "count    374599.000000\n",
       "mean          1.371477\n",
       "std           0.697090\n",
       "min           0.000000\n",
       "25%           1.000000\n",
       "50%           1.000000\n",
       "75%           2.000000\n",
       "max           3.000000\n",
       "Name: stories_2, dtype: float64"
      ]
     },
     "metadata": {},
     "output_type": "display_data"
    }
   ],
   "source": [
    "display(df['stories_2'].value_counts())\n",
    "display(df['stories_2'].describe())"
   ]
  },
  {
   "cell_type": "markdown",
   "metadata": {},
   "source": [
    "Выглядит реалистично."
   ]
  },
  {
   "cell_type": "markdown",
   "metadata": {},
   "source": [
    "### Признак street\n",
    "\n",
    "Посмотрим на него."
   ]
  },
  {
   "cell_type": "code",
   "execution_count": 94,
   "metadata": {},
   "outputs": [
    {
     "data": {
      "text/plain": [
       "street\n",
       "Address Not Disclosed        672\n",
       "Undisclosed Address          516\n",
       "(undisclosed Address)        391\n",
       "Address Not Available        174\n",
       "Unknown Address               70\n",
       "                            ... \n",
       "202 Seacrest Beach Blvd W      1\n",
       "1112 Watercress Ct             1\n",
       "1420 W 57th St                 1\n",
       "153 153a Centre St             1\n",
       "5983 Midcrown Dr               1\n",
       "Name: count, Length: 334705, dtype: int64"
      ]
     },
     "execution_count": 94,
     "metadata": {},
     "output_type": "execute_result"
    }
   ],
   "source": [
    "df['street'].value_counts()"
   ]
  },
  {
   "cell_type": "code",
   "execution_count": 95,
   "metadata": {},
   "outputs": [
    {
     "name": "stdout",
     "output_type": "stream",
     "text": [
      "Процент уникальных значений признака street: 89.35021182651315\n"
     ]
    }
   ],
   "source": [
    "print('Процент уникальных значений признака street:', df['street'].nunique() / df.shape[0] * 100)"
   ]
  },
  {
   "cell_type": "markdown",
   "metadata": {},
   "source": [
    "Уникальными являются более 89% значений признака. При этом в топ самых популярных значений вошли различные варианты отсутствия адреса.  \n",
    "В таком виде признак мы использовать не сможем."
   ]
  },
  {
   "cell_type": "code",
   "execution_count": 96,
   "metadata": {},
   "outputs": [],
   "source": [
    "df = df.drop(columns=['street'])"
   ]
  },
  {
   "cell_type": "markdown",
   "metadata": {},
   "source": [
    "### Признак homeFacts"
   ]
  },
  {
   "cell_type": "code",
   "execution_count": 97,
   "metadata": {},
   "outputs": [
    {
     "data": {
      "text/plain": [
       "array([\"{'atAGlanceFacts': [{'factValue': '2019', 'factLabel': 'Year built'}, {'factValue': '', 'factLabel': 'Remodeled year'}, {'factValue': 'Central A/C, Heat Pump', 'factLabel': 'Heating'}, {'factValue': '', 'factLabel': 'Cooling'}, {'factValue': '', 'factLabel': 'Parking'}, {'factValue': None, 'factLabel': 'lotsize'}, {'factValue': '$144', 'factLabel': 'Price/sqft'}]}\",\n",
       "       \"{'atAGlanceFacts': [{'factValue': '2019', 'factLabel': 'Year built'}, {'factValue': '', 'factLabel': 'Remodeled year'}, {'factValue': '', 'factLabel': 'Heating'}, {'factValue': '', 'factLabel': 'Cooling'}, {'factValue': '', 'factLabel': 'Parking'}, {'factValue': '5828 sqft', 'factLabel': 'lotsize'}, {'factValue': '$159/sqft', 'factLabel': 'Price/sqft'}]}\",\n",
       "       \"{'atAGlanceFacts': [{'factValue': '1961', 'factLabel': 'Year built'}, {'factValue': '1967', 'factLabel': 'Remodeled year'}, {'factValue': 'Forced Air', 'factLabel': 'Heating'}, {'factValue': 'Central', 'factLabel': 'Cooling'}, {'factValue': 'Attached Garage', 'factLabel': 'Parking'}, {'factValue': '8,626 sqft', 'factLabel': 'lotsize'}, {'factValue': '$965/sqft', 'factLabel': 'Price/sqft'}]}\",\n",
       "       \"{'atAGlanceFacts': [{'factValue': '2006', 'factLabel': 'Year built'}, {'factValue': '2006', 'factLabel': 'Remodeled year'}, {'factValue': 'Forced Air', 'factLabel': 'Heating'}, {'factValue': 'Central', 'factLabel': 'Cooling'}, {'factValue': 'Detached Garage', 'factLabel': 'Parking'}, {'factValue': '8,220 sqft', 'factLabel': 'lotsize'}, {'factValue': '$371/sqft', 'factLabel': 'Price/sqft'}]}\",\n",
       "       \"{'atAGlanceFacts': [{'factValue': '', 'factLabel': 'Year built'}, {'factValue': '', 'factLabel': 'Remodeled year'}, {'factValue': '', 'factLabel': 'Heating'}, {'factValue': '', 'factLabel': 'Cooling'}, {'factValue': '', 'factLabel': 'Parking'}, {'factValue': '10,019 sqft', 'factLabel': 'lotsize'}, {'factValue': None, 'factLabel': 'Price/sqft'}]}\",\n",
       "       \"{'atAGlanceFacts': [{'factValue': '1920', 'factLabel': 'Year built'}, {'factValue': '', 'factLabel': 'Remodeled year'}, {'factValue': 'Forced Air', 'factLabel': 'Heating'}, {'factValue': 'Central', 'factLabel': 'Cooling'}, {'factValue': '', 'factLabel': 'Parking'}, {'factValue': '680 sqft', 'factLabel': 'lotsize'}, {'factValue': '$233/sqft', 'factLabel': 'Price/sqft'}]}\",\n",
       "       \"{'atAGlanceFacts': [{'factValue': '2006', 'factLabel': 'Year built'}, {'factValue': '2006', 'factLabel': 'Remodeled year'}, {'factValue': 'Electric, Heat Pump', 'factLabel': 'Heating'}, {'factValue': 'Central Air', 'factLabel': 'Cooling'}, {'factValue': '', 'factLabel': 'Parking'}, {'factValue': '4,996 Sq. Ft.', 'factLabel': 'lotsize'}, {'factValue': '$120 / Sq. Ft.', 'factLabel': 'Price/sqft'}]}\",\n",
       "       \"{'atAGlanceFacts': [{'factValue': '1976', 'factLabel': 'Year built'}, {'factValue': '', 'factLabel': 'Remodeled year'}, {'factValue': '', 'factLabel': 'Heating'}, {'factValue': '', 'factLabel': 'Cooling'}, {'factValue': '', 'factLabel': 'Parking'}, {'factValue': '8,750 Sq. Ft.', 'factLabel': 'lotsize'}, {'factValue': '$57 / Sq. Ft.', 'factLabel': 'Price/sqft'}]}\",\n",
       "       \"{'atAGlanceFacts': [{'factValue': '1970', 'factLabel': 'Year built'}, {'factValue': '', 'factLabel': 'Remodeled year'}, {'factValue': 'Forced Air', 'factLabel': 'Heating'}, {'factValue': 'Central', 'factLabel': 'Cooling'}, {'factValue': '', 'factLabel': 'Parking'}, {'factValue': '124582', 'factLabel': 'lotsize'}, {'factValue': '$68', 'factLabel': 'Price/sqft'}]}\",\n",
       "       \"{'atAGlanceFacts': [{'factValue': '2019', 'factLabel': 'Year built'}, {'factValue': None, 'factLabel': 'Remodeled year'}, {'factValue': 'Gas', 'factLabel': 'Heating'}, {'factValue': 'Central', 'factLabel': 'Cooling'}, {'factValue': 'Attached Garage', 'factLabel': 'Parking'}, {'factValue': '2,056 sqft', 'factLabel': 'lotsize'}, {'factValue': '$162', 'factLabel': 'Price/sqft'}]}\"],\n",
       "      dtype=object)"
      ]
     },
     "execution_count": 97,
     "metadata": {},
     "output_type": "execute_result"
    }
   ],
   "source": [
    "df['homeFacts'].head(10).values"
   ]
  },
  {
   "cell_type": "markdown",
   "metadata": {},
   "source": [
    "На первый взгляд структура одинаковая."
   ]
  },
  {
   "cell_type": "code",
   "execution_count": 98,
   "metadata": {},
   "outputs": [],
   "source": [
    "# разберем признак и выделим из него новые данные\n",
    "def home_facts_analysis(feature):\n",
    "    try:\n",
    "        # получим список словарей\n",
    "        ls_dict = ast.literal_eval(feature)['atAGlanceFacts']\n",
    "        dict_result = {}\n",
    "        for home_facts in ls_dict:\n",
    "            # сразу обработаем пустые значения\n",
    "            if home_facts['factValue'] == '' or home_facts['factValue'] == None:\n",
    "                fact_value = np.nan\n",
    "            else:\n",
    "                fact_value = home_facts['factValue']\n",
    "            \n",
    "            dict_result[home_facts['factLabel']] = fact_value\n",
    "        \n",
    "        result = pd.Series([\n",
    "            dict_result['Year built'],\n",
    "            dict_result['Remodeled year'],\n",
    "            dict_result['Heating'],\n",
    "            dict_result['Cooling'],\n",
    "            dict_result['Parking'],\n",
    "            dict_result['lotsize'],\n",
    "            dict_result['Price/sqft']\n",
    "        ])\n",
    "        return result\n",
    "    except (KeyError, SyntaxError, ValueError):\n",
    "        print('Ошибка обработки homeFacts:', feature)\n",
    "        result = pd.Series([\n",
    "            np.nan,\n",
    "            np.nan,\n",
    "            np.nan,\n",
    "            np.nan,\n",
    "            np.nan,\n",
    "            np.nan,\n",
    "            np.nan\n",
    "        ])\n",
    "        return result\n",
    " \n",
    "\n",
    "df[['Year built',\n",
    "    'Remodeled year',\n",
    "    'Heating',\n",
    "    'Cooling',\n",
    "    'Parking',\n",
    "    'lotsize',\n",
    "    'Price/sqft']] = df['homeFacts'].apply(home_facts_analysis)"
   ]
  },
  {
   "cell_type": "markdown",
   "metadata": {},
   "source": [
    "Ошибок при обработке не возникло. Посмотрим на новые признаки."
   ]
  },
  {
   "cell_type": "code",
   "execution_count": 99,
   "metadata": {},
   "outputs": [
    {
     "data": {
      "text/html": [
       "<div>\n",
       "<style scoped>\n",
       "    .dataframe tbody tr th:only-of-type {\n",
       "        vertical-align: middle;\n",
       "    }\n",
       "\n",
       "    .dataframe tbody tr th {\n",
       "        vertical-align: top;\n",
       "    }\n",
       "\n",
       "    .dataframe thead th {\n",
       "        text-align: right;\n",
       "    }\n",
       "</style>\n",
       "<table border=\"1\" class=\"dataframe\">\n",
       "  <thead>\n",
       "    <tr style=\"text-align: right;\">\n",
       "      <th></th>\n",
       "      <th>Year built</th>\n",
       "      <th>Remodeled year</th>\n",
       "      <th>Heating</th>\n",
       "      <th>Cooling</th>\n",
       "      <th>Parking</th>\n",
       "      <th>lotsize</th>\n",
       "      <th>Price/sqft</th>\n",
       "    </tr>\n",
       "  </thead>\n",
       "  <tbody>\n",
       "    <tr>\n",
       "      <th>0</th>\n",
       "      <td>2019</td>\n",
       "      <td>NaN</td>\n",
       "      <td>Central A/C, Heat Pump</td>\n",
       "      <td>NaN</td>\n",
       "      <td>NaN</td>\n",
       "      <td>NaN</td>\n",
       "      <td>$144</td>\n",
       "    </tr>\n",
       "    <tr>\n",
       "      <th>1</th>\n",
       "      <td>2019</td>\n",
       "      <td>NaN</td>\n",
       "      <td>NaN</td>\n",
       "      <td>NaN</td>\n",
       "      <td>NaN</td>\n",
       "      <td>5828 sqft</td>\n",
       "      <td>$159/sqft</td>\n",
       "    </tr>\n",
       "    <tr>\n",
       "      <th>2</th>\n",
       "      <td>1961</td>\n",
       "      <td>1967</td>\n",
       "      <td>Forced Air</td>\n",
       "      <td>Central</td>\n",
       "      <td>Attached Garage</td>\n",
       "      <td>8,626 sqft</td>\n",
       "      <td>$965/sqft</td>\n",
       "    </tr>\n",
       "    <tr>\n",
       "      <th>3</th>\n",
       "      <td>2006</td>\n",
       "      <td>2006</td>\n",
       "      <td>Forced Air</td>\n",
       "      <td>Central</td>\n",
       "      <td>Detached Garage</td>\n",
       "      <td>8,220 sqft</td>\n",
       "      <td>$371/sqft</td>\n",
       "    </tr>\n",
       "    <tr>\n",
       "      <th>4</th>\n",
       "      <td>NaN</td>\n",
       "      <td>NaN</td>\n",
       "      <td>NaN</td>\n",
       "      <td>NaN</td>\n",
       "      <td>NaN</td>\n",
       "      <td>10,019 sqft</td>\n",
       "      <td>NaN</td>\n",
       "    </tr>\n",
       "  </tbody>\n",
       "</table>\n",
       "</div>"
      ],
      "text/plain": [
       "  Year built Remodeled year                 Heating  Cooling          Parking  \\\n",
       "0       2019            NaN  Central A/C, Heat Pump      NaN              NaN   \n",
       "1       2019            NaN                     NaN      NaN              NaN   \n",
       "2       1961           1967              Forced Air  Central  Attached Garage   \n",
       "3       2006           2006              Forced Air  Central  Detached Garage   \n",
       "4        NaN            NaN                     NaN      NaN              NaN   \n",
       "\n",
       "       lotsize Price/sqft  \n",
       "0          NaN       $144  \n",
       "1    5828 sqft  $159/sqft  \n",
       "2   8,626 sqft  $965/sqft  \n",
       "3   8,220 sqft  $371/sqft  \n",
       "4  10,019 sqft        NaN  "
      ]
     },
     "execution_count": 99,
     "metadata": {},
     "output_type": "execute_result"
    }
   ],
   "source": [
    "df[['Year built', 'Remodeled year', 'Heating', 'Cooling', 'Parking', 'lotsize', 'Price/sqft']].head()"
   ]
  },
  {
   "cell_type": "code",
   "execution_count": 100,
   "metadata": {},
   "outputs": [
    {
     "data": {
      "text/plain": [
       "Remodeled year    60.003097\n",
       "Parking           46.563659\n",
       "Cooling           32.832709\n",
       "Heating           28.981124\n",
       "Year built        16.555570\n",
       "Price/sqft        16.479222\n",
       "lotsize           16.297694\n",
       "dtype: float64"
      ]
     },
     "metadata": {},
     "output_type": "display_data"
    }
   ],
   "source": [
    "# Посмотрим на наличие пропусков в данных\n",
    "cols_null_percent = df[['Year built', 'Remodeled year', 'Heating', 'Cooling', 'Parking', 'lotsize', 'Price/sqft']].isnull().mean() * 100\n",
    "cols_with_null = cols_null_percent[cols_null_percent > 0].sort_values(ascending=False)\n",
    "display(cols_with_null)"
   ]
  },
  {
   "cell_type": "markdown",
   "metadata": {},
   "source": [
    "В данных есть пропуски, но на первый взгляд они обоснованы. Реконструкция могла не проводится, парковки и системы кондиционирования может не быть.  \n",
    "Проанализируем каждый признак.\n",
    "\n",
    "Начнем с Year built."
   ]
  },
  {
   "cell_type": "code",
   "execution_count": 101,
   "metadata": {},
   "outputs": [
    {
     "data": {
      "text/plain": [
       "Year built\n",
       "2019    32137\n",
       "2006     7954\n",
       "2005     7449\n",
       "2007     7094\n",
       "2018     6844\n",
       "        ...  \n",
       "1740        1\n",
       "1845        1\n",
       "1208        1\n",
       "1823        1\n",
       "1804        1\n",
       "Name: count, Length: 227, dtype: int64"
      ]
     },
     "execution_count": 101,
     "metadata": {},
     "output_type": "execute_result"
    }
   ],
   "source": [
    "df['Year built'].value_counts()"
   ]
  },
  {
   "cell_type": "code",
   "execution_count": 102,
   "metadata": {},
   "outputs": [
    {
     "data": {
      "text/plain": [
       "array(['2019', '1961', '2006', nan, '1920', '1976', '1970', '1965',\n",
       "       '2015', '1996', '1982', '1905', '2008', '1899', '2016', '1954',\n",
       "       '1989', '2014', '1915', '1994', '1910', '1923', '1960', '1977',\n",
       "       '1972', '1963', '1981', '1949', '1930', '1991', '1958', '2005',\n",
       "       '2017', '2018', '1983', '1928', '1998', '1997', '1964', '1974',\n",
       "       '1940', '1973', '1968', '1999', '1918', '2007', '1984', '1946',\n",
       "       '2003', '2000', '2004', '1969', '2002', '1952', '1947', '1957',\n",
       "       '1978', '1956', '1967', '1975', '1988', '1955', '1950', '1959',\n",
       "       '2012', '1924', '1966', '1992', '2001', '1995', '2010', '1971',\n",
       "       '1909', '1953', '1993', '1990', '1980', '1985', '1951', '1907',\n",
       "       '1885', '1941', '1927', '1929', '1901', '1922', '1906', '1945',\n",
       "       '1979', '2009', '1962', '1913', '2011', '1897', '1987', '2020',\n",
       "       '1926', '1939', '1925', '2013', '1986', 'No Data', '1943', '1935',\n",
       "       '1890', '1895', '1911', '1948', '1942', '1916', '1900', '1931',\n",
       "       '1944', '1893', '1879', '1914', '1937', '1912', '1938', '1921',\n",
       "       '1860', '1850', '1936', '1861', '1898', '1908', '1865', '1917',\n",
       "       '1740', '1934', '1902', '1880', '1700', '1904', '1932', '1896',\n",
       "       '1892', '1830', '1919', '1933', '1875', '1888', '1832', '1903',\n",
       "       '1872', '1864', '1886', '2021', '1873', '1887', '1884', '1800',\n",
       "       '1889', '1852', '1870', '1858', '1869', '1894', '1840', '1881',\n",
       "       '1829', '1891', '1868', '1824', '1820', '1846', '1854', '1799',\n",
       "       '1828', '1878', '1876', '1815', '1877', '1810', '1835', '1822',\n",
       "       '1862', '1866', '1836', '1853', '1807', '1867', '1847', '1794',\n",
       "       '1874', '1848', '1795', '1831', '1883', '1803', '1871', '1859',\n",
       "       '1823', '1817', '1844', '1863', '559990649990', '1796', '1809',\n",
       "       '1851', '2022', '1882', '1842', '1818', '1', '1857', '1208',\n",
       "       '1825', '1845', '2025', '1811', '1855', '1750', '1057', '1703',\n",
       "       '1812', '1856', '1816', '1834', '1060', '1790', '1788', '1735',\n",
       "       '1019', '1805', '1843', '1808', '1804'], dtype=object)"
      ]
     },
     "execution_count": 102,
     "metadata": {},
     "output_type": "execute_result"
    }
   ],
   "source": [
    "df['Year built'].unique()"
   ]
  },
  {
   "cell_type": "markdown",
   "metadata": {},
   "source": [
    "Выглядит неплохо."
   ]
  },
  {
   "cell_type": "code",
   "execution_count": 103,
   "metadata": {},
   "outputs": [],
   "source": [
    "# Переведем признак в числовой вид.\n",
    "df['Year built'] = df['Year built'].apply(feature_to_int)\n",
    "\n",
    "# удалим заведомо ложные значения\n",
    "mask_1 = df['Year built'] < 1000\n",
    "mask_2 = df['Year built'] > 2023\n",
    "index_list = df[mask_1 | mask_2].index\n",
    "df.loc[index_list, 'Year built'] = np.nan\n",
    "\n",
    "#пропуски заполним медианой\n",
    "median_year_built = df['Year built'].median()\n",
    "df['Year built'] = df['Year built'].fillna(median_year_built)\n"
   ]
  },
  {
   "cell_type": "markdown",
   "metadata": {},
   "source": [
    "Переведем год постройки в возраст строения. Считать будем относительно текущего года."
   ]
  },
  {
   "cell_type": "code",
   "execution_count": 104,
   "metadata": {},
   "outputs": [],
   "source": [
    "current_year = 2024\n",
    "df['age_of_the_object'] = current_year - df['Year built']"
   ]
  },
  {
   "cell_type": "markdown",
   "metadata": {},
   "source": [
    "Посмотрим на Remodeled year."
   ]
  },
  {
   "cell_type": "code",
   "execution_count": 105,
   "metadata": {},
   "outputs": [
    {
     "data": {
      "text/plain": [
       "Remodeled year\n",
       "2006    5493\n",
       "2005    4777\n",
       "2007    4354\n",
       "2008    3764\n",
       "2004    3343\n",
       "        ... \n",
       "1888       1\n",
       "1800       1\n",
       "1738       1\n",
       "1869       1\n",
       "1862       1\n",
       "Name: count, Length: 153, dtype: int64"
      ]
     },
     "execution_count": 105,
     "metadata": {},
     "output_type": "execute_result"
    }
   ],
   "source": [
    "df['Remodeled year'].value_counts()"
   ]
  },
  {
   "cell_type": "code",
   "execution_count": 106,
   "metadata": {},
   "outputs": [
    {
     "data": {
      "text/plain": [
       "array([nan, '1967', '2006', '2015', '1997', '2019', '1982', '1905',\n",
       "       '2009', '2007', '1996', '1995', '1988', '1972', '1949', '1954',\n",
       "       '1930', '2003', '2000', '1994', '2005', '1983', '1965', '1968',\n",
       "       '1993', '1999', '2014', '2008', '2010', '2004', '2002', '1952',\n",
       "       '1978', '1975', '1971', '1947', '1957', '1950', '1973', '1970',\n",
       "       '2016', '1989', '1998', '1980', '1955', '1991', '2011', '2017',\n",
       "       '1986', '1941', '2001', '1990', '1979', '1901', '1984', '1918',\n",
       "       '1977', '1962', '1956', '2013', '1960', '1981', '1969', '1987',\n",
       "       '1958', '1910', '1925', '1964', '1966', '1992', '1943', '1961',\n",
       "       '1948', '1931', '2012', '1976', '1974', '1935', '1940', '2018',\n",
       "       '1916', '1914', '1963', '1985', '1951', '1944', '1942', '1959',\n",
       "       '1927', '1946', '1945', '1920', '1938', '1936', '0', '1939',\n",
       "       '1915', '1928', '1923', '1929', '1898', '1899', '1934', '1953',\n",
       "       '1926', '1937', '1912', '1917', '1906', '1932', '1919', '1921',\n",
       "       '1924', '1907', '1911', '1900', '1913', '1895', '1908', '1903',\n",
       "       '1904', '1933', '1894', '1892', '1922', '1909', '1880', '1902',\n",
       "       '1877', '2020', '1893', '1890', '1891', '1889', '2021', '1869',\n",
       "       '1884', '1897', '1111', '1886', '1846', '1845', '1896', '1885',\n",
       "       '1870', '1887', '1883', '1853', '1888', '1800', '1738', '1876',\n",
       "       '1874', '1862'], dtype=object)"
      ]
     },
     "execution_count": 106,
     "metadata": {},
     "output_type": "execute_result"
    }
   ],
   "source": [
    "df['Remodeled year'].unique()"
   ]
  },
  {
   "cell_type": "markdown",
   "metadata": {},
   "source": [
    "Проведем те же проебразования, что и для года постройки."
   ]
  },
  {
   "cell_type": "code",
   "execution_count": 107,
   "metadata": {},
   "outputs": [],
   "source": [
    "# Переведем признак в числовой вид.\n",
    "df['Remodeled year'] = df['Remodeled year'].apply(feature_to_int)\n",
    "\n",
    "# удалим заведомо ложные значения\n",
    "mask_1 = df['Remodeled year'] < 1000\n",
    "mask_2 = df['Remodeled year'] > 2023\n",
    "index_list = df[mask_1 | mask_2].index\n",
    "df.loc[index_list, 'Remodeled year'] = np.nan"
   ]
  },
  {
   "cell_type": "markdown",
   "metadata": {},
   "source": [
    "Для признака Remodeled year установим следующее правило. Для пропущенных значений и значений меньших чем Year built, установим значение Year built."
   ]
  },
  {
   "cell_type": "code",
   "execution_count": 108,
   "metadata": {},
   "outputs": [],
   "source": [
    "mask_1 = df['Remodeled year'].isnull()\n",
    "mask_2 = df['Remodeled year'] < df['Year built']\n",
    "index_list = df[mask_1 | mask_2].index\n",
    "df.loc[index_list, 'Remodeled year'] = df.loc[index_list, 'Year built']\n",
    "df['age_of_the_remodeled'] = current_year - df['Remodeled year']"
   ]
  },
  {
   "cell_type": "markdown",
   "metadata": {},
   "source": [
    "Есть подозрение, что признаки age_of_the_object и age_of_the_remodeled будут сильно коррелировать между собой. Проверим это и примем окончательное решение при отборе признаков."
   ]
  },
  {
   "cell_type": "markdown",
   "metadata": {},
   "source": [
    "Возьмем в работу признак Heating.  \n",
    "Покопавшись немного в интернете можно сделать вывод, что наиболее популярными системами отопления являются воздушное, газовое и электрическое. Попробуем выделить эти типы и возможно другие популярные, а остальные определить в группу other."
   ]
  },
  {
   "cell_type": "code",
   "execution_count": 109,
   "metadata": {},
   "outputs": [
    {
     "data": {
      "text/plain": [
       "Heating\n",
       "Forced Air                     82354\n",
       "Forced air                     51121\n",
       "Other                          29064\n",
       "Electric                       10169\n",
       "Gas                             9263\n",
       "No Data                         8415\n",
       "Central Air                     7814\n",
       "Central Electric                7112\n",
       "Central                         6245\n",
       "Heat Pump                       6076\n",
       "Central, Electric               4252\n",
       "Baseboard                       3771\n",
       "Wall                            3277\n",
       "Electric Heat                   3062\n",
       "Heat pump                       2730\n",
       "Heating System                  2709\n",
       "Forced air, Heat pump           1724\n",
       "Radiant                         1481\n",
       "Central Air, Ceiling Fan(s)     1431\n",
       "Natural Gas Heat                1383\n",
       "Name: count, dtype: int64"
      ]
     },
     "execution_count": 109,
     "metadata": {},
     "output_type": "execute_result"
    }
   ],
   "source": [
    "df['Heating'].value_counts()[:20]"
   ]
  },
  {
   "cell_type": "code",
   "execution_count": 110,
   "metadata": {},
   "outputs": [],
   "source": [
    "def clearing_heating(feature):\n",
    "    # списки синонимов\n",
    "    air = ['HEAT PUMP']\n",
    "    #gas = []\n",
    "    #electric = []\n",
    "    #other =[]\n",
    "    #'AIR','GAS','ELECTRIC'\n",
    "\n",
    "    if feature != feature:\n",
    "        return 'NO DATA'\n",
    "    else:\n",
    "        # удаляем лишние пробелы, переводим в верхний регистр\n",
    "        feature_temp = ' '.join(feature.strip().split()).upper()\n",
    "        \n",
    "        # замены по списку\n",
    "        if feature_temp in air: return 'AIR'\n",
    "        # if feature_temp in gas: return 'GAS'\n",
    "        # if feature_temp in electric: return 'ELECTRIC'\n",
    "        # if feature_temp in other: return 'OTHER'\n",
    " \n",
    "        # замены по вхождению\n",
    "        if 'AIR' in feature_temp: return 'AIR'\n",
    "        if 'GAS' in feature_temp: return 'GAS'\n",
    "        if 'ELECTRIC' in feature_temp: return 'ELECTRIC'\n",
    "        if 'OTHER' in feature_temp: return 'OTHER'\n",
    "        if 'HEAT PUMP' in feature_temp: return 'AIR'\n",
    "        if 'REFRIGERATION' in feature_temp: return 'AIR'\n",
    "        if 'CENTRAL' in feature_temp: return 'CENTRAL'\n",
    "        if 'BASEBOARD' in feature_temp: return 'BASEBOARD'\n",
    "        if 'WALL' in feature_temp: return 'WALL'\n",
    "                \n",
    "        return feature_temp\n",
    "\n",
    "# чистим\n",
    "df['Heating'] = df['Heating'].apply(clearing_heating)"
   ]
  },
  {
   "cell_type": "markdown",
   "metadata": {},
   "source": [
    "Ограничимся топ 10 значениями."
   ]
  },
  {
   "cell_type": "code",
   "execution_count": 111,
   "metadata": {},
   "outputs": [
    {
     "data": {
      "text/plain": [
       "Heating\n",
       "AIR               163011\n",
       "NO DATA           116978\n",
       "OTHER              31433\n",
       "ELECTRIC           27913\n",
       "GAS                14646\n",
       "CENTRAL             8453\n",
       "BASEBOARD           4107\n",
       "WALL                3868\n",
       "HEATING SYSTEM      2709\n",
       "RADIANT             1481\n",
       "Name: count, dtype: int64"
      ]
     },
     "execution_count": 111,
     "metadata": {},
     "output_type": "execute_result"
    }
   ],
   "source": [
    "list_top = df['Heating'].value_counts()[:10].index\n",
    "df['Heating'] = df['Heating'].apply(lambda x: x if x in list_top else 'OTHER')\n",
    "df['Heating'].value_counts()"
   ]
  },
  {
   "cell_type": "markdown",
   "metadata": {},
   "source": [
    "Признак Cooling"
   ]
  },
  {
   "cell_type": "code",
   "execution_count": 112,
   "metadata": {},
   "outputs": [
    {
     "data": {
      "text/plain": [
       "Cooling\n",
       "Central                                                        157628\n",
       "Central Air                                                     14382\n",
       "No Data                                                         10395\n",
       "Has Cooling                                                      9729\n",
       "None                                                             7291\n",
       "Central Electric                                                 6154\n",
       "Wall                                                             3983\n",
       "Central Gas                                                      3573\n",
       "Central Heating                                                  2807\n",
       "Cooling System                                                   2700\n",
       "Central A/C                                                      2051\n",
       "Other                                                            1791\n",
       "Central A/C (Electric), Central Heat (Gas)                       1646\n",
       "Central A/C (Electric), Central Heat (Electric)                  1429\n",
       "Refrigeration                                                    1061\n",
       "Central, Electric                                                1059\n",
       "Electric                                                         1009\n",
       "Evaporative                                                       987\n",
       "Central Air, Gas Hot Air/Furnace                                  827\n",
       "Refrigeration, Ceiling Fan(s)                                     787\n",
       "Central Gas, Zoned                                                747\n",
       "Central, Wall                                                     723\n",
       "Air Conditioning-Central                                          637\n",
       "Has Heating                                                       582\n",
       "2 or More Units, Central, Electric                                570\n",
       "Central Air, Gas (Hot Air)                                        504\n",
       "Central Electric, Zoned                                           465\n",
       "Central Air, Zoned                                                452\n",
       "Solar, Refrigeration                                              421\n",
       "Central, Other                                                    418\n",
       "Ceiling Fan, Central Electric                                     403\n",
       "Electric Heating                                                  398\n",
       "Central Cooling                                                   396\n",
       "Heat Pump                                                         387\n",
       "Gas Heating                                                       331\n",
       "Central A/C (Electric), Central Heat (Gas), Zoned                 301\n",
       "Central Electric, Heat Pump                                       277\n",
       "Gas Heating, Forced Air Heating                                   260\n",
       "Heat Pump - AC                                                    252\n",
       "Central Air, Gas Hot Air/Furnace, Multizone A/C                   229\n",
       "Central Electric, Central Gas                                     225\n",
       "Forced Air Heating                                                200\n",
       "Central Air, Humidity Control                                     189\n",
       "Wall/Window Unit(s)                                               176\n",
       "Heat Pump for A/C, Heat Pump for Heat                             176\n",
       "Window Unit(s)                                                    172\n",
       "Refrigeration, Ceiling Fan(s), Programmable Thmstat               167\n",
       "Central Heating, Heat Pump Heating                                159\n",
       "Central Air, Gas (Hot Air), Multi-Zone A/C, Multi-Zone Heat       145\n",
       "Steam Heating                                                     139\n",
       "Name: count, dtype: int64"
      ]
     },
     "execution_count": 112,
     "metadata": {},
     "output_type": "execute_result"
    }
   ],
   "source": [
    "df['Cooling'].value_counts()[:50]"
   ]
  },
  {
   "cell_type": "markdown",
   "metadata": {},
   "source": [
    "Видится разумным ограничиться указанием на наличие или отсутствие системы кондиционирования и не делить ее на различные типы."
   ]
  },
  {
   "cell_type": "code",
   "execution_count": 113,
   "metadata": {},
   "outputs": [],
   "source": [
    "def clearing_feature(feature):\n",
    "\n",
    "    if feature != feature:\n",
    "        return 0\n",
    "    else:\n",
    "        # удаляем лишние пробелы, переводим в верхний регистр\n",
    "        feature_temp = ' '.join(feature.strip().split()).upper()\n",
    "\n",
    "        if 'NO DATA' == feature_temp or 'NONE' == feature_temp or '0' == feature_temp:\n",
    "            return 0\n",
    "                \n",
    "        return 1\n",
    "\n",
    "# чистим\n",
    "df['Cooling'] = df['Cooling'].apply(clearing_feature)"
   ]
  },
  {
   "cell_type": "markdown",
   "metadata": {},
   "source": [
    "Признак Parking"
   ]
  },
  {
   "cell_type": "code",
   "execution_count": 114,
   "metadata": {},
   "outputs": [
    {
     "data": {
      "text/plain": [
       "Parking\n",
       "Attached Garage                     70240\n",
       "2 spaces                            27865\n",
       "1 space                             14109\n",
       "Detached Garage                     13093\n",
       "No Data                             13022\n",
       "Carport                              7664\n",
       "3 spaces                             4702\n",
       "Off Street                           3601\n",
       "Carport, Attached Garage             3005\n",
       "1                                    2928\n",
       "4 spaces                             2900\n",
       "2                                    2745\n",
       "None                                 2342\n",
       "Off street                           1639\n",
       "Attached Garage, Detached Garage     1334\n",
       "On Street                            1237\n",
       "0                                    1114\n",
       "Attached Garage, Carport              987\n",
       "Parking Desc                          900\n",
       "6 spaces                              748\n",
       "Detached Garage, Attached Garage      720\n",
       "Driveway                              692\n",
       "5 spaces                              654\n",
       "4                                     603\n",
       "On street                             460\n",
       "Parking Type                          447\n",
       "3                                     444\n",
       "Off Street, Attached Garage           444\n",
       "Off street parking                    430\n",
       "Carport, Detached Garage              400\n",
       "Name: count, dtype: int64"
      ]
     },
     "execution_count": 114,
     "metadata": {},
     "output_type": "execute_result"
    }
   ],
   "source": [
    "df['Parking'].value_counts()[:30]"
   ]
  },
  {
   "cell_type": "markdown",
   "metadata": {},
   "source": [
    "Так же как и для системы охлаждения, ограним разбор признака указанием на наличие или отсутствие парковки."
   ]
  },
  {
   "cell_type": "code",
   "execution_count": 115,
   "metadata": {},
   "outputs": [],
   "source": [
    "# воспользуемся той же функцией, т.к. алгоритм не отличается\n",
    "df['Parking'] = df['Parking'].apply(clearing_feature)"
   ]
  },
  {
   "cell_type": "markdown",
   "metadata": {},
   "source": [
    "Признак lotsize.\n",
    "\n",
    "Поиски в [интернете](https://www.homenish.com/lot-size-vs-house-size/) говорят, что это размер участка земли на котором стоит объект недвижимости."
   ]
  },
  {
   "cell_type": "code",
   "execution_count": 116,
   "metadata": {},
   "outputs": [
    {
     "data": {
      "text/plain": [
       "lotsize\n",
       "—                 25167\n",
       "No Data            5295\n",
       "-- sqft lot        3811\n",
       "0.26 acres         2481\n",
       "0.25 acres         2318\n",
       "                  ...  \n",
       "45128                 1\n",
       "17404                 1\n",
       "12.39 acres           1\n",
       "5539 sqft             1\n",
       "7,084 sqft lot        1\n",
       "Name: count, Length: 37328, dtype: int64"
      ]
     },
     "execution_count": 116,
     "metadata": {},
     "output_type": "execute_result"
    }
   ],
   "source": [
    "df['lotsize'].value_counts()"
   ]
  },
  {
   "cell_type": "markdown",
   "metadata": {},
   "source": [
    "Проведем те же преобразования, что и для площади объекта."
   ]
  },
  {
   "cell_type": "code",
   "execution_count": 117,
   "metadata": {},
   "outputs": [],
   "source": [
    "df['lotsize'] = df['lotsize'].apply(clearing_sqft)\n",
    "\n",
    "# заполним пропуски\n",
    "df['lotsize'] = df['lotsize'].fillna(0)"
   ]
  },
  {
   "cell_type": "markdown",
   "metadata": {},
   "source": [
    "Признак Price/sqft.\n",
    "\n",
    "Цена за единицу площади. Исходя из смысла признака он сильно коррелирует с целевой переменной и его оставление будет давать подсказку модели. Удаляем признак."
   ]
  },
  {
   "cell_type": "code",
   "execution_count": 118,
   "metadata": {},
   "outputs": [],
   "source": [
    "df = df.drop(columns=['Price/sqft'])"
   ]
  },
  {
   "cell_type": "markdown",
   "metadata": {},
   "source": [
    "### Признак schools"
   ]
  },
  {
   "cell_type": "code",
   "execution_count": 119,
   "metadata": {},
   "outputs": [
    {
     "data": {
      "text/plain": [
       "array(['[{\\'rating\\': [\\'4\\', \\'4\\', \\'7\\', \\'NR\\', \\'4\\', \\'7\\', \\'NR\\', \\'NR\\'], \\'data\\': {\\'Distance\\': [\\'2.7 mi\\', \\'3.6 mi\\', \\'5.1 mi\\', \\'4.0 mi\\', \\'10.5 mi\\', \\'12.6 mi\\', \\'2.7 mi\\', \\'3.1 mi\\'], \\'Grades\\': [\\'3–5\\', \\'6–8\\', \\'9–12\\', \\'PK–2\\', \\'6–8\\', \\'9–12\\', \\'PK–5\\', \\'K–12\\']}, \\'name\\': [\\'Southern Pines Elementary School\\', \\'Southern Middle School\\', \\'Pinecrest High School\\', \\'Southern Pines Primary School\\', \"Crain\\'s Creek Middle School\", \\'Union Pines High School\\', \\'Episcopal Day Private School\\', \\'Calvary Christian Private School\\']}]',\n",
       "       \"[{'rating': ['4/10', 'None/10', '4/10'], 'data': {'Distance': ['1.65mi', '1.32mi', '1.01mi'], 'Grades': ['9-12', '3-8', 'PK-8']}, 'name': ['East Valley High School&Extension', 'Eastvalley Middle School', 'Trentwood Elementary School']}]\",\n",
       "       \"[{'rating': ['8/10', '4/10', '8/10'], 'data': {'Distance': ['1.19mi', '2.06mi', '2.63mi'], 'Grades': ['6-8', 'K-5', '9-12']}, 'name': ['Paul Revere Middle School', 'Brentwood Science School', 'Palisades Charter High School']}]\",\n",
       "       \"[{'rating': ['9/10', '9/10', '10/10', '9/10'], 'data': {'Distance': ['1.05mi', '0.1mi', '1.05mi', '0.81mi'], 'Grades': ['5-6', 'PK-4', '7-8', '9-12']}, 'name': ['Mcculloch Intermediate School', 'Bradfield Elementary School', 'Highland Park Middle School', 'Highland Park High School']}]\",\n",
       "       \"[{'rating': ['4/10', '5/10', '5/10'], 'data': {'Distance': ['5.96mi', '3.25mi', '3.03mi'], 'Grades': ['7-8', '9-12', 'PK-6']}, 'name': ['Southwest Middle School', 'Bayside High School', 'Westside Elementary School']}]\"],\n",
       "      dtype=object)"
      ]
     },
     "execution_count": 119,
     "metadata": {},
     "output_type": "execute_result"
    }
   ],
   "source": [
    "df['schools'].unique()[:5]"
   ]
  },
  {
   "cell_type": "code",
   "execution_count": 120,
   "metadata": {},
   "outputs": [
    {
     "data": {
      "text/plain": [
       "[{'rating': ['4', '4', '7', 'NR', '4', '7', 'NR', 'NR'],\n",
       "  'data': {'Distance': ['2.7 mi',\n",
       "    '3.6 mi',\n",
       "    '5.1 mi',\n",
       "    '4.0 mi',\n",
       "    '10.5 mi',\n",
       "    '12.6 mi',\n",
       "    '2.7 mi',\n",
       "    '3.1 mi'],\n",
       "   'Grades': ['3–5', '6–8', '9–12', 'PK–2', '6–8', '9–12', 'PK–5', 'K–12']},\n",
       "  'name': ['Southern Pines Elementary School',\n",
       "   'Southern Middle School',\n",
       "   'Pinecrest High School',\n",
       "   'Southern Pines Primary School',\n",
       "   \"Crain's Creek Middle School\",\n",
       "   'Union Pines High School',\n",
       "   'Episcopal Day Private School',\n",
       "   'Calvary Christian Private School']}]"
      ]
     },
     "execution_count": 120,
     "metadata": {},
     "output_type": "execute_result"
    }
   ],
   "source": [
    "\n",
    "feature = df['schools'].iloc[0]\n",
    "\n",
    "ast.literal_eval(feature)"
   ]
  },
  {
   "cell_type": "markdown",
   "metadata": {},
   "source": [
    "Судя по всему мы имеем, список словарей с ключами:\n",
    "- *rating* - рейтинги школ;\n",
    "- *data* - содержит вложенные словари:\n",
    "    - *Distance* - дистанции до школ;\n",
    "    - *Grades* - ступени школы;\n",
    "- *name* - Название школы."
   ]
  },
  {
   "cell_type": "markdown",
   "metadata": {},
   "source": [
    "Название школы не будем использовать, а на остальные данные надо посмотреть повнимательнее. Из рейтинга, можно вывести средний рейтинг, из расстояния до школы тоже, а из ступеней школы попробую сделать коэффициент покрытия всех уровней образования.\n",
    "\n",
    "Но для начала надо посмотреть на уникальные значения этих признаков."
   ]
  },
  {
   "cell_type": "code",
   "execution_count": 121,
   "metadata": {},
   "outputs": [
    {
     "name": "stdout",
     "output_type": "stream",
     "text": [
      "{'', '7/10', '3', '5/10', '7', '2/10', '5', '2', '9/10', '6', '4/10', 'None/10', '8/10', 'NR', '6/10', '1', '10/10', '9', 'NA', '8', '4', '1/10', '3/10', '10'}\n",
      "{'18.23mi', '0.3 mi', '2.76mi', '14.5 mi', '11.18mi', '25.2 mi', '10.76mi', '5.71mi', '12.44mi', '16.56mi', '20.9 mi', '3.48mi', '10.42mi', '14.66mi', '10.84mi', '32.44mi', '22.37mi', '16.05mi', '20.8 mi', '2.6 mi', '13.5mi', '22.12mi', '26.49mi', '11.0 mi', '5.75mi', '32.89mi', '7.53mi', '18.46mi', '13.06mi', '7.13mi', '13.47mi', '27.32mi', '9.89mi', '1.33mi', '15.19mi', '725.17mi', '5.08mi', '13.23mi', '8.37mi', '32.47mi', '5.28mi', '19.85mi', '0.97mi', '26.21mi', '24.0mi', '29.17mi', '9.85mi', '29.87mi', '34.15mi', '27.91mi', '17.01mi', '33.56mi', '12.01mi', '9.71mi', '1.14mi', '23.34mi', '16.38mi', '20.63mi', '30.36mi', '26.03mi', '34.02mi', '16.47mi', '2.14mi', '6.84mi', '17.59mi', '15.2 mi', '8.89mi', '2.4mi', '2.66mi', '5.27mi', '13.6 mi', '6.18mi', '21.35mi', '27.38mi', '32.5 mi', '5.22mi', '27.09mi', '14.99mi', '32.6 mi', '34.6 mi', '27.69mi', '20.0 mi', '6.2mi', '4.48mi', '28.05mi', '26.36mi', '15.45mi', '23.28mi', '25.49mi', '3.84mi', '33.8 mi', '14.67mi', '15.36mi', '26.45mi', '33.1 mi', '16.52mi', '3.9 mi', '7.03mi', '2.98mi', '10.06mi', '35.02mi', '35.72mi', '14.01mi', '3.32mi', '6.9mi', '20.84mi', '7.09mi', '0.54mi', '10.37mi', '16.44mi', '31.07mi', '29.79mi', '21.69mi', '9.02mi', '13.59mi', '24.58mi', '5.85mi', '10.65mi', '23.22mi', '33.07mi', '20.72mi', '25.03mi', '32.18mi', '33.49mi', '14.55mi', '4.33mi', '10.66mi', '3.39mi', '4.56mi', '35.73mi', '4.31mi', '22.79mi', '23.98mi', '11.77mi', '28.4mi', '24.56mi', '21.08mi', '24.65mi', '18.57mi', '15.09mi', '15.75mi', '8.78mi', '30.5 mi', '30.69mi', '34.44mi', '25.95mi', '40.65mi', '5.15mi', '9.25mi', '3.7mi', '28.9 mi', '48.74mi', '22.6mi', '17.03mi', '28.55mi', '23.62mi', '4.21mi', '4.79mi', '25.87mi', '21.0mi', '0.58mi', '33.79mi', '8.19mi', '2.95mi', '27.05mi', '23.85mi', '30.88mi', '30.29mi', '7.6 mi', '27.4mi', '19.09mi', '19.76mi', '9.6mi', '19.44mi', '3.46mi', '21.64mi', '14.63mi', '6.83mi', '11.53mi', '5.9 mi', '1.72mi', '9.28mi', '1.89mi', '8.58mi', '23.67mi', '0.53mi', '27.36mi', '35.1 mi', '2.56mi', '0.63mi', '7.46mi', '33.7 mi', '3.65mi', '2.54mi', '25.8 mi', '11.74mi', '14.78mi', '3.66mi', '16.82mi', '12.75mi', '2.4 mi', '30.33mi', '28.5mi', '28.88mi', '5.92mi', '18.33mi', '7.87mi', '22.3 mi', '12.14mi', '34.07mi', '19.74mi', '5.68mi', '15.42mi', '30.27mi', '35.35mi', '4.14mi', '15.97mi', '1.82mi', '22.11mi', '30.67mi', '35.26mi', '28.82mi', '0.56mi', '15.0mi', '1591.02mi', '29.33mi', '9.82mi', '4.2mi', '13.94mi', '2.08mi', '33.58mi', '14.53mi', '19.08mi', '3.37mi', '3.78mi', '6.37mi', '0.4 mi', '33.99mi', '10.07mi', '3.97mi', '18.06mi', '33.55mi', '47.8 mi', '33.62mi', '13.22mi', '26.24mi', '17.76mi', '3.25mi', '10.1mi', '8.04mi', '13.09mi', '33.74mi', '6.03mi', '32.04mi', '34.7 mi', '11.7 mi', '28.21mi', '45.13mi', '32.82mi', '34.61mi', '7.28mi', '19.27mi', '25.84mi', '11.26mi', '7.59mi', '7.97mi', '26.17mi', '14.68mi', '15.33mi', '12.84mi', '28.6 mi', '16.25mi', '30.6mi', '9.8 mi', '29.15mi', '12.78mi', '21.94mi', '3.68mi', '3.91mi', '2.59mi', '19.45mi', '23.59mi', '19.18mi', '11.66mi', '9.87mi', '20.01mi', '7.19mi', '6.95mi', '2.94mi', '34.08mi', '24.64mi', '34.84mi', '21 mi', '9.33mi', '3.87mi', '10.3mi', '31.06mi', '2.07mi', '24.23mi', '17.18mi', '3.29mi', '20.92mi', '12.85mi', '4.08mi', '15.88mi', '6.11mi', '23.75mi', '15.39mi', '16.67mi', '33.65mi', '20.38mi', '4.0mi', '19.64mi', '11.94mi', '10.71mi', '2.79mi', '32.0mi', '2.82mi', '28.62mi', '3.88mi', '8.45mi', '37.86mi', '28.63mi', '32.49mi', '10.63mi', '13.14mi', '7.89mi', '6.39mi', '19.05mi', '22.63mi', '3.24mi', '33.33mi', '15.85mi', '1.25mi', '16.4mi', '8.66mi', '7.14mi', '34.58mi', '27.9mi', '2.65mi', '32.75mi', '1.91mi', '7.36mi', '18.64mi', '26.72mi', '17.23mi', '8.2 mi', '23.01mi', '28.77mi', '24.95mi', '4.16mi', '20.93mi', '14.07mi', '19.99mi', '25.29mi', '34.13mi', '27.41mi', '5.69mi', '2.89mi', '1.92mi', '7.77mi', '16.14mi', '18.31mi', '28.41mi', '6.08mi', '17.2mi', '14.77mi', '12.4mi', '3.18mi', '24.9 mi', '15.43mi', '20.62mi', '13.71mi', '29.5 mi', '25.51mi', '26.16mi', '17.3 mi', '26.4mi', '1.36mi', '32.99mi', '25.5mi', '11.57mi', '16.15mi', '12.22mi', '34.0 mi', '17.1 mi', '29.56mi', '19.28mi', '34.03mi', '32.21mi', '1.26mi', '25.27mi', '15.2mi', '23.78mi', '13.87mi', '25.81mi', '5.14mi', '28.47mi', '17.33mi', '35.03mi', '35.11mi', '34.67mi', '22.48mi', '26.02mi', '32.9mi', '2.68mi', '13 mi', '35.42mi', '35.14mi', '8.9mi', '8.86mi', '5.91mi', '7.54mi', '4.18mi', '15.5mi', '16.36mi', '32.15mi', '26.3mi', '34.79mi', '1.96mi', '25.69mi', '26.0 mi', '19.37mi', '0.15mi', '9.31mi', '20.27mi', '7.69mi', '7.06mi', '11.97mi', '32.65mi', '28.02mi', '21.24mi', '31.53mi', '8.99mi', '14.72mi', '8.03mi', '22.24mi', '21.76mi', '2.13mi', '12.02mi', '26.26mi', '28.79mi', '11.43mi', '29.68mi', '9.56mi', '9.61mi', '35.9 mi', '27.99mi', '17.8 mi', '4.59mi', '18.16mi', '28.35mi', '18.08mi', '35.99mi', '2.58mi', '21.52mi', '28.95mi', '16.23mi', '30.82mi', '6.55mi', '0.96mi', '18.76mi', '13.66mi', '16.21mi', '30.96mi', '24.2mi', '15.8 mi', '5.42mi', '12.47mi', '19.91mi', '32.19mi', '3.85mi', '32.1 mi', '13.45mi', '25.4mi', '2.15mi', '33.11mi', '33.91mi', '36.0 mi', '3.9mi', '15.21mi', '11.84mi', '27.58mi', '7.39mi', '21.11mi', '18.2mi', '7.27mi', '31.98mi', '12.1mi', '14.84mi', '22.87mi', '30.65mi', '23.35mi', '21.85mi', '18.54mi', '4.32mi', '12.33mi', '16.62mi', '23.52mi', '3.8mi', '21.26mi', '32.36mi', '29.97mi', '25.12mi', '21.2 mi', '9.0 mi', '8.8 mi', '26.88mi', '30.8mi', '12.06mi', '9.1 mi', '19.58mi', '22.92mi', '35.13mi', '8.2mi', '22.45mi', '9.32mi', '24.36mi', '31.42mi', '2.9 mi', '5.97mi', '18.51mi', '9.73mi', '20.11mi', '21.22mi', '2.37mi', '14.45mi', '17.64mi', '12.55mi', '20.03mi', '7.01mi', '15.67mi', '13.37mi', '17.27mi', '35.64mi', '18.96mi', '7.94mi', '1.05mi', '23.18mi', '5.67mi', '23.09mi', '19.71mi', '35.33mi', '2.25mi', '15.23mi', '10.53mi', '22.57mi', '32.84mi', '2.93mi', '18.13mi', '1.04mi', '27.53mi', '11.02mi', '35.56mi', '22.88mi', '17.4mi', '18.87mi', '28.04mi', '16.93mi', '12.73mi', '19.3 mi', '27.62mi', '33.0mi', '30.81mi', '34.01mi', '12.54mi', '24.71mi', '18.77mi', '2.73mi', '27.9 mi', '16.99mi', '11.9 mi', '8.12mi', '13.29mi', '6.53mi', '12.83mi', '22.01mi', '25.41mi', '26.58mi', '35.28mi', '25.91mi', '0.99mi', '8.6mi', '32.31mi', '20.65mi', '9.93mi', '9.52mi', '9.19mi', '312.7 mi', '14.88mi', '3.63mi', '26.28mi', '12.6mi', '0.3mi', '0.75mi', '16.11mi', '24.9mi', '24.66mi', '35.06mi', '6.05mi', '23.68mi', '15.31mi', '5.86mi', '6.07mi', '21.49mi', '4.6 mi', '23.91mi', '33.42mi', '16.8mi', '12.49mi', '11.61mi', '3.38mi', '16.71mi', '3.1 mi', '11.82mi', '29.07mi', '6.0mi', '7.68mi', '15.58mi', '25.07mi', '1.5 mi', '2.1mi', '22.27mi', '26.82mi', '6.02mi', '8.32mi', '33.71mi', '32.2 mi', '29.02mi', '17.2 mi', '12.25mi', '7.24mi', '10.15mi', '15.0 mi', '0.9mi', '33.3 mi', '30.57mi', '29.11mi', '6.23mi', '2.71mi', '12.13mi', '24.33mi', '3.09mi', '14.26mi', '13.17mi', '11.51mi', '25 mi', '34.25mi', '10.83mi', '14.94mi', '3.6 mi', '20.09mi', '9.78mi', '11.08mi', '4.71mi', '18.0 mi', '17.81mi', '4.4mi', '25.78mi', '29.53mi', '30.85mi', '13.64mi', '25.58mi', '26.6 mi', '19.34mi', '28.54mi', '34.51mi', '6.82mi', '12.48mi', '11.21mi', '24.98mi', '18.74mi', '30.79mi', '2.92mi', '5.94mi', '18.39mi', '0.45mi', '24.1mi', '1.51mi', '17.54mi', '17.94mi', '25.6 mi', '18.2 mi', '3.21mi', '25.22mi', '23.46mi', '12.18mi', '13.91mi', '15.65mi', '23.43mi', '4.87mi', '19.46mi', '14.57mi', '6.44mi', '17.85mi', '28.58mi', '11.8 mi', '18.66mi', '24.22mi', '11.91mi', '20.64mi', '17.05mi', '26.29mi', '17.42mi', '18.56mi', '23.1mi', '7.12mi', '16.02mi', '16.57mi', '5.8 mi', '22.5 mi', '2.0 mi', '725.71mi', '19.1mi', '11.31mi', '28.85mi', '34.66mi', '5.09mi', '27.08mi', '21.27mi', '34.21mi', '24.43mi', '13.56mi', '20.26mi', '16.03mi', '20.66mi', '16.5mi', '21.14mi', '1.83mi', '13.0mi', '11.06mi', '27.72mi', '27.92mi', '1.24mi', '5.24mi', '1.57mi', '5.74mi', '33.28mi', '11.45mi', '17.36mi', '6.81mi', '14.9 mi', '21.8 mi', '1187.14mi', '13.53mi', '21.62mi', '4.98mi', '35.52mi', '27.26mi', '21.4mi', '18.14mi', '13.1 mi', '32.9 mi', '15.72mi', '4.69mi', '15.5 mi', '14.09mi', '23.16mi', '17.97mi', '16.12mi', '17.14mi', '10.08mi', '28.72mi', '20.07mi', '10.78mi', '16.16mi', '28.8mi', '13.92mi', '24.38mi', '30.37mi', '5.99mi', '8.98mi', '21.66mi', '20.06mi', '14.16mi', '4.28mi', '2.9mi', '17.89mi', '26.71mi', '32.35mi', '12.86mi', '8.52mi', '14.75mi', '36.2 mi', '1.63mi', '21.82mi', '4.8mi', '28.64mi', '10.74mi', '12.89mi', '1.0 mi', '33.13mi', '10.93mi', '27.21mi', '18.22mi', '33.75mi', '12.27mi', '34.54mi', '20.4 mi', '31.51mi', '24.45mi', '16.01mi', '30.15mi', '19.68mi', '21.0 mi', '30.93mi', '8.4 mi', '32.78mi', '22 mi', '1.1mi', '4.92mi', '15.03mi', '32.8mi', '8.96mi', '21.57mi', '1.94mi', '18.78mi', '17.41mi', '26.18mi', '35.46mi', '26.97mi', '0.7mi', '24.3 mi', '30.77mi', '6.48mi', '13.15mi', '25.72mi', '19.57mi', '30.1mi', '5.64mi', '18.34mi', '5.93mi', '16.43mi', '5.65mi', '17.12mi', '4.52mi', '1.13mi', '22.96mi', '34.46mi', '29.42mi', '15.48mi', '0.52mi', '20.02mi', '1.43mi', '20.43mi', '22.71mi', '19.06mi', '21.43mi', '24.29mi', '24.94mi', '28.68mi', '11.58mi', '5.66mi', '22.78mi', '27.49mi', '29.69mi', '26.8 mi', '22.89mi', '23.54mi', '5.73mi', '34.1 mi', '16.61mi', '5.76mi', '16.5 mi', '16.45mi', '9.5 mi', '30.21mi', '1.18mi', '0.98mi', '28.22mi', '13.75mi', '16.73mi', '34.41mi', '8.87mi', '14.73mi', '30.52mi', '26.04mi', '9.83mi', '21.7 mi', '23.71mi', '14.12mi', '8.71mi', '26.7 mi', '15.25mi', '16.55mi', '4.24mi', '11.22mi', '27.48mi', '15 mi', '1.01mi', '41.15mi', '25.8mi', '32.59mi', '9.7 mi', '2.88mi', '15.84mi', '28.57mi', '24.28mi', '14.8mi', '0.86mi', '25.73mi', '7.72mi', '10.02mi', '8.17mi', '29.48mi', '1.97mi', '9.17mi', '30.56mi', '1.11mi', '35.62mi', '21.32mi', '11.12mi', '17.21mi', '29.08mi', '20 mi', '35.53mi', '29.91mi', '33.27mi', '6.75mi', '8.28mi', '7.44mi', '20.44mi', '22.59mi', '32.7mi', '1.47mi', '26.67mi', '30.43mi', '13.4mi', '2.3 mi', '9.45mi', '4.26mi', '15.14mi', '23.3mi', '23.87mi', '23.39mi', '16.41mi', '8.24mi', '4.82mi', '22.08mi', '0.74mi', '12.7mi', '5.38mi', '5.7 mi', '8.93mi', '12.03mi', '8.41mi', '23.58mi', '13.63mi', '18.65mi', '17.73mi', '1.45mi', '16.19mi', '25.68mi', '21.38mi', '27.87mi', '22.93mi', '26.07mi', '0.2 mi', '31.72mi', '18.99mi', '9.84mi', '7.22mi', '22.02mi', '1.08mi', '9.91mi', '15.02mi', '26.05mi', '11.48mi', '1.55mi', '5.77mi', '6.19mi', '38.57mi', '33.89mi', '20.16mi', '16.06mi', '9.49mi', '23.55mi', '0.83mi', '12 mi', '28.74mi', '1.19mi', '25.9 mi', '34.72mi', '24.54mi', '22.5mi', '8.11mi', '33.3mi', '33.38mi', '25.67mi', '33.68mi', '6.9 mi', '8.59mi', '16.8 mi', '4.19mi', '21.36mi', '21.58mi', '1590.36mi', '34.0mi', '28.27mi', '25.86mi', '20.82mi', '24.75mi', '1.5mi', '27.76mi', '23.53mi', '28.53mi', '4.44mi', '7.65mi', '14.33mi', '28.52mi', '25.54mi', '17.17mi', '13.58mi', '30.51mi', '17.77mi', '20.6 mi', '35.49mi', '31.62mi', '5.17mi', '23.27mi', '19.62mi', '15.77mi', '22.82mi', '30.1 mi', '4.03mi', '6.58mi', '8.64mi', '15.24mi', '2.04mi', '11.69mi', '9.21mi', '16.79mi', '13.19mi', '12.79mi', '35.54mi', '1.81mi', '13.4 mi', '17.53mi', '12.39mi', '11.46mi', '30.8 mi', '14.04mi', '14.81mi', '29.51mi', '12.93mi', '28.93mi', '28.13mi', '23.4 mi', '20.28mi', '6.59mi', '4.63mi', '14.0mi', '30.49mi', '15.61mi', '20.87mi', '32.37mi', '7.4 mi', '21.54mi', '18.36mi', '12.87mi', '23.4mi', '7.31mi', '34.29mi', '725.2mi', '19.19mi', '13.44mi', '25.46mi', '27.5 mi', '15.46mi', '4.54mi', '19.63mi', '19.32mi', '29.22mi', '22.05mi', '3.14mi', '34.19mi', '33.05mi', '14.08mi', '1.93mi', '24.05mi', '4.84mi', '19.5mi', '31.73mi', '4.55mi', '35.7 mi', '19.82mi', '25.25mi', '21.79mi', '15.51mi', '32.43mi', '21.65mi', '3.92mi', '30.12mi', '4.74mi', '11.04mi', '11.8mi', '18.5 mi', '4.11mi', '1.06mi', '21.74mi', '29.93mi', '48.2 mi', '1590.38mi', '10.6mi', '23.14mi', '6.26mi', '1.62mi', '24.88mi', '22.81mi', '26.64mi', '20.67mi', '28.25mi', '28.61mi', '11.47mi', '464.25mi', '15.13mi', '18.6 mi', '7.55mi', '24.09mi', '34.96mi', '23.8 mi', '22.34mi', '0.49mi', '6.41mi', '6.21mi', '4.51mi', '6.96mi', '5.5mi', '21.2mi', '35.05mi', '26.1mi', '16.0 mi', '32.42mi', '2.8mi', '11.63mi', '22.99mi', '7.0 mi', '28.37mi', '1.23mi', '15.22mi', '32.2mi', '25.85mi', '32.1mi', '27.45mi', '31.3mi', '0.78mi', '10.24mi', '17.02mi', '10.4mi', '30.23mi', '19.7 mi', '34.9mi', '4.57mi', '32.93mi', '0.36mi', '26.46mi', '23.6 mi', '35.3 mi', '5.49mi', '9.66mi', '8.85mi', '27.8mi', '1.0mi', '36.1 mi', '2.69mi', '4.78mi', '33.92mi', '21.99mi', '0.6mi', '4.45mi', '15.56mi', '28.9mi', '23.77mi', '2.27mi', '34.11mi', '3.05mi', '3.02mi', '0.85mi', '4.8 mi', '14.71mi', '11.93mi', '23.0 mi', '4.3 mi', '18.0mi', '6.74mi', '22.52mi', '17.0mi', '18.71mi', '19.53mi', '29.06mi', '11.89mi', '24.5 mi', '30.4 mi', '0.89mi', '21.96mi', '7.98mi', '8.33mi', '23.1 mi', '24.27mi', '27.8 mi', '10.38mi', '16.51mi', '15.8mi', '22.15mi', '22.41mi', '25.28mi', '9.07mi', '4.65mi', '5.41mi', '26.4 mi', '11.38mi', '15.4mi', '32.52mi', '2.26mi', '0.18mi', '11.32mi', '32.51mi', '26.91mi', '10.7mi', '3.45mi', '24.31mi', '5.51mi', '18.48mi', '26.79mi', '25.31mi', '28.59mi', '9.34mi', '21.19mi', '5.61mi', '14.46mi', '13.62mi', '22.77mi', '23.56mi', '27.01mi', '8.82mi', '19.94mi', '9.29mi', '21.39mi', '2.32mi', '25.0mi', '15.57mi', '14.62mi', '35.2 mi', '14.38mi', '34.09mi', '14.4mi', '10.21mi', '6.6 mi', '25.13mi', '33.69mi', '4.9 mi', '29.46mi', '6.57mi', '32.94mi', '0.47mi', '9.77mi', '28.8 mi', '20.98mi', '23.99mi', '0.88mi', '6.4 mi', '1.35mi', '21.42mi', '30.24mi', '6.42mi', '34.04mi', '1.87mi', '33.32mi', '13.21mi', '11.85mi', '10.99mi', '0.43mi', '21.44mi', '16.37mi', '10.31mi', '31.8mi', '30.6 mi', '21.53mi', '27.65mi', '2.77mi', '23.2 mi', '20.13mi', '18.35mi', '16.04mi', '27.82mi', '9.58mi', '28.65mi', '18 mi', '5.31mi', '6.8 mi', '4.39mi', '19.26mi', '40.3mi', '33.4 mi', '28.73mi', '11.76mi', '8.39mi', '35.23mi', '17.46mi', '29.76mi', '0.21mi', '14.3mi', '18.32mi', '31.57mi', '17.11mi', '29.19mi', '24.01mi', '31.29mi', '13.79mi', '10.55mi', '20.5 mi', '5.3mi', '25.33mi', '18.3 mi', '34.5mi', '28.28mi', '5.33mi', '9.15mi', '12.67mi', '9.67mi', '12.53mi', '32.12mi', '29.4mi', '32.41mi', '22.86mi', '17.87mi', '24.85mi', '9.13mi', '27.1 mi', '31.1mi', '6.45mi', '2.85mi', '0.39mi', '14.95mi', '20.29mi', '26.43mi', '1.65mi', '17.74mi', '23.25mi', '21.29mi', '28.15mi', '22.07mi', '21.07mi', '19.92mi', '32.26mi', '10.34mi', '22.1 mi', '33.41mi', '11.14mi', '19.5 mi', '2.0mi', '22.36mi', '32.08mi', '21.21mi', '33.53mi', '0.4mi', '20.3mi', '24.19mi', '24.18mi', '33.76mi', '6.86mi', '6.4mi', '10.56mi', '23.47mi', '0.32mi', '11.98mi', '4.07mi', '18.7 mi', '26.5 mi', '22.42mi', '9.01mi', '1.68mi', '26.98mi', '23.11mi', '13.9 mi', '15.08mi', '33.2 mi', '6.1mi', '17.57mi', '10.2mi', '2.39mi', '16.91mi', '9.41mi', '9.59mi', '24.13mi', '4.43mi', '19.61mi', '24.96mi', '5.37mi', '10.87mi', '32.85mi', '8.0 mi', '14.56mi', '33.86mi', '10.03mi', '22.73mi', '24.02mi', '7.73mi', '10.67mi', '27.43mi', '32.6mi', '31.1 mi', '18.03mi', '3.75mi', '2.55mi', '1.61mi', '13.01mi', '24.7mi', '19.52mi', '11.54mi', '9.1mi', '31.45mi', '25.16mi', '5.56mi', '3.98mi', '30.14mi', '35.47mi', '13.68mi', '26.53mi', '27.37mi', '3.52mi', '1.86mi', '5.32mi', '3.43mi', '20.59mi', '7.04mi', '26.34mi', '5.1mi', '33.47mi', '9.54mi', '13.8 mi', '19 mi', '21.12mi', '33.31mi', '31.97mi', '725.73mi', '7.26mi', '14.83mi', '29.75mi', '12.38mi', '7.8mi', '14.44mi', '22.9 mi', '18.42mi', '33.25mi', '3.0 mi', '23.15mi', '26.39mi', '30.17mi', '34.59mi', '24.72mi', '27.61mi', '31.22mi', '23.9mi', '23.37mi', '17.99mi', '3.74mi', '8.4mi', '2.81mi', '6.8mi', '8.08mi', '11.5mi', '24.35mi', '32.28mi', '12.31mi', '15.37mi', '14.1mi', '34.2mi', '13.27mi', '23.7mi', '27.67mi', '32.83mi', '31.03mi', '9.69mi', '31.6mi', '20.54mi', '3.22mi', '26.78mi', '32.72mi', '21.18mi', '54.8 mi', '5.44mi', '3.15mi', '28.16mi', '21.84mi', '10.47mi', '12.96mi', '8.15mi', '3.94mi', '6.25mi', '8.63mi', '7.58mi', '29.4 mi', '21.6mi', '9.76mi', '30.01mi', '15.9 mi', '8.74mi', '30.39mi', '25.5 mi', '28.18mi', '15.11mi', '3.82mi', '18.84mi', '9.37mi', '33.57mi', '35.77mi', '34.55mi', '17.7mi', '24.3mi', '9.2mi', '15.38mi', '8.76mi', '11.0mi', '18.26mi', '33.8mi', '25.45mi', '19.03mi', '27.11mi', '3 mi', '12.63mi', '12.12mi', '30.7 mi', '8.65mi', '5.23mi', '11.1 mi', '27.35mi', '6.52mi', '25.17mi', '25.36mi', '24.77mi', '7.83mi', '33.73mi', '29.65mi', '22.61mi', '2.78mi', '24.91mi', '24.78mi', '2.01mi', '5.3 mi', '27.79mi', '22.47mi', '2.1 mi', '30.62mi', '21.88mi', '6.35mi', '14.25mi', '12.8mi', '21.56mi', '5.88mi', '25.06mi', '33.83mi', '11.33mi', '21.95mi', '19.36mi', '22.4 mi', '23.07mi', '34.74mi', '8.83mi', '23.32mi', '7.48mi', '18.19mi', '9.43mi', '0.7 mi', '3.08mi', '9.5mi', '27.42mi', '8.7 mi', '9.86mi', '23.41mi', '14.5mi', '2.28mi', '20.04mi', '15.86mi', '3.23mi', '17.31mi', '23.49mi', '34.75mi', '4.25mi', '29.54mi', '5.2mi', '3.51mi', '16.85mi', '18.95mi', '31.37mi', '13.41mi', '18.59mi', '34.28mi', '5.26mi', '25.04mi', '40.95mi', '33.18mi', '9.42mi', '460.86mi', '28.67mi', '25.15mi', '17.86mi', '35.0 mi', '4.1 mi', '11.11mi', '7.7mi', '8.48mi', '12.88mi', '26.37mi', '5 mi', '21.15mi', '5.35mi', '24.8 mi', '29.98mi', '2.47mi', '26.38mi', '8.53mi', '14.85mi', '24.8mi', '1.85mi', '16.66mi', '20.35mi', '7.32mi', '0.77mi', '29.82mi', '26.31mi', '365.42mi', '24.76mi', '2.06mi', '34.48mi', '17.82mi', '24.79mi', '29.6 mi', '4.62mi', '4.06mi', '29.12mi', '18.92mi', '23.74mi', '17.58mi', '29.49mi', '4.2 mi', '9.88mi', '28 mi', '5.72mi', '10.51mi', '27.86mi', '16.88mi', '6.76mi', '4.53mi', '28.1mi', '4.02mi', '28.56mi', '1.71mi', '0.03mi', '7.91mi', '8.8mi', '12.99mi', '33.22mi', '20.8mi', '14.79mi', '33.63mi', '25.88mi', '23.64mi', '26.65mi', '8.6 mi', '33.51mi', '27.29mi', '18.5mi', '1.8 mi', '17.78mi', '28.0mi', '18.93mi', '12.21mi', '3.54mi', '33.37mi', '19.01mi', '7.8 mi', '7.95mi', '13.39mi', '24.59mi', '20.2mi', '13.18mi', '5.1 mi', '11.87mi', '8.62mi', '22.56mi', '17.38mi', '725.74mi', '15.95mi', '24.73mi', '46.3 mi', '6.06mi', '9.35mi', '27.19mi', '3.28mi', '28.42mi', '10.45mi', '29.0mi', '25.89mi', '2.91mi', '1.31mi', '21.83mi', '6.99mi', '15.26mi', '14.31mi', '8.49mi', '13.57mi', '30.64mi', '15.78mi', '18.97mi', '11.52mi', '23.08mi', '17.63mi', '20.85mi', '9.39mi', '20.32mi', '1.98mi', '11.07mi', '17.39mi', '25.39mi', '28.6mi', '0.48mi', '7.74mi', '10.62mi', '19.33mi', '22.91mi', '2.63mi', '34.5 mi', '15.32mi', '21.01mi', '17.52mi', '29.71mi', '22.43mi', '29.45mi', '12.8 mi', '8.3mi', '33.67mi', '27.68mi', '19.1 mi', '17.34mi', '4.85mi', '23.38mi', '32.13mi', '9.16mi', '22.72mi', '11.83mi', '31.7mi', '31.16mi', '9.57mi', '24.53mi', '1.2mi', '25.08mi', '19.42mi', '30.18mi', '2.7mi', '17.22mi', '16.89mi', '9.68mi', '1.32mi', '17.9mi', '19.83mi', '3.5 mi', '32.86mi', '24.97mi', '8.81mi', '12.41mi', '12.28mi', '14.19mi', '24.87mi', '32.4mi', '30.99mi', '1.99mi', '1.16mi', '23.69mi', '32.3mi', '26.81mi', '14.6mi', '31.05mi', '20.39mi', '4.15mi', '32.68mi', '19.67mi', '0.91mi', '24.51mi', '34.05mi', '0.95mi', '7.2 mi', '26.3 mi', '8.0mi', '19.2mi', '14 mi', '3.13mi', '4.81mi', '7.43mi', '30.72mi', '10.35mi', '29.66mi', '3.67mi', '7.85mi', '8.75mi', '29.55mi', '15.04mi', '8.36mi', '15.55mi', '12.68mi', '3.56mi', '5.07mi', '7.67mi', '4.97mi', '19.31mi', '5.21mi', '10.88mi', '30.13mi', '7.64mi', '10.91mi', '31.84mi', '26.11mi', '1591.06mi', '31.66mi', '26.59mi', '8.31mi', '18.45mi', '23.5 mi', '1.39mi', '17.66mi', '16.59mi', '3.26mi', '22.0mi', '2.38mi', '21.9mi', '7.5mi', '9.51mi', '19.9mi', '21.17mi', '27.2mi', '18.67mi', '25.93mi', '20.25mi', '15.66mi', '10.97mi', '32.92mi', '28.03mi', '13.49mi', '10.43mi', '27.56mi', '20.47mi', '19.14mi', '2.5mi', '6.68mi', '9.98mi', '23.86mi', '4.0 mi', '14.89mi', '17.29mi', '33.1mi', '32.54mi', '0.8mi', '11.28mi', '17.9 mi', '18.28mi', '5.12mi', '29.32mi', '21.16mi', '5.62mi', '35.44mi', '0.84mi', '15.73mi', '29.74mi', '8.26mi', '30.84mi', '28.26mi', '27.2 mi', '18.41mi', '5.03mi', '39.69mi', '21.1 mi', '0.07mi', '14.47mi', '28.32mi', '25.1mi', '28.34mi', '12.45mi', '13.2mi', '23.79mi', '26.25mi', '0.16mi', '15.63mi', '20.52mi', '6.51mi', '6.01mi', '16.39mi', '14.6 mi', '18.98mi', '0.94mi', '30.25mi', '6.46mi', '2.44mi', '11.05mi', '12.69mi', '4.88mi', '6.66mi', '15.47mi', '10.5mi', '24.84mi', '6.79mi', '14.76mi', '4.75mi', '19.95mi', '9.23mi', '25.66mi', '12.98mi', '27.15mi', '20.14mi', '16.3 mi', '16.49mi', '24.32mi', '22.8mi', '34.87mi', '4.86mi', '18.7mi', '25.44mi', '13.78mi', '4.13mi', '9.6 mi', '5.58mi', '24.16mi', '33.35mi', '10.59mi', '24.6mi', '28.75mi', '6.3 mi', '28.87mi', '15.6 mi', '0.69mi', '5.78mi', '26.69mi', '8.91mi', '1.56mi', '18.62mi', '33.12mi', '32.25mi', '28.97mi', '15.99mi', '29.3mi', '22.65mi', '28.11mi', '15.16mi', '27.28mi', '28.07mi', '10.23mi', '30.87mi', '11.88mi', '13.28mi', '9.96mi', '19.98mi', '4.76mi', '2.51mi', '14.21mi', '35.18mi', '0.71mi', '35.81mi', '13.85mi', '6.6mi', '12.08mi', '23.76mi', '31 mi', '28.3mi', '30.35mi', '15.52mi', '18.88mi', '28.17mi', '22.17mi', '25.71mi', '24.99mi', '12.97mi', '18.18mi', '12.43mi', '12.7 mi', '16.63mi', '8.01mi', '12.24mi', '17.37mi', '15.17mi', '10.09mi', '30.95mi', '28.23mi', '10.22mi', '19.15mi', '28.66mi', '6 mi', '18.83mi', '4.61mi', '13.55mi', '5.47mi', '21.48mi', '7.78mi', '21.33mi', '24.7 mi', '27.4 mi', '5.16mi', '16.6mi', '9.48mi', '0.27mi', '15.34mi', '23.02mi', '5.13mi', '12.5mi', '33.6 mi', '24.69mi', '16.22mi', '25.24mi', '21.04mi', '2.17mi', '18.9 mi', '15.28mi', '8.38mi', '22.21mi', '4.68mi', '27.47mi', '33.72mi', '11.13mi', '18.21mi', '13.8mi', '14.69mi', '13.7 mi', '15.93mi', '3.41mi', '12.0mi', '30.86mi', '1.41mi', '7.0mi', '8.22mi', '7.29mi', '8.16mi', '27.64mi', '5.87mi', '29.58mi', '12.19mi', '1.52mi', '15.9mi', '27 mi', '11.24mi', '0.0 mi', '18.24mi', '1.07mi', '3.64mi', '17.25mi', '11.4mi', '25.96mi', '24.74mi', '10.17mi', '1.21mi', '26.89mi', '10.72mi', '11.86mi', '7.02mi', '22.6 mi', '19.84mi', '35.21mi', '25.7mi', '29.13mi', '3.8 mi', '23.48mi', '22.13mi', '8.18mi', '5.81mi', '24.0 mi', '20.17mi', '2.83mi', '29.9mi', '6.5mi', '24.44mi', '26.1 mi', '20.71mi', '11.55mi', '0.62mi', '23.03mi', '17.6 mi', '121.26mi', '17.49mi', '12.57mi', '33 mi', '31.95mi', '16.94mi', '29.92mi', '6.65mi', '17.15mi', '10.28mi', '22.67mi', '25.74mi', '30.89mi', '18.79mi', '29.8mi', '10.52mi', '2.3mi', '21.98mi', '14.32mi', '19.48mi', '13.67mi', '31.68mi', '8.94mi', '19.78mi', '26.95mi', '18.01mi', '17.26mi', '5.19mi', '3.31mi', '9.04mi', '16.81mi', '10.64mi', '7.56mi', '26.2 mi', '30.42mi', '26.2mi', '31.78mi', '2 mi', '32.56mi', '13.88mi', '32.05mi', '10.46mi', '26.42mi', '13.08mi', '27.14mi', '10.39mi', '30.3mi', '8.5mi', '12.32mi', '23.92mi', '15.81mi', '35.2mi', '16.69mi', '3.06mi', '25.37mi', '32.46mi', '18.37mi', '2.19mi', '20.97mi', '29.72mi', '4.29mi', '33.0 mi', '25.7 mi', '12.36mi', '22.9mi', '25.94mi', '28.7mi', '15.27mi', '4.5 mi', '19.17mi', '13.34mi', '23.72mi', '27.63mi', '7.52mi', '23.24mi', '28.0 mi', '19.54mi', '8.51mi', '35.43mi', '3.0mi', '23.66mi', '20.41mi', '3.57mi', '18.27mi', '32.97mi', '15.3mi', '2.18mi', '23.88mi', '1591.0mi', '27.3 mi', '14.92mi', '16.96mi', '12.94mi', '22.25mi', '34.71mi', '34.3mi', '28.24mi', '6.56mi', '29.16mi', '12.77mi', '27.0 mi', '22.16mi', '15.69mi', '32.8 mi', '12.17mi', '17.8mi', '6.32mi', '20.73mi', '15.64mi', '16.75mi', '12.52mi', '21.7mi', '30.31mi', '20.45mi', '16.17mi', '13.7mi', '4.17mi', '21.03mi', '8.13mi', '0.61mi', '23.05mi', '10.86mi', '0.76mi', '27.0mi', '1.44mi', '3.04mi', '11.25mi', '32.3 mi', '21.1mi', '19.49mi', '22.39mi', '20.95mi', '11.39mi', '0.5mi', '23.17mi', '23.73mi', '29.34mi', '5.02mi', '18.25mi', '35.51mi', '6.31mi', '9.75mi', '4.47mi', '12.76mi', '24.92mi', '8.46mi', '14.03mi', '9.8mi', '14.35mi', '33.96mi', '35.74mi', '24.48mi', '35.4 mi', '14.06mi', '19.24mi', '27.93mi', '20.33mi', '32.09mi', '0.08mi', '25.1 mi', '20.12mi', '27.23mi', '12.3 mi', '27.85mi', '24.68mi', '18.89mi', '23.51mi', '28.46mi', '12.58mi', '21.63mi', '12.71mi', '16.77mi', '35.37mi', '16.46mi', '21.8mi', '7.61mi', '14.2mi', '4.04mi', '16.1 mi', '25.01mi', '17.1mi', '31.43mi', '20.76mi', '0.66mi', '29.25mi', '5.4mi', '34.35mi', '26.27mi', '29.35mi', '27.57mi', '9.11mi', '5.43mi', '9.94mi', '12.04mi', '27.22mi', '21.78mi', '17.92mi', '21.75mi', '11.41mi', '34.47mi', '2.16mi', '13.95mi', '16.64mi', '20.86mi', '9.46mi', '17.75mi', '35.04mi', '16.28mi', '8.72mi', '5.45mi', '1.67mi', '9.62mi', '1.76mi', '28.76mi', '21.73mi', '28.92mi', '33.08mi', '4.49mi', '3.5mi', '26.0mi', '5.6 mi', '25.98mi', '6.34mi', '0.42mi', '2.53mi', '12.1 mi', '26.83mi', '30.28mi', '7.21mi', '5.48mi', '23.45mi', '14.48mi', '27.97mi', '15.53mi', '5.82mi', '15.91mi', '7.66mi', '4.94mi', '11.65mi', '22.26mi', '8.34mi', '18.53mi', '18.49mi', '26.84mi', '9.95mi', '30.71mi', '29.29mi', '12.66mi', '13.32mi', '33.94mi', '18.44mi', '12.42mi', '4.7mi', '24.42mi', '22.76mi', '11.68mi', '1.7 mi', '2.5 mi', '22.03mi', '3.86mi', '18.72mi', '15.87mi', '22.4mi', '35.66mi', '9.2 mi', '10.73mi', '0.64mi', '16.07mi', '30.76mi', '9.97mi', '28.38mi', '20.7mi', '29.39mi', '8.47mi', '13.74mi', '29.44mi', '16 mi', '6.85mi', '14.13mi', '13.72mi', '17.44mi', '4.3mi', '8.97mi', '20.1mi', '19.51mi', '10.29mi', '24.81mi', '25.97mi', '15.01mi', '8.3 mi', '4.58mi', '16.9mi', '33.6mi', '10.48mi', '35.07mi', '9.53mi', '17.98mi', '17.83mi', '15.89mi', '0.41mi', '1187.88mi', '18.3mi', '11.5 mi', '26.5mi', '35.6 mi', '1.42mi', '24.21mi', '26.32mi', '13.99mi', '0.9 mi', '13.24mi', '16.27mi', '14.39mi', '11.64mi', '17.04mi', '0.57mi', '9.4mi', '20.31mi', '29.41mi', '31.24mi', '27.52mi', '13.83mi', '14.41mi', '16.86mi', '24.06mi', '24.5mi', '32 mi', '2.97mi', '21.51mi', '14.0 mi', '26.13mi', '23.57mi', '22.28mi', '22.62mi', '19.0 mi', '16.4 mi', '25.52mi', '1.59mi', '28.31mi', '21.93mi', '10.68mi', '30.2 mi', '30.06mi', '14.27mi', '16.13mi', '3.58mi', '18.82mi', '18.9mi', '3.59mi', '25.05mi', '27.02mi', '31.46mi', '0.8 mi', '17.24mi', '0.19mi', '20.19mi', '9.26mi', '23.2mi', '4.72mi', '10.96mi', '16.3mi', '31.32mi', '2.62mi', '26.9 mi', '26.52mi', '17.96mi', '27.84mi', '13.81mi', '31.25mi', '32.53mi', '0.37mi', '9.27mi', '31.44mi', '22.7mi', '21.9 mi', '20.96mi', '0.5 mi', '29.23mi', '15.7 mi', '2.7 mi', '1.64mi', '21.06mi', '10.77mi', '21.05mi', '725.19mi', '11.2 mi', '21.92mi', '33.44mi', '31.34mi', '15.07mi', '3.42mi', '28.1 mi', '11.71mi', '1 mi', '32.74mi', '28.96mi', '16.2 mi', '0.55mi', '32.73mi', '33.39mi', '35.55mi', '24.83mi', '25.77mi', '5.55mi', '19.87mi', '9.63mi', '33.24mi', '34.65mi', '30.54mi', '3.62mi', '1.66mi', '17.19mi', '31.47mi', '15.06mi', '3.61mi', '25.4 mi', '10.4 mi', '28.33mi', '11.03mi', '3.47mi', '5.29mi', '15.82mi', '15.62mi', '10.0mi', '22.1mi', '32.7 mi', '4.83mi', '1.28mi', '27.5mi', '14.51mi', '13.93mi', '10.49mi', '24.63mi', '19.43mi', '9.65mi', '24.03mi', '22.69mi', '15.94mi', '8.84mi', '13.89mi', '24.49mi', '10.16mi', '22.75mi', '30.19mi', '26.77mi', '0.92mi', '8.06mi', '12.3mi', '23.96mi', '48.3 mi', '22.98mi', '6.7 mi', '19.66mi', '18.02mi', '10.8mi', '6.64mi', '28.86mi', '33.52mi', '22.95mi', '7.96mi', '7.4mi', '11.3 mi', '2.29mi', '1.4 mi', '5.52mi', '8.23mi', '19.11mi', '20.83mi', '14.91mi', '25.65mi', '22.53mi', '31.15mi', '1.27mi', '10.9mi', '22.94mi', '7.62mi', '10.81mi', '7.71mi', '10.9 mi', '6.54mi', '11.36mi', '23.31mi', '34.2 mi', '1.78mi', '15.74mi', '21.72mi', '7.07mi', '11.3mi', '20.22mi', '23.12mi', '5.96mi', '4.73mi', '29.64mi', '6.28mi', '8.68mi', '12.95mi', '7.81mi', '5.39mi', '29.01mi', '31.19mi', '13.11mi', '0.72mi', '5.4 mi', '33.48mi', '13.35mi', '27.33mi', '20.56mi', '22.7 mi', '13.5 mi', '14.7mi', '3.1mi', '20.81mi', '26.62mi', '29.36mi', '26.22mi', '7.38mi', '20.58mi', '11.2mi', '11.17mi', '1.84mi', '35.5 mi', '25.42mi', '18.63mi', '0.73mi', '6.89mi', '13.46mi', '2.87mi', '1.95mi', '8.55mi', '3.4 mi', '18.69mi', '24.24mi', '29.28mi', '4.01mi', '2.12mi', '6.63mi', '21.09mi', '27.1mi', '2.23mi', '22.33mi', '32.32mi', '19.65mi', '26.85mi', '33.26mi', '7.88mi', '8.56mi', '6.49mi', '17.67mi', '28.69mi', '27.13mi', '8.9 mi', '3.79mi', '29.9 mi', '18.04mi', '35.08mi', '34.76mi', '17.69mi', '10.33mi', '30.58mi', '25.57mi', '12.65mi', '2.36mi', '20.1 mi', '19.96mi', '20.74mi', '6.13mi', '12.35mi', '7.35mi', '18.8mi', '17.45mi', '31.33mi', '21.59mi', '26.9mi', '1.53mi', '31.26mi', '8.43mi', '16.9 mi', '18.68mi', '0.6 mi', '28.12mi', '119.6 mi', '26.7mi', '5.2 mi', '20.51mi', '7.17mi', '2.41mi', '8.7mi', '18.29mi', '19.39mi', '6.2 mi', '16.08mi', '4.9mi', '22.31mi', '4.12mi', '18.11mi', '10.94mi', '20.7 mi', '28.99mi', '3.73mi', '0.33mi', '27.66mi', '31.2 mi', '29.27mi', '8.44mi', '0.14mi', '27.17mi', '23.5mi', '11.73mi', '23.21mi', '2.21mi', '0.59mi', '29.1 mi', '30.59mi', '21.87mi', '7.3 mi', '29.14mi', '4.91mi', '24.67mi', '30.0 mi', '23.8mi', '23.61mi', '8.5 mi', '9.14mi', '31.01mi', '7.9 mi', '1.8mi', '1.6mi', '9.64mi', '27.55mi', '11.6mi', '5.83mi', '34.56mi', '30.47mi', '4.42mi', '32.06mi', '0.2mi', '18.17mi', '7.79mi', '21.71mi', '2.05mi', '7.7 mi', '26.94mi', '3.01mi', '2.09mi', '28.14mi', '21.28mi', '15.44mi', '6.88mi', '19.0mi', '2.43mi', '3.55mi', '4.22mi', '0.0mi', '7.08mi', '30.08mi', '17.43mi', '6.72mi', '19.97mi', '6.1 mi', '14.97mi', '17.6mi', '24.4mi', '26.56mi', '31.5 mi', '13.6mi', '30.38mi', '16.2mi', '5.18mi', '22.19mi', '20.9mi', '1.9 mi', '29.18mi', '9.81mi', '10.05mi', '17.5mi', '17.16mi', '9.18mi', '26.75mi', '27.75mi', '32.38mi', '22.23mi', '55.3 mi', '21.23mi', '5.06mi', '31.11mi', '7.6mi', '6.27mi', '17.71mi', '23.42mi', '0.67mi', '29.8 mi', '6.91mi', '24.46mi', '18.58mi', '11.62mi', '17.95mi', '24.89mi', '20.37mi', '9.0mi', '28.01mi', '32.39mi', '20.89mi', '6.12mi', '27.51mi', '3.03mi', '1.7mi', '1.58mi', '13.98mi', '30.45mi', '9.79mi', '21.3 mi', '31.63mi', '21.77mi', '34.3 mi', '30.32mi', '10.32mi', '12.61mi', '28.06mi', '23.33mi', '25.11mi', '9.06mi', '0.11mi', '24.07mi', '28.49mi', '30.5mi', '14.17mi', '365.68mi', '24.4 mi', '28.83mi', '29.96mi', '3.83mi', '26 mi', '2.6mi', '2.57mi', '10.25mi', '15.6mi', '33.14mi', '17.07mi', '13.52mi', '12.5 mi', '34.85mi', '30.16mi', '35.84mi', '2.03mi', '25.32mi', '7.34mi', '19.93mi', '26.57mi', '15.18mi', '4.4 mi', '33.15mi', '12.92mi', '20.91mi', '26.96mi', '8.1 mi', '5.34mi', '15.41mi', '33.06mi', '4.89mi', '17.88mi', '16.0mi', '6.38mi', '30.66mi', '9.3mi', '9.08mi', '11.19mi', '14.52mi', '24.25mi', '5.89mi', '3.76mi', '14.7 mi', '15.71mi', '5.54mi', '10.26mi', '6.78mi', '34.53mi', '27.71mi', '12.05mi', '45.63mi', '25.6mi', '9.44mi', '7.82mi', '1.69mi', '14.82mi', '27.39mi', '25.21mi', '3.53mi', '29.2mi', '29.88mi', '31.6 mi', '24.14mi', '22.06mi', '14.28mi', '20.4mi', '13.82mi', '30.63mi', '12.09mi', '33.66mi', '35.1mi', '29.03mi', '34.82mi', '3.77mi', '6.0 mi', '11.09mi', '10.12mi', '22.97mi', '7.05mi', '17.65mi', '1.12mi', '5.63mi', '23.83mi', '1.73mi', '27.6mi', '12.82mi', '16.65mi', '11.56mi', '23.36mi', '26.01mi', '23.3 mi', '20.08mi', '3.17mi', '8.05mi', '18.47mi', '21.97mi', '0.87mi', '10.95mi', '12.46mi', '8.02mi', '22.22mi', '34.68mi', '13.73mi', '32.96mi', '11.44mi', '23.0mi', '29.83mi', '34.42mi', '18.91mi', '29.6mi', '31.31mi', '14.42mi', '30.55mi', '30.05mi', '2.46mi', '27.44mi', '25.34mi', '34.89mi', '12.23mi', '12.72mi', '4.38mi', '21.31mi', '10.13mi', '6.92mi', '20.36mi', '21.61mi', '1591.09mi', '1.79mi', '14.24mi', '34.88mi', '8.29mi', '29.57mi', '21.68mi', '2.52mi', '20.49mi', '24.12mi', '34.95mi', '20.94mi', '3.49mi', '13.84mi', '2.72mi', '26.23mi', '24.55mi', '1.49mi', '18.15mi', '10.0 mi', '25.43mi', '464.49mi', '6.09mi', '31.64mi', '0.79mi', '9.05mi', '32.91mi', '9.03mi', '2.67mi', '19.21mi', '4.7 mi', '14.96mi', '24.52mi', '19.6mi', '18.81mi', '27.3mi', '27.27mi', '35.4mi', '30.3 mi', '7.11mi', '7.49mi', '2.2 mi', '9.7mi', '20.23mi', '22.35mi', '32.81mi', '12.74mi', '11.7mi', '13.61mi', '19.4 mi', '3.44mi', '3.72mi', '0.17mi', '33.23mi', '30.2mi', '1.4mi', '5.25mi', '5.0mi', '22.64mi', '28.43mi', '3.4mi', '12.34mi', '35.8 mi', '9.74mi', '19.13mi', '16.18mi', '25.79mi', '9.38mi', '16.09mi', '32.62mi', '32.87mi', '31.09mi', '0.01mi', '5.84mi', '18.52mi', '24.82mi', '2.11mi', '25.47mi', '29.81mi', '30.74mi', '17.32mi', '18.75mi', '33.34mi', '26.33mi', '6.98mi', '26.09mi', '31.9 mi', '26.74mi', '19.07mi', '6.3mi', '10.92mi', '0.93mi', '7.86mi', '12.29mi', '29.1mi', '6.43mi', '1.88mi', '9.24mi', '30.53mi', '35.63mi', '0.13mi', '7.57mi', '33.98mi', '34.8 mi', '31.87mi', '11.59mi', '20.3 mi', '17.5 mi', '24.6 mi', '15.68mi', '16.7 mi', '4.34mi', '2.48mi', '20.2 mi', '11.29mi', '34.23mi', '5.5 mi', '5.36mi', '21.47mi', '30.09mi', '16.32mi', '25.9mi', '16.31mi', '12.59mi', '14.05mi', '26.61mi', '33.54mi', '15.79mi', '35.36mi', '15.59mi', '33.87mi', '32.58mi', '6.29mi', '0.04mi', '11.37mi', '6.36mi', '7.25mi', '40.11mi', '14.14mi', '14.18mi', '19.89mi', '10.14mi', '12.2mi', '22.85mi', '21.5mi', '4.1mi', '30.9 mi', '14.22mi', '14.43mi', '7.92mi', '9.92mi', '12.16mi', '8 mi', '11.35mi', '16.84mi', '3.99mi', '34.83mi', '25.35mi', '3.36mi', '17.79mi', '12.11mi', '30.46mi', '9.9 mi', '5.01mi', '33.88mi', '0 mi', '32.27mi', '29.21mi', '22.04mi', '23.82mi', '22.2 mi', '4.77mi', '30.98mi', '25.61mi', '5.0 mi', '36.11mi', '3.35mi', '20.75mi', '28.45mi', '19.7mi', '28.08mi', '23.94mi', '31.9mi', '26.76mi', '3.12mi', '21.46mi', '29.09mi', '3.93mi', '22.29mi', '32.29mi', '1.1 mi', '29.84mi', '23.7 mi', '17.13mi', '9.3 mi', '10.3 mi', '15.54mi', '2.31mi', '5.46mi', '32.76mi', '13.51mi', '7.33mi', '29.0 mi', '2.02mi', '0.81mi', '16.24mi', '20.24mi', '27.12mi', '20.46mi', '0.09mi', '33.2mi', '3.6mi', '18.61mi', '21.55mi', '11.42mi', '20.21mi', '27.96mi', '7.45mi', '28.91mi', '3.19mi', '6.5 mi', '7.9mi', '10.82mi', '19.23mi', '464.32mi', '7.84mi', '13.38mi', '6.33mi', '15.29mi', '0.38mi', '20.88mi', '2.24mi', '19.69mi', '33.82mi', '4.35mi', '21.25mi', '28.44mi', '4.66mi', '17 mi', '25.0 mi', '0.68mi', '33.09mi', '17.48mi', '19.02mi', '25.59mi', '15.96mi', '15.35mi', '0.22mi', '1.77mi', '4.23mi', '4.99mi', '16.29mi', '17.35mi', '20.6mi', '12.9 mi', '29.43mi', '25.64mi', '19.38mi', '22.8 mi', '5.04mi', '1.6 mi', '34.92mi', '28.19mi', '20.68mi', '22.32mi', '27.89mi', '30.4mi', '33.95mi', '1.48mi', '16.78mi', '8.67mi', '17.28mi', '20.77mi', '25.83mi', '3.33mi', '30.41mi', '34.4mi', '8.35mi', '8.14mi', '24.93mi', '26.8mi', '34.91mi', '8.27mi', '6.97mi', '20.55mi', '11.27mi', '7.99mi', '18.4 mi', '22.54mi', '27.7 mi', '26.51mi', '12.15mi', '26.44mi', '13.3 mi', '19.72mi', '7 mi', '6.61mi', '5.8mi', '30.75mi', '18.73mi', '11.4 mi', '29.77mi', '33.17mi', '13.25mi', '28.09mi', '30.26mi', '24.08mi', '10.6 mi', '8.09mi', '28.3 mi', '18.4mi', '22.84mi', '31.3 mi', '14.64mi', '32.61mi', '1.03mi', '1.02mi', '30.94mi', '27.03mi', '26.41mi', '27.77mi', '23.23mi', '14.61mi', '3.71mi', '5.57mi', '24.86mi', '15.76mi', '28.2 mi', '725.72mi', '21.4 mi', '22.18mi', '13.07mi', '25.19mi', '4.96mi', '26.87mi', '29.2 mi', '22.44mi', '8.61mi', '25.3mi', '32.79mi', '18.8 mi', '16.95mi', '26.68mi', '22.38mi', '16.76mi', '24.39mi', '10.54mi', '4.6mi', '33.9 mi', '22.49mi', '13.9mi', '33.16mi', '8.42mi', '27.6 mi', '17.62mi', '29.86mi', '17.72mi', '23.13mi', '20.99mi', '27.25mi', '28.48mi', '24.17mi', '25.76mi', '23.84mi', '29.62mi', '15.92mi', '20.5mi', '7.1 mi', '27.07mi', '11.79mi', '12.62mi', '21.3mi', '35.16mi', '1.22mi', '5.98mi', '6.47mi', '29.63mi', '26.15mi', '8.54mi', '18.1 mi', '19.2 mi', '2.45mi', '30.11mi', '2.86mi', '12.37mi', '28.36mi', '2.99mi', '29.52mi', '27.04mi', '10.11mi', '0.06mi', '14.02mi', '0.24mi', '22.0 mi', '20.05mi', '13.43mi', '16.98mi', '6.17mi', '26.14mi', '5.6mi', '30.04mi', '30.97mi', '11.81mi', '3.34mi', '19.16mi', '19.04mi', '4.36mi', '25.75mi', '6.73mi', '30.44mi', '0.28mi', '10.61mi', '3.7 mi', '20.18mi', '32.71mi', '21.37mi', '19.8 mi', '34.4 mi', '7.23mi', '6.24mi', '16.74mi', '16.33mi', '18.05mi', '33.04mi', '10.85mi', '7.76mi', '25.18mi', '24 mi', '25.62mi', '14.29mi', '3.3mi', '13.65mi', '19.81mi', '22.14mi', '27.46mi', '32.88mi', '19.9 mi', '312.6 mi', '2.2mi', '17.56mi', '9.12mi', '34.9 mi', '19.77mi', '27.74mi', '13.05mi', '1.29mi', '24.41mi', '29.05mi', '4.64mi', '29.99mi', '34.64mi', '32.34mi', '16.7mi', '30.34mi', '10.2 mi', '7.63mi', '14.87mi', '26.19mi', '22.68mi', '17.0 mi', '1.37mi', '10.04mi', '34.97mi', '23.6mi', '20.48mi', '20.69mi', '7.5 mi', '2.75mi', '7.3mi', '19.88mi', '10.36mi', '30.48mi', '25.82mi', '8.69mi', '24.11mi', '4.41mi', '26.92mi', '10.89mi', '4.09mi', '16.26mi', '13.96mi', '8.57mi', '34.8mi', '0.12mi', '7.41mi', '27.83mi', '10.41mi', '24.34mi', '0.02mi', '28.89mi', '11.78mi', '21.45mi', '2.34mi', '23.65mi', '10 mi', '21.86mi', '11.95mi', '25.53mi', '9.55mi', '30.73mi', '112.37mi', '15.49mi', '2.22mi', '15.1mi', '26.12mi', '11.75mi', '23.93mi', '33.4mi', '3.81mi', '27.95mi', '14.23mi', '3.11mi', '0.35mi', '13.13mi', '6.77mi', '6.04mi', '0.82mi', '29.26mi', '18.55mi', '0.23mi', '21.5 mi', '28.29mi', '19.35mi', '17.61mi', '14.86mi', '17.09mi', '23.9 mi', '21.67mi', '6.22mi', '17.91mi', '24.61mi', '24.47mi', '26.63mi', '33.7mi', '12.64mi', '25.63mi', '22.83mi', '28.98mi', '26.48mi', '15.12mi', '31.12mi', '23.26mi', '20.78mi', '19.73mi', '31.36mi', '14.37mi', '2.96mi', '11.23mi', '14.4 mi', '44.6 mi', '0.26mi', '26.35mi', '23.29mi', '23.89mi', '365.58mi', '15.4 mi', '20.34mi', '25.56mi', '19.6 mi', '4.27mi', '8.77mi', '27.18mi', '1.38mi', '9.36mi', '30.22mi', '26.66mi', '13.02mi', '13.76mi', '8.1mi', '17.06mi', '33.61mi', '15.1 mi', '4.67mi', '22.51mi', '39.35mi', '28.78mi', '29.7 mi', '14.59mi', '12.26mi', '7.75mi', '10.19mi', '33.85mi', '17.55mi', '11.34mi', '25.92mi', '4.46mi', '35.8mi', '43.4 mi', '12.6 mi', '11.49mi', '1.34mi', '725.21mi', '7.42mi', '28.84mi', '3.3 mi', '117.8 mi', '33.78mi', '35.79mi', '27.54mi', '26.08mi', '11.9mi', '6.93mi', '10.27mi', '0.46mi', '6.94mi', '13.33mi', '23.81mi', '33.43mi', '27.24mi', '13.54mi', '23.63mi', '29.73mi', '27.78mi', '8.25mi', '21.13mi', '14.3 mi', '2.61mi', '16.87mi', '13.12mi', '7.18mi', '17.7 mi', '24.37mi', '33.36mi', '14.65mi', '0.44mi', '1.74mi', '26.86mi', '24.1 mi', '16.6 mi', '6.71mi', '8.73mi', '31.4 mi', '27.94mi', '19.86mi', '18.07mi', '26.73mi', '17.3mi', '4.5mi', '34.52mi', '30.03mi', '23.06mi', '31.0 mi', '13.04mi', '30.61mi', '19.55mi', '7.47mi', '23.19mi', '30.07mi', '20.15mi', '11.1mi', '1.54mi', '16.92mi', '6.7mi', '24.62mi', '17.84mi', '19.79mi', '22.66mi', '24.15mi', '2.35mi', '13.86mi', '10.44mi', '26.6mi', '5.9mi', '22.46mi', '13.16mi', '22.55mi', '33.03mi', '23.44mi', '24.57mi', '1.46mi', '28.5 mi', '9.72mi', '5.7mi', '12.56mi', '8.21mi', '35.31mi', '21.34mi', '32.23mi', '22.74mi', '14.54mi', '16.34mi', '312.4 mi', '29.89mi', '31.8 mi', '16.1mi', '20.53mi', '0.1mi', '10.18mi', '3.95mi', '4.95mi', '13.0 mi', '18.12mi', '16.42mi', '20.42mi', '9.9mi', '25.14mi', '29.67mi', '25.2mi', '13.77mi', '19.41mi', '12.2 mi', '0.31mi', '11.16mi', '29.95mi', '33.5 mi', '23 mi', '13.2 mi', '17.08mi', '19.29mi', '28.51mi', '1.2 mi', '3.27mi', '1.17mi', '31.52mi', '0.25mi', '20.0mi', '23.95mi', '28.2mi', '1.15mi', '13.42mi', '21.91mi', '21.89mi', '2.74mi', '2.49mi', '25.23mi', '10.58mi', '16.68mi', '29.31mi', '7.16mi', '18.09mi', '5.11mi', '19.8mi', '28.71mi', '3.89mi', '18.43mi', '2.84mi', '6.87mi', '10.98mi', '17.68mi', '30.7mi', '14.74mi', '1.9mi', '20.61mi', '9.47mi', '19.75mi', '12.51mi', '27.06mi', '7.37mi', '30.02mi', '5.05mi', '19.59mi', '27.34mi', '29.24mi', '0.05mi', '19.22mi', '19.56mi', '14.58mi', '1.3 mi', '25.55mi', '1.3mi', '27.88mi', '16.83mi', '0.1 mi', '22.2mi', '11.92mi', '15.83mi', '27.31mi', '17.4 mi', '8.79mi', '29 mi', '5.79mi', '35.12mi', '3.2 mi', '16.48mi', '29.61mi', '2.33mi', '16.53mi', '14.1 mi', '24.04mi', '11.72mi', '13.3mi', '17.51mi', '13.31mi', '6.62mi', '12.0 mi', '34.94mi', '11.99mi', '8.95mi', '15.3 mi', '26.47mi', '19.47mi', '30 mi', '21.6 mi', '29.78mi', '15.98mi', '14.2 mi', '5.59mi', '21.41mi', '26.55mi', '28.4 mi', '8.92mi', '66.1 mi', '13.1mi', '6.69mi', '5.53mi', '6.16mi', '11.01mi', '12.07mi', '9.4 mi', '8.07mi', '0.34mi', '12.9mi', '23.04mi', '29.38mi', '30.92mi', '13.97mi', '13.69mi', '10.8 mi', '10.69mi', '16.72mi', '2.42mi', '11.96mi', '27.59mi', '15.15mi', '17.47mi', '7.93mi', '29.3 mi', '16.97mi', '29.47mi', '10.57mi', '30.9mi', '31.21mi', '11.67mi', '7.2mi', '27.81mi', '18.6mi', '32.4 mi', '22.3mi', '12.81mi', '9.22mi', '29.04mi', '2.64mi', '25.09mi', '10.79mi', '30.0mi', '36.3 mi', '14.49mi', '28.7 mi', '10.01mi', '11 mi', '28.39mi', '19.3mi', '13.48mi', '11.6 mi', '0.65mi', '27.73mi', '19.25mi', '3.69mi', '35.27mi', '22.09mi', '4 mi', '16.58mi', '31.7 mi', '18.38mi', '24.2 mi', '8.88mi', '1.09mi', '17.93mi', '14.9mi', '15.05mi', '32.0 mi', '3.96mi', '12.91mi', '19.12mi', '14.34mi', '27.7mi', '25.3 mi', '35.39mi', '4.05mi', '14.15mi', '18.85mi', '35.34mi', '21.81mi', '4.37mi', '6.15mi', '15.7mi', '20.79mi', '22.58mi', '7.51mi', '29.37mi', '9.09mi', '10.1 mi', '3.16mi', '2.8 mi', '9.99mi', '14.93mi', '13.26mi', '16.35mi', '19.4mi', '1.75mi', '13.03mi', '18.94mi', '14.98mi', '0.29mi', '13.36mi', '23.97mi', '0.51mi', '3.07mi', '18.86mi', '21.02mi', '12.4 mi', '18.1mi', '14.8 mi', '7.1mi', '11.15mi', '3.2mi', '20.57mi', '5.95mi', '24.26mi', '31.81mi', '25.02mi', '25.26mi', '6.14mi', '10.75mi', '14.11mi', '14.36mi', '16.54mi', '34.6mi', '4.93mi', '29.7mi', '7.15mi', '6.67mi', '10.5 mi', '25.38mi', '9 mi', '25.99mi', '10.7 mi', '31.61mi'}\n",
      "{'3-8', '3', '6–10', '6 to 10', '5–11', 'K-2', '2-4', 'PK-7', 'PK-1', 'PK-4', '2–5', 'K to 6', '1 to 11', 'PK–PK', 'PK, 3-5', 'PK-8', 'PK–9', 'K to 4', '3-4', 'K to 8', '6', '6–6', '4–7', '2-8', '2–9', '7 to 8', '4–11', '5–9', '2–6', 'Preschool to 11', 'PK–3', 'PK–2', '7-8', 'K-4, 6-12', 'K', '4–12', 'Preschool to 4', '6-8, 10', '1–4', 'K to 1', 'K–7', 'PK–K', '1–12', '3–10', 'K–K', '4 to 6', 'K–8', '1-8', '5–6', '3–6', '6 to 12', '11–12', '1–7', 'PK, 1, 5', '4-6', 'PK-2', 'NA', '3 to 12', '1 to 3', '2 to 12', '5-6', '7–7', 'K–9', '5 to 7', 'K–11', 'K-1', '3-6', 'PK–8', '1-2', '3–11', '2–12', '8–12', '3 to 6', '6 to 7', '9–11', '3 to 5', '3 to 8', '9–9', '6 to 11', 'PK, 1-5', '3-5', 'Preschool to 12', '6 to 8', '6–9', '11-12', 'PK, 9-12', '9-10', 'Pk to 5', 'Preschool to 5', '8', '8–10', '3–8', 'K to 3', '3–4', '4 to 9', 'K-11', '9-12', '5–12', '1–5', '6–12', '1-6', 'PK–10', '8–11', 'PK, 1-6', '6–8', '4–10', 'K-10', 'K to 12', 'PK-3', 'K–10', '8 to 10', 'K to 7', '1–1', 'Preschool to 10', '7–10', 'K–1', '2 to 8', '1–10', '6-7', '3 to 4', '7', '7–12', '8-9', 'Preschool to 1', '1-5', '12', '5–5', '11 to 12', 'Preschool to 3', '1–9', '2–8', '5–7', 'K-4, 6-8', '4-5', 'K to 11', '4 to 7', 'PK, 6-8', 'PK–7', 'Preschool to 9', 'PK–11', '9–12', 'Preschool to 6', '4 to 12', 'K–2', 'K to 10', 'PK–6', '7 to 9', 'K–4', '2–7', 'K-8, 10', '4-12', '6-8', '2 to 4', '7 to 10', '2-6', 'K-6, 8', '10-12', '2-3', '1 to 5', '7–8', 'PK–12', 'K-12', 'K-5', '3 to 11', '4-7', 'PK, 2', '6-11', '7–9', '1 to 8', '4-8', '5-8', '1–6', '5 to 6', 'K to 5', '9', 'K-3', '3–12', '6-10', '8–9', '4–8', '5', 'Preschool to 2', 'K-8', 'K-9', '9-11', '5 to 10', '7–11', '10 to 12', '1 to 12', '4–9', 'PK-5', 'K-7', '5-7', '1–11', '5–10', 'K-1, 3-5', 'Preschool to 8', '2–3', '1-12', '5 to 12', 'K-4', '5-12', '4–4', 'K–3', '4 to 5', '5 to 8', '7 to 12', 'PK-5, 7', '8 to 12', 'PK–4', '4 to 8', 'PK, 5-8', '1 to 10', '2 to 5', 'PK-10', 'PK-12', '1-3', '7 to 11', 'PK-9', '3–7', 'K–5', '6–7', '12–12', '1 to 7', '4–5', '1 to 6', '7-10', '1–2', '2–11', '1–8', 'K-6', 'N/A', '2–2', '8–8', '10–11', 'K–12', 'PK, 1-4', '11–11', 'K to 9', '5-9', '5–8', '1-4', 'PK–1', '9–10', '2 to 3', '2-12', '6-12', '3–5', '9 to 12', '1–3', 'K–6', '2–4', '3-5, 10', 'K to 2', 'Preschool to 7', '5 to 11', '6-9', '3-12', '4–6', '6–11', '6 to 9', '2-5', 'PK–5', None, '10–12', '9 to 10', '7-12', '2 to 11', '1 to 2', '1 to 4', '10–10', '8-12', 'PK-5, 8', '7-9', 'PK-6', '8-10'}\n"
     ]
    }
   ],
   "source": [
    "# проанализируем признак\n",
    "def schools_analysis(feature):\n",
    "    try:\n",
    "        # получим словарь\n",
    "        school_data = ast.literal_eval(feature)\n",
    "\n",
    "        for data in school_data:\n",
    "            rating = set(data['rating'])\n",
    "            distance = set(data['data']['Distance'])\n",
    "            grades = set(data['data']['Grades'])\n",
    "        return rating, distance, grades\n",
    "    \n",
    "    except (KeyError, SyntaxError, ValueError):\n",
    "        print('Ошибка обработки:', feature)\n",
    "        return None, None, None\n",
    " \n",
    "schools_features = df['schools']\n",
    "\n",
    "school_ratings = set()\n",
    "distances_to_schools = set()\n",
    "school_grades = set()\n",
    "\n",
    "for feature in schools_features:\n",
    "    rating, distance, grades = schools_analysis(feature)\n",
    "    school_ratings = school_ratings | rating\n",
    "    distances_to_schools = distances_to_schools | distance\n",
    "    school_grades = school_grades | grades\n",
    "print(school_ratings, distances_to_schools, school_grades, sep='\\n')\n"
   ]
  },
  {
   "attachments": {
    "image.png": {
     "image/png": "[encoded data removed]"
    }
   },
   "cell_type": "markdown",
   "metadata": {},
   "source": [
    "С первыми двумя признаками, более менее понятно как их обработать. А вот с грейдами школ надо повозится.\n",
    "\n",
    "Поиски в [интернете](https://en.wikipedia.org/wiki/Educational_stage) привели меня к следующей таблице:\n",
    "\n",
    "![image.png](attachment:image.png)\n",
    "\n",
    "Осталось только разобрать, наш признак.\n",
    "\n",
    "Учитывая, что в США есть 15 уровней образования, видится разумным сделать признак от 0 до 1 показывающий коэффициент покрытия детским образованием.  \n",
    "За каждый уровень будем давать 1/15 долю. Это будет коэффициент для школы. А потом из них посчитать среднее."
   ]
  },
  {
   "cell_type": "code",
   "execution_count": 122,
   "metadata": {},
   "outputs": [
    {
     "name": "stdout",
     "output_type": "stream",
     "text": [
      "3-8\t([[3, 4, 5, 6, 7, 8]], [3, 4, 5, 6, 7, 8], 0.4)\n",
      "3\t([[3]], [3], 0.06666666666666667)\n",
      "6–10\t([[6, 7, 8, 9, 10]], [6, 7, 8, 9, 10], 0.3333333333333333)\n",
      "6 to 10\t([[6, 7, 8, 9, 10]], [6, 7, 8, 9, 10], 0.3333333333333333)\n",
      "5–11\t([[5, 6, 7, 8, 9, 10, 11]], [5, 6, 7, 8, 9, 10, 11], 0.4666666666666667)\n",
      "K-2\t([[0, 1, 2]], [0, 1, 2], 0.2)\n",
      "2-4\t([[2, 3, 4]], [2, 3, 4], 0.2)\n",
      "PK-7\t([[-1, 0, 1, 2, 3, 4, 5, 6, 7]], [-1, 0, 1, 2, 3, 4, 5, 6, 7], 0.6)\n",
      "PK-1\t([[-1, 0, 1]], [-1, 0, 1], 0.2)\n",
      "PK-4\t([[-1, 0, 1, 2, 3, 4]], [-1, 0, 1, 2, 3, 4], 0.4)\n",
      "2–5\t([[2, 3, 4, 5]], [2, 3, 4, 5], 0.26666666666666666)\n",
      "K to 6\t([[0, 1, 2, 3, 4, 5, 6]], [0, 1, 2, 3, 4, 5, 6], 0.4666666666666667)\n",
      "1 to 11\t([[1, 2, 3, 4, 5, 6, 7, 8, 9, 10, 11]], [1, 2, 3, 4, 5, 6, 7, 8, 9, 10, 11], 0.7333333333333333)\n",
      "PK–PK\t([[-1]], [-1], 0.06666666666666667)\n",
      "PK, 3-5\t([[-1], [3, 4, 5]], [-1, 3, 4, 5], 0.26666666666666666)\n",
      "PK-8\t([[-1, 0, 1, 2, 3, 4, 5, 6, 7, 8]], [-1, 0, 1, 2, 3, 4, 5, 6, 7, 8], 0.6666666666666666)\n",
      "PK–9\t([[-1, 0, 1, 2, 3, 4, 5, 6, 7, 8, 9]], [-1, 0, 1, 2, 3, 4, 5, 6, 7, 8, 9], 0.7333333333333333)\n",
      "K to 4\t([[0, 1, 2, 3, 4]], [0, 1, 2, 3, 4], 0.3333333333333333)\n",
      "3-4\t([[3, 4]], [3, 4], 0.13333333333333333)\n",
      "K to 8\t([[0, 1, 2, 3, 4, 5, 6, 7, 8]], [0, 1, 2, 3, 4, 5, 6, 7, 8], 0.6)\n",
      "6\t([[6]], [6], 0.06666666666666667)\n",
      "6–6\t([[6]], [6], 0.06666666666666667)\n",
      "4–7\t([[4, 5, 6, 7]], [4, 5, 6, 7], 0.26666666666666666)\n",
      "2-8\t([[2, 3, 4, 5, 6, 7, 8]], [2, 3, 4, 5, 6, 7, 8], 0.4666666666666667)\n",
      "2–9\t([[2, 3, 4, 5, 6, 7, 8, 9]], [2, 3, 4, 5, 6, 7, 8, 9], 0.5333333333333333)\n",
      "7 to 8\t([[7, 8]], [7, 8], 0.13333333333333333)\n",
      "4–11\t([[4, 5, 6, 7, 8, 9, 10, 11]], [4, 5, 6, 7, 8, 9, 10, 11], 0.5333333333333333)\n",
      "5–9\t([[5, 6, 7, 8, 9]], [5, 6, 7, 8, 9], 0.3333333333333333)\n",
      "2–6\t([[2, 3, 4, 5, 6]], [2, 3, 4, 5, 6], 0.3333333333333333)\n",
      "Preschool to 11\t([[-1, 0, 1, 2, 3, 4, 5, 6, 7, 8, 9, 10, 11]], [-1, 0, 1, 2, 3, 4, 5, 6, 7, 8, 9, 10, 11], 0.8666666666666667)\n",
      "PK–3\t([[-1, 0, 1, 2, 3]], [-1, 0, 1, 2, 3], 0.3333333333333333)\n",
      "PK–2\t([[-1, 0, 1, 2]], [-1, 0, 1, 2], 0.26666666666666666)\n",
      "7-8\t([[7, 8]], [7, 8], 0.13333333333333333)\n",
      "K-4, 6-12\t([[0, 1, 2, 3, 4], [6, 7, 8, 9, 10, 11, 12]], [0, 1, 2, 3, 4, 6, 7, 8, 9, 10, 11, 12], 0.8)\n",
      "K\t([[0]], [0], 0.06666666666666667)\n",
      "4–12\t([[4, 5, 6, 7, 8, 9, 10, 11, 12]], [4, 5, 6, 7, 8, 9, 10, 11, 12], 0.6)\n",
      "Preschool to 4\t([[-1, 0, 1, 2, 3, 4]], [-1, 0, 1, 2, 3, 4], 0.4)\n",
      "6-8, 10\t([[6, 7, 8], [10]], [6, 7, 8, 10], 0.26666666666666666)\n",
      "1–4\t([[1, 2, 3, 4]], [1, 2, 3, 4], 0.26666666666666666)\n",
      "K to 1\t([[0, 1]], [0, 1], 0.13333333333333333)\n",
      "K–7\t([[0, 1, 2, 3, 4, 5, 6, 7]], [0, 1, 2, 3, 4, 5, 6, 7], 0.5333333333333333)\n",
      "PK–K\t([[-1, 0]], [-1, 0], 0.13333333333333333)\n",
      "1–12\t([[1, 2, 3, 4, 5, 6, 7, 8, 9, 10, 11, 12]], [1, 2, 3, 4, 5, 6, 7, 8, 9, 10, 11, 12], 0.8)\n",
      "3–10\t([[3, 4, 5, 6, 7, 8, 9, 10]], [3, 4, 5, 6, 7, 8, 9, 10], 0.5333333333333333)\n",
      "K–K\t([[0]], [0], 0.06666666666666667)\n",
      "4 to 6\t([[4, 5, 6]], [4, 5, 6], 0.2)\n",
      "K–8\t([[0, 1, 2, 3, 4, 5, 6, 7, 8]], [0, 1, 2, 3, 4, 5, 6, 7, 8], 0.6)\n",
      "1-8\t([[1, 2, 3, 4, 5, 6, 7, 8]], [1, 2, 3, 4, 5, 6, 7, 8], 0.5333333333333333)\n",
      "5–6\t([[5, 6]], [5, 6], 0.13333333333333333)\n",
      "3–6\t([[3, 4, 5, 6]], [3, 4, 5, 6], 0.26666666666666666)\n",
      "6 to 12\t([[6, 7, 8, 9, 10, 11, 12]], [6, 7, 8, 9, 10, 11, 12], 0.4666666666666667)\n",
      "11–12\t([[11, 12]], [11, 12], 0.13333333333333333)\n",
      "1–7\t([[1, 2, 3, 4, 5, 6, 7]], [1, 2, 3, 4, 5, 6, 7], 0.4666666666666667)\n",
      "PK, 1, 5\t([[-1], [1], [5]], [-1, 1, 5], 0.2)\n",
      "4-6\t([[4, 5, 6]], [4, 5, 6], 0.2)\n",
      "PK-2\t([[-1, 0, 1, 2]], [-1, 0, 1, 2], 0.26666666666666666)\n",
      "NA\t([[-2]], [], 0.0)\n",
      "3 to 12\t([[3, 4, 5, 6, 7, 8, 9, 10, 11, 12]], [3, 4, 5, 6, 7, 8, 9, 10, 11, 12], 0.6666666666666666)\n",
      "1 to 3\t([[1, 2, 3]], [1, 2, 3], 0.2)\n",
      "2 to 12\t([[2, 3, 4, 5, 6, 7, 8, 9, 10, 11, 12]], [2, 3, 4, 5, 6, 7, 8, 9, 10, 11, 12], 0.7333333333333333)\n",
      "5-6\t([[5, 6]], [5, 6], 0.13333333333333333)\n",
      "7–7\t([[7]], [7], 0.06666666666666667)\n",
      "K–9\t([[0, 1, 2, 3, 4, 5, 6, 7, 8, 9]], [0, 1, 2, 3, 4, 5, 6, 7, 8, 9], 0.6666666666666666)\n",
      "5 to 7\t([[5, 6, 7]], [5, 6, 7], 0.2)\n",
      "K–11\t([[0, 1, 2, 3, 4, 5, 6, 7, 8, 9, 10, 11]], [0, 1, 2, 3, 4, 5, 6, 7, 8, 9, 10, 11], 0.8)\n",
      "K-1\t([[0, 1]], [0, 1], 0.13333333333333333)\n",
      "3-6\t([[3, 4, 5, 6]], [3, 4, 5, 6], 0.26666666666666666)\n",
      "PK–8\t([[-1, 0, 1, 2, 3, 4, 5, 6, 7, 8]], [-1, 0, 1, 2, 3, 4, 5, 6, 7, 8], 0.6666666666666666)\n",
      "1-2\t([[1, 2]], [1, 2], 0.13333333333333333)\n",
      "3–11\t([[3, 4, 5, 6, 7, 8, 9, 10, 11]], [3, 4, 5, 6, 7, 8, 9, 10, 11], 0.6)\n",
      "2–12\t([[2, 3, 4, 5, 6, 7, 8, 9, 10, 11, 12]], [2, 3, 4, 5, 6, 7, 8, 9, 10, 11, 12], 0.7333333333333333)\n",
      "8–12\t([[8, 9, 10, 11, 12]], [8, 9, 10, 11, 12], 0.3333333333333333)\n",
      "3 to 6\t([[3, 4, 5, 6]], [3, 4, 5, 6], 0.26666666666666666)\n",
      "6 to 7\t([[6, 7]], [6, 7], 0.13333333333333333)\n",
      "9–11\t([[9, 10, 11]], [9, 10, 11], 0.2)\n",
      "3 to 5\t([[3, 4, 5]], [3, 4, 5], 0.2)\n",
      "3 to 8\t([[3, 4, 5, 6, 7, 8]], [3, 4, 5, 6, 7, 8], 0.4)\n",
      "9–9\t([[9]], [9], 0.06666666666666667)\n",
      "6 to 11\t([[6, 7, 8, 9, 10, 11]], [6, 7, 8, 9, 10, 11], 0.4)\n",
      "PK, 1-5\t([[-1], [1, 2, 3, 4, 5]], [-1, 1, 2, 3, 4, 5], 0.4)\n",
      "3-5\t([[3, 4, 5]], [3, 4, 5], 0.2)\n",
      "Preschool to 12\t([[-1, 0, 1, 2, 3, 4, 5, 6, 7, 8, 9, 10, 11, 12]], [-1, 0, 1, 2, 3, 4, 5, 6, 7, 8, 9, 10, 11, 12], 0.9333333333333333)\n",
      "6 to 8\t([[6, 7, 8]], [6, 7, 8], 0.2)\n",
      "6–9\t([[6, 7, 8, 9]], [6, 7, 8, 9], 0.26666666666666666)\n",
      "11-12\t([[11, 12]], [11, 12], 0.13333333333333333)\n",
      "PK, 9-12\t([[-1], [9, 10, 11, 12]], [-1, 9, 10, 11, 12], 0.3333333333333333)\n",
      "9-10\t([[9, 10]], [9, 10], 0.13333333333333333)\n",
      "Pk to 5\t([[-1, 0, 1, 2, 3, 4, 5]], [-1, 0, 1, 2, 3, 4, 5], 0.4666666666666667)\n",
      "Preschool to 5\t([[-1, 0, 1, 2, 3, 4, 5]], [-1, 0, 1, 2, 3, 4, 5], 0.4666666666666667)\n",
      "8\t([[8]], [8], 0.06666666666666667)\n",
      "8–10\t([[8, 9, 10]], [8, 9, 10], 0.2)\n",
      "3–8\t([[3, 4, 5, 6, 7, 8]], [3, 4, 5, 6, 7, 8], 0.4)\n",
      "K to 3\t([[0, 1, 2, 3]], [0, 1, 2, 3], 0.26666666666666666)\n",
      "3–4\t([[3, 4]], [3, 4], 0.13333333333333333)\n",
      "4 to 9\t([[4, 5, 6, 7, 8, 9]], [4, 5, 6, 7, 8, 9], 0.4)\n",
      "K-11\t([[0, 1, 2, 3, 4, 5, 6, 7, 8, 9, 10, 11]], [0, 1, 2, 3, 4, 5, 6, 7, 8, 9, 10, 11], 0.8)\n",
      "9-12\t([[9, 10, 11, 12]], [9, 10, 11, 12], 0.26666666666666666)\n",
      "5–12\t([[5, 6, 7, 8, 9, 10, 11, 12]], [5, 6, 7, 8, 9, 10, 11, 12], 0.5333333333333333)\n",
      "1–5\t([[1, 2, 3, 4, 5]], [1, 2, 3, 4, 5], 0.3333333333333333)\n",
      "6–12\t([[6, 7, 8, 9, 10, 11, 12]], [6, 7, 8, 9, 10, 11, 12], 0.4666666666666667)\n",
      "1-6\t([[1, 2, 3, 4, 5, 6]], [1, 2, 3, 4, 5, 6], 0.4)\n",
      "PK–10\t([[-1, 0, 1, 2, 3, 4, 5, 6, 7, 8, 9, 10]], [-1, 0, 1, 2, 3, 4, 5, 6, 7, 8, 9, 10], 0.8)\n",
      "8–11\t([[8, 9, 10, 11]], [8, 9, 10, 11], 0.26666666666666666)\n",
      "PK, 1-6\t([[-1], [1, 2, 3, 4, 5, 6]], [-1, 1, 2, 3, 4, 5, 6], 0.4666666666666667)\n",
      "6–8\t([[6, 7, 8]], [6, 7, 8], 0.2)\n",
      "4–10\t([[4, 5, 6, 7, 8, 9, 10]], [4, 5, 6, 7, 8, 9, 10], 0.4666666666666667)\n",
      "K-10\t([[0, 1, 2, 3, 4, 5, 6, 7, 8, 9, 10]], [0, 1, 2, 3, 4, 5, 6, 7, 8, 9, 10], 0.7333333333333333)\n",
      "K to 12\t([[0, 1, 2, 3, 4, 5, 6, 7, 8, 9, 10, 11, 12]], [0, 1, 2, 3, 4, 5, 6, 7, 8, 9, 10, 11, 12], 0.8666666666666667)\n",
      "PK-3\t([[-1, 0, 1, 2, 3]], [-1, 0, 1, 2, 3], 0.3333333333333333)\n",
      "K–10\t([[0, 1, 2, 3, 4, 5, 6, 7, 8, 9, 10]], [0, 1, 2, 3, 4, 5, 6, 7, 8, 9, 10], 0.7333333333333333)\n",
      "8 to 10\t([[8, 9, 10]], [8, 9, 10], 0.2)\n",
      "K to 7\t([[0, 1, 2, 3, 4, 5, 6, 7]], [0, 1, 2, 3, 4, 5, 6, 7], 0.5333333333333333)\n",
      "1–1\t([[1]], [1], 0.06666666666666667)\n",
      "Preschool to 10\t([[-1, 0, 1, 2, 3, 4, 5, 6, 7, 8, 9, 10]], [-1, 0, 1, 2, 3, 4, 5, 6, 7, 8, 9, 10], 0.8)\n",
      "7–10\t([[7, 8, 9, 10]], [7, 8, 9, 10], 0.26666666666666666)\n",
      "K–1\t([[0, 1]], [0, 1], 0.13333333333333333)\n",
      "2 to 8\t([[2, 3, 4, 5, 6, 7, 8]], [2, 3, 4, 5, 6, 7, 8], 0.4666666666666667)\n",
      "1–10\t([[1, 2, 3, 4, 5, 6, 7, 8, 9, 10]], [1, 2, 3, 4, 5, 6, 7, 8, 9, 10], 0.6666666666666666)\n",
      "6-7\t([[6, 7]], [6, 7], 0.13333333333333333)\n",
      "3 to 4\t([[3, 4]], [3, 4], 0.13333333333333333)\n",
      "7\t([[7]], [7], 0.06666666666666667)\n",
      "7–12\t([[7, 8, 9, 10, 11, 12]], [7, 8, 9, 10, 11, 12], 0.4)\n",
      "8-9\t([[8, 9]], [8, 9], 0.13333333333333333)\n",
      "Preschool to 1\t([[-1, 0, 1]], [-1, 0, 1], 0.2)\n",
      "1-5\t([[1, 2, 3, 4, 5]], [1, 2, 3, 4, 5], 0.3333333333333333)\n",
      "12\t([[12]], [12], 0.06666666666666667)\n",
      "5–5\t([[5]], [5], 0.06666666666666667)\n",
      "11 to 12\t([[11, 12]], [11, 12], 0.13333333333333333)\n",
      "Preschool to 3\t([[-1, 0, 1, 2, 3]], [-1, 0, 1, 2, 3], 0.3333333333333333)\n",
      "1–9\t([[1, 2, 3, 4, 5, 6, 7, 8, 9]], [1, 2, 3, 4, 5, 6, 7, 8, 9], 0.6)\n",
      "2–8\t([[2, 3, 4, 5, 6, 7, 8]], [2, 3, 4, 5, 6, 7, 8], 0.4666666666666667)\n",
      "5–7\t([[5, 6, 7]], [5, 6, 7], 0.2)\n",
      "K-4, 6-8\t([[0, 1, 2, 3, 4], [6, 7, 8]], [0, 1, 2, 3, 4, 6, 7, 8], 0.5333333333333333)\n",
      "4-5\t([[4, 5]], [4, 5], 0.13333333333333333)\n",
      "K to 11\t([[0, 1, 2, 3, 4, 5, 6, 7, 8, 9, 10, 11]], [0, 1, 2, 3, 4, 5, 6, 7, 8, 9, 10, 11], 0.8)\n",
      "4 to 7\t([[4, 5, 6, 7]], [4, 5, 6, 7], 0.26666666666666666)\n",
      "PK, 6-8\t([[-1], [6, 7, 8]], [-1, 6, 7, 8], 0.26666666666666666)\n",
      "PK–7\t([[-1, 0, 1, 2, 3, 4, 5, 6, 7]], [-1, 0, 1, 2, 3, 4, 5, 6, 7], 0.6)\n",
      "Preschool to 9\t([[-1, 0, 1, 2, 3, 4, 5, 6, 7, 8, 9]], [-1, 0, 1, 2, 3, 4, 5, 6, 7, 8, 9], 0.7333333333333333)\n",
      "PK–11\t([[-1, 0, 1, 2, 3, 4, 5, 6, 7, 8, 9, 10, 11]], [-1, 0, 1, 2, 3, 4, 5, 6, 7, 8, 9, 10, 11], 0.8666666666666667)\n",
      "9–12\t([[9, 10, 11, 12]], [9, 10, 11, 12], 0.26666666666666666)\n",
      "Preschool to 6\t([[-1, 0, 1, 2, 3, 4, 5, 6]], [-1, 0, 1, 2, 3, 4, 5, 6], 0.5333333333333333)\n",
      "4 to 12\t([[4, 5, 6, 7, 8, 9, 10, 11, 12]], [4, 5, 6, 7, 8, 9, 10, 11, 12], 0.6)\n",
      "K–2\t([[0, 1, 2]], [0, 1, 2], 0.2)\n",
      "K to 10\t([[0, 1, 2, 3, 4, 5, 6, 7, 8, 9, 10]], [0, 1, 2, 3, 4, 5, 6, 7, 8, 9, 10], 0.7333333333333333)\n",
      "PK–6\t([[-1, 0, 1, 2, 3, 4, 5, 6]], [-1, 0, 1, 2, 3, 4, 5, 6], 0.5333333333333333)\n",
      "7 to 9\t([[7, 8, 9]], [7, 8, 9], 0.2)\n",
      "K–4\t([[0, 1, 2, 3, 4]], [0, 1, 2, 3, 4], 0.3333333333333333)\n",
      "2–7\t([[2, 3, 4, 5, 6, 7]], [2, 3, 4, 5, 6, 7], 0.4)\n",
      "K-8, 10\t([[0, 1, 2, 3, 4, 5, 6, 7, 8], [10]], [0, 1, 2, 3, 4, 5, 6, 7, 8, 10], 0.6666666666666666)\n",
      "4-12\t([[4, 5, 6, 7, 8, 9, 10, 11, 12]], [4, 5, 6, 7, 8, 9, 10, 11, 12], 0.6)\n",
      "6-8\t([[6, 7, 8]], [6, 7, 8], 0.2)\n",
      "2 to 4\t([[2, 3, 4]], [2, 3, 4], 0.2)\n",
      "7 to 10\t([[7, 8, 9, 10]], [7, 8, 9, 10], 0.26666666666666666)\n",
      "2-6\t([[2, 3, 4, 5, 6]], [2, 3, 4, 5, 6], 0.3333333333333333)\n",
      "K-6, 8\t([[0, 1, 2, 3, 4, 5, 6], [8]], [0, 1, 2, 3, 4, 5, 6, 8], 0.5333333333333333)\n",
      "10-12\t([[10, 11, 12]], [10, 11, 12], 0.2)\n",
      "2-3\t([[2, 3]], [2, 3], 0.13333333333333333)\n",
      "1 to 5\t([[1, 2, 3, 4, 5]], [1, 2, 3, 4, 5], 0.3333333333333333)\n",
      "7–8\t([[7, 8]], [7, 8], 0.13333333333333333)\n",
      "PK–12\t([[-1, 0, 1, 2, 3, 4, 5, 6, 7, 8, 9, 10, 11, 12]], [-1, 0, 1, 2, 3, 4, 5, 6, 7, 8, 9, 10, 11, 12], 0.9333333333333333)\n",
      "K-12\t([[0, 1, 2, 3, 4, 5, 6, 7, 8, 9, 10, 11, 12]], [0, 1, 2, 3, 4, 5, 6, 7, 8, 9, 10, 11, 12], 0.8666666666666667)\n",
      "K-5\t([[0, 1, 2, 3, 4, 5]], [0, 1, 2, 3, 4, 5], 0.4)\n",
      "3 to 11\t([[3, 4, 5, 6, 7, 8, 9, 10, 11]], [3, 4, 5, 6, 7, 8, 9, 10, 11], 0.6)\n",
      "4-7\t([[4, 5, 6, 7]], [4, 5, 6, 7], 0.26666666666666666)\n",
      "PK, 2\t([[-1], [2]], [-1, 2], 0.13333333333333333)\n",
      "6-11\t([[6, 7, 8, 9, 10, 11]], [6, 7, 8, 9, 10, 11], 0.4)\n",
      "7–9\t([[7, 8, 9]], [7, 8, 9], 0.2)\n",
      "1 to 8\t([[1, 2, 3, 4, 5, 6, 7, 8]], [1, 2, 3, 4, 5, 6, 7, 8], 0.5333333333333333)\n",
      "4-8\t([[4, 5, 6, 7, 8]], [4, 5, 6, 7, 8], 0.3333333333333333)\n",
      "5-8\t([[5, 6, 7, 8]], [5, 6, 7, 8], 0.26666666666666666)\n",
      "1–6\t([[1, 2, 3, 4, 5, 6]], [1, 2, 3, 4, 5, 6], 0.4)\n",
      "5 to 6\t([[5, 6]], [5, 6], 0.13333333333333333)\n",
      "K to 5\t([[0, 1, 2, 3, 4, 5]], [0, 1, 2, 3, 4, 5], 0.4)\n",
      "9\t([[9]], [9], 0.06666666666666667)\n",
      "K-3\t([[0, 1, 2, 3]], [0, 1, 2, 3], 0.26666666666666666)\n",
      "3–12\t([[3, 4, 5, 6, 7, 8, 9, 10, 11, 12]], [3, 4, 5, 6, 7, 8, 9, 10, 11, 12], 0.6666666666666666)\n",
      "6-10\t([[6, 7, 8, 9, 10]], [6, 7, 8, 9, 10], 0.3333333333333333)\n",
      "8–9\t([[8, 9]], [8, 9], 0.13333333333333333)\n",
      "4–8\t([[4, 5, 6, 7, 8]], [4, 5, 6, 7, 8], 0.3333333333333333)\n",
      "5\t([[5]], [5], 0.06666666666666667)\n",
      "Preschool to 2\t([[-1, 0, 1, 2]], [-1, 0, 1, 2], 0.26666666666666666)\n",
      "K-8\t([[0, 1, 2, 3, 4, 5, 6, 7, 8]], [0, 1, 2, 3, 4, 5, 6, 7, 8], 0.6)\n",
      "K-9\t([[0, 1, 2, 3, 4, 5, 6, 7, 8, 9]], [0, 1, 2, 3, 4, 5, 6, 7, 8, 9], 0.6666666666666666)\n",
      "9-11\t([[9, 10, 11]], [9, 10, 11], 0.2)\n",
      "5 to 10\t([[5, 6, 7, 8, 9, 10]], [5, 6, 7, 8, 9, 10], 0.4)\n",
      "7–11\t([[7, 8, 9, 10, 11]], [7, 8, 9, 10, 11], 0.3333333333333333)\n",
      "10 to 12\t([[10, 11, 12]], [10, 11, 12], 0.2)\n",
      "1 to 12\t([[1, 2, 3, 4, 5, 6, 7, 8, 9, 10, 11, 12]], [1, 2, 3, 4, 5, 6, 7, 8, 9, 10, 11, 12], 0.8)\n",
      "4–9\t([[4, 5, 6, 7, 8, 9]], [4, 5, 6, 7, 8, 9], 0.4)\n",
      "PK-5\t([[-1, 0, 1, 2, 3, 4, 5]], [-1, 0, 1, 2, 3, 4, 5], 0.4666666666666667)\n",
      "K-7\t([[0, 1, 2, 3, 4, 5, 6, 7]], [0, 1, 2, 3, 4, 5, 6, 7], 0.5333333333333333)\n",
      "5-7\t([[5, 6, 7]], [5, 6, 7], 0.2)\n",
      "1–11\t([[1, 2, 3, 4, 5, 6, 7, 8, 9, 10, 11]], [1, 2, 3, 4, 5, 6, 7, 8, 9, 10, 11], 0.7333333333333333)\n",
      "5–10\t([[5, 6, 7, 8, 9, 10]], [5, 6, 7, 8, 9, 10], 0.4)\n",
      "K-1, 3-5\t([[0, 1], [3, 4, 5]], [0, 1, 3, 4, 5], 0.3333333333333333)\n",
      "Preschool to 8\t([[-1, 0, 1, 2, 3, 4, 5, 6, 7, 8]], [-1, 0, 1, 2, 3, 4, 5, 6, 7, 8], 0.6666666666666666)\n",
      "2–3\t([[2, 3]], [2, 3], 0.13333333333333333)\n",
      "1-12\t([[1, 2, 3, 4, 5, 6, 7, 8, 9, 10, 11, 12]], [1, 2, 3, 4, 5, 6, 7, 8, 9, 10, 11, 12], 0.8)\n",
      "5 to 12\t([[5, 6, 7, 8, 9, 10, 11, 12]], [5, 6, 7, 8, 9, 10, 11, 12], 0.5333333333333333)\n",
      "K-4\t([[0, 1, 2, 3, 4]], [0, 1, 2, 3, 4], 0.3333333333333333)\n",
      "5-12\t([[5, 6, 7, 8, 9, 10, 11, 12]], [5, 6, 7, 8, 9, 10, 11, 12], 0.5333333333333333)\n",
      "4–4\t([[4]], [4], 0.06666666666666667)\n",
      "K–3\t([[0, 1, 2, 3]], [0, 1, 2, 3], 0.26666666666666666)\n",
      "4 to 5\t([[4, 5]], [4, 5], 0.13333333333333333)\n",
      "5 to 8\t([[5, 6, 7, 8]], [5, 6, 7, 8], 0.26666666666666666)\n",
      "7 to 12\t([[7, 8, 9, 10, 11, 12]], [7, 8, 9, 10, 11, 12], 0.4)\n",
      "PK-5, 7\t([[-1, 0, 1, 2, 3, 4, 5], [7]], [-1, 0, 1, 2, 3, 4, 5, 7], 0.5333333333333333)\n",
      "8 to 12\t([[8, 9, 10, 11, 12]], [8, 9, 10, 11, 12], 0.3333333333333333)\n",
      "PK–4\t([[-1, 0, 1, 2, 3, 4]], [-1, 0, 1, 2, 3, 4], 0.4)\n",
      "4 to 8\t([[4, 5, 6, 7, 8]], [4, 5, 6, 7, 8], 0.3333333333333333)\n",
      "PK, 5-8\t([[-1], [5, 6, 7, 8]], [-1, 5, 6, 7, 8], 0.3333333333333333)\n",
      "1 to 10\t([[1, 2, 3, 4, 5, 6, 7, 8, 9, 10]], [1, 2, 3, 4, 5, 6, 7, 8, 9, 10], 0.6666666666666666)\n",
      "2 to 5\t([[2, 3, 4, 5]], [2, 3, 4, 5], 0.26666666666666666)\n",
      "PK-10\t([[-1, 0, 1, 2, 3, 4, 5, 6, 7, 8, 9, 10]], [-1, 0, 1, 2, 3, 4, 5, 6, 7, 8, 9, 10], 0.8)\n",
      "PK-12\t([[-1, 0, 1, 2, 3, 4, 5, 6, 7, 8, 9, 10, 11, 12]], [-1, 0, 1, 2, 3, 4, 5, 6, 7, 8, 9, 10, 11, 12], 0.9333333333333333)\n",
      "1-3\t([[1, 2, 3]], [1, 2, 3], 0.2)\n",
      "7 to 11\t([[7, 8, 9, 10, 11]], [7, 8, 9, 10, 11], 0.3333333333333333)\n",
      "PK-9\t([[-1, 0, 1, 2, 3, 4, 5, 6, 7, 8, 9]], [-1, 0, 1, 2, 3, 4, 5, 6, 7, 8, 9], 0.7333333333333333)\n",
      "3–7\t([[3, 4, 5, 6, 7]], [3, 4, 5, 6, 7], 0.3333333333333333)\n",
      "K–5\t([[0, 1, 2, 3, 4, 5]], [0, 1, 2, 3, 4, 5], 0.4)\n",
      "6–7\t([[6, 7]], [6, 7], 0.13333333333333333)\n",
      "12–12\t([[12]], [12], 0.06666666666666667)\n",
      "1 to 7\t([[1, 2, 3, 4, 5, 6, 7]], [1, 2, 3, 4, 5, 6, 7], 0.4666666666666667)\n",
      "4–5\t([[4, 5]], [4, 5], 0.13333333333333333)\n",
      "1 to 6\t([[1, 2, 3, 4, 5, 6]], [1, 2, 3, 4, 5, 6], 0.4)\n",
      "7-10\t([[7, 8, 9, 10]], [7, 8, 9, 10], 0.26666666666666666)\n",
      "1–2\t([[1, 2]], [1, 2], 0.13333333333333333)\n",
      "2–11\t([[2, 3, 4, 5, 6, 7, 8, 9, 10, 11]], [2, 3, 4, 5, 6, 7, 8, 9, 10, 11], 0.6666666666666666)\n",
      "1–8\t([[1, 2, 3, 4, 5, 6, 7, 8]], [1, 2, 3, 4, 5, 6, 7, 8], 0.5333333333333333)\n",
      "K-6\t([[0, 1, 2, 3, 4, 5, 6]], [0, 1, 2, 3, 4, 5, 6], 0.4666666666666667)\n",
      "N/A\t([[-2]], [], 0.0)\n",
      "2–2\t([[2]], [2], 0.06666666666666667)\n",
      "8–8\t([[8]], [8], 0.06666666666666667)\n",
      "10–11\t([[10, 11]], [10, 11], 0.13333333333333333)\n",
      "K–12\t([[0, 1, 2, 3, 4, 5, 6, 7, 8, 9, 10, 11, 12]], [0, 1, 2, 3, 4, 5, 6, 7, 8, 9, 10, 11, 12], 0.8666666666666667)\n",
      "PK, 1-4\t([[-1], [1, 2, 3, 4]], [-1, 1, 2, 3, 4], 0.3333333333333333)\n",
      "11–11\t([[11]], [11], 0.06666666666666667)\n",
      "K to 9\t([[0, 1, 2, 3, 4, 5, 6, 7, 8, 9]], [0, 1, 2, 3, 4, 5, 6, 7, 8, 9], 0.6666666666666666)\n",
      "5-9\t([[5, 6, 7, 8, 9]], [5, 6, 7, 8, 9], 0.3333333333333333)\n",
      "5–8\t([[5, 6, 7, 8]], [5, 6, 7, 8], 0.26666666666666666)\n",
      "1-4\t([[1, 2, 3, 4]], [1, 2, 3, 4], 0.26666666666666666)\n",
      "PK–1\t([[-1, 0, 1]], [-1, 0, 1], 0.2)\n",
      "9–10\t([[9, 10]], [9, 10], 0.13333333333333333)\n",
      "2 to 3\t([[2, 3]], [2, 3], 0.13333333333333333)\n",
      "2-12\t([[2, 3, 4, 5, 6, 7, 8, 9, 10, 11, 12]], [2, 3, 4, 5, 6, 7, 8, 9, 10, 11, 12], 0.7333333333333333)\n",
      "6-12\t([[6, 7, 8, 9, 10, 11, 12]], [6, 7, 8, 9, 10, 11, 12], 0.4666666666666667)\n",
      "3–5\t([[3, 4, 5]], [3, 4, 5], 0.2)\n",
      "9 to 12\t([[9, 10, 11, 12]], [9, 10, 11, 12], 0.26666666666666666)\n",
      "1–3\t([[1, 2, 3]], [1, 2, 3], 0.2)\n",
      "K–6\t([[0, 1, 2, 3, 4, 5, 6]], [0, 1, 2, 3, 4, 5, 6], 0.4666666666666667)\n",
      "2–4\t([[2, 3, 4]], [2, 3, 4], 0.2)\n",
      "3-5, 10\t([[3, 4, 5], [10]], [3, 4, 5, 10], 0.26666666666666666)\n",
      "K to 2\t([[0, 1, 2]], [0, 1, 2], 0.2)\n",
      "Preschool to 7\t([[-1, 0, 1, 2, 3, 4, 5, 6, 7]], [-1, 0, 1, 2, 3, 4, 5, 6, 7], 0.6)\n",
      "5 to 11\t([[5, 6, 7, 8, 9, 10, 11]], [5, 6, 7, 8, 9, 10, 11], 0.4666666666666667)\n",
      "6-9\t([[6, 7, 8, 9]], [6, 7, 8, 9], 0.26666666666666666)\n",
      "3-12\t([[3, 4, 5, 6, 7, 8, 9, 10, 11, 12]], [3, 4, 5, 6, 7, 8, 9, 10, 11, 12], 0.6666666666666666)\n",
      "4–6\t([[4, 5, 6]], [4, 5, 6], 0.2)\n",
      "6–11\t([[6, 7, 8, 9, 10, 11]], [6, 7, 8, 9, 10, 11], 0.4)\n",
      "6 to 9\t([[6, 7, 8, 9]], [6, 7, 8, 9], 0.26666666666666666)\n",
      "2-5\t([[2, 3, 4, 5]], [2, 3, 4, 5], 0.26666666666666666)\n",
      "PK–5\t([[-1, 0, 1, 2, 3, 4, 5]], [-1, 0, 1, 2, 3, 4, 5], 0.4666666666666667)\n",
      "None\t([[-2]], [], 0.0)\n",
      "10–12\t([[10, 11, 12]], [10, 11, 12], 0.2)\n",
      "9 to 10\t([[9, 10]], [9, 10], 0.13333333333333333)\n",
      "7-12\t([[7, 8, 9, 10, 11, 12]], [7, 8, 9, 10, 11, 12], 0.4)\n",
      "2 to 11\t([[2, 3, 4, 5, 6, 7, 8, 9, 10, 11]], [2, 3, 4, 5, 6, 7, 8, 9, 10, 11], 0.6666666666666666)\n",
      "1 to 2\t([[1, 2]], [1, 2], 0.13333333333333333)\n",
      "1 to 4\t([[1, 2, 3, 4]], [1, 2, 3, 4], 0.26666666666666666)\n",
      "10–10\t([[10]], [10], 0.06666666666666667)\n",
      "8-12\t([[8, 9, 10, 11, 12]], [8, 9, 10, 11, 12], 0.3333333333333333)\n",
      "PK-5, 8\t([[-1, 0, 1, 2, 3, 4, 5], [8]], [-1, 0, 1, 2, 3, 4, 5, 8], 0.5333333333333333)\n",
      "7-9\t([[7, 8, 9]], [7, 8, 9], 0.2)\n",
      "PK-6\t([[-1, 0, 1, 2, 3, 4, 5, 6]], [-1, 0, 1, 2, 3, 4, 5, 6], 0.5333333333333333)\n",
      "8-10\t([[8, 9, 10]], [8, 9, 10], 0.2)\n"
     ]
    }
   ],
   "source": [
    "# сделаем функцию для разбора\n",
    "def grades_analysis(grades):\n",
    "    \n",
    "    def list_grades_to_int(list_grades):\n",
    "        # заменим текстовые обозначения цифровыми: Preschool (pre-kindergarten) - -1; Kindergarten - 0.\n",
    "        # и переведем все в числовой формат\n",
    "        ln_list_grades = len(list_grades)\n",
    "        for ls in range(ln_list_grades):\n",
    "            ln_ls = len(list_grades[ls])\n",
    "            for gr in range(ln_ls):\n",
    "                if list_grades[ls][gr] == 'K':\n",
    "                    list_grades[ls][gr] = 0\n",
    "                elif list_grades[ls][gr] == 'PK':\n",
    "                    list_grades[ls][gr] = -1\n",
    "                else:\n",
    "                    try:\n",
    "                        list_grades[ls][gr] = int(list_grades[ls][gr])\n",
    "                    except ValueError:\n",
    "                        list_grades[ls][gr] = -2\n",
    "        return list_grades\n",
    "\n",
    "    def unpack_list_grades(list_grades):\n",
    "        # раскроем диапазоны\n",
    "        ln_list_grades = len(list_grades)\n",
    "        for ls in range(ln_list_grades):\n",
    "            ln_ls = len(list_grades[ls])\n",
    "            if ln_ls == 2:\n",
    "                diff_ls = list_grades[ls][1] - list_grades[ls][0] + 1\n",
    "                ls_grades_new = []\n",
    "                for i in range(diff_ls):\n",
    "                    ls_grades_new.append(list_grades[ls][0] + i)\n",
    "                list_grades[ls] = ls_grades_new\n",
    "        return list_grades\n",
    "\n",
    "    def flatten(lst):\n",
    "        # Функция для выпрямления списка\n",
    "        # Создаём новый пустой список\n",
    "        result = []\n",
    "        # Создаём цикл по элементам списка\n",
    "        for elem in lst:\n",
    "            # Если элемент списка является списком,\n",
    "            if type(elem) is list:\n",
    "                # Применяем к нему функцию выпрямления и добавляем элементы к результату\n",
    "                result += flatten(elem)\n",
    "            else: # Если элемент не является списоком,\n",
    "                # Добавляем элемент в новый список\n",
    "                result.append(elem)\n",
    "        return result\n",
    "\n",
    "    # удаляем лишние пробелы, переводим в верхний регистр\n",
    "    if grades == None: grades=''\n",
    "    grades = ' '.join(grades.strip().split()).upper()\n",
    "    # Немного преобразований для стандартизации\n",
    "    grades = grades.replace('PRESCHOOL', 'PK').replace('TO', '-').replace('–', '-').replace(' ', '')\n",
    "    grades = grades.split(',')\n",
    "    grades = list(map(lambda x: x.split('-'), grades))\n",
    "    # преводим в цифровой формат\n",
    "    grades = list_grades_to_int(grades)\n",
    "    # раскрываем диапазоны\n",
    "    grades = unpack_list_grades(grades)\n",
    "    flatten_grades = flatten(grades)\n",
    "    if -2 in flatten_grades:\n",
    "        flatten_grades.remove(-2)\n",
    "    result = len(flatten_grades) * (1/15)\n",
    "    \n",
    "    return grades, flatten_grades, result\n",
    "\n",
    "# Выведем в столбик все уникальные значения которые встречаются.\n",
    "# И попробуем их разобрать\n",
    "ls = list(school_grades)\n",
    "for i in ls:\n",
    "    print(i, grades_analysis(i), sep='\\t')\n",
    "    #print(i)\n"
   ]
  },
  {
   "cell_type": "markdown",
   "metadata": {},
   "source": [
    "Умеем считать коэффициент покрытия образованием для школы. Осталось соединить все вместе."
   ]
  },
  {
   "cell_type": "code",
   "execution_count": 123,
   "metadata": {},
   "outputs": [],
   "source": [
    "# разберем признак\n",
    "def schools_analysis_2(feature):\n",
    "    try:\n",
    "        # получим словарь\n",
    "        school_data = ast.literal_eval(feature)\n",
    "        \n",
    "        # функция для перевода в int значений рейтинга школ\n",
    "        def rating_to_int(rating):\n",
    "            try:\n",
    "                return int(rating.split('/')[0])\n",
    "            except ValueError:\n",
    "                return 1\n",
    "        # функция для перевода во float значений расстояния\n",
    "        def distance_to_float(distance):\n",
    "            non_decimal = re.compile(r'[^\\d.]+')\n",
    "            return float(non_decimal.sub('', distance))\n",
    "\n",
    "        for data in school_data:\n",
    "            # разбираем rating\n",
    "            ls_rating = list(map(rating_to_int, data['rating'])) # получили список\n",
    "            if len(ls_rating) > 0:\n",
    "                av_rating = round(sum(ls_rating) / len(ls_rating), 3) # посчитали среднее\n",
    "            else:\n",
    "                av_rating = np.nan\n",
    "            \n",
    "            # разбираем distance\n",
    "            ls_distance = list(map(distance_to_float, data['data']['Distance'])) # получили список\n",
    "            if len(ls_distance) > 0:\n",
    "                av_distance = round(sum(ls_distance) / len(ls_distance), 3) # посчитали среднее\n",
    "            else:\n",
    "                av_distance = np.nan\n",
    "            \n",
    "            # разбираем grades\n",
    "            ls_shool_grades = []\n",
    "            for shool_grades in  data['data']['Grades']:\n",
    "                _, _, grades = grades_analysis(shool_grades)\n",
    "                ls_shool_grades.append(grades) # получили список\n",
    "            if len(ls_shool_grades) > 0:\n",
    "                av_grades = round(sum(ls_shool_grades) / len(ls_shool_grades), 3) # посчитали среднее\n",
    "            else:\n",
    "                av_grades = np.nan\n",
    "            \n",
    "            \n",
    "        return pd.Series([av_rating, av_distance, av_grades])\n",
    "    \n",
    "    except (KeyError, SyntaxError, ValueError):\n",
    "        print('Ошибка обработки:', feature)\n",
    "        return pd.Series([np.nan, np.nan, np.nan])\n",
    " \n",
    "df[['schools_av_rating', 'schools_av_distance', 'schools_av_grades']] = df['schools'].apply(schools_analysis_2)\n"
   ]
  },
  {
   "cell_type": "code",
   "execution_count": 124,
   "metadata": {},
   "outputs": [
    {
     "data": {
      "text/plain": [
       "schools_av_distance    1.128941\n",
       "schools_av_grades      1.128941\n",
       "schools_av_rating      1.107584\n",
       "dtype: float64"
      ]
     },
     "metadata": {},
     "output_type": "display_data"
    }
   ],
   "source": [
    "# Посмотрим на наличие пропусков в данных\n",
    "cols_null_percent = df[['schools_av_rating', 'schools_av_distance', 'schools_av_grades']].isnull().mean() * 100\n",
    "cols_with_null = cols_null_percent[cols_null_percent > 0].sort_values(ascending=False)\n",
    "display(cols_with_null)"
   ]
  },
  {
   "cell_type": "markdown",
   "metadata": {},
   "source": [
    "Пропусков немного.\n",
    "\n",
    "Посмотрим на статистические показатели."
   ]
  },
  {
   "cell_type": "code",
   "execution_count": 125,
   "metadata": {},
   "outputs": [
    {
     "data": {
      "text/html": [
       "<div>\n",
       "<style scoped>\n",
       "    .dataframe tbody tr th:only-of-type {\n",
       "        vertical-align: middle;\n",
       "    }\n",
       "\n",
       "    .dataframe tbody tr th {\n",
       "        vertical-align: top;\n",
       "    }\n",
       "\n",
       "    .dataframe thead th {\n",
       "        text-align: right;\n",
       "    }\n",
       "</style>\n",
       "<table border=\"1\" class=\"dataframe\">\n",
       "  <thead>\n",
       "    <tr style=\"text-align: right;\">\n",
       "      <th></th>\n",
       "      <th>schools_av_rating</th>\n",
       "      <th>schools_av_distance</th>\n",
       "      <th>schools_av_grades</th>\n",
       "    </tr>\n",
       "  </thead>\n",
       "  <tbody>\n",
       "    <tr>\n",
       "      <th>count</th>\n",
       "      <td>370450.000000</td>\n",
       "      <td>370370.000000</td>\n",
       "      <td>370370.000000</td>\n",
       "    </tr>\n",
       "    <tr>\n",
       "      <th>mean</th>\n",
       "      <td>4.826053</td>\n",
       "      <td>2.861808</td>\n",
       "      <td>0.356302</td>\n",
       "    </tr>\n",
       "    <tr>\n",
       "      <th>std</th>\n",
       "      <td>1.901266</td>\n",
       "      <td>5.899717</td>\n",
       "      <td>0.092147</td>\n",
       "    </tr>\n",
       "    <tr>\n",
       "      <th>min</th>\n",
       "      <td>1.000000</td>\n",
       "      <td>0.000000</td>\n",
       "      <td>0.000000</td>\n",
       "    </tr>\n",
       "    <tr>\n",
       "      <th>25%</th>\n",
       "      <td>3.333000</td>\n",
       "      <td>1.062000</td>\n",
       "      <td>0.311000</td>\n",
       "    </tr>\n",
       "    <tr>\n",
       "      <th>50%</th>\n",
       "      <td>4.667000</td>\n",
       "      <td>1.778000</td>\n",
       "      <td>0.311000</td>\n",
       "    </tr>\n",
       "    <tr>\n",
       "      <th>75%</th>\n",
       "      <td>6.167000</td>\n",
       "      <td>3.288000</td>\n",
       "      <td>0.410000</td>\n",
       "    </tr>\n",
       "    <tr>\n",
       "      <th>max</th>\n",
       "      <td>10.000000</td>\n",
       "      <td>1590.830000</td>\n",
       "      <td>0.933000</td>\n",
       "    </tr>\n",
       "  </tbody>\n",
       "</table>\n",
       "</div>"
      ],
      "text/plain": [
       "       schools_av_rating  schools_av_distance  schools_av_grades\n",
       "count      370450.000000        370370.000000      370370.000000\n",
       "mean            4.826053             2.861808           0.356302\n",
       "std             1.901266             5.899717           0.092147\n",
       "min             1.000000             0.000000           0.000000\n",
       "25%             3.333000             1.062000           0.311000\n",
       "50%             4.667000             1.778000           0.311000\n",
       "75%             6.167000             3.288000           0.410000\n",
       "max            10.000000          1590.830000           0.933000"
      ]
     },
     "execution_count": 125,
     "metadata": {},
     "output_type": "execute_result"
    }
   ],
   "source": [
    "df[['schools_av_rating', 'schools_av_distance', 'schools_av_grades']].describe()"
   ]
  },
  {
   "cell_type": "markdown",
   "metadata": {},
   "source": [
    "Настораживает объект с расстоянием до школы в 1590.83 мили. Посмотрим на объекты с расстояниме более 1000 миль."
   ]
  },
  {
   "cell_type": "code",
   "execution_count": 126,
   "metadata": {},
   "outputs": [
    {
     "data": {
      "text/html": [
       "<div>\n",
       "<style scoped>\n",
       "    .dataframe tbody tr th:only-of-type {\n",
       "        vertical-align: middle;\n",
       "    }\n",
       "\n",
       "    .dataframe tbody tr th {\n",
       "        vertical-align: top;\n",
       "    }\n",
       "\n",
       "    .dataframe thead th {\n",
       "        text-align: right;\n",
       "    }\n",
       "</style>\n",
       "<table border=\"1\" class=\"dataframe\">\n",
       "  <thead>\n",
       "    <tr style=\"text-align: right;\">\n",
       "      <th></th>\n",
       "      <th>status</th>\n",
       "      <th>propertyType</th>\n",
       "      <th>baths</th>\n",
       "      <th>homeFacts</th>\n",
       "      <th>fireplace</th>\n",
       "      <th>city</th>\n",
       "      <th>schools</th>\n",
       "      <th>sqft</th>\n",
       "      <th>zipcode</th>\n",
       "      <th>beds</th>\n",
       "      <th>...</th>\n",
       "      <th>Remodeled year</th>\n",
       "      <th>Heating</th>\n",
       "      <th>Cooling</th>\n",
       "      <th>Parking</th>\n",
       "      <th>lotsize</th>\n",
       "      <th>age_of_the_object</th>\n",
       "      <th>age_of_the_remodeled</th>\n",
       "      <th>schools_av_rating</th>\n",
       "      <th>schools_av_distance</th>\n",
       "      <th>schools_av_grades</th>\n",
       "    </tr>\n",
       "  </thead>\n",
       "  <tbody>\n",
       "    <tr>\n",
       "      <th>110102</th>\n",
       "      <td>FOR SALE</td>\n",
       "      <td>SINGLE FAMILY</td>\n",
       "      <td>2.0</td>\n",
       "      <td>{'atAGlanceFacts': [{'factValue': '1963', 'fac...</td>\n",
       "      <td>1</td>\n",
       "      <td>SANTA ANA</td>\n",
       "      <td>[{'rating': ['3/10', '1/10', '4/10'], 'data': ...</td>\n",
       "      <td>890.0</td>\n",
       "      <td>92703</td>\n",
       "      <td>2.0</td>\n",
       "      <td>...</td>\n",
       "      <td>1963.0</td>\n",
       "      <td>AIR</td>\n",
       "      <td>1</td>\n",
       "      <td>0</td>\n",
       "      <td>1481.0</td>\n",
       "      <td>61.0</td>\n",
       "      <td>61.0</td>\n",
       "      <td>2.667</td>\n",
       "      <td>1590.807</td>\n",
       "      <td>0.311</td>\n",
       "    </tr>\n",
       "    <tr>\n",
       "      <th>204047</th>\n",
       "      <td>FOR SALE</td>\n",
       "      <td>SINGLE FAMILY</td>\n",
       "      <td>6.0</td>\n",
       "      <td>{'atAGlanceFacts': [{'factValue': '1949', 'fac...</td>\n",
       "      <td>0</td>\n",
       "      <td>MIAMI BEACH</td>\n",
       "      <td>[{'rating': ['4/10', '7/10'], 'data': {'Distan...</td>\n",
       "      <td>4173.0</td>\n",
       "      <td>33140</td>\n",
       "      <td>4.0</td>\n",
       "      <td>...</td>\n",
       "      <td>2018.0</td>\n",
       "      <td>AIR</td>\n",
       "      <td>0</td>\n",
       "      <td>1</td>\n",
       "      <td>9589.0</td>\n",
       "      <td>75.0</td>\n",
       "      <td>6.0</td>\n",
       "      <td>5.500</td>\n",
       "      <td>1187.510</td>\n",
       "      <td>0.467</td>\n",
       "    </tr>\n",
       "    <tr>\n",
       "      <th>356815</th>\n",
       "      <td>FOR SALE</td>\n",
       "      <td>SINGLE FAMILY</td>\n",
       "      <td>3.0</td>\n",
       "      <td>{'atAGlanceFacts': [{'factValue': '1963', 'fac...</td>\n",
       "      <td>1</td>\n",
       "      <td>SANTA ANA</td>\n",
       "      <td>[{'rating': ['3/10', '1/10', '4/10'], 'data': ...</td>\n",
       "      <td>890.0</td>\n",
       "      <td>92703</td>\n",
       "      <td>2.0</td>\n",
       "      <td>...</td>\n",
       "      <td>1963.0</td>\n",
       "      <td>AIR</td>\n",
       "      <td>1</td>\n",
       "      <td>0</td>\n",
       "      <td>1481.0</td>\n",
       "      <td>61.0</td>\n",
       "      <td>61.0</td>\n",
       "      <td>2.667</td>\n",
       "      <td>1590.830</td>\n",
       "      <td>0.311</td>\n",
       "    </tr>\n",
       "  </tbody>\n",
       "</table>\n",
       "<p>3 rows × 29 columns</p>\n",
       "</div>"
      ],
      "text/plain": [
       "          status   propertyType  baths  \\\n",
       "110102  FOR SALE  SINGLE FAMILY    2.0   \n",
       "204047  FOR SALE  SINGLE FAMILY    6.0   \n",
       "356815  FOR SALE  SINGLE FAMILY    3.0   \n",
       "\n",
       "                                                homeFacts  fireplace  \\\n",
       "110102  {'atAGlanceFacts': [{'factValue': '1963', 'fac...          1   \n",
       "204047  {'atAGlanceFacts': [{'factValue': '1949', 'fac...          0   \n",
       "356815  {'atAGlanceFacts': [{'factValue': '1963', 'fac...          1   \n",
       "\n",
       "               city                                            schools  \\\n",
       "110102    SANTA ANA  [{'rating': ['3/10', '1/10', '4/10'], 'data': ...   \n",
       "204047  MIAMI BEACH  [{'rating': ['4/10', '7/10'], 'data': {'Distan...   \n",
       "356815    SANTA ANA  [{'rating': ['3/10', '1/10', '4/10'], 'data': ...   \n",
       "\n",
       "          sqft zipcode  beds  ... Remodeled year Heating  Cooling  Parking  \\\n",
       "110102   890.0   92703   2.0  ...         1963.0     AIR        1        0   \n",
       "204047  4173.0   33140   4.0  ...         2018.0     AIR        0        1   \n",
       "356815   890.0   92703   2.0  ...         1963.0     AIR        1        0   \n",
       "\n",
       "        lotsize age_of_the_object age_of_the_remodeled  schools_av_rating  \\\n",
       "110102   1481.0              61.0                 61.0              2.667   \n",
       "204047   9589.0              75.0                  6.0              5.500   \n",
       "356815   1481.0              61.0                 61.0              2.667   \n",
       "\n",
       "        schools_av_distance  schools_av_grades  \n",
       "110102             1590.807              0.311  \n",
       "204047             1187.510              0.467  \n",
       "356815             1590.830              0.311  \n",
       "\n",
       "[3 rows x 29 columns]"
      ]
     },
     "execution_count": 126,
     "metadata": {},
     "output_type": "execute_result"
    }
   ],
   "source": [
    "df[df['schools_av_distance'] > 1000]"
   ]
  },
  {
   "cell_type": "markdown",
   "metadata": {},
   "source": [
    "Возможно это какие-то одиноко стоящие в отдалении от всех населенных пунктов объекты. Пока оставим.\n",
    "\n",
    "Заполним пропуски медианой."
   ]
  },
  {
   "cell_type": "code",
   "execution_count": 127,
   "metadata": {},
   "outputs": [],
   "source": [
    "median_schools_av_rating = df['schools_av_rating'].median()\n",
    "median_schools_av_distance = df['schools_av_distance'].median()\n",
    "median_schools_av_grades = df['schools_av_grades'].median()\n",
    "\n",
    "df['schools_av_rating'] = df['schools_av_rating'].fillna(median_schools_av_rating)\n",
    "df['schools_av_distance'] = df['schools_av_distance'].fillna(median_schools_av_distance)\n",
    "df['schools_av_grades'] = df['schools_av_grades'].fillna(median_schools_av_grades)"
   ]
  },
  {
   "cell_type": "markdown",
   "metadata": {},
   "source": [
    "Удалим первоначальные признаки, которые еще остались в датасете, но теперь нам не нужны."
   ]
  },
  {
   "cell_type": "code",
   "execution_count": 128,
   "metadata": {},
   "outputs": [],
   "source": [
    "df = df.drop(columns=['propertyType', 'city', 'stories', 'homeFacts', 'Year built', 'Remodeled year', 'schools'])"
   ]
  },
  {
   "cell_type": "markdown",
   "metadata": {},
   "source": [
    "Вспомним, что при анализе данных мы выявили, что в данных присутствуют дубли объектов, у которых были вариации в написании одного и того же признака. Соответственно при первом удалении дубликатов, такие дубли не были удалены. Сейчас самое время повторить процедуру."
   ]
  },
  {
   "cell_type": "code",
   "execution_count": 129,
   "metadata": {},
   "outputs": [
    {
     "name": "stdout",
     "output_type": "stream",
     "text": [
      "Количество дубликатов: 2810\n"
     ]
    }
   ],
   "source": [
    "# Проверим наличие полных дубликатов\n",
    "number_of_duplicates = df[df.duplicated()].shape[0]\n",
    "print(f'Количество дубликатов: {number_of_duplicates}')"
   ]
  },
  {
   "cell_type": "code",
   "execution_count": 130,
   "metadata": {},
   "outputs": [
    {
     "name": "stdout",
     "output_type": "stream",
     "text": [
      "Размер таблицы после удаления дубликатов: (371789, 22)\n"
     ]
    }
   ],
   "source": [
    "# Удаляем дубликаты:\n",
    "df = df.drop_duplicates()\n",
    "print(f'Размер таблицы после удаления дубликатов: {df.shape}')"
   ]
  },
  {
   "cell_type": "code",
   "execution_count": 131,
   "metadata": {},
   "outputs": [
    {
     "name": "stdout",
     "output_type": "stream",
     "text": [
      "<class 'pandas.core.frame.DataFrame'>\n",
      "Index: 371789 entries, 0 to 377184\n",
      "Data columns (total 22 columns):\n",
      " #   Column                Non-Null Count   Dtype  \n",
      "---  ------                --------------   -----  \n",
      " 0   status                371789 non-null  object \n",
      " 1   baths                 371789 non-null  float64\n",
      " 2   fireplace             371789 non-null  int64  \n",
      " 3   sqft                  371789 non-null  float64\n",
      " 4   zipcode               371789 non-null  object \n",
      " 5   beds                  371789 non-null  float64\n",
      " 6   state                 371789 non-null  object \n",
      " 7   MlsId                 371789 non-null  int64  \n",
      " 8   target                371789 non-null  float64\n",
      " 9   private_pool          371789 non-null  int64  \n",
      " 10  property_type         371789 non-null  object \n",
      " 11  city_2                371789 non-null  object \n",
      " 12  stories_2             371789 non-null  float64\n",
      " 13  Heating               371789 non-null  object \n",
      " 14  Cooling               371789 non-null  int64  \n",
      " 15  Parking               371789 non-null  int64  \n",
      " 16  lotsize               371789 non-null  float64\n",
      " 17  age_of_the_object     371789 non-null  float64\n",
      " 18  age_of_the_remodeled  371789 non-null  float64\n",
      " 19  schools_av_rating     371789 non-null  float64\n",
      " 20  schools_av_distance   371789 non-null  float64\n",
      " 21  schools_av_grades     371789 non-null  float64\n",
      "dtypes: float64(11), int64(5), object(6)\n",
      "memory usage: 65.2+ MB\n"
     ]
    }
   ],
   "source": [
    "df.info()"
   ]
  },
  {
   "cell_type": "markdown",
   "metadata": {},
   "source": [
    "Пора сохранить наш датасет для дальнейшего использования."
   ]
  },
  {
   "cell_type": "code",
   "execution_count": 132,
   "metadata": {},
   "outputs": [],
   "source": [
    "compression_opts = dict(method='zip', archive_name='cleared_data.csv')  \n",
    "df.to_csv('data/cleared_data.zip', index=False, compression=compression_opts)"
   ]
  },
  {
   "cell_type": "markdown",
   "metadata": {},
   "source": [
    "Так же сохраним использованный нами датасет с городами."
   ]
  },
  {
   "cell_type": "code",
   "execution_count": 133,
   "metadata": {},
   "outputs": [],
   "source": [
    "compression_opts = dict(method='zip', archive_name='cities.csv')  \n",
    "cities.to_csv('data/cities.zip', index=False, compression=compression_opts)"
   ]
  },
  {
   "cell_type": "markdown",
   "metadata": {},
   "source": [
    "Еще нам понадобятся медианы, которыми мы заполняли пропущенные значения."
   ]
  },
  {
   "cell_type": "code",
   "execution_count": 134,
   "metadata": {},
   "outputs": [],
   "source": [
    "df_median = pd.DataFrame({\n",
    "    'median_beds': [median_beds],\n",
    "    'median_sqft': [median_sqft],\n",
    "    'median_year_built': [median_year_built],\n",
    "    'median_schools_av_rating': [median_schools_av_rating],\n",
    "    'median_schools_av_distance': [median_schools_av_distance],\n",
    "    'median_schools_av_grades': [median_schools_av_grades]\n",
    "})\n",
    "\n",
    "df_median.to_csv('data/median.csv', index=False)"
   ]
  },
  {
   "cell_type": "markdown",
   "metadata": {},
   "source": [
    "Мы выполнили очистку довольно загрязненного датасета и подготовили его для использования. Потом, для использования в проде, мы соберем всю обработку по очистке датасета в один файл py. А пока продолжим в другом файле, где проведем стат. анализ и подготовим baseline.  \n",
    "Продолжени в файле [2_baseline.ipynb](2_baseline.ipynb)."
   ]
  }
 ],
 "metadata": {
  "kernelspec": {
   "display_name": "Python 3",
   "language": "python",
   "name": "python3"
  },
  "language_info": {
   "codemirror_mode": {
    "name": "ipython",
    "version": 3
   },
   "file_extension": ".py",
   "mimetype": "text/x-python",
   "name": "python",
   "nbconvert_exporter": "python",
   "pygments_lexer": "ipython3",
   "version": "3.11.2"
  }
 },
 "nbformat": 4,
 "nbformat_minor": 2
}
