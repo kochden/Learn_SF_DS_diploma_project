{
 "cells": [
  {
   "cell_type": "markdown",
   "metadata": {},
   "source": [
    "## Дипломный проект\n",
    "### Учебный кейс\n",
    "### «Модель прогнозирования стоимости жилья для агентства недвижимости»\n",
    "\n",
    "Продолжение."
   ]
  },
  {
   "cell_type": "code",
   "execution_count": 1,
   "metadata": {},
   "outputs": [],
   "source": [
    "# импорт необходимых библиотек\n",
    "import numpy as np\n",
    "import pandas as pd\n",
    "\n",
    "import matplotlib.pyplot as plt\n",
    "import seaborn as sns\n",
    "\n",
    "from sklearn import linear_model\n",
    "from sklearn import tree\n",
    "from sklearn import ensemble\n",
    "from sklearn import metrics\n",
    "from sklearn import preprocessing\n",
    "from sklearn.model_selection import train_test_split \n",
    "from sklearn.model_selection import cross_val_score\n",
    "from sklearn.feature_selection import SelectKBest, f_regression\n",
    "\n",
    "from catboost import CatBoostRegressor\n",
    "\n",
    "import category_encoders as ce\n",
    "\n",
    "import optuna\n",
    "\n",
    "import pickle"
   ]
  },
  {
   "cell_type": "markdown",
   "metadata": {},
   "source": [
    "Загрузим датасет."
   ]
  },
  {
   "cell_type": "code",
   "execution_count": 2,
   "metadata": {},
   "outputs": [
    {
     "data": {
      "text/html": [
       "<div>\n",
       "<style scoped>\n",
       "    .dataframe tbody tr th:only-of-type {\n",
       "        vertical-align: middle;\n",
       "    }\n",
       "\n",
       "    .dataframe tbody tr th {\n",
       "        vertical-align: top;\n",
       "    }\n",
       "\n",
       "    .dataframe thead th {\n",
       "        text-align: right;\n",
       "    }\n",
       "</style>\n",
       "<table border=\"1\" class=\"dataframe\">\n",
       "  <thead>\n",
       "    <tr style=\"text-align: right;\">\n",
       "      <th></th>\n",
       "      <th>status</th>\n",
       "      <th>baths</th>\n",
       "      <th>fireplace</th>\n",
       "      <th>sqft</th>\n",
       "      <th>beds</th>\n",
       "      <th>state</th>\n",
       "      <th>MlsId</th>\n",
       "      <th>target</th>\n",
       "      <th>private_pool</th>\n",
       "      <th>property_type</th>\n",
       "      <th>city_2</th>\n",
       "      <th>stories_2</th>\n",
       "      <th>Heating</th>\n",
       "      <th>Cooling</th>\n",
       "      <th>Parking</th>\n",
       "      <th>lotsize</th>\n",
       "      <th>age_of_the_remodeled</th>\n",
       "      <th>schools_av_rating</th>\n",
       "      <th>schools_av_distance</th>\n",
       "      <th>schools_av_grades</th>\n",
       "    </tr>\n",
       "  </thead>\n",
       "  <tbody>\n",
       "    <tr>\n",
       "      <th>0</th>\n",
       "      <td>FOR SALE</td>\n",
       "      <td>3.5</td>\n",
       "      <td>1</td>\n",
       "      <td>2900.0</td>\n",
       "      <td>4.0</td>\n",
       "      <td>NC</td>\n",
       "      <td>1</td>\n",
       "      <td>418000.0</td>\n",
       "      <td>0</td>\n",
       "      <td>SINGLE FAMILY</td>\n",
       "      <td>SOUTHERN PINES</td>\n",
       "      <td>2.0</td>\n",
       "      <td>AIR</td>\n",
       "      <td>0</td>\n",
       "      <td>0</td>\n",
       "      <td>0.0</td>\n",
       "      <td>5.0</td>\n",
       "      <td>3.625</td>\n",
       "      <td>5.538</td>\n",
       "      <td>0.342</td>\n",
       "    </tr>\n",
       "    <tr>\n",
       "      <th>1</th>\n",
       "      <td>FOR SALE</td>\n",
       "      <td>3.0</td>\n",
       "      <td>0</td>\n",
       "      <td>1947.0</td>\n",
       "      <td>3.0</td>\n",
       "      <td>WA</td>\n",
       "      <td>1</td>\n",
       "      <td>310000.0</td>\n",
       "      <td>0</td>\n",
       "      <td>SINGLE FAMILY</td>\n",
       "      <td>SPOKANE VALLEY</td>\n",
       "      <td>2.0</td>\n",
       "      <td>NO DATA</td>\n",
       "      <td>0</td>\n",
       "      <td>0</td>\n",
       "      <td>5828.0</td>\n",
       "      <td>5.0</td>\n",
       "      <td>3.000</td>\n",
       "      <td>1.327</td>\n",
       "      <td>0.444</td>\n",
       "    </tr>\n",
       "    <tr>\n",
       "      <th>2</th>\n",
       "      <td>FOR SALE</td>\n",
       "      <td>3.0</td>\n",
       "      <td>0</td>\n",
       "      <td>1807.0</td>\n",
       "      <td>3.0</td>\n",
       "      <td>FL</td>\n",
       "      <td>1</td>\n",
       "      <td>5000.0</td>\n",
       "      <td>0</td>\n",
       "      <td>LAND</td>\n",
       "      <td>PALM BAY</td>\n",
       "      <td>0.0</td>\n",
       "      <td>NO DATA</td>\n",
       "      <td>0</td>\n",
       "      <td>0</td>\n",
       "      <td>10019.0</td>\n",
       "      <td>39.0</td>\n",
       "      <td>4.667</td>\n",
       "      <td>4.080</td>\n",
       "      <td>0.311</td>\n",
       "    </tr>\n",
       "    <tr>\n",
       "      <th>3</th>\n",
       "      <td>FOR SALE</td>\n",
       "      <td>2.0</td>\n",
       "      <td>0</td>\n",
       "      <td>897.0</td>\n",
       "      <td>2.0</td>\n",
       "      <td>PA</td>\n",
       "      <td>1</td>\n",
       "      <td>209000.0</td>\n",
       "      <td>0</td>\n",
       "      <td>TOWNHOUSE</td>\n",
       "      <td>PHILADELPHIA</td>\n",
       "      <td>2.0</td>\n",
       "      <td>AIR</td>\n",
       "      <td>1</td>\n",
       "      <td>0</td>\n",
       "      <td>680.0</td>\n",
       "      <td>104.0</td>\n",
       "      <td>4.667</td>\n",
       "      <td>1.778</td>\n",
       "      <td>0.311</td>\n",
       "    </tr>\n",
       "    <tr>\n",
       "      <th>4</th>\n",
       "      <td>FOR SALE</td>\n",
       "      <td>3.0</td>\n",
       "      <td>0</td>\n",
       "      <td>1507.0</td>\n",
       "      <td>3.0</td>\n",
       "      <td>FL</td>\n",
       "      <td>1</td>\n",
       "      <td>181500.0</td>\n",
       "      <td>0</td>\n",
       "      <td>FLORIDA</td>\n",
       "      <td>POINCIANA</td>\n",
       "      <td>1.0</td>\n",
       "      <td>ELECTRIC</td>\n",
       "      <td>1</td>\n",
       "      <td>0</td>\n",
       "      <td>0.0</td>\n",
       "      <td>18.0</td>\n",
       "      <td>2.000</td>\n",
       "      <td>3.825</td>\n",
       "      <td>0.600</td>\n",
       "    </tr>\n",
       "  </tbody>\n",
       "</table>\n",
       "</div>"
      ],
      "text/plain": [
       "     status  baths  fireplace    sqft  beds state  MlsId    target  \\\n",
       "0  FOR SALE    3.5          1  2900.0   4.0    NC      1  418000.0   \n",
       "1  FOR SALE    3.0          0  1947.0   3.0    WA      1  310000.0   \n",
       "2  FOR SALE    3.0          0  1807.0   3.0    FL      1    5000.0   \n",
       "3  FOR SALE    2.0          0   897.0   2.0    PA      1  209000.0   \n",
       "4  FOR SALE    3.0          0  1507.0   3.0    FL      1  181500.0   \n",
       "\n",
       "   private_pool  property_type          city_2  stories_2   Heating  Cooling  \\\n",
       "0             0  SINGLE FAMILY  SOUTHERN PINES        2.0       AIR        0   \n",
       "1             0  SINGLE FAMILY  SPOKANE VALLEY        2.0   NO DATA        0   \n",
       "2             0           LAND        PALM BAY        0.0   NO DATA        0   \n",
       "3             0      TOWNHOUSE    PHILADELPHIA        2.0       AIR        1   \n",
       "4             0        FLORIDA       POINCIANA        1.0  ELECTRIC        1   \n",
       "\n",
       "   Parking  lotsize  age_of_the_remodeled  schools_av_rating  \\\n",
       "0        0      0.0                   5.0              3.625   \n",
       "1        0   5828.0                   5.0              3.000   \n",
       "2        0  10019.0                  39.0              4.667   \n",
       "3        0    680.0                 104.0              4.667   \n",
       "4        0      0.0                  18.0              2.000   \n",
       "\n",
       "   schools_av_distance  schools_av_grades  \n",
       "0                5.538              0.342  \n",
       "1                1.327              0.444  \n",
       "2                4.080              0.311  \n",
       "3                1.778              0.311  \n",
       "4                3.825              0.600  "
      ]
     },
     "execution_count": 2,
     "metadata": {},
     "output_type": "execute_result"
    }
   ],
   "source": [
    "df = pd.read_csv('data/baseline.zip')\n",
    "df.head()"
   ]
  },
  {
   "cell_type": "code",
   "execution_count": 3,
   "metadata": {},
   "outputs": [
    {
     "name": "stdout",
     "output_type": "stream",
     "text": [
      "<class 'pandas.core.frame.DataFrame'>\n",
      "RangeIndex: 286514 entries, 0 to 286513\n",
      "Data columns (total 20 columns):\n",
      " #   Column                Non-Null Count   Dtype  \n",
      "---  ------                --------------   -----  \n",
      " 0   status                286514 non-null  object \n",
      " 1   baths                 286514 non-null  float64\n",
      " 2   fireplace             286514 non-null  int64  \n",
      " 3   sqft                  286514 non-null  float64\n",
      " 4   beds                  286514 non-null  float64\n",
      " 5   state                 286514 non-null  object \n",
      " 6   MlsId                 286514 non-null  int64  \n",
      " 7   target                286514 non-null  float64\n",
      " 8   private_pool          286514 non-null  int64  \n",
      " 9   property_type         286514 non-null  object \n",
      " 10  city_2                286514 non-null  object \n",
      " 11  stories_2             286514 non-null  float64\n",
      " 12  Heating               286514 non-null  object \n",
      " 13  Cooling               286514 non-null  int64  \n",
      " 14  Parking               286514 non-null  int64  \n",
      " 15  lotsize               286514 non-null  float64\n",
      " 16  age_of_the_remodeled  286514 non-null  float64\n",
      " 17  schools_av_rating     286514 non-null  float64\n",
      " 18  schools_av_distance   286514 non-null  float64\n",
      " 19  schools_av_grades     286514 non-null  float64\n",
      "dtypes: float64(10), int64(5), object(5)\n",
      "memory usage: 43.7+ MB\n"
     ]
    }
   ],
   "source": [
    "df.info()"
   ]
  },
  {
   "cell_type": "markdown",
   "metadata": {},
   "source": [
    "Разделим датасет"
   ]
  },
  {
   "cell_type": "code",
   "execution_count": 4,
   "metadata": {},
   "outputs": [],
   "source": [
    "X = df.drop(columns=['target'])\n",
    "y = df['target']\n",
    "\n",
    "X_train, X_test, y_train, y_test = train_test_split(X, y, random_state = 42, test_size = 0.2)"
   ]
  },
  {
   "cell_type": "markdown",
   "metadata": {},
   "source": [
    "Закодируем категориальные признаки."
   ]
  },
  {
   "cell_type": "code",
   "execution_count": 5,
   "metadata": {},
   "outputs": [],
   "source": [
    "# Binary Encoding\n",
    "columns_to_change = ['property_type', 'state', 'city_2']\n",
    "\n",
    "# кодируем\n",
    "bin_encoder = ce.BinaryEncoder(cols=columns_to_change)\n",
    "type_bin = bin_encoder.fit_transform(X_train[columns_to_change])\n",
    "X_train = pd.concat([X_train, type_bin], axis=1)\n",
    "\n",
    "# сразу удалим лишнее\n",
    "X_train = X_train.drop(columns=columns_to_change)\n",
    "\n",
    "# тестовые данные\n",
    "type_bin = bin_encoder.transform(X_test[columns_to_change])\n",
    "X_test = pd.concat([X_test, type_bin], axis=1)\n",
    "\n",
    "# сразу удалим лишнее\n",
    "X_test = X_test.drop(columns=columns_to_change)\n"
   ]
  },
  {
   "cell_type": "code",
   "execution_count": 6,
   "metadata": {},
   "outputs": [],
   "source": [
    "# OneHot Encoding\n",
    "columns_to_change = ['status', 'Heating']\n",
    "\n",
    "# кодируем\n",
    "hot_encoder = ce.OneHotEncoder(cols=columns_to_change)\n",
    "type_hot = hot_encoder.fit_transform(X_train[columns_to_change])\n",
    "X_train = pd.concat([X_train, type_hot], axis=1)\n",
    "\n",
    "# сразу удалим лишнее\n",
    "X_train = X_train.drop(columns=columns_to_change)\n",
    "\n",
    "# тестовые данные\n",
    "type_hot = hot_encoder.transform(X_test[columns_to_change])\n",
    "X_test = pd.concat([X_test, type_hot], axis=1)\n",
    "\n",
    "# сразу удалим лишнее\n",
    "X_test = X_test.drop(columns=columns_to_change)\n"
   ]
  },
  {
   "cell_type": "markdown",
   "metadata": {},
   "source": [
    "Стандартизируем"
   ]
  },
  {
   "cell_type": "code",
   "execution_count": 7,
   "metadata": {},
   "outputs": [],
   "source": [
    "scaler = preprocessing.StandardScaler().set_output(transform='pandas')\n",
    "scaler.fit(X_train)\n",
    "X_train_scaled = scaler.transform(X_train)\n",
    "X_test_scaled = scaler.transform(X_test)"
   ]
  },
  {
   "cell_type": "markdown",
   "metadata": {},
   "source": [
    "Напомним метрик которые у нас получились на базовой модели.  \n",
    "**R2:**  \n",
    "Train: 0.369  \n",
    "Test: 0.370  \n",
    "**MAPE:**  \n",
    "Train: 10.893  \n",
    "Test: 4.460  \n",
    "Сейчас нам нужно улучшить показатели базовой модели."
   ]
  },
  {
   "cell_type": "code",
   "execution_count": 8,
   "metadata": {},
   "outputs": [],
   "source": [
    "# заведем список для показателей моделей\n",
    "# - модель\n",
    "# - R2 на тренировочных данных\n",
    "# - R2 на тестовых данных\n",
    "# - MAPE на тренировочных данных\n",
    "# - MAPE на тестовых данных\n",
    "model_indicators = [['base', 0.369, 0.370, 10.893, 4.460]]"
   ]
  },
  {
   "cell_type": "markdown",
   "metadata": {},
   "source": [
    "### Полиномиальная регрессия"
   ]
  },
  {
   "cell_type": "code",
   "execution_count": 9,
   "metadata": {},
   "outputs": [],
   "source": [
    "# отберем 30 наиболее значимых признаков\n",
    "# т.к. расчет с использованияем всех признаков приводил к нехватке памяти\n",
    "selector = SelectKBest(f_regression, k=30).set_output(transform='pandas')\n",
    "X_train_30 = selector.fit_transform(X_train_scaled, y_train)\n",
    "X_test_30 = X_test_scaled[X_train_30.columns]"
   ]
  },
  {
   "cell_type": "code",
   "execution_count": 10,
   "metadata": {},
   "outputs": [],
   "source": [
    "# сгенерируем признаки\n",
    "pl = preprocessing.PolynomialFeatures(degree=2, include_bias=False)\n",
    "pl.fit(X_train_30)\n",
    "\n",
    "X_train_poly = pl.transform(X_train_30)\n",
    "X_test_poly = pl.transform(X_test_30)"
   ]
  },
  {
   "cell_type": "code",
   "execution_count": 11,
   "metadata": {},
   "outputs": [
    {
     "data": {
      "text/html": [
       "<style>#sk-container-id-1 {color: black;}#sk-container-id-1 pre{padding: 0;}#sk-container-id-1 div.sk-toggleable {background-color: white;}#sk-container-id-1 label.sk-toggleable__label {cursor: pointer;display: block;width: 100%;margin-bottom: 0;padding: 0.3em;box-sizing: border-box;text-align: center;}#sk-container-id-1 label.sk-toggleable__label-arrow:before {content: \"▸\";float: left;margin-right: 0.25em;color: #696969;}#sk-container-id-1 label.sk-toggleable__label-arrow:hover:before {color: black;}#sk-container-id-1 div.sk-estimator:hover label.sk-toggleable__label-arrow:before {color: black;}#sk-container-id-1 div.sk-toggleable__content {max-height: 0;max-width: 0;overflow: hidden;text-align: left;background-color: #f0f8ff;}#sk-container-id-1 div.sk-toggleable__content pre {margin: 0.2em;color: black;border-radius: 0.25em;background-color: #f0f8ff;}#sk-container-id-1 input.sk-toggleable__control:checked~div.sk-toggleable__content {max-height: 200px;max-width: 100%;overflow: auto;}#sk-container-id-1 input.sk-toggleable__control:checked~label.sk-toggleable__label-arrow:before {content: \"▾\";}#sk-container-id-1 div.sk-estimator input.sk-toggleable__control:checked~label.sk-toggleable__label {background-color: #d4ebff;}#sk-container-id-1 div.sk-label input.sk-toggleable__control:checked~label.sk-toggleable__label {background-color: #d4ebff;}#sk-container-id-1 input.sk-hidden--visually {border: 0;clip: rect(1px 1px 1px 1px);clip: rect(1px, 1px, 1px, 1px);height: 1px;margin: -1px;overflow: hidden;padding: 0;position: absolute;width: 1px;}#sk-container-id-1 div.sk-estimator {font-family: monospace;background-color: #f0f8ff;border: 1px dotted black;border-radius: 0.25em;box-sizing: border-box;margin-bottom: 0.5em;}#sk-container-id-1 div.sk-estimator:hover {background-color: #d4ebff;}#sk-container-id-1 div.sk-parallel-item::after {content: \"\";width: 100%;border-bottom: 1px solid gray;flex-grow: 1;}#sk-container-id-1 div.sk-label:hover label.sk-toggleable__label {background-color: #d4ebff;}#sk-container-id-1 div.sk-serial::before {content: \"\";position: absolute;border-left: 1px solid gray;box-sizing: border-box;top: 0;bottom: 0;left: 50%;z-index: 0;}#sk-container-id-1 div.sk-serial {display: flex;flex-direction: column;align-items: center;background-color: white;padding-right: 0.2em;padding-left: 0.2em;position: relative;}#sk-container-id-1 div.sk-item {position: relative;z-index: 1;}#sk-container-id-1 div.sk-parallel {display: flex;align-items: stretch;justify-content: center;background-color: white;position: relative;}#sk-container-id-1 div.sk-item::before, #sk-container-id-1 div.sk-parallel-item::before {content: \"\";position: absolute;border-left: 1px solid gray;box-sizing: border-box;top: 0;bottom: 0;left: 50%;z-index: -1;}#sk-container-id-1 div.sk-parallel-item {display: flex;flex-direction: column;z-index: 1;position: relative;background-color: white;}#sk-container-id-1 div.sk-parallel-item:first-child::after {align-self: flex-end;width: 50%;}#sk-container-id-1 div.sk-parallel-item:last-child::after {align-self: flex-start;width: 50%;}#sk-container-id-1 div.sk-parallel-item:only-child::after {width: 0;}#sk-container-id-1 div.sk-dashed-wrapped {border: 1px dashed gray;margin: 0 0.4em 0.5em 0.4em;box-sizing: border-box;padding-bottom: 0.4em;background-color: white;}#sk-container-id-1 div.sk-label label {font-family: monospace;font-weight: bold;display: inline-block;line-height: 1.2em;}#sk-container-id-1 div.sk-label-container {text-align: center;}#sk-container-id-1 div.sk-container {/* jupyter's `normalize.less` sets `[hidden] { display: none; }` but bootstrap.min.css set `[hidden] { display: none !important; }` so we also need the `!important` here to be able to override the default hidden behavior on the sphinx rendered scikit-learn.org. See: https://github.com/scikit-learn/scikit-learn/issues/21755 */display: inline-block !important;position: relative;}#sk-container-id-1 div.sk-text-repr-fallback {display: none;}</style><div id=\"sk-container-id-1\" class=\"sk-top-container\"><div class=\"sk-text-repr-fallback\"><pre>Ridge(alpha=0.2)</pre><b>In a Jupyter environment, please rerun this cell to show the HTML representation or trust the notebook. <br />On GitHub, the HTML representation is unable to render, please try loading this page with nbviewer.org.</b></div><div class=\"sk-container\" hidden><div class=\"sk-item\"><div class=\"sk-estimator sk-toggleable\"><input class=\"sk-toggleable__control sk-hidden--visually\" id=\"sk-estimator-id-1\" type=\"checkbox\" checked><label for=\"sk-estimator-id-1\" class=\"sk-toggleable__label sk-toggleable__label-arrow\">Ridge</label><div class=\"sk-toggleable__content\"><pre>Ridge(alpha=0.2)</pre></div></div></div></div></div>"
      ],
      "text/plain": [
       "Ridge(alpha=0.2)"
      ]
     },
     "execution_count": 11,
     "metadata": {},
     "output_type": "execute_result"
    }
   ],
   "source": [
    "# воспользуемся L2 регуляризацией, чтобы избежать переобучения\n",
    "lr = linear_model.Ridge(alpha=0.2)\n",
    "lr.fit(X_train_poly, y_train)"
   ]
  },
  {
   "cell_type": "code",
   "execution_count": 12,
   "metadata": {},
   "outputs": [],
   "source": [
    "y_train_pred = lr.predict(X_train_poly)\n",
    "y_test_pred = lr.predict(X_test_poly)"
   ]
  },
  {
   "cell_type": "code",
   "execution_count": 13,
   "metadata": {},
   "outputs": [
    {
     "name": "stdout",
     "output_type": "stream",
     "text": [
      "Метрики модели полиномиальная регрессия:\n",
      "R2:\n",
      "Train: 0.541\n",
      "Test: 0.539\n",
      "MAPE:\n",
      "Train: 10.950\n",
      "Test: 5.239\n"
     ]
    }
   ],
   "source": [
    "# считаем метрики\n",
    "r2_lr_train = metrics.r2_score(y_train, y_train_pred)\n",
    "r2_lr_test = metrics.r2_score(y_test, y_test_pred)\n",
    "mape_lr_train = metrics.mean_absolute_percentage_error(y_train, y_train_pred)\n",
    "mape_lr_test = metrics.mean_absolute_percentage_error(y_test, y_test_pred)\n",
    "print('Метрики модели полиномиальная регрессия:')\n",
    "print('R2:')\n",
    "print(f'Train: {r2_lr_train :.3f}')\n",
    "print(f'Test: {r2_lr_test :.3f}')\n",
    "print('MAPE:')\n",
    "print(f'Train: {mape_lr_train :.3f}')\n",
    "print(f'Test: {mape_lr_test :.3f}')\n",
    "\n",
    "# запишем показатели\n",
    "model_indicators.append(['poly', r2_lr_train, r2_lr_test, mape_lr_train, mape_lr_test])"
   ]
  },
  {
   "cell_type": "markdown",
   "metadata": {},
   "source": [
    "Видим, что R2 вырос, но думаю, что это не предел. Переходим к другим моделям.\n",
    "\n",
    "### Дерево решений\n",
    "\n",
    "Будем сразу подбирать гиперпараметры модели. Для этого воспользуемся фреймворком Optuna. Он специально разработан для оптимизации гиперпараметров."
   ]
  },
  {
   "cell_type": "code",
   "execution_count": 14,
   "metadata": {},
   "outputs": [],
   "source": [
    "# без использования кросс валидации\n",
    "def optuna_dtr(trial):\n",
    "    # задаем пространства поиска гиперпараметров\n",
    "    min_samples_leaf = trial.suggest_int('min_samples_leaf', 1, 100, 1)\n",
    "    max_depth = trial.suggest_int('max_depth', 5, 30, 1)\n",
    "\n",
    "    # создаем модель\n",
    "    model = tree.DecisionTreeRegressor(\n",
    "        random_state=42,\n",
    "        min_samples_leaf = min_samples_leaf,\n",
    "        max_depth = max_depth\n",
    "    )\n",
    "    # обучаем модель\n",
    "    model.fit(X_train, y_train)\n",
    "    \n",
    "    # фиксируем метрику r2\n",
    "    score = metrics.r2_score(y_train, model.predict(X_train))\n",
    "\n",
    "    return score"
   ]
  },
  {
   "cell_type": "code",
   "execution_count": 15,
   "metadata": {},
   "outputs": [
    {
     "name": "stderr",
     "output_type": "stream",
     "text": [
      "[I 2024-05-01 22:31:04,231] A new study created in memory with name: DecisionTreeRegressor\n"
     ]
    },
    {
     "name": "stderr",
     "output_type": "stream",
     "text": [
      "[I 2024-05-01 22:31:07,305] Trial 0 finished with value: 0.5928950674818766 and parameters: {'min_samples_leaf': 48, 'max_depth': 11}. Best is trial 0 with value: 0.5928950674818766.\n",
      "[I 2024-05-01 22:31:11,523] Trial 1 finished with value: 0.7796090064765286 and parameters: {'min_samples_leaf': 13, 'max_depth': 21}. Best is trial 1 with value: 0.7796090064765286.\n",
      "[I 2024-05-01 22:31:14,793] Trial 2 finished with value: 0.6528138956207268 and parameters: {'min_samples_leaf': 64, 'max_depth': 21}. Best is trial 1 with value: 0.7796090064765286.\n",
      "[I 2024-05-01 22:31:17,868] Trial 3 finished with value: 0.6215605237614114 and parameters: {'min_samples_leaf': 97, 'max_depth': 30}. Best is trial 1 with value: 0.7796090064765286.\n",
      "[I 2024-05-01 22:31:21,792] Trial 4 finished with value: 0.741826098764927 and parameters: {'min_samples_leaf': 18, 'max_depth': 18}. Best is trial 1 with value: 0.7796090064765286.\n",
      "[I 2024-05-01 22:31:26,959] Trial 5 finished with value: 0.8792409179732703 and parameters: {'min_samples_leaf': 5, 'max_depth': 30}. Best is trial 5 with value: 0.8792409179732703.\n",
      "[I 2024-05-01 22:31:28,322] Trial 6 finished with value: 0.40045662324525133 and parameters: {'min_samples_leaf': 31, 'max_depth': 6}. Best is trial 5 with value: 0.8792409179732703.\n",
      "[I 2024-05-01 22:31:29,469] Trial 7 finished with value: 0.3554709053938252 and parameters: {'min_samples_leaf': 30, 'max_depth': 5}. Best is trial 5 with value: 0.8792409179732703.\n",
      "[I 2024-05-01 22:31:31,115] Trial 8 finished with value: 0.44764163494773146 and parameters: {'min_samples_leaf': 18, 'max_depth': 7}. Best is trial 5 with value: 0.8792409179732703.\n",
      "[I 2024-05-01 22:31:32,229] Trial 9 finished with value: 0.3554709053938252 and parameters: {'min_samples_leaf': 53, 'max_depth': 5}. Best is trial 5 with value: 0.8792409179732703.\n",
      "[I 2024-05-01 22:31:38,022] Trial 10 finished with value: 0.901584946767222 and parameters: {'min_samples_leaf': 4, 'max_depth': 30}. Best is trial 10 with value: 0.901584946767222.\n",
      "[I 2024-05-01 22:31:43,964] Trial 11 finished with value: 0.901584946767222 and parameters: {'min_samples_leaf': 4, 'max_depth': 30}. Best is trial 10 with value: 0.901584946767222.\n",
      "[I 2024-05-01 22:31:52,273] Trial 12 finished with value: 0.98427261531816 and parameters: {'min_samples_leaf': 1, 'max_depth': 26}. Best is trial 12 with value: 0.98427261531816.\n",
      "[I 2024-05-01 22:31:59,943] Trial 13 finished with value: 0.98427261531816 and parameters: {'min_samples_leaf': 1, 'max_depth': 26}. Best is trial 12 with value: 0.98427261531816.\n",
      "[I 2024-05-01 22:32:03,113] Trial 14 finished with value: 0.627910851216811 and parameters: {'min_samples_leaf': 90, 'max_depth': 25}. Best is trial 12 with value: 0.98427261531816.\n",
      "[I 2024-05-01 22:32:06,861] Trial 15 finished with value: 0.7087448470807571 and parameters: {'min_samples_leaf': 31, 'max_depth': 25}. Best is trial 12 with value: 0.98427261531816.\n",
      "[I 2024-05-01 22:32:10,330] Trial 16 finished with value: 0.6375813836914852 and parameters: {'min_samples_leaf': 78, 'max_depth': 25}. Best is trial 12 with value: 0.98427261531816.\n",
      "[I 2024-05-01 22:32:13,638] Trial 17 finished with value: 0.6607620576108415 and parameters: {'min_samples_leaf': 47, 'max_depth': 15}. Best is trial 12 with value: 0.98427261531816.\n",
      "[I 2024-05-01 22:32:17,671] Trial 18 finished with value: 0.7291053800296241 and parameters: {'min_samples_leaf': 24, 'max_depth': 21}. Best is trial 12 with value: 0.98427261531816.\n",
      "[I 2024-05-01 22:32:21,328] Trial 19 finished with value: 0.6900612658647889 and parameters: {'min_samples_leaf': 39, 'max_depth': 27}. Best is trial 12 with value: 0.98427261531816.\n"
     ]
    },
    {
     "name": "stdout",
     "output_type": "stream",
     "text": [
      "CPU times: total: 1min 3s\n",
      "Wall time: 1min 17s\n"
     ]
    }
   ],
   "source": [
    "%%time\n",
    "# cоздаем объект исследования\n",
    "study = optuna.create_study(study_name=\"DecisionTreeRegressor\", direction=\"maximize\")\n",
    "\n",
    "# ищем лучшую комбинацию гиперпараметров n_trials раз\n",
    "study.optimize(optuna_dtr, n_trials=20)"
   ]
  },
  {
   "cell_type": "code",
   "execution_count": 16,
   "metadata": {},
   "outputs": [
    {
     "name": "stdout",
     "output_type": "stream",
     "text": [
      "Наилучшие значения гиперпараметров {'min_samples_leaf': 1, 'max_depth': 26}\n",
      "R2 на обучающем наборе: 0.984\n"
     ]
    }
   ],
   "source": [
    "# выводим результаты на обучающей выборке\n",
    "print(f\"Наилучшие значения гиперпараметров {study.best_params}\")\n",
    "print(f\"R2 на обучающем наборе: {study.best_value :.3f}\")"
   ]
  },
  {
   "cell_type": "code",
   "execution_count": 17,
   "metadata": {},
   "outputs": [],
   "source": [
    "# с использованием кросс валидации\n",
    "def optuna_dtr_cv(trial):\n",
    "    # задаем пространства поиска гиперпараметров\n",
    "    min_samples_leaf = trial.suggest_int('min_samples_leaf', 1, 100, 1)\n",
    "    max_depth = trial.suggest_int('max_depth', 5, 30, 1)\n",
    "\n",
    "    # создаем модель\n",
    "    model = tree.DecisionTreeRegressor(\n",
    "        random_state=42,\n",
    "        min_samples_leaf = min_samples_leaf,\n",
    "        max_depth = max_depth\n",
    "    )\n",
    "    # обучаем модель\n",
    "    score = cross_val_score(model, X_train, y_train, cv=5, scoring=\"r2\", n_jobs=-1).mean()\n",
    "    \n",
    "    return score"
   ]
  },
  {
   "cell_type": "code",
   "execution_count": 18,
   "metadata": {},
   "outputs": [
    {
     "name": "stderr",
     "output_type": "stream",
     "text": [
      "[I 2024-05-01 22:32:21,385] A new study created in memory with name: DecisionTreeRegressor\n",
      "[I 2024-05-01 22:32:34,309] Trial 0 finished with value: 0.5804056020932418 and parameters: {'min_samples_leaf': 90, 'max_depth': 28}. Best is trial 0 with value: 0.5804056020932418.\n",
      "[I 2024-05-01 22:32:43,792] Trial 1 finished with value: 0.5883140164235676 and parameters: {'min_samples_leaf': 77, 'max_depth': 20}. Best is trial 1 with value: 0.5883140164235676.\n",
      "[I 2024-05-01 22:32:49,395] Trial 2 finished with value: 0.5428902882649627 and parameters: {'min_samples_leaf': 1, 'max_depth': 10}. Best is trial 1 with value: 0.5883140164235676.\n",
      "[I 2024-05-01 22:32:55,362] Trial 3 finished with value: 0.5912790395482572 and parameters: {'min_samples_leaf': 41, 'max_depth': 13}. Best is trial 3 with value: 0.5912790395482572.\n",
      "[I 2024-05-01 22:33:02,176] Trial 4 finished with value: 0.6464116133967553 and parameters: {'min_samples_leaf': 12, 'max_depth': 23}. Best is trial 4 with value: 0.6464116133967553.\n",
      "[I 2024-05-01 22:33:08,656] Trial 5 finished with value: 0.645209256379066 and parameters: {'min_samples_leaf': 11, 'max_depth': 28}. Best is trial 4 with value: 0.6464116133967553.\n",
      "[I 2024-05-01 22:33:15,218] Trial 6 finished with value: 0.6447673805218155 and parameters: {'min_samples_leaf': 10, 'max_depth': 28}. Best is trial 4 with value: 0.6464116133967553.\n",
      "[I 2024-05-01 22:33:21,019] Trial 7 finished with value: 0.6097126935683325 and parameters: {'min_samples_leaf': 46, 'max_depth': 21}. Best is trial 4 with value: 0.6464116133967553.\n",
      "[I 2024-05-01 22:33:27,760] Trial 8 finished with value: 0.636458591429662 and parameters: {'min_samples_leaf': 22, 'max_depth': 23}. Best is trial 4 with value: 0.6464116133967553.\n",
      "[I 2024-05-01 22:33:30,846] Trial 9 finished with value: 0.3971431566505418 and parameters: {'min_samples_leaf': 33, 'max_depth': 6}. Best is trial 4 with value: 0.6464116133967553.\n",
      "[I 2024-05-01 22:33:36,379] Trial 10 finished with value: 0.5889193344813803 and parameters: {'min_samples_leaf': 68, 'max_depth': 15}. Best is trial 4 with value: 0.6464116133967553.\n",
      "[I 2024-05-01 22:33:43,122] Trial 11 finished with value: 0.6385161825555052 and parameters: {'min_samples_leaf': 20, 'max_depth': 30}. Best is trial 4 with value: 0.6464116133967553.\n",
      "[I 2024-05-01 22:33:52,379] Trial 12 finished with value: 0.5608042593781659 and parameters: {'min_samples_leaf': 1, 'max_depth': 25}. Best is trial 4 with value: 0.6464116133967553.\n",
      "[I 2024-05-01 22:33:58,584] Trial 13 finished with value: 0.5986469615040363 and parameters: {'min_samples_leaf': 61, 'max_depth': 25}. Best is trial 4 with value: 0.6464116133967553.\n",
      "[I 2024-05-01 22:34:04,791] Trial 14 finished with value: 0.6307047633329874 and parameters: {'min_samples_leaf': 26, 'max_depth': 19}. Best is trial 4 with value: 0.6464116133967553.\n",
      "[I 2024-05-01 22:34:11,543] Trial 15 finished with value: 0.6448863016337594 and parameters: {'min_samples_leaf': 14, 'max_depth': 25}. Best is trial 4 with value: 0.6464116133967553.\n",
      "[I 2024-05-01 22:34:17,830] Trial 16 finished with value: 0.6173069800002828 and parameters: {'min_samples_leaf': 35, 'max_depth': 16}. Best is trial 4 with value: 0.6464116133967553.\n",
      "[I 2024-05-01 22:34:23,781] Trial 17 finished with value: 0.603686345499969 and parameters: {'min_samples_leaf': 55, 'max_depth': 30}. Best is trial 4 with value: 0.6464116133967553.\n",
      "[I 2024-05-01 22:34:31,112] Trial 18 finished with value: 0.6457774501069082 and parameters: {'min_samples_leaf': 11, 'max_depth': 22}. Best is trial 4 with value: 0.6464116133967553.\n",
      "[I 2024-05-01 22:34:36,932] Trial 19 finished with value: 0.5779519925997363 and parameters: {'min_samples_leaf': 96, 'max_depth': 22}. Best is trial 4 with value: 0.6464116133967553.\n"
     ]
    },
    {
     "name": "stdout",
     "output_type": "stream",
     "text": [
      "CPU times: total: 1.67 s\n",
      "Wall time: 2min 15s\n"
     ]
    }
   ],
   "source": [
    "%%time\n",
    "# cоздаем объект исследования\n",
    "study_cv = optuna.create_study(study_name=\"DecisionTreeRegressor\", direction=\"maximize\")\n",
    "\n",
    "# ищем лучшую комбинацию гиперпараметров n_trials раз\n",
    "study_cv.optimize(optuna_dtr_cv, n_trials=20)"
   ]
  },
  {
   "cell_type": "code",
   "execution_count": 19,
   "metadata": {},
   "outputs": [
    {
     "name": "stdout",
     "output_type": "stream",
     "text": [
      "Наилучшие значения гиперпараметров {'min_samples_leaf': 12, 'max_depth': 23}\n",
      "R2 на обучающем наборе: 0.646\n"
     ]
    }
   ],
   "source": [
    "# выводим результаты на обучающей выборке\n",
    "print(f\"Наилучшие значения гиперпараметров {study_cv.best_params}\")\n",
    "print(f\"R2 на обучающем наборе: {study_cv.best_value :.3f}\")"
   ]
  },
  {
   "cell_type": "markdown",
   "metadata": {},
   "source": [
    "Показатели R2 для решающего дерева на тренировочных данных:  \n",
    "Без кроссвалидации: 0.993  \n",
    "С кроссвалидацией: 0.645"
   ]
  },
  {
   "cell_type": "code",
   "execution_count": 20,
   "metadata": {},
   "outputs": [
    {
     "name": "stdout",
     "output_type": "stream",
     "text": [
      "R2 на тестовых данных:\n",
      "Без кросвалидации: 0.586\n",
      "С кросвалидацией: 0.665\n"
     ]
    }
   ],
   "source": [
    "# рассчитаем точность для тестовой выборки\n",
    "\n",
    "# без кроссвалидации\n",
    "model = tree.DecisionTreeRegressor(**study.best_params, random_state=42)\n",
    "model.fit(X_train, y_train)\n",
    "y_test_pred = model.predict(X_test)\n",
    "r2_score = metrics.r2_score(y_test, y_test_pred)\n",
    "\n",
    "# с кроссвалидацией\n",
    "model_dtr = tree.DecisionTreeRegressor(**study_cv.best_params, random_state=42)\n",
    "model_dtr.fit(X_train, y_train)\n",
    "y_train_pred_cv = model_dtr.predict(X_train)\n",
    "y_test_pred_cv = model_dtr.predict(X_test)\n",
    "r2_score_cv = metrics.r2_score(y_test, y_test_pred_cv)\n",
    "\n",
    "print('R2 на тестовых данных:')\n",
    "print(f'Без кросвалидации: {r2_score :.3f}' )\n",
    "print(f'С кросвалидацией: {r2_score_cv :.3f}' )"
   ]
  },
  {
   "cell_type": "markdown",
   "metadata": {},
   "source": [
    "На тестовых данных использование кроссвалидации, показало лучший результат.   \n",
    "В дальнейшем будем использовать кроссвалидацию, т.к. этот подход позволяет получить более устойчивую к выбросам оценку качества модели."
   ]
  },
  {
   "cell_type": "code",
   "execution_count": 21,
   "metadata": {},
   "outputs": [
    {
     "name": "stdout",
     "output_type": "stream",
     "text": [
      "Метрики модели решающее дерево:\n",
      "R2:\n",
      "Train: 0.790\n",
      "Test: 0.665\n",
      "MAPE:\n",
      "Train: 5.537\n",
      "Test: 5.398\n"
     ]
    }
   ],
   "source": [
    "# считаем метрики\n",
    "r2_lr_train = metrics.r2_score(y_train, y_train_pred_cv)\n",
    "r2_lr_test = metrics.r2_score(y_test, y_test_pred_cv)\n",
    "mape_lr_train = metrics.mean_absolute_percentage_error(y_train, y_train_pred_cv)\n",
    "mape_lr_test = metrics.mean_absolute_percentage_error(y_test, y_test_pred_cv)\n",
    "\n",
    "print('Метрики модели решающее дерево:')\n",
    "print('R2:')\n",
    "print(f'Train: {r2_lr_train :.3f}')\n",
    "print(f'Test: {r2_lr_test :.3f}')\n",
    "print('MAPE:')\n",
    "print(f'Train: {mape_lr_train :.3f}')\n",
    "print(f'Test: {mape_lr_test :.3f}')\n",
    "\n",
    "# запишем показатели\n",
    "model_indicators.append(['DTR', r2_lr_train, r2_lr_test, mape_lr_train, mape_lr_test])"
   ]
  },
  {
   "cell_type": "markdown",
   "metadata": {},
   "source": [
    "Итак, нам удалось улучшить показатели модели по сравнению с полиномиальной регрессией. Идем дальше, теперь попробуем ансамбли.\n",
    "\n",
    "### Ансамблевые методы"
   ]
  },
  {
   "cell_type": "markdown",
   "metadata": {},
   "source": [
    "### Random Forest"
   ]
  },
  {
   "cell_type": "code",
   "execution_count": 22,
   "metadata": {},
   "outputs": [],
   "source": [
    "def optuna_rf(trial):\n",
    "    # задаем пространства поиска гиперпараметров\n",
    "    n_estimators = trial.suggest_int('n_estimators', 10, 100, 1)\n",
    "    max_depth = trial.suggest_int('max_depth', 10, 30, 1)\n",
    "    min_samples_leaf = trial.suggest_int('min_samples_leaf', 2, 100, 1)\n",
    "\n",
    "    # создаем модель\n",
    "    model = ensemble.RandomForestRegressor(\n",
    "      n_estimators=n_estimators,\n",
    "      max_depth=max_depth,\n",
    "      min_samples_leaf=min_samples_leaf,\n",
    "      random_state=42\n",
    "    )\n",
    "\n",
    "    # обучаем модель\n",
    "    score = cross_val_score(model, X_train, y_train, cv=5, scoring=\"r2\", n_jobs=-1).mean()\n",
    "\n",
    "    return score"
   ]
  },
  {
   "cell_type": "code",
   "execution_count": 23,
   "metadata": {},
   "outputs": [
    {
     "name": "stderr",
     "output_type": "stream",
     "text": [
      "[I 2024-05-01 22:34:49,808] A new study created in memory with name: RandomForestRegressor\n",
      "[I 2024-05-01 22:37:39,779] Trial 0 finished with value: 0.6110304044981799 and parameters: {'n_estimators': 48, 'max_depth': 27, 'min_samples_leaf': 100}. Best is trial 0 with value: 0.6110304044981799.\n",
      "[I 2024-05-01 22:38:35,164] Trial 1 finished with value: 0.6574868812856438 and parameters: {'n_estimators': 14, 'max_depth': 26, 'min_samples_leaf': 44}. Best is trial 1 with value: 0.6574868812856438.\n",
      "[I 2024-05-01 22:42:07,581] Trial 2 finished with value: 0.6745709019937682 and parameters: {'n_estimators': 52, 'max_depth': 20, 'min_samples_leaf': 35}. Best is trial 2 with value: 0.6745709019937682.\n",
      "[I 2024-05-01 22:43:44,543] Trial 3 finished with value: 0.6306070205472325 and parameters: {'n_estimators': 26, 'max_depth': 19, 'min_samples_leaf': 73}. Best is trial 2 with value: 0.6745709019937682.\n",
      "[I 2024-05-01 22:44:56,902] Trial 4 finished with value: 0.7095233283614127 and parameters: {'n_estimators': 18, 'max_depth': 14, 'min_samples_leaf': 2}. Best is trial 4 with value: 0.7095233283614127.\n",
      "[I 2024-05-01 22:49:05,230] Trial 5 finished with value: 0.6605065777963303 and parameters: {'n_estimators': 64, 'max_depth': 22, 'min_samples_leaf': 45}. Best is trial 4 with value: 0.7095233283614127.\n",
      "[I 2024-05-01 22:50:16,015] Trial 6 finished with value: 0.6264222774797754 and parameters: {'n_estimators': 19, 'max_depth': 24, 'min_samples_leaf': 77}. Best is trial 4 with value: 0.7095233283614127.\n",
      "[I 2024-05-01 22:51:17,235] Trial 7 finished with value: 0.6229561375047779 and parameters: {'n_estimators': 17, 'max_depth': 14, 'min_samples_leaf': 74}. Best is trial 4 with value: 0.7095233283614127.\n",
      "[I 2024-05-01 22:54:20,909] Trial 8 finished with value: 0.6451009632567624 and parameters: {'n_estimators': 49, 'max_depth': 26, 'min_samples_leaf': 58}. Best is trial 4 with value: 0.7095233283614127.\n",
      "[I 2024-05-01 23:00:06,509] Trial 9 finished with value: 0.6456080598314182 and parameters: {'n_estimators': 91, 'max_depth': 28, 'min_samples_leaf': 58}. Best is trial 4 with value: 0.7095233283614127.\n",
      "[I 2024-05-01 23:01:49,864] Trial 10 finished with value: 0.605669311148266 and parameters: {'n_estimators': 34, 'max_depth': 10, 'min_samples_leaf': 6}. Best is trial 4 with value: 0.7095233283614127.\n",
      "[I 2024-05-01 23:11:23,501] Trial 11 finished with value: 0.7489471157093434 and parameters: {'n_estimators': 72, 'max_depth': 17, 'min_samples_leaf': 4}. Best is trial 11 with value: 0.7489471157093434.\n",
      "[I 2024-05-01 23:18:19,092] Trial 12 finished with value: 0.7290070132460085 and parameters: {'n_estimators': 82, 'max_depth': 15, 'min_samples_leaf': 4}. Best is trial 11 with value: 0.7489471157093434.\n",
      "[I 2024-05-01 23:24:38,434] Trial 13 finished with value: 0.6958287726015806 and parameters: {'n_estimators': 82, 'max_depth': 16, 'min_samples_leaf': 21}. Best is trial 11 with value: 0.7489471157093434.\n",
      "[I 2024-05-01 23:29:57,168] Trial 14 finished with value: 0.6999820913885074 and parameters: {'n_estimators': 74, 'max_depth': 16, 'min_samples_leaf': 19}. Best is trial 11 with value: 0.7489471157093434.\n",
      "[I 2024-05-01 23:34:59,877] Trial 15 finished with value: 0.6016010005982023 and parameters: {'n_estimators': 91, 'max_depth': 10, 'min_samples_leaf': 20}. Best is trial 11 with value: 0.7489471157093434.\n",
      "[I 2024-05-01 23:40:34,559] Trial 16 finished with value: 0.7252112709651977 and parameters: {'n_estimators': 69, 'max_depth': 18, 'min_samples_leaf': 12}. Best is trial 11 with value: 0.7489471157093434.\n",
      "[I 2024-05-01 23:46:41,495] Trial 17 finished with value: 0.644329562625876 and parameters: {'n_estimators': 100, 'max_depth': 12, 'min_samples_leaf': 30}. Best is trial 11 with value: 0.7489471157093434.\n",
      "[I 2024-05-01 23:51:11,975] Trial 18 finished with value: 0.6815759839531489 and parameters: {'n_estimators': 61, 'max_depth': 21, 'min_samples_leaf': 31}. Best is trial 11 with value: 0.7489471157093434.\n",
      "[I 2024-05-01 23:57:36,407] Trial 19 finished with value: 0.7303198757964211 and parameters: {'n_estimators': 80, 'max_depth': 30, 'min_samples_leaf': 12}. Best is trial 11 with value: 0.7489471157093434.\n"
     ]
    },
    {
     "name": "stdout",
     "output_type": "stream",
     "text": [
      "CPU times: total: 15.7 s\n",
      "Wall time: 1h 22min 46s\n"
     ]
    }
   ],
   "source": [
    "%%time\n",
    "# cоздаем объект исследования\n",
    "study_cv = optuna.create_study(study_name=\"RandomForestRegressor\", direction=\"maximize\")\n",
    "\n",
    "# ищем лучшую комбинацию гиперпараметров n_trials раз\n",
    "study_cv.optimize(optuna_rf, n_trials=20)"
   ]
  },
  {
   "cell_type": "code",
   "execution_count": 24,
   "metadata": {},
   "outputs": [
    {
     "name": "stdout",
     "output_type": "stream",
     "text": [
      "Наилучшие значения гиперпараметров {'n_estimators': 72, 'max_depth': 17, 'min_samples_leaf': 4}\n"
     ]
    },
    {
     "data": {
      "text/html": [
       "<style>#sk-container-id-2 {color: black;}#sk-container-id-2 pre{padding: 0;}#sk-container-id-2 div.sk-toggleable {background-color: white;}#sk-container-id-2 label.sk-toggleable__label {cursor: pointer;display: block;width: 100%;margin-bottom: 0;padding: 0.3em;box-sizing: border-box;text-align: center;}#sk-container-id-2 label.sk-toggleable__label-arrow:before {content: \"▸\";float: left;margin-right: 0.25em;color: #696969;}#sk-container-id-2 label.sk-toggleable__label-arrow:hover:before {color: black;}#sk-container-id-2 div.sk-estimator:hover label.sk-toggleable__label-arrow:before {color: black;}#sk-container-id-2 div.sk-toggleable__content {max-height: 0;max-width: 0;overflow: hidden;text-align: left;background-color: #f0f8ff;}#sk-container-id-2 div.sk-toggleable__content pre {margin: 0.2em;color: black;border-radius: 0.25em;background-color: #f0f8ff;}#sk-container-id-2 input.sk-toggleable__control:checked~div.sk-toggleable__content {max-height: 200px;max-width: 100%;overflow: auto;}#sk-container-id-2 input.sk-toggleable__control:checked~label.sk-toggleable__label-arrow:before {content: \"▾\";}#sk-container-id-2 div.sk-estimator input.sk-toggleable__control:checked~label.sk-toggleable__label {background-color: #d4ebff;}#sk-container-id-2 div.sk-label input.sk-toggleable__control:checked~label.sk-toggleable__label {background-color: #d4ebff;}#sk-container-id-2 input.sk-hidden--visually {border: 0;clip: rect(1px 1px 1px 1px);clip: rect(1px, 1px, 1px, 1px);height: 1px;margin: -1px;overflow: hidden;padding: 0;position: absolute;width: 1px;}#sk-container-id-2 div.sk-estimator {font-family: monospace;background-color: #f0f8ff;border: 1px dotted black;border-radius: 0.25em;box-sizing: border-box;margin-bottom: 0.5em;}#sk-container-id-2 div.sk-estimator:hover {background-color: #d4ebff;}#sk-container-id-2 div.sk-parallel-item::after {content: \"\";width: 100%;border-bottom: 1px solid gray;flex-grow: 1;}#sk-container-id-2 div.sk-label:hover label.sk-toggleable__label {background-color: #d4ebff;}#sk-container-id-2 div.sk-serial::before {content: \"\";position: absolute;border-left: 1px solid gray;box-sizing: border-box;top: 0;bottom: 0;left: 50%;z-index: 0;}#sk-container-id-2 div.sk-serial {display: flex;flex-direction: column;align-items: center;background-color: white;padding-right: 0.2em;padding-left: 0.2em;position: relative;}#sk-container-id-2 div.sk-item {position: relative;z-index: 1;}#sk-container-id-2 div.sk-parallel {display: flex;align-items: stretch;justify-content: center;background-color: white;position: relative;}#sk-container-id-2 div.sk-item::before, #sk-container-id-2 div.sk-parallel-item::before {content: \"\";position: absolute;border-left: 1px solid gray;box-sizing: border-box;top: 0;bottom: 0;left: 50%;z-index: -1;}#sk-container-id-2 div.sk-parallel-item {display: flex;flex-direction: column;z-index: 1;position: relative;background-color: white;}#sk-container-id-2 div.sk-parallel-item:first-child::after {align-self: flex-end;width: 50%;}#sk-container-id-2 div.sk-parallel-item:last-child::after {align-self: flex-start;width: 50%;}#sk-container-id-2 div.sk-parallel-item:only-child::after {width: 0;}#sk-container-id-2 div.sk-dashed-wrapped {border: 1px dashed gray;margin: 0 0.4em 0.5em 0.4em;box-sizing: border-box;padding-bottom: 0.4em;background-color: white;}#sk-container-id-2 div.sk-label label {font-family: monospace;font-weight: bold;display: inline-block;line-height: 1.2em;}#sk-container-id-2 div.sk-label-container {text-align: center;}#sk-container-id-2 div.sk-container {/* jupyter's `normalize.less` sets `[hidden] { display: none; }` but bootstrap.min.css set `[hidden] { display: none !important; }` so we also need the `!important` here to be able to override the default hidden behavior on the sphinx rendered scikit-learn.org. See: https://github.com/scikit-learn/scikit-learn/issues/21755 */display: inline-block !important;position: relative;}#sk-container-id-2 div.sk-text-repr-fallback {display: none;}</style><div id=\"sk-container-id-2\" class=\"sk-top-container\"><div class=\"sk-text-repr-fallback\"><pre>RandomForestRegressor(max_depth=17, min_samples_leaf=4, n_estimators=72,\n",
       "                      random_state=42)</pre><b>In a Jupyter environment, please rerun this cell to show the HTML representation or trust the notebook. <br />On GitHub, the HTML representation is unable to render, please try loading this page with nbviewer.org.</b></div><div class=\"sk-container\" hidden><div class=\"sk-item\"><div class=\"sk-estimator sk-toggleable\"><input class=\"sk-toggleable__control sk-hidden--visually\" id=\"sk-estimator-id-2\" type=\"checkbox\" checked><label for=\"sk-estimator-id-2\" class=\"sk-toggleable__label sk-toggleable__label-arrow\">RandomForestRegressor</label><div class=\"sk-toggleable__content\"><pre>RandomForestRegressor(max_depth=17, min_samples_leaf=4, n_estimators=72,\n",
       "                      random_state=42)</pre></div></div></div></div></div>"
      ],
      "text/plain": [
       "RandomForestRegressor(max_depth=17, min_samples_leaf=4, n_estimators=72,\n",
       "                      random_state=42)"
      ]
     },
     "execution_count": 24,
     "metadata": {},
     "output_type": "execute_result"
    }
   ],
   "source": [
    "# выводим результаты на обучающей выборке\n",
    "print(f\"Наилучшие значения гиперпараметров {study_cv.best_params}\")\n",
    "# обучим модель с этими параматрами\n",
    "model_rfr = ensemble.RandomForestRegressor(**study_cv.best_params, random_state=42)\n",
    "model_rfr.fit(X_train, y_train)"
   ]
  },
  {
   "cell_type": "code",
   "execution_count": 25,
   "metadata": {},
   "outputs": [
    {
     "name": "stdout",
     "output_type": "stream",
     "text": [
      "Метрики модели случайные лес:\n",
      "R2:\n",
      "Train: 0.854\n",
      "Test: 0.756\n",
      "MAPE:\n",
      "Train: 6.419\n",
      "Test: 4.976\n"
     ]
    }
   ],
   "source": [
    "# предсказываем\n",
    "y_train_pred_cv = model_rfr.predict(X_train)\n",
    "y_test_pred_cv = model_rfr.predict(X_test)\n",
    "\n",
    "# считаем метрики\n",
    "r2_lr_train = metrics.r2_score(y_train, y_train_pred_cv)\n",
    "r2_lr_test = metrics.r2_score(y_test, y_test_pred_cv)\n",
    "mape_lr_train = metrics.mean_absolute_percentage_error(y_train, y_train_pred_cv)\n",
    "mape_lr_test = metrics.mean_absolute_percentage_error(y_test, y_test_pred_cv)\n",
    "\n",
    "print('Метрики модели случайные лес:')\n",
    "print('R2:')\n",
    "print(f'Train: {r2_lr_train :.3f}')\n",
    "print(f'Test: {r2_lr_test :.3f}')\n",
    "print('MAPE:')\n",
    "print(f'Train: {mape_lr_train :.3f}')\n",
    "print(f'Test: {mape_lr_test :.3f}')\n",
    "\n",
    "# запишем показатели\n",
    "model_indicators.append(['RFR', r2_lr_train, r2_lr_test, mape_lr_train, mape_lr_test])"
   ]
  },
  {
   "cell_type": "markdown",
   "metadata": {},
   "source": [
    "Нам удалось еще улучшить показатели на тестовых данных."
   ]
  },
  {
   "cell_type": "markdown",
   "metadata": {},
   "source": [
    "### CatBoostRegressor"
   ]
  },
  {
   "cell_type": "code",
   "execution_count": 26,
   "metadata": {},
   "outputs": [],
   "source": [
    "def optuna_cb(trial):\n",
    "    # задаем пространства поиска гиперпараметров\n",
    "    iterations = trial.suggest_int('iterations', 100, 200, 10)\n",
    "    learning_rate = trial.suggest_float('learning_rate', 0.1, 0.6, step = 0.1)\n",
    "    depth = trial.suggest_int('depth', 6, 15, 1)\n",
    "\n",
    "    # создаем модель\n",
    "    model = CatBoostRegressor(\n",
    "              iterations=iterations,\n",
    "              learning_rate=learning_rate,\n",
    "              depth=depth,\n",
    "              random_state=42,\n",
    "              verbose=False\n",
    "    )\n",
    "\n",
    "    # обучаем модель\n",
    "    score = cross_val_score(model, X_train, y_train, cv=5, scoring=\"r2\", n_jobs=-1).mean()\n",
    "\n",
    "    return score"
   ]
  },
  {
   "cell_type": "code",
   "execution_count": 27,
   "metadata": {},
   "outputs": [
    {
     "name": "stderr",
     "output_type": "stream",
     "text": [
      "[I 2024-05-02 00:01:48,439] A new study created in memory with name: CatBoostRegressor\n",
      "[I 2024-05-02 00:07:38,955] Trial 0 finished with value: 0.7984998555411478 and parameters: {'iterations': 140, 'learning_rate': 0.2, 'depth': 14}. Best is trial 0 with value: 0.7984998555411478.\n",
      "[I 2024-05-02 00:08:01,419] Trial 1 finished with value: 0.7404594268960663 and parameters: {'iterations': 130, 'learning_rate': 0.30000000000000004, 'depth': 8}. Best is trial 0 with value: 0.7984998555411478.\n",
      "[I 2024-05-02 00:09:34,822] Trial 2 finished with value: 0.783752621667946 and parameters: {'iterations': 110, 'learning_rate': 0.5, 'depth': 12}. Best is trial 0 with value: 0.7984998555411478.\n",
      "[I 2024-05-02 00:10:17,805] Trial 3 finished with value: 0.7694370640299424 and parameters: {'iterations': 120, 'learning_rate': 0.6, 'depth': 10}. Best is trial 0 with value: 0.7984998555411478.\n",
      "[I 2024-05-02 00:10:32,900] Trial 4 finished with value: 0.6799308731319603 and parameters: {'iterations': 130, 'learning_rate': 0.2, 'depth': 6}. Best is trial 0 with value: 0.7984998555411478.\n",
      "[I 2024-05-02 00:14:32,722] Trial 5 finished with value: 0.7856001989436653 and parameters: {'iterations': 180, 'learning_rate': 0.6, 'depth': 13}. Best is trial 0 with value: 0.7984998555411478.\n",
      "[I 2024-05-02 00:17:05,589] Trial 6 finished with value: 0.792422595934765 and parameters: {'iterations': 190, 'learning_rate': 0.5, 'depth': 12}. Best is trial 0 with value: 0.7984998555411478.\n",
      "[I 2024-05-02 00:20:52,635] Trial 7 finished with value: 0.781751956609168 and parameters: {'iterations': 170, 'learning_rate': 0.1, 'depth': 13}. Best is trial 0 with value: 0.7984998555411478.\n",
      "[I 2024-05-02 00:21:06,439] Trial 8 finished with value: 0.6436768972745579 and parameters: {'iterations': 100, 'learning_rate': 0.1, 'depth': 7}. Best is trial 0 with value: 0.7984998555411478.\n",
      "[I 2024-05-02 00:21:26,838] Trial 9 finished with value: 0.7280126864798404 and parameters: {'iterations': 150, 'learning_rate': 0.30000000000000004, 'depth': 7}. Best is trial 0 with value: 0.7984998555411478.\n",
      "[I 2024-05-02 00:33:05,361] Trial 10 finished with value: 0.8009555316540548 and parameters: {'iterations': 150, 'learning_rate': 0.2, 'depth': 15}. Best is trial 10 with value: 0.8009555316540548.\n",
      "[I 2024-05-02 00:44:35,634] Trial 11 finished with value: 0.8009555316540548 and parameters: {'iterations': 150, 'learning_rate': 0.2, 'depth': 15}. Best is trial 10 with value: 0.8009555316540548.\n",
      "[I 2024-05-02 00:56:15,166] Trial 12 finished with value: 0.8021158181162706 and parameters: {'iterations': 160, 'learning_rate': 0.2, 'depth': 15}. Best is trial 12 with value: 0.8021158181162706.\n",
      "[I 2024-05-02 01:08:35,131] Trial 13 finished with value: 0.796789512193255 and parameters: {'iterations': 170, 'learning_rate': 0.4, 'depth': 15}. Best is trial 12 with value: 0.8021158181162706.\n",
      "[I 2024-05-02 01:09:40,194] Trial 14 finished with value: 0.7761938573819945 and parameters: {'iterations': 200, 'learning_rate': 0.2, 'depth': 10}. Best is trial 12 with value: 0.8021158181162706.\n",
      "[I 2024-05-02 02:01:53,907] Trial 15 finished with value: 0.8006372200514008 and parameters: {'iterations': 160, 'learning_rate': 0.30000000000000004, 'depth': 15}. Best is trial 12 with value: 0.8021158181162706.\n",
      "[I 2024-05-02 02:03:11,156] Trial 16 finished with value: 0.7559304796790957 and parameters: {'iterations': 160, 'learning_rate': 0.1, 'depth': 11}. Best is trial 12 with value: 0.8021158181162706.\n",
      "[I 2024-05-02 02:08:29,461] Trial 17 finished with value: 0.7966325067625856 and parameters: {'iterations': 140, 'learning_rate': 0.4, 'depth': 14}. Best is trial 12 with value: 0.8021158181162706.\n",
      "[I 2024-05-02 02:15:15,451] Trial 18 finished with value: 0.8038697280546471 and parameters: {'iterations': 180, 'learning_rate': 0.2, 'depth': 14}. Best is trial 18 with value: 0.8038697280546471.\n",
      "[I 2024-05-02 02:19:14,704] Trial 19 finished with value: 0.7858732419279223 and parameters: {'iterations': 190, 'learning_rate': 0.1, 'depth': 13}. Best is trial 18 with value: 0.8038697280546471.\n"
     ]
    },
    {
     "name": "stdout",
     "output_type": "stream",
     "text": [
      "CPU times: total: 20.9 s\n",
      "Wall time: 2h 17min 26s\n"
     ]
    }
   ],
   "source": [
    "%%time\n",
    "# cоздаем объект исследования\n",
    "study_cv = optuna.create_study(study_name=\"CatBoostRegressor\", direction=\"maximize\")\n",
    "\n",
    "# ищем лучшую комбинацию гиперпараметров n_trials раз\n",
    "study_cv.optimize(optuna_cb, n_trials=20)"
   ]
  },
  {
   "cell_type": "code",
   "execution_count": 28,
   "metadata": {},
   "outputs": [
    {
     "name": "stdout",
     "output_type": "stream",
     "text": [
      "Наилучшие значения гиперпараметров {'iterations': 180, 'learning_rate': 0.2, 'depth': 14}\n"
     ]
    },
    {
     "data": {
      "text/plain": [
       "<catboost.core.CatBoostRegressor at 0x28d829c7350>"
      ]
     },
     "execution_count": 28,
     "metadata": {},
     "output_type": "execute_result"
    }
   ],
   "source": [
    "# выводим результаты на обучающей выборке\n",
    "print(f\"Наилучшие значения гиперпараметров {study_cv.best_params}\")\n",
    "# обучим модель с этими параматрами\n",
    "model_cbr = CatBoostRegressor(**study_cv.best_params, random_state=42, verbose=False)\n",
    "model_cbr.fit(X_train, y_train)"
   ]
  },
  {
   "cell_type": "code",
   "execution_count": 29,
   "metadata": {},
   "outputs": [
    {
     "name": "stdout",
     "output_type": "stream",
     "text": [
      "Метрики модели CatBoostRegressor:\n",
      "R2:\n",
      "Train: 0.895\n",
      "Test: 0.811\n",
      "MAPE:\n",
      "Train: 3.527\n",
      "Test: 5.478\n"
     ]
    }
   ],
   "source": [
    "# предсказываем\n",
    "y_train_pred_cv = model_cbr.predict(X_train)\n",
    "y_test_pred_cv = model_cbr.predict(X_test)\n",
    "\n",
    "# считаем метрики\n",
    "r2_lr_train = metrics.r2_score(y_train, y_train_pred_cv)\n",
    "r2_lr_test = metrics.r2_score(y_test, y_test_pred_cv)\n",
    "mape_lr_train = metrics.mean_absolute_percentage_error(y_train, y_train_pred_cv)\n",
    "mape_lr_test = metrics.mean_absolute_percentage_error(y_test, y_test_pred_cv)\n",
    "\n",
    "print('Метрики модели CatBoostRegressor:')\n",
    "print('R2:')\n",
    "print(f'Train: {r2_lr_train :.3f}')\n",
    "print(f'Test: {r2_lr_test :.3f}')\n",
    "print('MAPE:')\n",
    "print(f'Train: {mape_lr_train :.3f}')\n",
    "print(f'Test: {mape_lr_test :.3f}')\n",
    "\n",
    "# запишем показатели\n",
    "model_indicators.append(['CatBoost', r2_lr_train, r2_lr_test, mape_lr_train, mape_lr_test])"
   ]
  },
  {
   "cell_type": "markdown",
   "metadata": {},
   "source": [
    "Показатель R2 стал еще лучше. При этом можно заметить, что разница показателя на тренировочных и тестовых данных невелика. В связи с чем есть смысл остановиться и сравнить результаты моделей между собой."
   ]
  },
  {
   "cell_type": "code",
   "execution_count": 30,
   "metadata": {},
   "outputs": [
    {
     "data": {
      "text/html": [
       "<div>\n",
       "<style scoped>\n",
       "    .dataframe tbody tr th:only-of-type {\n",
       "        vertical-align: middle;\n",
       "    }\n",
       "\n",
       "    .dataframe tbody tr th {\n",
       "        vertical-align: top;\n",
       "    }\n",
       "\n",
       "    .dataframe thead th {\n",
       "        text-align: right;\n",
       "    }\n",
       "</style>\n",
       "<table border=\"1\" class=\"dataframe\">\n",
       "  <thead>\n",
       "    <tr style=\"text-align: right;\">\n",
       "      <th></th>\n",
       "      <th>Наименование модели</th>\n",
       "      <th>R2 на тренировочных данных</th>\n",
       "      <th>R2 на тестовых данных</th>\n",
       "      <th>MAPE на тренировочных данных</th>\n",
       "      <th>MAPE на тестовых данных</th>\n",
       "    </tr>\n",
       "  </thead>\n",
       "  <tbody>\n",
       "    <tr>\n",
       "      <th>4</th>\n",
       "      <td>CatBoost</td>\n",
       "      <td>0.895147</td>\n",
       "      <td>0.811104</td>\n",
       "      <td>3.527100</td>\n",
       "      <td>5.477798</td>\n",
       "    </tr>\n",
       "    <tr>\n",
       "      <th>3</th>\n",
       "      <td>RFR</td>\n",
       "      <td>0.853940</td>\n",
       "      <td>0.755725</td>\n",
       "      <td>6.419202</td>\n",
       "      <td>4.976279</td>\n",
       "    </tr>\n",
       "    <tr>\n",
       "      <th>2</th>\n",
       "      <td>DTR</td>\n",
       "      <td>0.789753</td>\n",
       "      <td>0.665397</td>\n",
       "      <td>5.537036</td>\n",
       "      <td>5.398128</td>\n",
       "    </tr>\n",
       "    <tr>\n",
       "      <th>1</th>\n",
       "      <td>poly</td>\n",
       "      <td>0.541223</td>\n",
       "      <td>0.538970</td>\n",
       "      <td>10.950347</td>\n",
       "      <td>5.238644</td>\n",
       "    </tr>\n",
       "    <tr>\n",
       "      <th>0</th>\n",
       "      <td>base</td>\n",
       "      <td>0.369000</td>\n",
       "      <td>0.370000</td>\n",
       "      <td>10.893000</td>\n",
       "      <td>4.460000</td>\n",
       "    </tr>\n",
       "  </tbody>\n",
       "</table>\n",
       "</div>"
      ],
      "text/plain": [
       "  Наименование модели  R2 на тренировочных данных  R2 на тестовых данных  \\\n",
       "4            CatBoost                    0.895147               0.811104   \n",
       "3                 RFR                    0.853940               0.755725   \n",
       "2                 DTR                    0.789753               0.665397   \n",
       "1                poly                    0.541223               0.538970   \n",
       "0                base                    0.369000               0.370000   \n",
       "\n",
       "   MAPE на тренировочных данных  MAPE на тестовых данных  \n",
       "4                      3.527100                 5.477798  \n",
       "3                      6.419202                 4.976279  \n",
       "2                      5.537036                 5.398128  \n",
       "1                     10.950347                 5.238644  \n",
       "0                     10.893000                 4.460000  "
      ]
     },
     "execution_count": 30,
     "metadata": {},
     "output_type": "execute_result"
    }
   ],
   "source": [
    "df_rezult = pd.DataFrame(model_indicators, \n",
    "                         columns=['Наименование модели', 'R2 на тренировочных данных', 'R2 на тестовых данных', 'MAPE на тренировочных данных', 'MAPE на тестовых данных']\n",
    "                         )\n",
    "df_rezult.sort_values(by=['R2 на тестовых данных'], ascending=False)\n"
   ]
  },
  {
   "cell_type": "markdown",
   "metadata": {},
   "source": [
    "Таблица сравнительных оценок моделей отсортирована по показателю $R^{2}$ на тестовых данных. Можно видеть, что у модели CatBoost этот показатель лучше других.\n",
    "\n",
    "Что касается бизнесс показателя Mean absolute percentage error, то его значение в 5% тоже на мой взгляд является хорошим показателем. Учитывая, тот факт, что на рынке недвижимости достаточно много факторов, которые не учтены в модели: особенности дизайна и материалы использованные в отделке, мебель и техника, близость к магазинам и торговым центрам, общественный транспорт и дороги и т.п.\n",
    "\n",
    "Соответственно именно эту модель я и беру в продакшн."
   ]
  },
  {
   "cell_type": "markdown",
   "metadata": {},
   "source": [
    "Для продакшн нам потребуется:\n",
    "- сама модель;\n",
    "- использованные нами медианы для заполнения пропущенных значений;\n",
    "- кодировщики использванные для кодирования признаков;\n",
    "- так же мы использовали датасет с \"эталонным\" наименованием города;\n",
    "- сгруппировать весь код который мы использовали.\n",
    "\n",
    "Приступим."
   ]
  },
  {
   "cell_type": "markdown",
   "metadata": {},
   "source": [
    "### Модель"
   ]
  },
  {
   "cell_type": "code",
   "execution_count": 32,
   "metadata": {},
   "outputs": [],
   "source": [
    "# сохраним модель\n",
    "with open(\"files/model_cbr.pickle\", \"wb\") as f:\n",
    "    pickle.dump(model_cbr, f)"
   ]
  },
  {
   "cell_type": "markdown",
   "metadata": {},
   "source": [
    "### Медианы"
   ]
  },
  {
   "cell_type": "code",
   "execution_count": 33,
   "metadata": {},
   "outputs": [
    {
     "data": {
      "text/html": [
       "<div>\n",
       "<style scoped>\n",
       "    .dataframe tbody tr th:only-of-type {\n",
       "        vertical-align: middle;\n",
       "    }\n",
       "\n",
       "    .dataframe tbody tr th {\n",
       "        vertical-align: top;\n",
       "    }\n",
       "\n",
       "    .dataframe thead th {\n",
       "        text-align: right;\n",
       "    }\n",
       "</style>\n",
       "<table border=\"1\" class=\"dataframe\">\n",
       "  <thead>\n",
       "    <tr style=\"text-align: right;\">\n",
       "      <th></th>\n",
       "      <th>median_beds</th>\n",
       "      <th>median_sqft</th>\n",
       "      <th>median_year_built</th>\n",
       "      <th>median_schools_av_rating</th>\n",
       "      <th>median_schools_av_distance</th>\n",
       "      <th>median_schools_av_grades</th>\n",
       "    </tr>\n",
       "  </thead>\n",
       "  <tbody>\n",
       "    <tr>\n",
       "      <th>0</th>\n",
       "      <td>3.0</td>\n",
       "      <td>1807.0</td>\n",
       "      <td>1985.0</td>\n",
       "      <td>4.667</td>\n",
       "      <td>1.778</td>\n",
       "      <td>0.311</td>\n",
       "    </tr>\n",
       "  </tbody>\n",
       "</table>\n",
       "</div>"
      ],
      "text/plain": [
       "   median_beds  median_sqft  median_year_built  median_schools_av_rating  \\\n",
       "0          3.0       1807.0             1985.0                     4.667   \n",
       "\n",
       "   median_schools_av_distance  median_schools_av_grades  \n",
       "0                       1.778                     0.311  "
      ]
     },
     "execution_count": 33,
     "metadata": {},
     "output_type": "execute_result"
    }
   ],
   "source": [
    "# на первом этапе \"Очистка данных\" мы сохранили используемые медианы в датасет.\n",
    "# достанем их\n",
    "df_median = pd.read_csv('data/median.csv')\n",
    "df_median"
   ]
  },
  {
   "cell_type": "code",
   "execution_count": 34,
   "metadata": {},
   "outputs": [],
   "source": [
    "# сохраним медианы\n",
    "with open(\"files/median.pickle\", \"wb\") as f:\n",
    "    pickle.dump(df_median, f)"
   ]
  },
  {
   "cell_type": "markdown",
   "metadata": {},
   "source": [
    "### Кодировщики"
   ]
  },
  {
   "cell_type": "code",
   "execution_count": 35,
   "metadata": {},
   "outputs": [],
   "source": [
    "# сохраним\n",
    "with open(\"files/bin_encoder.pickle\", \"wb\") as f:\n",
    "    pickle.dump(bin_encoder, f)\n",
    "    \n",
    "with open(\"files/hot_encoder.pickle\", \"wb\") as f:\n",
    "    pickle.dump(hot_encoder, f)"
   ]
  },
  {
   "cell_type": "markdown",
   "metadata": {},
   "source": [
    "### Датасет с эталонным наименованием города"
   ]
  },
  {
   "cell_type": "code",
   "execution_count": 36,
   "metadata": {},
   "outputs": [
    {
     "name": "stdout",
     "output_type": "stream",
     "text": [
      "<class 'pandas.core.frame.DataFrame'>\n",
      "RangeIndex: 30409 entries, 0 to 30408\n",
      "Data columns (total 18 columns):\n",
      " #   Column            Non-Null Count  Dtype  \n",
      "---  ------            --------------  -----  \n",
      " 0   city              30409 non-null  object \n",
      " 1   city_ascii        30409 non-null  object \n",
      " 2   state_id          30409 non-null  object \n",
      " 3   state_name        30409 non-null  object \n",
      " 4   county_fips       30409 non-null  int64  \n",
      " 5   county_name       30409 non-null  object \n",
      " 6   lat               30409 non-null  float64\n",
      " 7   lng               30409 non-null  float64\n",
      " 8   population        30409 non-null  int64  \n",
      " 9   density           30409 non-null  float64\n",
      " 10  source            30409 non-null  object \n",
      " 11  military          30409 non-null  bool   \n",
      " 12  incorporated      30409 non-null  bool   \n",
      " 13  timezone          30409 non-null  object \n",
      " 14  ranking           30409 non-null  int64  \n",
      " 15  zips              30407 non-null  object \n",
      " 16  id                30409 non-null  int64  \n",
      " 17  city_ascii_upper  30409 non-null  object \n",
      "dtypes: bool(2), float64(3), int64(4), object(9)\n",
      "memory usage: 3.8+ MB\n"
     ]
    }
   ],
   "source": [
    "# загрузим\n",
    "df_city = pd.read_csv('data/cities.zip')\n",
    "df_city.info()"
   ]
  },
  {
   "cell_type": "code",
   "execution_count": 37,
   "metadata": {},
   "outputs": [],
   "source": [
    "# отберем только необходимое\n",
    "df_city = df_city[['state_id', 'city_ascii_upper']]\n",
    "# сохраним\n",
    "with open(\"files/cities.pickle\", \"wb\") as f:\n",
    "    pickle.dump(df_city, f)"
   ]
  },
  {
   "cell_type": "markdown",
   "metadata": {},
   "source": [
    "Для использования в проде так же подготовлен код [сервера](app/server.py) и код [клиента](client.py) для его проверки.\n",
    "\n",
    "Сервер собран в Docker контейнер и размещен на hub.docker.com [ссылка](https://hub.docker.com/repository/docker/kochden/server_image/general).\n",
    "\n",
    "Содержимое Dockerfile:   \n",
    "```\n",
    "# Задаём базовый образ\n",
    "FROM tiangolo/uwsgi-nginx-flask:python3.11\n",
    "# Копируем содержимое папки ./app в рабочую директорию контейнера\n",
    "COPY ./app ./\n",
    "# Копируем файл requirements.txt в рабочую директорию контейнера\n",
    "COPY ./requirements.txt ./\n",
    "# Копируем файл uwsgi.ini в рабочую директорию контейнера\n",
    "COPY ./uwsgi.ini ./\n",
    "# Запускаем установку необходимых зависимостей\n",
    "RUN pip install --no-cache-dir -r requirements.txt\n",
    "```\n",
    "\n",
    "Сборка контейнера производится командой ```docker build -t kochden/server_image .```\n",
    "\n",
    "Запуск контейнера командой ```docker run -it --rm --name=server_container -p=80:80 kochden/server_image```\n",
    "\n",
    "Клиент для проверки работы сервера проводит отбор двух наборов случайных строк в количестве 1 и 5 строк и отправляет их серверу для получения предсказания.\n",
    "\n",
    "Скриншоты работы можно увидеть ниже."
   ]
  },
  {
   "attachments": {
    "image.png": {
     "image/png": "[encoded data removed]"
    }
   },
   "cell_type": "markdown",
   "metadata": {},
   "source": [
    "![image.png](attachment:image.png)"
   ]
  },
  {
   "attachments": {
    "image.png": {
     "image/png": "[encoded data removed]"
    }
   },
   "cell_type": "markdown",
   "metadata": {},
   "source": [
    "![image.png](attachment:image.png)"
   ]
  },
  {
   "cell_type": "markdown",
   "metadata": {},
   "source": [
    "### Заключение.\n",
    "\n",
    "Мы провели разведывательный анализ и очистку исходных данных. Нашли закономерности и выделили наиболее значимые факторы, влияющие на стоимость недвижимости. Построили несколько моделей для прогнозирования стоимости недвижимости, провели их оценку и выбрали модель показавшую лучшую оценку. Разработали веб-сервис, на вход которого поступают данные о некоторой выставленной на продажу недвижимости, а сервис прогнозирует его стоимость. Для простоты развертывания поместили код сервера в Docker контейнер и разместили его на hub.docker.com.\n"
   ]
  }
 ],
 "metadata": {
  "kernelspec": {
   "display_name": "Python 3",
   "language": "python",
   "name": "python3"
  },
  "language_info": {
   "codemirror_mode": {
    "name": "ipython",
    "version": 3
   },
   "file_extension": ".py",
   "mimetype": "text/x-python",
   "name": "python",
   "nbconvert_exporter": "python",
   "pygments_lexer": "ipython3",
   "version": "3.11.2"
  }
 },
 "nbformat": 4,
 "nbformat_minor": 2
}
